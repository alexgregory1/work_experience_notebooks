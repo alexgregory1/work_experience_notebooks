{
 "cells": [
  {
   "cell_type": "code",
   "execution_count": 19,
   "metadata": {},
   "outputs": [],
   "source": [
    "import os, pathlib\n",
    "import pandas as pd\n",
    "import warnings\n",
    "\n",
    "import numpy as np\n",
    "import seaborn as sns\n",
    "import matplotlib.pyplot as plt\n",
    "from import_clean import *\n",
    "from calculate import *"
   ]
  },
  {
   "cell_type": "code",
   "execution_count": 20,
   "metadata": {},
   "outputs": [
    {
     "ename": "UnboundLocalError",
     "evalue": "local variable 'valid_target_codes' referenced before assignment",
     "output_type": "error",
     "traceback": [
      "\u001b[1;31m---------------------------------------------------------------------------\u001b[0m",
      "\u001b[1;31mUnboundLocalError\u001b[0m                         Traceback (most recent call last)",
      "Cell \u001b[1;32mIn[20], line 1\u001b[0m\n\u001b[1;32m----> 1\u001b[0m df_edu \u001b[39m=\u001b[39m factor_in_age(cleanup_all(import_data(\u001b[39m\"\u001b[39;49m\u001b[39mrgn\u001b[39;49m\u001b[39m\"\u001b[39;49m, target_groups\u001b[39m=\u001b[39;49m[\u001b[39m\"\u001b[39;49m\u001b[39mHighest level of qualification\u001b[39;49m\u001b[39m\"\u001b[39;49m]), remove_geography\u001b[39m=\u001b[39m\u001b[39mFalse\u001b[39;00m)[\u001b[39m\"\u001b[39m\u001b[39mTS067\u001b[39m\u001b[39m\"\u001b[39m])\n\u001b[0;32m      2\u001b[0m df_edu \u001b[39m=\u001b[39m prob_calc(df_edu)\n\u001b[0;32m      4\u001b[0m areas \u001b[39m=\u001b[39m df_edu[\u001b[39m\"\u001b[39m\u001b[39mgeography\u001b[39m\u001b[39m\"\u001b[39m]\u001b[39m.\u001b[39mtolist()\n",
      "File \u001b[1;32mc:\\Users\\keo88794\\Documents\\GitHub\\work_experience_notebooks\\import_clean.py:69\u001b[0m, in \u001b[0;36mimport_data\u001b[1;34m(region, target_groups, target_codes)\u001b[0m\n\u001b[0;32m     67\u001b[0m     target_codes \u001b[39m=\u001b[39m target_codes \u001b[39mif\u001b[39;00m target_codes \u001b[39mis\u001b[39;00m \u001b[39mnot\u001b[39;00m \u001b[39mNone\u001b[39;00m \u001b[39melse\u001b[39;00m []\n\u001b[0;32m     68\u001b[0m     \u001b[39mfor\u001b[39;00m group \u001b[39min\u001b[39;00m valid_target_groups:\n\u001b[1;32m---> 69\u001b[0m         valid_target_codes\u001b[39m.\u001b[39mappend(codes\u001b[39m.\u001b[39mloc[codes[\u001b[39m\"\u001b[39m\u001b[39mDescription\u001b[39m\u001b[39m\"\u001b[39m] \u001b[39m==\u001b[39m group,\u001b[39m\"\u001b[39m\u001b[39mCode\u001b[39m\u001b[39m\"\u001b[39m]\u001b[39m.\u001b[39mitem())\n\u001b[0;32m     71\u001b[0m data \u001b[39m=\u001b[39m {}\n\u001b[0;32m     72\u001b[0m \u001b[39mfor\u001b[39;00m code \u001b[39min\u001b[39;00m valid_target_codes:\n",
      "\u001b[1;31mUnboundLocalError\u001b[0m: local variable 'valid_target_codes' referenced before assignment"
     ]
    }
   ],
   "source": [
    "df_edu = factor_in_age(cleanup_all(import_data(\"rgn\", target_groups=[\"Highest level of qualification\"]), remove_geography=False)[\"TS067\"])\n",
    "df_edu = prob_calc(df_edu)\n",
    "\n",
    "areas = df_edu[\"geography\"].tolist()\n",
    "\n",
    "df_edu\n",
    "fig, ax = plt.subplots(len(areas)//2, 2, figsize=(5*2,5*len(areas)//2))\n",
    "dataframes = []\n",
    "for i, area in enumerate(areas):\n",
    "    area_data = (\n",
    "        df_edu.loc[\n",
    "            df_edu[\"geography\"] == area,\n",
    "            df_edu.columns.drop(\n",
    "                [\"geography\", \"Total\"]\n",
    "            )\n",
    "        ]\n",
    "        .squeeze()\n",
    "        .to_frame(\"Percentage\")\n",
    "        .reset_index(names=\"Highest Level of Qualification\")\n",
    "    )\n",
    "    area_data[\"Highest Level of Qualification\"] = (\n",
    "        area_data[\"Highest Level of Qualification\"].str.split(\":\")\n",
    "        .apply(lambda x: x[-1])\n",
    "    )\n",
    "    area_data[\"Percentage\"] *= 100\n",
    "    dataframes.append(area_data)\n",
    "\n",
    "    sns.barplot(area_data, x=\"Highest Level of Qualification\", y=\"Percentage\", ax=ax[i//2, i%2])\n",
    "    ax[i//2, i%2].set_xticklabels(list(area_data[\"Highest Level of Qualification\"])[:8], rotation=60, ha=\"right\")\n",
    "    ax[i//2, i%2].set_title(area)\n",
    "fig.tight_layout()\n",
    "areas_to_add = []\n",
    "for area in areas:\n",
    "    for i in range(8):\n",
    "        areas_to_add.append(area)\n",
    "    \n",
    "\n",
    "df_edu = pd.concat(dataframes, axis=0)\n",
    "df_edu[\"Region\"] = areas_to_add\n",
    "df_edu"
   ]
  },
  {
   "cell_type": "code",
   "execution_count": null,
   "metadata": {},
   "outputs": [
    {
     "ename": "NameError",
     "evalue": "name 'df_edu' is not defined",
     "output_type": "error",
     "traceback": [
      "\u001b[1;31m---------------------------------------------------------------------------\u001b[0m",
      "\u001b[1;31mNameError\u001b[0m                                 Traceback (most recent call last)",
      "Cell \u001b[1;32mIn[15], line 1\u001b[0m\n\u001b[1;32m----> 1\u001b[0m ax \u001b[39m=\u001b[39m sns\u001b[39m.\u001b[39mcatplot(df_edu, x\u001b[39m=\u001b[39m\u001b[39m\"\u001b[39m\u001b[39mHighest Level of Qualification\u001b[39m\u001b[39m\"\u001b[39m, y\u001b[39m=\u001b[39m\u001b[39m\"\u001b[39m\u001b[39mPercentage\u001b[39m\u001b[39m\"\u001b[39m, hue\u001b[39m=\u001b[39m\u001b[39m\"\u001b[39m\u001b[39mRegion\u001b[39m\u001b[39m\"\u001b[39m, kind\u001b[39m=\u001b[39m\u001b[39m\"\u001b[39m\u001b[39mbar\u001b[39m\u001b[39m\"\u001b[39m, ax\u001b[39m=\u001b[39max)\n\u001b[0;32m      2\u001b[0m ax\u001b[39m.\u001b[39mset_xticklabels(\u001b[39mlist\u001b[39m(df_edu[\u001b[39m\"\u001b[39m\u001b[39mHighest Level of Qualification\u001b[39m\u001b[39m\"\u001b[39m])[:\u001b[39m8\u001b[39m], rotation\u001b[39m=\u001b[39m\u001b[39m60\u001b[39m, ha\u001b[39m=\u001b[39m\u001b[39m\"\u001b[39m\u001b[39mright\u001b[39m\u001b[39m\"\u001b[39m)\n",
      "\u001b[1;31mNameError\u001b[0m: name 'df_edu' is not defined"
     ]
    }
   ],
   "source": [
    "ax = sns.catplot(df_edu, x=\"Highest Level of Qualification\", y=\"Percentage\", hue=\"Region\", kind=\"bar\", ax=ax)\n",
    "ax.set_xticklabels(list(df_edu[\"Highest Level of Qualification\"])[:8], rotation=60, ha=\"right\")"
   ]
  }
 ],
 "metadata": {
  "kernelspec": {
   "display_name": "Python 3",
   "language": "python",
   "name": "python3"
  },
  "language_info": {
   "codemirror_mode": {
    "name": "ipython",
    "version": 3
   },
   "file_extension": ".py",
   "mimetype": "text/x-python",
   "name": "python",
   "nbconvert_exporter": "python",
   "pygments_lexer": "ipython3",
   "version": "3.9.17"
  },
  "orig_nbformat": 4
 },
 "nbformat": 4,
 "nbformat_minor": 2
}
