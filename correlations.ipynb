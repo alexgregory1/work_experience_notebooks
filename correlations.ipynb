{
 "cells": [
  {
   "cell_type": "code",
   "execution_count": null,
   "metadata": {},
   "outputs": [],
   "source": [
    "import pandas as pd\n",
    "import os, pathlib\n",
    "import numpy as np\n",
    "from import_clean import *\n",
    "from calculate import *\n",
    "from itertools import combinations"
   ]
  },
  {
   "cell_type": "code",
   "execution_count": null,
   "metadata": {},
   "outputs": [],
   "source": [
    "all_data = cleanup_all(import_all_data(\"utla\"), remove_geography_code=False)"
   ]
  },
  {
   "cell_type": "code",
   "execution_count": null,
   "metadata": {},
   "outputs": [],
   "source": [
    "keys = list(all_data.keys())\n",
    "for k1, k2 in combinations(keys, 2):\n",
    "    df1, df2 = all_data[k1], all_data[k2]\n",
    "    df1, df2 = df1[df1.columns.drop([])]\n"
   ]
  }
 ],
 "metadata": {
  "language_info": {
   "name": "python"
  },
  "orig_nbformat": 4
 },
 "nbformat": 4,
 "nbformat_minor": 2
}
