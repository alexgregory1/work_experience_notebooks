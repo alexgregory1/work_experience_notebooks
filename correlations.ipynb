{
 "cells": [
  {
   "cell_type": "code",
   "execution_count": 1,
   "metadata": {},
   "outputs": [],
   "source": [
    "import pandas as pd\n",
    "import os, pathlib\n",
    "import numpy as np\n",
    "from import_clean import *\n",
    "from calculate import *\n",
    "from itertools import combinations"
   ]
  },
  {
   "cell_type": "code",
   "execution_count": null,
   "metadata": {},
   "outputs": [],
   "source": [
    "all_data = cleanup_all(import_all_data(\"utla\"), remove_geography_code=False)"
   ]
  },
  {
   "cell_type": "code",
   "execution_count": null,
   "metadata": {},
   "outputs": [],
   "source": [
    "keys = list(all_data.keys())\n",
    "for k1, k2 in combinations(keys, 2):\n",
    "    dataframes = [all_data[k1], all_data[k2]]\n",
    "    columns = [[column for column in df.columns if column != \"geography code\" and \"Total\" not in column] for df in dataframes]\n",
    "    totals = [[column for column in df.columns if \"Total\" in column][0] for df in dataframes]\n",
    "    df_merged = dataframes[0].merge(dataframes[1], on=\"geography code\")\n",
    "    for column, total in zip(columns, totals):\n",
    "        df_merged[column] = df_merged[column].divide(df_merged[total], axis=0)\n",
    "    \n"
   ]
  }
 ],
 "metadata": {
  "kernelspec": {
   "display_name": "Python 3",
   "language": "python",
   "name": "python3"
  },
  "language_info": {
   "codemirror_mode": {
    "name": "ipython",
    "version": 3
   },
   "file_extension": ".py",
   "mimetype": "text/x-python",
   "name": "python",
   "nbconvert_exporter": "python",
   "pygments_lexer": "ipython3",
   "version": "3.11.4"
  },
  "orig_nbformat": 4
 },
 "nbformat": 4,
 "nbformat_minor": 2
}
