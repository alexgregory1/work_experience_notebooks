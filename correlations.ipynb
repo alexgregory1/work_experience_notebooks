{
 "cells": [
  {
   "cell_type": "code",
   "execution_count": 1,
   "metadata": {},
   "outputs": [],
   "source": [
    "import pandas as pd\n",
    "import os, pathlib, math\n",
    "import numpy as np\n",
    "import matplotlib.pyplot as plt\n",
    "import seaborn as sns\n",
    "from import_clean import *\n",
    "from calculate import *\n",
    "from itertools import combinations\n",
    "from tqdm.notebook import tqdm"
   ]
  },
  {
   "cell_type": "code",
   "execution_count": 2,
   "metadata": {},
   "outputs": [],
   "source": [
    "root = pathlib.Path(\"data\")\n",
    "area_size = \"msoa\""
   ]
  },
  {
   "cell_type": "code",
   "execution_count": 3,
   "metadata": {},
   "outputs": [],
   "source": [
    "all_data = cleanup_all(import_data(area_size, target_codes=[\"TS001\", \"TS004\", \"TS007A\", \"TS030\", \"TS058\", \"TS059\", \"TS050\", \"TS067\", \"TS037\"]), remove_geography_code=False)\n",
    "all_data[\"MQY\"] = cleanup(pd.read_csv(root/\"mean_qualification_years\"/f\"mqy-{area_size}.csv\"), [\"geography\"])"
   ]
  },
  {
   "cell_type": "code",
   "execution_count": 4,
   "metadata": {},
   "outputs": [
    {
     "data": {
      "text/plain": [
       "['TS001',\n",
       " 'TS004',\n",
       " 'TS007A',\n",
       " 'TS030',\n",
       " 'TS058',\n",
       " 'TS059',\n",
       " 'TS050',\n",
       " 'TS067',\n",
       " 'TS037',\n",
       " 'MQY']"
      ]
     },
     "execution_count": 4,
     "metadata": {},
     "output_type": "execute_result"
    }
   ],
   "source": [
    "\n",
    "keys = list(all_data.keys())\n",
    "#remove = [\"TS006\", \"TS008\", \"TS020\", \"TS041\", \"TS007A\", \"TS038\", \"TS039\", \"\"]\n",
    "#keys.remove(\"TS006\")\n",
    "#keys.remove(\"TS008\")\n",
    "#keys.remove(\"TS020\")\n",
    "#keys.remove(\"TS041\")\n",
    "#keys.remove(\"TS007A\")\n",
    "keys\n"
   ]
  },
  {
   "cell_type": "code",
   "execution_count": 4,
   "metadata": {},
   "outputs": [
    {
     "data": {
      "text/html": [
       "<div>\n",
       "<style scoped>\n",
       "    .dataframe tbody tr th:only-of-type {\n",
       "        vertical-align: middle;\n",
       "    }\n",
       "\n",
       "    .dataframe tbody tr th {\n",
       "        vertical-align: top;\n",
       "    }\n",
       "\n",
       "    .dataframe thead th {\n",
       "        text-align: right;\n",
       "    }\n",
       "</style>\n",
       "<table border=\"1\" class=\"dataframe\">\n",
       "  <thead>\n",
       "    <tr style=\"text-align: right;\">\n",
       "      <th></th>\n",
       "      <th>Code</th>\n",
       "      <th>Count</th>\n",
       "    </tr>\n",
       "  </thead>\n",
       "  <tbody>\n",
       "    <tr>\n",
       "      <th>0</th>\n",
       "      <td>TS006</td>\n",
       "      <td>0</td>\n",
       "    </tr>\n",
       "    <tr>\n",
       "      <th>0</th>\n",
       "      <td>TS008</td>\n",
       "      <td>0</td>\n",
       "    </tr>\n",
       "    <tr>\n",
       "      <th>0</th>\n",
       "      <td>TS020</td>\n",
       "      <td>0</td>\n",
       "    </tr>\n",
       "    <tr>\n",
       "      <th>0</th>\n",
       "      <td>TS041</td>\n",
       "      <td>0</td>\n",
       "    </tr>\n",
       "  </tbody>\n",
       "</table>\n",
       "</div>"
      ],
      "text/plain": [
       "    Code Count\n",
       "0  TS006     0\n",
       "0  TS008     0\n",
       "0  TS020     0\n",
       "0  TS041     0"
      ]
     },
     "execution_count": 4,
     "metadata": {},
     "output_type": "execute_result"
    }
   ],
   "source": [
    "nonstandard = pd.DataFrame(columns=['Code', 'Count'])\n",
    "for dfCode in list(all_data.keys()):\n",
    "    if len([column for column in list(all_data[dfCode].columns) if \"Total\" in column]) != 1:\n",
    "        nonstandard = pd.concat([nonstandard, pd.DataFrame({'Code': dfCode, 'Count': len([column for column in list(all_data[dfCode].columns) if \"Total\" in column])}, index=[0])])\n",
    "nonstandard"
   ]
  },
  {
   "cell_type": "code",
   "execution_count": 8,
   "metadata": {},
   "outputs": [
    {
     "data": {
      "application/vnd.jupyter.widget-view+json": {
       "model_id": "6bd831e250df4d18b51a35bb2284eb88",
       "version_major": 2,
       "version_minor": 0
      },
      "text/plain": [
       "  0%|          | 0/44.0 [00:00<?, ?it/s]"
      ]
     },
     "metadata": {},
     "output_type": "display_data"
    }
   ],
   "source": [
    "length = math.factorial(len(keys)) / (math.factorial(2) * math.factorial(len(keys) - 2))-1\n",
    "uid = 0\n",
    "tempList = []\n",
    "for k1, k2 in tqdm(combinations(keys, 2), total=length):\n",
    "    if (k1 ==\"TS007\" and k2==\"TS004\") or (k1==\"TS004\" and k2==\"TS007\"):\n",
    "        continue\n",
    "    dataframes = [all_data[k1], all_data[k2]]\n",
    "    if k1 == \"MQY\":\n",
    "        dataframes[0] = dataframes[0].rename(columns={\"Highest level of qualification: Total: All usual residents aged 16 years and over\" : \"Highest level of qualification: Total: All usual residents aged 16 years and ove\"})\n",
    "    elif k2 == \"MQY\":\n",
    "        dataframes[1] = dataframes[1].rename(columns={\"Highest level of qualification: Total: All usual residents aged 16 years and over\" : \"Highest level of qualification: Total: All usual residents aged 16 years and ove\"})\n",
    "    columns = [[column for column in df.columns if column != \"geography code\" and \"Total\" not in column and column != \"Country of birth: Europe; measures: Value\"] for df in dataframes] \n",
    "    df_merged = dataframes[0].merge(dataframes[1], on=\"geography code\")\n",
    "    try:\n",
    "        if k1 == \"MQY\":\n",
    "            df_merged[columns[1]] = df_merged[columns[1]].divide(df_merged[[column for column in dataframes[1].columns if \"Total\" in column][0]], axis=0) \n",
    "        elif k2 == \"MQY\":\n",
    "            df_merged[columns[0]] = df_merged[columns[0]].divide(df_merged[[column for column in dataframes[0].columns if \"Total\" in column][0]], axis=0)\n",
    "    except KeyError as e:\n",
    "        print(df_merged.columns)\n",
    "        print(dataframes[0].columns)\n",
    "        print(dataframes[1].columns)\n",
    "        raise KeyError(e)\n",
    "    else:\n",
    "        for column_set, total in zip(columns, [[column for column in df.columns if \"Total\" in column][0] for df in dataframes]):\n",
    "            df_merged[column_set] = df_merged[column_set].divide(df_merged[total], axis=0)\n",
    "    data = [[(np.corrcoef(np.array(df_merged[column1]), np.array(df_merged[column2]))[0][1], column1, column2) for column2 in columns[1]] for column1 in columns[0]]\n",
    "    if len(columns[0]) > 1:\n",
    "        data_new = data[0]\n",
    "        for i in range(1, len(columns[0])):\n",
    "            data_new.extend(data[i])\n",
    "    else:\n",
    "        data_new = data[0]\n",
    "    for p, c1, c2, in data_new:\n",
    "        tempList.append([uid, c1, c2, p, k1, k2])\n",
    "        uid += 1\n",
    "coefficients = pd.DataFrame(tempList, columns=['uid', 'variable1', 'variable2', 'coefficient', \"k1\", \"k2\"])\n",
    "        #coefficients = pd.concat([coefficients, pd.DataFrame({\"variable1\": c1, \"variable2\": c2, \"coefficient\": p, \"uid\":uid}, index=[uid])])\n",
    "        #uid += 1\n",
    "    #for column1 in columns[0]:\n",
    "    #    for column2 in columns[1]:\n",
    "    #        x, y = df_merged[column1], df_merged[column2]\n",
    "    #        pearsons = np.corrcoef(np.array(x), np.array(y))[0][1]\n",
    "    #        coefficients = pd.concat([coefficients, pd.DataFrame({\"variable1\": column1, \"variable2\": column2, \"coefficient\": pearsons}, index=[0])])"
   ]
  },
  {
   "cell_type": "code",
   "execution_count": 9,
   "metadata": {},
   "outputs": [],
   "source": [
    "root = pathlib.Path(\"data\")\n",
    "coefficients.to_csv(root/\"coefficients.csv\")"
   ]
  },
  {
   "cell_type": "code",
   "execution_count": 48,
   "metadata": {},
   "outputs": [
    {
     "data": {
      "text/html": [
       "<div>\n",
       "<style scoped>\n",
       "    .dataframe tbody tr th:only-of-type {\n",
       "        vertical-align: middle;\n",
       "    }\n",
       "\n",
       "    .dataframe tbody tr th {\n",
       "        vertical-align: top;\n",
       "    }\n",
       "\n",
       "    .dataframe thead th {\n",
       "        text-align: right;\n",
       "    }\n",
       "</style>\n",
       "<table border=\"1\" class=\"dataframe\">\n",
       "  <thead>\n",
       "    <tr style=\"text-align: right;\">\n",
       "      <th></th>\n",
       "      <th>variable1</th>\n",
       "      <th>variable2</th>\n",
       "      <th>coefficient</th>\n",
       "      <th>k1</th>\n",
       "      <th>k2</th>\n",
       "    </tr>\n",
       "    <tr>\n",
       "      <th>uid</th>\n",
       "      <th></th>\n",
       "      <th></th>\n",
       "      <th></th>\n",
       "      <th></th>\n",
       "      <th></th>\n",
       "    </tr>\n",
       "  </thead>\n",
       "  <tbody>\n",
       "    <tr>\n",
       "      <th>0</th>\n",
       "      <td>Residence type: Lives in a household; measures...</td>\n",
       "      <td>Country of birth: Europe; measures: Value</td>\n",
       "      <td>-0.004071</td>\n",
       "      <td>TS001</td>\n",
       "      <td>TS004</td>\n",
       "    </tr>\n",
       "    <tr>\n",
       "      <th>1</th>\n",
       "      <td>Residence type: Lives in a household; measures...</td>\n",
       "      <td>Country of birth: Europe: United Kingdom; meas...</td>\n",
       "      <td>-0.003914</td>\n",
       "      <td>TS001</td>\n",
       "      <td>TS004</td>\n",
       "    </tr>\n",
       "    <tr>\n",
       "      <th>2</th>\n",
       "      <td>Residence type: Lives in a household; measures...</td>\n",
       "      <td>Country of birth: Europe: EU countries; measur...</td>\n",
       "      <td>-0.012763</td>\n",
       "      <td>TS001</td>\n",
       "      <td>TS004</td>\n",
       "    </tr>\n",
       "    <tr>\n",
       "      <th>3</th>\n",
       "      <td>Residence type: Lives in a household; measures...</td>\n",
       "      <td>Country of birth: Europe: EU countries: Europe...</td>\n",
       "      <td>-0.100290</td>\n",
       "      <td>TS001</td>\n",
       "      <td>TS004</td>\n",
       "    </tr>\n",
       "    <tr>\n",
       "      <th>4</th>\n",
       "      <td>Residence type: Lives in a household; measures...</td>\n",
       "      <td>Country of birth: Europe: EU countries: Europe...</td>\n",
       "      <td>0.005146</td>\n",
       "      <td>TS001</td>\n",
       "      <td>TS004</td>\n",
       "    </tr>\n",
       "    <tr>\n",
       "      <th>...</th>\n",
       "      <td>...</td>\n",
       "      <td>...</td>\n",
       "      <td>...</td>\n",
       "      <td>...</td>\n",
       "      <td>...</td>\n",
       "    </tr>\n",
       "    <tr>\n",
       "      <th>8764</th>\n",
       "      <td>General health: Very bad health</td>\n",
       "      <td>Disability: Disabled under the Equality Act: D...</td>\n",
       "      <td>0.951046</td>\n",
       "      <td>TS037</td>\n",
       "      <td>TS038</td>\n",
       "    </tr>\n",
       "    <tr>\n",
       "      <th>8765</th>\n",
       "      <td>General health: Very bad health</td>\n",
       "      <td>Disability: Disabled under the Equality Act: D...</td>\n",
       "      <td>0.573703</td>\n",
       "      <td>TS037</td>\n",
       "      <td>TS038</td>\n",
       "    </tr>\n",
       "    <tr>\n",
       "      <th>8766</th>\n",
       "      <td>General health: Very bad health</td>\n",
       "      <td>Disability: Not disabled under the Equality Act</td>\n",
       "      <td>-0.837174</td>\n",
       "      <td>TS037</td>\n",
       "      <td>TS038</td>\n",
       "    </tr>\n",
       "    <tr>\n",
       "      <th>8767</th>\n",
       "      <td>General health: Very bad health</td>\n",
       "      <td>Disability: Not disabled under the Equality Ac...</td>\n",
       "      <td>-0.180531</td>\n",
       "      <td>TS037</td>\n",
       "      <td>TS038</td>\n",
       "    </tr>\n",
       "    <tr>\n",
       "      <th>8768</th>\n",
       "      <td>General health: Very bad health</td>\n",
       "      <td>Disability: Not disabled under the Equality Ac...</td>\n",
       "      <td>-0.681303</td>\n",
       "      <td>TS037</td>\n",
       "      <td>TS038</td>\n",
       "    </tr>\n",
       "  </tbody>\n",
       "</table>\n",
       "<p>8769 rows × 5 columns</p>\n",
       "</div>"
      ],
      "text/plain": [
       "                                              variable1  \\\n",
       "uid                                                       \n",
       "0     Residence type: Lives in a household; measures...   \n",
       "1     Residence type: Lives in a household; measures...   \n",
       "2     Residence type: Lives in a household; measures...   \n",
       "3     Residence type: Lives in a household; measures...   \n",
       "4     Residence type: Lives in a household; measures...   \n",
       "...                                                 ...   \n",
       "8764                    General health: Very bad health   \n",
       "8765                    General health: Very bad health   \n",
       "8766                    General health: Very bad health   \n",
       "8767                    General health: Very bad health   \n",
       "8768                    General health: Very bad health   \n",
       "\n",
       "                                              variable2  coefficient     k1  \\\n",
       "uid                                                                           \n",
       "0             Country of birth: Europe; measures: Value    -0.004071  TS001   \n",
       "1     Country of birth: Europe: United Kingdom; meas...    -0.003914  TS001   \n",
       "2     Country of birth: Europe: EU countries; measur...    -0.012763  TS001   \n",
       "3     Country of birth: Europe: EU countries: Europe...    -0.100290  TS001   \n",
       "4     Country of birth: Europe: EU countries: Europe...     0.005146  TS001   \n",
       "...                                                 ...          ...    ...   \n",
       "8764  Disability: Disabled under the Equality Act: D...     0.951046  TS037   \n",
       "8765  Disability: Disabled under the Equality Act: D...     0.573703  TS037   \n",
       "8766    Disability: Not disabled under the Equality Act    -0.837174  TS037   \n",
       "8767  Disability: Not disabled under the Equality Ac...    -0.180531  TS037   \n",
       "8768  Disability: Not disabled under the Equality Ac...    -0.681303  TS037   \n",
       "\n",
       "         k2  \n",
       "uid          \n",
       "0     TS004  \n",
       "1     TS004  \n",
       "2     TS004  \n",
       "3     TS004  \n",
       "4     TS004  \n",
       "...     ...  \n",
       "8764  TS038  \n",
       "8765  TS038  \n",
       "8766  TS038  \n",
       "8767  TS038  \n",
       "8768  TS038  \n",
       "\n",
       "[8769 rows x 5 columns]"
      ]
     },
     "execution_count": 48,
     "metadata": {},
     "output_type": "execute_result"
    }
   ],
   "source": [
    "coefficients[\"uid\"] = range(len(coefficients.index))\n",
    "coefficients.set_index(\"uid\")"
   ]
  },
  {
   "cell_type": "code",
   "execution_count": 4,
   "metadata": {},
   "outputs": [],
   "source": [
    "coefficients = pd.read_csv(root/\"coefficients.csv\")"
   ]
  },
  {
   "cell_type": "code",
   "execution_count": 10,
   "metadata": {},
   "outputs": [],
   "source": [
    "coefficients_copy = coefficients.copy()"
   ]
  },
  {
   "cell_type": "code",
   "execution_count": 11,
   "metadata": {},
   "outputs": [
    {
     "name": "stdout",
     "output_type": "stream",
     "text": [
      "0.009794340538550958 0.29464519564770175\n"
     ]
    }
   ],
   "source": [
    "mean = coefficients_copy[\"coefficient\"].mean()\n",
    "std = coefficients_copy[\"coefficient\"].std()\n",
    "print(mean, std)"
   ]
  },
  {
   "cell_type": "code",
   "execution_count": 12,
   "metadata": {},
   "outputs": [
    {
     "data": {
      "text/plain": [
       "<Axes: xlabel='coefficient', ylabel='Frequency'>"
      ]
     },
     "execution_count": 12,
     "metadata": {},
     "output_type": "execute_result"
    },
    {
     "data": {
      "image/png": "[encoded data removed]",
      "text/plain": [
       "<Figure size 1000x1000 with 1 Axes>"
      ]
     },
     "metadata": {},
     "output_type": "display_data"
    }
   ],
   "source": [
    "fig, ax = plt.subplots(figsize=(10, 10))\n",
    "sns.histplot(data=coefficients_copy, x='coefficient', ax=ax, bins=50, stat='frequency', kde=True)\n"
   ]
  },
  {
   "cell_type": "code",
   "execution_count": 16,
   "metadata": {},
   "outputs": [
    {
     "name": "stdout",
     "output_type": "stream",
     "text": [
      "0.7464073296578053 -0.7268186485807033\n"
     ]
    }
   ],
   "source": [
    "number_of_sd = 2.5\n",
    "upper_threshold = mean + number_of_sd*std\n",
    "lower_threshold = mean - number_of_sd*std\n",
    "print(upper_threshold, lower_threshold)"
   ]
  },
  {
   "cell_type": "code",
   "execution_count": 17,
   "metadata": {},
   "outputs": [
    {
     "name": "stdout",
     "output_type": "stream",
     "text": [
      "20\n"
     ]
    }
   ],
   "source": [
    "above = coefficients_copy[coefficients_copy[\"coefficient\"] > upper_threshold]\n",
    "below = coefficients_copy[coefficients_copy[\"coefficient\"] < lower_threshold]\n",
    "above = above.sort_values(\"coefficient\", ascending=False)\n",
    "below = below.sort_values(\"coefficient\", ascending=True)\n",
    "print(len(above)+len(below))\n",
    "above = above.head(100)\n",
    "below = below.head(100)\n",
    "all = pd.concat([above, below])\n",
    "all.to_csv(root/\"most_correlated.csv\")"
   ]
  }
 ],
 "metadata": {
  "kernelspec": {
   "display_name": "Python 3",
   "language": "python",
   "name": "python3"
  },
  "language_info": {
   "codemirror_mode": {
    "name": "ipython",
    "version": 3
   },
   "file_extension": ".py",
   "mimetype": "text/x-python",
   "name": "python",
   "nbconvert_exporter": "python",
   "pygments_lexer": "ipython3",
   "version": "3.11.4"
  },
  "orig_nbformat": 4
 },
 "nbformat": 4,
 "nbformat_minor": 2
}
