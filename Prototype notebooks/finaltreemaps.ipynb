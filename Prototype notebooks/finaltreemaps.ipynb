{
 "cells": [
  {
   "cell_type": "markdown",
   "id": "ee895fbf-4439-484f-8729-dbd98aa8ce8d",
   "metadata": {
    "tags": []
   },
   "source": [
    "# Visualising Data"
   ]
  },
  {
   "cell_type": "markdown",
   "id": "0efb9cff-f74a-4f80-a278-2aa1bcbd0ec2",
   "metadata": {},
   "source": [
    "## Creating a treemap for level of education and country of birth"
   ]
  },
  {
   "cell_type": "code",
   "execution_count": 74,
   "id": "31217e5b-5cca-4d29-bbd7-a5717cde9da2",
   "metadata": {
    "tags": []
   },
   "outputs": [],
   "source": [
    "import matplotlib.pyplot as plt\n",
    "import pandas as pd\n",
    "import plotly.express as px\n",
    "import os\n",
    "import pathlib\n",
    "import numpy as np"
   ]
  },
  {
   "cell_type": "code",
   "execution_count": 75,
   "id": "d063ed78-b345-44b2-adfe-1a30e51f674d",
   "metadata": {
    "tags": []
   },
   "outputs": [
    {
     "data": {
      "text/html": [
       "<div>\n",
       "<style scoped>\n",
       "    .dataframe tbody tr th:only-of-type {\n",
       "        vertical-align: middle;\n",
       "    }\n",
       "\n",
       "    .dataframe tbody tr th {\n",
       "        vertical-align: top;\n",
       "    }\n",
       "\n",
       "    .dataframe thead th {\n",
       "        text-align: right;\n",
       "    }\n",
       "</style>\n",
       "<table border=\"1\" class=\"dataframe\">\n",
       "  <thead>\n",
       "    <tr style=\"text-align: right;\">\n",
       "      <th></th>\n",
       "      <th>Unnamed: 0</th>\n",
       "      <th>Region</th>\n",
       "      <th>Total Population</th>\n",
       "      <th>No qualifications and Europe</th>\n",
       "      <th>No qualifications and Europe: United Kingdom</th>\n",
       "      <th>No qualifications and Europe: EU countries</th>\n",
       "      <th>No qualifications and Europe: EU countries: European Union EU14</th>\n",
       "      <th>No qualifications and Europe: EU countries: European Union EU8</th>\n",
       "      <th>No qualifications and Europe: EU countries: European Union EU2</th>\n",
       "      <th>No qualifications and Europe: EU countries: All other EU countries</th>\n",
       "      <th>...</th>\n",
       "      <th>Other qualifications and Europe: EU countries: European Union EU2</th>\n",
       "      <th>Other qualifications and Europe: EU countries: All other EU countries</th>\n",
       "      <th>Other qualifications and Europe: Non-EU countries</th>\n",
       "      <th>Other qualifications and Europe: Non-EU countries: All other non-EU countries</th>\n",
       "      <th>Other qualifications and Africa</th>\n",
       "      <th>Other qualifications and Middle East and Asia</th>\n",
       "      <th>Other qualifications and The Americas and the Caribbean</th>\n",
       "      <th>Other qualifications and Antarctica and Oceania (including Australasia) and Other</th>\n",
       "      <th>Other qualifications and British Overseas</th>\n",
       "      <th>Unnamed: 101</th>\n",
       "    </tr>\n",
       "  </thead>\n",
       "  <tbody>\n",
       "    <tr>\n",
       "      <th>0</th>\n",
       "      <td>0.0</td>\n",
       "      <td>North East</td>\n",
       "      <td>2178960.0</td>\n",
       "      <td>423897.0</td>\n",
       "      <td>412439.0</td>\n",
       "      <td>10316.0</td>\n",
       "      <td>5027.0</td>\n",
       "      <td>3401.0</td>\n",
       "      <td>1500.0</td>\n",
       "      <td>386.0</td>\n",
       "      <td>...</td>\n",
       "      <td>184.0</td>\n",
       "      <td>47.0</td>\n",
       "      <td>140.0</td>\n",
       "      <td>140.0</td>\n",
       "      <td>544.0</td>\n",
       "      <td>1473.0</td>\n",
       "      <td>188.0</td>\n",
       "      <td>61.0</td>\n",
       "      <td>5.0</td>\n",
       "      <td>NaN</td>\n",
       "    </tr>\n",
       "    <tr>\n",
       "      <th>1</th>\n",
       "      <td>1.0</td>\n",
       "      <td>North West</td>\n",
       "      <td>6025635.0</td>\n",
       "      <td>1090412.0</td>\n",
       "      <td>1037644.0</td>\n",
       "      <td>48415.0</td>\n",
       "      <td>22154.0</td>\n",
       "      <td>18367.0</td>\n",
       "      <td>6923.0</td>\n",
       "      <td>969.0</td>\n",
       "      <td>...</td>\n",
       "      <td>900.0</td>\n",
       "      <td>126.0</td>\n",
       "      <td>566.0</td>\n",
       "      <td>566.0</td>\n",
       "      <td>2656.0</td>\n",
       "      <td>7169.0</td>\n",
       "      <td>892.0</td>\n",
       "      <td>206.0</td>\n",
       "      <td>38.0</td>\n",
       "      <td>NaN</td>\n",
       "    </tr>\n",
       "    <tr>\n",
       "      <th>2</th>\n",
       "      <td>2.0</td>\n",
       "      <td>Yorkshire and The Humber</td>\n",
       "      <td>4460299.0</td>\n",
       "      <td>858748.0</td>\n",
       "      <td>815228.0</td>\n",
       "      <td>40339.0</td>\n",
       "      <td>13113.0</td>\n",
       "      <td>20036.0</td>\n",
       "      <td>6329.0</td>\n",
       "      <td>860.0</td>\n",
       "      <td>...</td>\n",
       "      <td>811.0</td>\n",
       "      <td>110.0</td>\n",
       "      <td>407.0</td>\n",
       "      <td>407.0</td>\n",
       "      <td>1798.0</td>\n",
       "      <td>5193.0</td>\n",
       "      <td>623.0</td>\n",
       "      <td>166.0</td>\n",
       "      <td>27.0</td>\n",
       "      <td>NaN</td>\n",
       "    </tr>\n",
       "    <tr>\n",
       "      <th>3</th>\n",
       "      <td>3.0</td>\n",
       "      <td>East Midlands</td>\n",
       "      <td>3998045.0</td>\n",
       "      <td>721529.0</td>\n",
       "      <td>672066.0</td>\n",
       "      <td>44873.0</td>\n",
       "      <td>13905.0</td>\n",
       "      <td>21418.0</td>\n",
       "      <td>8480.0</td>\n",
       "      <td>1068.0</td>\n",
       "      <td>...</td>\n",
       "      <td>1237.0</td>\n",
       "      <td>155.0</td>\n",
       "      <td>669.0</td>\n",
       "      <td>669.0</td>\n",
       "      <td>2542.0</td>\n",
       "      <td>4887.0</td>\n",
       "      <td>737.0</td>\n",
       "      <td>163.0</td>\n",
       "      <td>39.0</td>\n",
       "      <td>NaN</td>\n",
       "    </tr>\n",
       "    <tr>\n",
       "      <th>4</th>\n",
       "      <td>4.0</td>\n",
       "      <td>West Midlands</td>\n",
       "      <td>4801326.0</td>\n",
       "      <td>916891.0</td>\n",
       "      <td>861329.0</td>\n",
       "      <td>51325.0</td>\n",
       "      <td>20129.0</td>\n",
       "      <td>18953.0</td>\n",
       "      <td>11300.0</td>\n",
       "      <td>941.0</td>\n",
       "      <td>...</td>\n",
       "      <td>1544.0</td>\n",
       "      <td>128.0</td>\n",
       "      <td>578.0</td>\n",
       "      <td>578.0</td>\n",
       "      <td>3087.0</td>\n",
       "      <td>8912.0</td>\n",
       "      <td>1209.0</td>\n",
       "      <td>173.0</td>\n",
       "      <td>64.0</td>\n",
       "      <td>NaN</td>\n",
       "    </tr>\n",
       "  </tbody>\n",
       "</table>\n",
       "<p>5 rows × 102 columns</p>\n",
       "</div>"
      ],
      "text/plain": [
       "   Unnamed: 0                    Region  Total Population  \\\n",
       "0         0.0                North East         2178960.0   \n",
       "1         1.0                North West         6025635.0   \n",
       "2         2.0  Yorkshire and The Humber         4460299.0   \n",
       "3         3.0             East Midlands         3998045.0   \n",
       "4         4.0             West Midlands         4801326.0   \n",
       "\n",
       "   No qualifications and Europe  No qualifications and Europe: United Kingdom  \\\n",
       "0                      423897.0                                      412439.0   \n",
       "1                     1090412.0                                     1037644.0   \n",
       "2                      858748.0                                      815228.0   \n",
       "3                      721529.0                                      672066.0   \n",
       "4                      916891.0                                      861329.0   \n",
       "\n",
       "   No qualifications and Europe: EU countries  \\\n",
       "0                                     10316.0   \n",
       "1                                     48415.0   \n",
       "2                                     40339.0   \n",
       "3                                     44873.0   \n",
       "4                                     51325.0   \n",
       "\n",
       "   No qualifications and Europe: EU countries: European Union EU14  \\\n",
       "0                                             5027.0                 \n",
       "1                                            22154.0                 \n",
       "2                                            13113.0                 \n",
       "3                                            13905.0                 \n",
       "4                                            20129.0                 \n",
       "\n",
       "   No qualifications and Europe: EU countries: European Union EU8  \\\n",
       "0                                             3401.0                \n",
       "1                                            18367.0                \n",
       "2                                            20036.0                \n",
       "3                                            21418.0                \n",
       "4                                            18953.0                \n",
       "\n",
       "   No qualifications and Europe: EU countries: European Union EU2  \\\n",
       "0                                             1500.0                \n",
       "1                                             6923.0                \n",
       "2                                             6329.0                \n",
       "3                                             8480.0                \n",
       "4                                            11300.0                \n",
       "\n",
       "   No qualifications and Europe: EU countries: All other EU countries  ...  \\\n",
       "0                                              386.0                   ...   \n",
       "1                                              969.0                   ...   \n",
       "2                                              860.0                   ...   \n",
       "3                                             1068.0                   ...   \n",
       "4                                              941.0                   ...   \n",
       "\n",
       "   Other qualifications and Europe: EU countries: European Union EU2  \\\n",
       "0                                              184.0                   \n",
       "1                                              900.0                   \n",
       "2                                              811.0                   \n",
       "3                                             1237.0                   \n",
       "4                                             1544.0                   \n",
       "\n",
       "   Other qualifications and Europe: EU countries: All other EU countries  \\\n",
       "0                                               47.0                       \n",
       "1                                              126.0                       \n",
       "2                                              110.0                       \n",
       "3                                              155.0                       \n",
       "4                                              128.0                       \n",
       "\n",
       "   Other qualifications and Europe: Non-EU countries  \\\n",
       "0                                              140.0   \n",
       "1                                              566.0   \n",
       "2                                              407.0   \n",
       "3                                              669.0   \n",
       "4                                              578.0   \n",
       "\n",
       "   Other qualifications and Europe: Non-EU countries: All other non-EU countries  \\\n",
       "0                                              140.0                               \n",
       "1                                              566.0                               \n",
       "2                                              407.0                               \n",
       "3                                              669.0                               \n",
       "4                                              578.0                               \n",
       "\n",
       "   Other qualifications and Africa  \\\n",
       "0                            544.0   \n",
       "1                           2656.0   \n",
       "2                           1798.0   \n",
       "3                           2542.0   \n",
       "4                           3087.0   \n",
       "\n",
       "   Other qualifications and Middle East and Asia  \\\n",
       "0                                         1473.0   \n",
       "1                                         7169.0   \n",
       "2                                         5193.0   \n",
       "3                                         4887.0   \n",
       "4                                         8912.0   \n",
       "\n",
       "   Other qualifications and The Americas and the Caribbean  \\\n",
       "0                                              188.0         \n",
       "1                                              892.0         \n",
       "2                                              623.0         \n",
       "3                                              737.0         \n",
       "4                                             1209.0         \n",
       "\n",
       "   Other qualifications and Antarctica and Oceania (including Australasia) and Other  \\\n",
       "0                                               61.0                                   \n",
       "1                                              206.0                                   \n",
       "2                                              166.0                                   \n",
       "3                                              163.0                                   \n",
       "4                                              173.0                                   \n",
       "\n",
       "   Other qualifications and British Overseas  Unnamed: 101  \n",
       "0                                        5.0           NaN  \n",
       "1                                       38.0           NaN  \n",
       "2                                       27.0           NaN  \n",
       "3                                       39.0           NaN  \n",
       "4                                       64.0           NaN  \n",
       "\n",
       "[5 rows x 102 columns]"
      ]
     },
     "execution_count": 75,
     "metadata": {},
     "output_type": "execute_result"
    }
   ],
   "source": [
    "root = pathlib.Path(\"data\")\n",
    "df = pd.read_csv(root / \"Test Data csv.csv\")  # creating dataframe\n",
    "df.head()"
   ]
  },
  {
   "cell_type": "code",
   "execution_count": 76,
   "id": "e8f9961b-b7c6-456b-b134-3325e4e0290d",
   "metadata": {
    "tags": []
   },
   "outputs": [
    {
     "data": {
      "text/html": [
       "<div>\n",
       "<style scoped>\n",
       "    .dataframe tbody tr th:only-of-type {\n",
       "        vertical-align: middle;\n",
       "    }\n",
       "\n",
       "    .dataframe tbody tr th {\n",
       "        vertical-align: top;\n",
       "    }\n",
       "\n",
       "    .dataframe thead th {\n",
       "        text-align: right;\n",
       "    }\n",
       "</style>\n",
       "<table border=\"1\" class=\"dataframe\">\n",
       "  <thead>\n",
       "    <tr style=\"text-align: right;\">\n",
       "      <th></th>\n",
       "      <th>Unnamed: 0</th>\n",
       "      <th>Region</th>\n",
       "      <th>Total Population</th>\n",
       "      <th>No qualifications and Europe</th>\n",
       "      <th>No qualifications and Europe: United Kingdom</th>\n",
       "      <th>No qualifications and Europe: EU countries</th>\n",
       "      <th>No qualifications and Europe: EU countries: European Union EU14</th>\n",
       "      <th>No qualifications and Europe: EU countries: European Union EU8</th>\n",
       "      <th>No qualifications and Europe: EU countries: European Union EU2</th>\n",
       "      <th>No qualifications and Europe: EU countries: All other EU countries</th>\n",
       "      <th>...</th>\n",
       "      <th>Other qualifications and Antarctica and Oceania (including Australasia) and Other</th>\n",
       "      <th>Other qualifications and British Overseas</th>\n",
       "      <th>Unnamed: 101</th>\n",
       "      <th>No qualifications and EU</th>\n",
       "      <th>Level 1 and entry level qualifications and EU</th>\n",
       "      <th>Level 2 qualifications and EU</th>\n",
       "      <th>Apprenticeship and EU</th>\n",
       "      <th>Level 3 qualifications and EU</th>\n",
       "      <th>Level 4 qualifications and above and EU</th>\n",
       "      <th>Other qualifications and EU</th>\n",
       "    </tr>\n",
       "  </thead>\n",
       "  <tbody>\n",
       "    <tr>\n",
       "      <th>0</th>\n",
       "      <td>0.0</td>\n",
       "      <td>North East</td>\n",
       "      <td>2178960.0</td>\n",
       "      <td>423897.0</td>\n",
       "      <td>412439.0</td>\n",
       "      <td>10316.0</td>\n",
       "      <td>5027.0</td>\n",
       "      <td>3401.0</td>\n",
       "      <td>1500.0</td>\n",
       "      <td>386.0</td>\n",
       "      <td>...</td>\n",
       "      <td>61.0</td>\n",
       "      <td>5.0</td>\n",
       "      <td>NaN</td>\n",
       "      <td>11458.0</td>\n",
       "      <td>5412.0</td>\n",
       "      <td>7813.0</td>\n",
       "      <td>3750.0</td>\n",
       "      <td>10474.0</td>\n",
       "      <td>16121.0</td>\n",
       "      <td>1409.0</td>\n",
       "    </tr>\n",
       "    <tr>\n",
       "      <th>1</th>\n",
       "      <td>1.0</td>\n",
       "      <td>North West</td>\n",
       "      <td>6025635.0</td>\n",
       "      <td>1090412.0</td>\n",
       "      <td>1037644.0</td>\n",
       "      <td>48415.0</td>\n",
       "      <td>22154.0</td>\n",
       "      <td>18367.0</td>\n",
       "      <td>6923.0</td>\n",
       "      <td>969.0</td>\n",
       "      <td>...</td>\n",
       "      <td>206.0</td>\n",
       "      <td>38.0</td>\n",
       "      <td>NaN</td>\n",
       "      <td>52768.0</td>\n",
       "      <td>26192.0</td>\n",
       "      <td>36796.0</td>\n",
       "      <td>15898.0</td>\n",
       "      <td>47704.0</td>\n",
       "      <td>84453.0</td>\n",
       "      <td>6864.0</td>\n",
       "    </tr>\n",
       "    <tr>\n",
       "      <th>2</th>\n",
       "      <td>2.0</td>\n",
       "      <td>Yorkshire and The Humber</td>\n",
       "      <td>4460299.0</td>\n",
       "      <td>858748.0</td>\n",
       "      <td>815228.0</td>\n",
       "      <td>40339.0</td>\n",
       "      <td>13113.0</td>\n",
       "      <td>20036.0</td>\n",
       "      <td>6329.0</td>\n",
       "      <td>860.0</td>\n",
       "      <td>...</td>\n",
       "      <td>166.0</td>\n",
       "      <td>27.0</td>\n",
       "      <td>NaN</td>\n",
       "      <td>43520.0</td>\n",
       "      <td>21251.0</td>\n",
       "      <td>28743.0</td>\n",
       "      <td>12953.0</td>\n",
       "      <td>36773.0</td>\n",
       "      <td>62251.0</td>\n",
       "      <td>5582.0</td>\n",
       "    </tr>\n",
       "    <tr>\n",
       "      <th>3</th>\n",
       "      <td>3.0</td>\n",
       "      <td>East Midlands</td>\n",
       "      <td>3998045.0</td>\n",
       "      <td>721529.0</td>\n",
       "      <td>672066.0</td>\n",
       "      <td>44873.0</td>\n",
       "      <td>13905.0</td>\n",
       "      <td>21418.0</td>\n",
       "      <td>8480.0</td>\n",
       "      <td>1068.0</td>\n",
       "      <td>...</td>\n",
       "      <td>163.0</td>\n",
       "      <td>39.0</td>\n",
       "      <td>NaN</td>\n",
       "      <td>49463.0</td>\n",
       "      <td>26359.0</td>\n",
       "      <td>35311.0</td>\n",
       "      <td>15192.0</td>\n",
       "      <td>46445.0</td>\n",
       "      <td>73905.0</td>\n",
       "      <td>7216.0</td>\n",
       "    </tr>\n",
       "    <tr>\n",
       "      <th>4</th>\n",
       "      <td>4.0</td>\n",
       "      <td>West Midlands</td>\n",
       "      <td>4801326.0</td>\n",
       "      <td>916891.0</td>\n",
       "      <td>861329.0</td>\n",
       "      <td>51325.0</td>\n",
       "      <td>20129.0</td>\n",
       "      <td>18953.0</td>\n",
       "      <td>11300.0</td>\n",
       "      <td>941.0</td>\n",
       "      <td>...</td>\n",
       "      <td>173.0</td>\n",
       "      <td>64.0</td>\n",
       "      <td>NaN</td>\n",
       "      <td>55562.0</td>\n",
       "      <td>27074.0</td>\n",
       "      <td>36485.0</td>\n",
       "      <td>13855.0</td>\n",
       "      <td>44818.0</td>\n",
       "      <td>77367.0</td>\n",
       "      <td>7593.0</td>\n",
       "    </tr>\n",
       "  </tbody>\n",
       "</table>\n",
       "<p>5 rows × 109 columns</p>\n",
       "</div>"
      ],
      "text/plain": [
       "   Unnamed: 0                    Region  Total Population  \\\n",
       "0         0.0                North East         2178960.0   \n",
       "1         1.0                North West         6025635.0   \n",
       "2         2.0  Yorkshire and The Humber         4460299.0   \n",
       "3         3.0             East Midlands         3998045.0   \n",
       "4         4.0             West Midlands         4801326.0   \n",
       "\n",
       "   No qualifications and Europe  No qualifications and Europe: United Kingdom  \\\n",
       "0                      423897.0                                      412439.0   \n",
       "1                     1090412.0                                     1037644.0   \n",
       "2                      858748.0                                      815228.0   \n",
       "3                      721529.0                                      672066.0   \n",
       "4                      916891.0                                      861329.0   \n",
       "\n",
       "   No qualifications and Europe: EU countries  \\\n",
       "0                                     10316.0   \n",
       "1                                     48415.0   \n",
       "2                                     40339.0   \n",
       "3                                     44873.0   \n",
       "4                                     51325.0   \n",
       "\n",
       "   No qualifications and Europe: EU countries: European Union EU14  \\\n",
       "0                                             5027.0                 \n",
       "1                                            22154.0                 \n",
       "2                                            13113.0                 \n",
       "3                                            13905.0                 \n",
       "4                                            20129.0                 \n",
       "\n",
       "   No qualifications and Europe: EU countries: European Union EU8  \\\n",
       "0                                             3401.0                \n",
       "1                                            18367.0                \n",
       "2                                            20036.0                \n",
       "3                                            21418.0                \n",
       "4                                            18953.0                \n",
       "\n",
       "   No qualifications and Europe: EU countries: European Union EU2  \\\n",
       "0                                             1500.0                \n",
       "1                                             6923.0                \n",
       "2                                             6329.0                \n",
       "3                                             8480.0                \n",
       "4                                            11300.0                \n",
       "\n",
       "   No qualifications and Europe: EU countries: All other EU countries  ...  \\\n",
       "0                                              386.0                   ...   \n",
       "1                                              969.0                   ...   \n",
       "2                                              860.0                   ...   \n",
       "3                                             1068.0                   ...   \n",
       "4                                              941.0                   ...   \n",
       "\n",
       "   Other qualifications and Antarctica and Oceania (including Australasia) and Other  \\\n",
       "0                                               61.0                                   \n",
       "1                                              206.0                                   \n",
       "2                                              166.0                                   \n",
       "3                                              163.0                                   \n",
       "4                                              173.0                                   \n",
       "\n",
       "   Other qualifications and British Overseas  Unnamed: 101  \\\n",
       "0                                        5.0           NaN   \n",
       "1                                       38.0           NaN   \n",
       "2                                       27.0           NaN   \n",
       "3                                       39.0           NaN   \n",
       "4                                       64.0           NaN   \n",
       "\n",
       "   No qualifications and EU  Level 1 and entry level qualifications and EU  \\\n",
       "0                   11458.0                                         5412.0   \n",
       "1                   52768.0                                        26192.0   \n",
       "2                   43520.0                                        21251.0   \n",
       "3                   49463.0                                        26359.0   \n",
       "4                   55562.0                                        27074.0   \n",
       "\n",
       "   Level 2 qualifications and EU  Apprenticeship and EU  \\\n",
       "0                         7813.0                 3750.0   \n",
       "1                        36796.0                15898.0   \n",
       "2                        28743.0                12953.0   \n",
       "3                        35311.0                15192.0   \n",
       "4                        36485.0                13855.0   \n",
       "\n",
       "   Level 3 qualifications and EU  Level 4 qualifications and above and EU  \\\n",
       "0                        10474.0                                  16121.0   \n",
       "1                        47704.0                                  84453.0   \n",
       "2                        36773.0                                  62251.0   \n",
       "3                        46445.0                                  73905.0   \n",
       "4                        44818.0                                  77367.0   \n",
       "\n",
       "   Other qualifications and EU  \n",
       "0                       1409.0  \n",
       "1                       6864.0  \n",
       "2                       5582.0  \n",
       "3                       7216.0  \n",
       "4                       7593.0  \n",
       "\n",
       "[5 rows x 109 columns]"
      ]
     },
     "execution_count": 76,
     "metadata": {},
     "output_type": "execute_result"
    }
   ],
   "source": [
    " # removing overlapping data by having column for all countries in europe apart from UK\n",
    "\n",
    "df['No qualifications and EU']=df['No qualifications and Europe']-df['No qualifications and Europe: United Kingdom']\n",
    "df['Level 1 and entry level qualifications and EU']=df['Level 1 and entry level qualifications and Europe']-df['Level 1 and entry level qualifications and Europe: United Kingdom']\n",
    "df['Level 2 qualifications and EU']=df['Level 2 qualifications and Europe']-df['Level 2 qualifications and Europe: United Kingdom']\n",
    "df['Apprenticeship and EU']=df['Apprenticeship and Europe']-df['Apprenticeship and Europe: United Kingdom']\n",
    "df['Level 3 qualifications and EU']=df['Level 3 qualifications and Europe']-df['Level 3 qualifications and Europe: United Kingdom']\n",
    "df['Level 4 qualifications and above and EU']=df['Level 4 qualifications and above and Europe']-df['Level 4 qualifications and above and Europe: United Kingdom']\n",
    "df['Other qualifications and EU']=df['Other qualifications and Europe']-df['Other qualifications and Europe: United Kingdom']\n",
    "\n",
    "df.head()\n"
   ]
  },
  {
   "cell_type": "code",
   "execution_count": 77,
   "id": "88edd685-e567-4dd4-8301-2085e32a3a76",
   "metadata": {
    "tags": []
   },
   "outputs": [
    {
     "data": {
      "text/html": [
       "<div>\n",
       "<style scoped>\n",
       "    .dataframe tbody tr th:only-of-type {\n",
       "        vertical-align: middle;\n",
       "    }\n",
       "\n",
       "    .dataframe tbody tr th {\n",
       "        vertical-align: top;\n",
       "    }\n",
       "\n",
       "    .dataframe thead th {\n",
       "        text-align: right;\n",
       "    }\n",
       "</style>\n",
       "<table border=\"1\" class=\"dataframe\">\n",
       "  <thead>\n",
       "    <tr style=\"text-align: right;\">\n",
       "      <th></th>\n",
       "      <th>Region</th>\n",
       "      <th>variable</th>\n",
       "      <th>value</th>\n",
       "    </tr>\n",
       "  </thead>\n",
       "  <tbody>\n",
       "    <tr>\n",
       "      <th>2195</th>\n",
       "      <td>NaN</td>\n",
       "      <td>Other qualifications and EU</td>\n",
       "      <td>NaN</td>\n",
       "    </tr>\n",
       "    <tr>\n",
       "      <th>2196</th>\n",
       "      <td>NaN</td>\n",
       "      <td>Other qualifications and EU</td>\n",
       "      <td>NaN</td>\n",
       "    </tr>\n",
       "    <tr>\n",
       "      <th>2197</th>\n",
       "      <td>NaN</td>\n",
       "      <td>Other qualifications and EU</td>\n",
       "      <td>NaN</td>\n",
       "    </tr>\n",
       "    <tr>\n",
       "      <th>2198</th>\n",
       "      <td>NaN</td>\n",
       "      <td>Other qualifications and EU</td>\n",
       "      <td>NaN</td>\n",
       "    </tr>\n",
       "    <tr>\n",
       "      <th>2199</th>\n",
       "      <td>NaN</td>\n",
       "      <td>Other qualifications and EU</td>\n",
       "      <td>NaN</td>\n",
       "    </tr>\n",
       "    <tr>\n",
       "      <th>2200</th>\n",
       "      <td>NaN</td>\n",
       "      <td>Other qualifications and EU</td>\n",
       "      <td>NaN</td>\n",
       "    </tr>\n",
       "    <tr>\n",
       "      <th>2201</th>\n",
       "      <td>NaN</td>\n",
       "      <td>Other qualifications and EU</td>\n",
       "      <td>NaN</td>\n",
       "    </tr>\n",
       "    <tr>\n",
       "      <th>2202</th>\n",
       "      <td>NaN</td>\n",
       "      <td>Other qualifications and EU</td>\n",
       "      <td>NaN</td>\n",
       "    </tr>\n",
       "    <tr>\n",
       "      <th>2203</th>\n",
       "      <td>NaN</td>\n",
       "      <td>Other qualifications and EU</td>\n",
       "      <td>NaN</td>\n",
       "    </tr>\n",
       "    <tr>\n",
       "      <th>2204</th>\n",
       "      <td>NaN</td>\n",
       "      <td>Other qualifications and EU</td>\n",
       "      <td>NaN</td>\n",
       "    </tr>\n",
       "  </tbody>\n",
       "</table>\n",
       "</div>"
      ],
      "text/plain": [
       "     Region                     variable  value\n",
       "2195    NaN  Other qualifications and EU    NaN\n",
       "2196    NaN  Other qualifications and EU    NaN\n",
       "2197    NaN  Other qualifications and EU    NaN\n",
       "2198    NaN  Other qualifications and EU    NaN\n",
       "2199    NaN  Other qualifications and EU    NaN\n",
       "2200    NaN  Other qualifications and EU    NaN\n",
       "2201    NaN  Other qualifications and EU    NaN\n",
       "2202    NaN  Other qualifications and EU    NaN\n",
       "2203    NaN  Other qualifications and EU    NaN\n",
       "2204    NaN  Other qualifications and EU    NaN"
      ]
     },
     "execution_count": 77,
     "metadata": {},
     "output_type": "execute_result"
    }
   ],
   "source": [
    " # dropping overlapping columns that are now covered in those labelled EU containing all countries in Europe except UK\n",
    "\n",
    "dropcolumns=['Unnamed: 0',\n",
    " 'Total Population',\n",
    " 'Unnamed: 101',\n",
    " 'No qualifications and Europe',\n",
    " 'No qualifications and Europe: EU countries',\n",
    " 'No qualifications and Europe: EU countries: European Union EU14',\n",
    " 'No qualifications and Europe: EU countries: European Union EU8',\n",
    " 'No qualifications and Europe: EU countries: European Union EU2',\n",
    " 'No qualifications and Europe: EU countries: All other EU countries',\n",
    " 'No qualifications and Europe: Non-EU countries',\n",
    " 'No qualifications and Europe: Non-EU countries: All other non-EU countries', \n",
    " 'Level 1 and entry level qualifications and Europe',\n",
    " 'Level 1 and entry level qualifications and Europe: EU countries',\n",
    " 'Level 1 and entry level qualifications and Europe: EU countries: European Union EU14',\n",
    " 'Level 1 and entry level qualifications and Europe: EU countries: European Union EU8',\n",
    " 'Level 1 and entry level qualifications and Europe: EU countries: European Union EU2',\n",
    " 'Level 1 and entry level qualifications and Europe: EU countries: All other EU countries',\n",
    " 'Level 1 and entry level qualifications and Europe: Non-EU countries',\n",
    " 'Level 1 and entry level qualifications and Europe: Non-EU countries: All other non-EU countries',\n",
    " 'Level 2 qualifications and Europe',\n",
    " 'Level 2 qualifications and Europe: EU countries',\n",
    " 'Level 2 qualifications and Europe: EU countries: European Union EU14',\n",
    " 'Level 2 qualifications and Europe: EU countries: European Union EU8',\n",
    " 'Level 2 qualifications and Europe: EU countries: European Union EU2',\n",
    " 'Level 2 qualifications and Europe: EU countries: All other EU countries',\n",
    " 'Level 2 qualifications and Europe: Non-EU countries',\n",
    " 'Level 2 qualifications and Europe: Non-EU countries: All other non-EU countries',\n",
    " 'Apprenticeship and Europe',\n",
    " 'Apprenticeship and Europe: EU countries',\n",
    " 'Apprenticeship and Europe: EU countries: European Union EU14',\n",
    " 'Apprenticeship and Europe: EU countries: European Union EU8',\n",
    " 'Apprenticeship and Europe: EU countries: European Union EU2',\n",
    " 'Apprenticeship and Europe: EU countries: All other EU countries',\n",
    " 'Apprenticeship and Europe: Non-EU countries',\n",
    " 'Apprenticeship and Europe: Non-EU countries: All other non-EU countries',\n",
    " 'Level 3 qualifications and Europe',\n",
    " 'Level 3 qualifications and Europe: EU countries',\n",
    " 'Level 3 qualifications and Europe: EU countries: European Union EU14',\n",
    " 'Level 3 qualifications and Europe: EU countries: European Union EU8',\n",
    " 'Level 3 qualifications and Europe: EU countries: European Union EU2',\n",
    " 'Level 3 qualifications and Europe: EU countries: All other EU countries',\n",
    " 'Level 3 qualifications and Europe: Non-EU countries',\n",
    " 'Level 3 qualifications and Europe: Non-EU countries: All other non-EU countries',\n",
    " 'Level 4 qualifications and above and Europe',\n",
    " 'Level 4 qualifications and above and Europe: EU countries',\n",
    " 'Level 4 qualifications and above and Europe: EU countries: European Union EU14',\n",
    " 'Level 4 qualifications and above and Europe: EU countries: European Union EU8',\n",
    " 'Level 4 qualifications and above and Europe: EU countries: European Union EU2',\n",
    " 'Level 4 qualifications and above and Europe: EU countries: All other EU countries',\n",
    " 'Level 4 qualifications and above and Europe: Non-EU countries',\n",
    " 'Level 4 qualifications and above and Europe: Non-EU countries: All other non-EU countries',\n",
    " 'Other qualifications and Europe',\n",
    " 'Other qualifications and Europe: EU countries',\n",
    " 'Other qualifications and Europe: EU countries: European Union EU14',\n",
    " 'Other qualifications and Europe: EU countries: European Union EU8',\n",
    " 'Other qualifications and Europe: EU countries: European Union EU2',\n",
    " 'Other qualifications and Europe: EU countries: All other EU countries',\n",
    " 'Other qualifications and Europe: Non-EU countries',\n",
    " 'Other qualifications and Europe: Non-EU countries: All other non-EU countries']\n",
    "treemap_df=df.drop(columns=dropcolumns).melt(id_vars='Region')\n",
    "treemap_df.tail(10)"
   ]
  },
  {
   "cell_type": "code",
   "execution_count": 78,
   "id": "09639305-5998-4f47-bec9-70884734b4d5",
   "metadata": {
    "tags": []
   },
   "outputs": [],
   "source": [
    " # removing NaN values\n",
    "\n",
    "treemap_df = treemap_df[-np.isnan(treemap_df.value)]"
   ]
  },
  {
   "cell_type": "code",
   "execution_count": 79,
   "id": "7b5e9e36-99f3-4750-90af-414dfa5994c5",
   "metadata": {
    "tags": []
   },
   "outputs": [
    {
     "data": {
      "text/html": [
       "<div>\n",
       "<style scoped>\n",
       "    .dataframe tbody tr th:only-of-type {\n",
       "        vertical-align: middle;\n",
       "    }\n",
       "\n",
       "    .dataframe tbody tr th {\n",
       "        vertical-align: top;\n",
       "    }\n",
       "\n",
       "    .dataframe thead th {\n",
       "        text-align: right;\n",
       "    }\n",
       "</style>\n",
       "<table border=\"1\" class=\"dataframe\">\n",
       "  <thead>\n",
       "    <tr style=\"text-align: right;\">\n",
       "      <th></th>\n",
       "      <th>Region</th>\n",
       "      <th>variable</th>\n",
       "      <th>People identified</th>\n",
       "    </tr>\n",
       "  </thead>\n",
       "  <tbody>\n",
       "    <tr>\n",
       "      <th>0</th>\n",
       "      <td>North East</td>\n",
       "      <td>No qualifications and Europe: United Kingdom</td>\n",
       "      <td>412439.0</td>\n",
       "    </tr>\n",
       "    <tr>\n",
       "      <th>1</th>\n",
       "      <td>North West</td>\n",
       "      <td>No qualifications and Europe: United Kingdom</td>\n",
       "      <td>1037644.0</td>\n",
       "    </tr>\n",
       "    <tr>\n",
       "      <th>2</th>\n",
       "      <td>Yorkshire and The Humber</td>\n",
       "      <td>No qualifications and Europe: United Kingdom</td>\n",
       "      <td>815228.0</td>\n",
       "    </tr>\n",
       "    <tr>\n",
       "      <th>3</th>\n",
       "      <td>East Midlands</td>\n",
       "      <td>No qualifications and Europe: United Kingdom</td>\n",
       "      <td>672066.0</td>\n",
       "    </tr>\n",
       "    <tr>\n",
       "      <th>4</th>\n",
       "      <td>West Midlands</td>\n",
       "      <td>No qualifications and Europe: United Kingdom</td>\n",
       "      <td>861329.0</td>\n",
       "    </tr>\n",
       "  </tbody>\n",
       "</table>\n",
       "</div>"
      ],
      "text/plain": [
       "                     Region                                      variable  \\\n",
       "0                North East  No qualifications and Europe: United Kingdom   \n",
       "1                North West  No qualifications and Europe: United Kingdom   \n",
       "2  Yorkshire and The Humber  No qualifications and Europe: United Kingdom   \n",
       "3             East Midlands  No qualifications and Europe: United Kingdom   \n",
       "4             West Midlands  No qualifications and Europe: United Kingdom   \n",
       "\n",
       "   People identified  \n",
       "0           412439.0  \n",
       "1          1037644.0  \n",
       "2           815228.0  \n",
       "3           672066.0  \n",
       "4           861329.0  "
      ]
     },
     "execution_count": 79,
     "metadata": {},
     "output_type": "execute_result"
    }
   ],
   "source": [
    "treemap_df.rename(columns={\"value\": \"People identified\"}, inplace=True)\n",
    "treemap_df.head()"
   ]
  },
  {
   "cell_type": "code",
   "execution_count": 82,
   "id": "6440dd32-ff13-4af6-8337-b733d5d72b5c",
   "metadata": {
    "tags": []
   },
   "outputs": [
    {
     "data": {
      "application/vnd.plotly.v1+json": {
       "config": {
        "plotlyServerURL": "https://plot.ly"
       },
       "data": [
        {
         "branchvalues": "total",
         "customdata": [
          [
           6187
          ],
          [
           5352
          ],
          [
           16168
          ],
          [
           1447
          ],
          [
           6153
          ],
          [
           9773
          ],
          [
           3868
          ],
          [
           1324
          ],
          [
           5633
          ],
          [
           4174
          ],
          [
           717
          ],
          [
           343
          ],
          [
           1661
          ],
          [
           162
          ],
          [
           478
          ],
          [
           1456
          ],
          [
           877
          ],
          [
           209
          ],
          [
           316
          ],
          [
           385
          ],
          [
           67
          ],
          [
           82
          ],
          [
           155
          ],
          [
           14
          ],
          [
           89
          ],
          [
           144
          ],
          [
           94
          ],
          [
           14
          ],
          [
           117
          ],
          [
           64
          ],
          [
           20782
          ],
          [
           15192
          ],
          [
           35348
          ],
          [
           3750
          ],
          [
           15898
          ],
          [
           26132
          ],
          [
           14396
          ],
          [
           4619
          ],
          [
           13855
          ],
          [
           12953
          ],
          [
           241797
          ],
          [
           206409
          ],
          [
           135128
          ],
          [
           134967
          ],
          [
           312617
          ],
          [
           325810
          ],
          [
           254661
          ],
          [
           133380
          ],
          [
           214789
          ],
          [
           242642
          ],
          [
           11115
          ],
          [
           10290
          ],
          [
           29649
          ],
          [
           3920
          ],
          [
           16603
          ],
          [
           18794
          ],
          [
           7141
          ],
          [
           3197
          ],
          [
           16264
          ],
          [
           12052
          ],
          [
           3489
          ],
          [
           1553
          ],
          [
           9510
          ],
          [
           501
          ],
          [
           2068
          ],
          [
           4647
          ],
          [
           2556
          ],
          [
           570
          ],
          [
           2207
          ],
          [
           1446
          ],
          [
           12085
          ],
          [
           9287
          ],
          [
           38732
          ],
          [
           2089
          ],
          [
           10137
          ],
          [
           18677
          ],
          [
           6355
          ],
          [
           2061
          ],
          [
           11008
          ],
          [
           6848
          ],
          [
           1401
          ],
          [
           595
          ],
          [
           3979
          ],
          [
           234
          ],
          [
           788
          ],
          [
           2783
          ],
          [
           1442
          ],
          [
           326
          ],
          [
           619
          ],
          [
           632
          ],
          [
           131
          ],
          [
           143
          ],
          [
           371
          ],
          [
           21
          ],
          [
           147
          ],
          [
           276
          ],
          [
           156
          ],
          [
           22
          ],
          [
           230
          ],
          [
           106
          ],
          [
           40589
          ],
          [
           26359
          ],
          [
           84677
          ],
          [
           5412
          ],
          [
           26192
          ],
          [
           49941
          ],
          [
           23655
          ],
          [
           7187
          ],
          [
           27074
          ],
          [
           21251
          ],
          [
           472245
          ],
          [
           358148
          ],
          [
           323700
          ],
          [
           194779
          ],
          [
           515053
          ],
          [
           622644
          ],
          [
           418426
          ],
          [
           207563
          ],
          [
           419686
          ],
          [
           398080
          ],
          [
           21709
          ],
          [
           17855
          ],
          [
           71026
          ],
          [
           5658
          ],
          [
           27355
          ],
          [
           35917
          ],
          [
           11734
          ],
          [
           4975
          ],
          [
           31780
          ],
          [
           19772
          ],
          [
           6814
          ],
          [
           2694
          ],
          [
           22782
          ],
          [
           723
          ],
          [
           3407
          ],
          [
           8881
          ],
          [
           4200
          ],
          [
           888
          ],
          [
           4312
          ],
          [
           2373
          ],
          [
           16170
          ],
          [
           12441
          ],
          [
           50257
          ],
          [
           3016
          ],
          [
           14241
          ],
          [
           26451
          ],
          [
           9251
          ],
          [
           3395
          ],
          [
           14834
          ],
          [
           9262
          ],
          [
           1875
          ],
          [
           798
          ],
          [
           5164
          ],
          [
           338
          ],
          [
           1108
          ],
          [
           3942
          ],
          [
           2099
          ],
          [
           537
          ],
          [
           834
          ],
          [
           856
          ],
          [
           175
          ],
          [
           191
          ],
          [
           481
          ],
          [
           31
          ],
          [
           207
          ],
          [
           392
          ],
          [
           227
          ],
          [
           37
          ],
          [
           310
          ],
          [
           143
          ],
          [
           54311
          ],
          [
           35311
          ],
          [
           109872
          ],
          [
           7813
          ],
          [
           36796
          ],
          [
           70729
          ],
          [
           34432
          ],
          [
           11839
          ],
          [
           36485
          ],
          [
           28743
          ],
          [
           631910
          ],
          [
           479775
          ],
          [
           420020
          ],
          [
           281233
          ],
          [
           723562
          ],
          [
           881836
          ],
          [
           609074
          ],
          [
           341892
          ],
          [
           565590
          ],
          [
           538435
          ],
          [
           29049
          ],
          [
           23918
          ],
          [
           92160
          ],
          [
           8169
          ],
          [
           38429
          ],
          [
           50869
          ],
          [
           17080
          ],
          [
           8195
          ],
          [
           42828
          ],
          [
           26744
          ],
          [
           9118
          ],
          [
           3609
          ],
          [
           29561
          ],
          [
           1045
          ],
          [
           4786
          ],
          [
           12578
          ],
          [
           6114
          ],
          [
           1463
          ],
          [
           5811
          ],
          [
           3210
          ],
          [
           18796
          ],
          [
           16364
          ],
          [
           66620
          ],
          [
           4044
          ],
          [
           18463
          ],
          [
           33192
          ],
          [
           11957
          ],
          [
           4072
          ],
          [
           18223
          ],
          [
           11850
          ],
          [
           2180
          ],
          [
           1049
          ],
          [
           6845
          ],
          [
           454
          ],
          [
           1436
          ],
          [
           4947
          ],
          [
           2712
          ],
          [
           644
          ],
          [
           1024
          ],
          [
           1095
          ],
          [
           203
          ],
          [
           252
          ],
          [
           638
          ],
          [
           41
          ],
          [
           269
          ],
          [
           491
          ],
          [
           293
          ],
          [
           44
          ],
          [
           381
          ],
          [
           183
          ],
          [
           63128
          ],
          [
           46445
          ],
          [
           145645
          ],
          [
           10474
          ],
          [
           47704
          ],
          [
           88752
          ],
          [
           44499
          ],
          [
           14201
          ],
          [
           44818
          ],
          [
           36773
          ],
          [
           734490
          ],
          [
           631051
          ],
          [
           556772
          ],
          [
           377047
          ],
          [
           938049
          ],
          [
           1106551
          ],
          [
           787166
          ],
          [
           410103
          ],
          [
           694775
          ],
          [
           688845
          ],
          [
           33765
          ],
          [
           31460
          ],
          [
           122167
          ],
          [
           10953
          ],
          [
           49821
          ],
          [
           63831
          ],
          [
           22074
          ],
          [
           9831
          ],
          [
           52610
          ],
          [
           34215
          ],
          [
           10598
          ],
          [
           4748
          ],
          [
           39185
          ],
          [
           1401
          ],
          [
           6205
          ],
          [
           15784
          ],
          [
           7902
          ],
          [
           1755
          ],
          [
           7139
          ],
          [
           4107
          ],
          [
           35393
          ],
          [
           26039
          ],
          [
           235604
          ],
          [
           6224
          ],
          [
           32687
          ],
          [
           68279
          ],
          [
           21371
          ],
          [
           7456
          ],
          [
           31457
          ],
          [
           20060
          ],
          [
           4105
          ],
          [
           1670
          ],
          [
           24209
          ],
          [
           699
          ],
          [
           2543
          ],
          [
           10177
          ],
          [
           4848
          ],
          [
           1179
          ],
          [
           1768
          ],
          [
           1854
          ],
          [
           383
          ],
          [
           401
          ],
          [
           2259
          ],
          [
           64
          ],
          [
           476
          ],
          [
           1012
          ],
          [
           524
          ],
          [
           82
          ],
          [
           657
          ],
          [
           310
          ],
          [
           118872
          ],
          [
           73905
          ],
          [
           515080
          ],
          [
           16121
          ],
          [
           84453
          ],
          [
           182569
          ],
          [
           79535
          ],
          [
           26000
          ],
          [
           77367
          ],
          [
           62251
          ],
          [
           1383081
          ],
          [
           1004151
          ],
          [
           1969046
          ],
          [
           580295
          ],
          [
           1660699
          ],
          [
           2276236
          ],
          [
           1406915
          ],
          [
           750842
          ],
          [
           1199330
          ],
          [
           1166105
          ],
          [
           63581
          ],
          [
           50060
          ],
          [
           432048
          ],
          [
           16857
          ],
          [
           88202
          ],
          [
           131305
          ],
          [
           39454
          ],
          [
           17999
          ],
          [
           90817
          ],
          [
           57920
          ],
          [
           19957
          ],
          [
           7555
          ],
          [
           138581
          ],
          [
           2156
          ],
          [
           10986
          ],
          [
           32468
          ],
          [
           14124
          ],
          [
           3213
          ],
          [
           12323
          ],
          [
           6952
          ],
          [
           20299
          ],
          [
           17427
          ],
          [
           81776
          ],
          [
           4424
          ],
          [
           20423
          ],
          [
           29368
          ],
          [
           10109
          ],
          [
           4710
          ],
          [
           22591
          ],
          [
           14024
          ],
          [
           2354
          ],
          [
           1118
          ],
          [
           8402
          ],
          [
           496
          ],
          [
           1589
          ],
          [
           4377
          ],
          [
           2293
          ],
          [
           745
          ],
          [
           1270
          ],
          [
           1296
          ],
          [
           220
          ],
          [
           268
          ],
          [
           784
          ],
          [
           45
          ],
          [
           297
          ],
          [
           435
          ],
          [
           248
          ],
          [
           51
          ],
          [
           472
          ],
          [
           217
          ],
          [
           68177
          ],
          [
           49463
          ],
          [
           178781
          ],
          [
           11458
          ],
          [
           52768
          ],
          [
           78528
          ],
          [
           37625
          ],
          [
           16426
          ],
          [
           55562
          ],
          [
           43520
          ],
          [
           793244
          ],
          [
           672066
          ],
          [
           683443
          ],
          [
           412439
          ],
          [
           1037644
          ],
          [
           979068
          ],
          [
           665559
          ],
          [
           474347
          ],
          [
           861329
          ],
          [
           815228
          ],
          [
           36466
          ],
          [
           33505
          ],
          [
           149961
          ],
          [
           11981
          ],
          [
           55111
          ],
          [
           56478
          ],
          [
           18664
          ],
          [
           11371
          ],
          [
           65223
          ],
          [
           40492
          ],
          [
           11446
          ],
          [
           5056
          ],
          [
           48100
          ],
          [
           1532
          ],
          [
           6864
          ],
          [
           13965
          ],
          [
           6681
          ],
          [
           2030
          ],
          [
           8850
          ],
          [
           4860
          ],
          [
           3174
          ],
          [
           2542
          ],
          [
           15458
          ],
          [
           544
          ],
          [
           2656
          ],
          [
           5156
          ],
          [
           1683
          ],
          [
           634
          ],
          [
           3087
          ],
          [
           1798
          ],
          [
           368
          ],
          [
           163
          ],
          [
           1588
          ],
          [
           61
          ],
          [
           206
          ],
          [
           768
          ],
          [
           381
          ],
          [
           100
          ],
          [
           173
          ],
          [
           166
          ],
          [
           34
          ],
          [
           39
          ],
          [
           148
          ],
          [
           5
          ],
          [
           38
          ],
          [
           76
          ],
          [
           41
          ],
          [
           6
          ],
          [
           64
          ],
          [
           27
          ],
          [
           10662
          ],
          [
           7216
          ],
          [
           33795
          ],
          [
           1409
          ],
          [
           6864
          ],
          [
           13789
          ],
          [
           6266
          ],
          [
           2211
          ],
          [
           7593
          ],
          [
           5582
          ],
          [
           124057
          ],
          [
           98044
          ],
          [
           129192
          ],
          [
           50730
          ],
          [
           134983
          ],
          [
           171917
          ],
          [
           110835
          ],
          [
           63851
          ],
          [
           117699
          ],
          [
           104561
          ],
          [
           5703
          ],
          [
           4887
          ],
          [
           28347
          ],
          [
           1473
          ],
          [
           7169
          ],
          [
           9917
          ],
          [
           3108
          ],
          [
           1530
          ],
          [
           8912
          ],
          [
           5193
          ],
          [
           1790
          ],
          [
           737
          ],
          [
           9092
          ],
          [
           188
          ],
          [
           892
          ],
          [
           2452
          ],
          [
           1112
          ],
          [
           273
          ],
          [
           1209
          ],
          [
           623
          ],
          [
           741413.3674820745
          ],
          [
           572402.1083124522
          ],
          [
           794814.2665495209
          ],
          [
           361739.17443000874
          ],
          [
           938021.6063524513
          ],
          [
           1159514.4288975135
          ],
          [
           777279.094190295
          ],
          [
           445787.7932416946
          ],
          [
           677612.3052005653
          ],
          [
           680258.6069379532
          ]
         ],
         "domain": {
          "x": [
           0,
           1
          ],
          "y": [
           0,
           1
          ]
         },
         "hovertemplate": "labels=%{label}<br>People identified_sum=%{value}<br>parent=%{parent}<br>id=%{id}<br>People identified=%{color}<extra></extra>",
         "ids": [
          "East/Apprenticeship and Africa",
          "East Midlands/Apprenticeship and Africa",
          "London/Apprenticeship and Africa",
          "North East/Apprenticeship and Africa",
          "North West/Apprenticeship and Africa",
          "South East/Apprenticeship and Africa",
          "South West/Apprenticeship and Africa",
          "Wales/Apprenticeship and Africa",
          "West Midlands/Apprenticeship and Africa",
          "Yorkshire and The Humber/Apprenticeship and Africa",
          "East/Apprenticeship and Antarctica and Oceania (including Australasia) and Other",
          "East Midlands/Apprenticeship and Antarctica and Oceania (including Australasia) and Other",
          "London/Apprenticeship and Antarctica and Oceania (including Australasia) and Other",
          "North East/Apprenticeship and Antarctica and Oceania (including Australasia) and Other",
          "North West/Apprenticeship and Antarctica and Oceania (including Australasia) and Other",
          "South East/Apprenticeship and Antarctica and Oceania (including Australasia) and Other",
          "South West/Apprenticeship and Antarctica and Oceania (including Australasia) and Other",
          "Wales/Apprenticeship and Antarctica and Oceania (including Australasia) and Other",
          "West Midlands/Apprenticeship and Antarctica and Oceania (including Australasia) and Other",
          "Yorkshire and The Humber/Apprenticeship and Antarctica and Oceania (including Australasia) and Other",
          "East/Apprenticeship and British Overseas",
          "East Midlands/Apprenticeship and British Overseas",
          "London/Apprenticeship and British Overseas",
          "North East/Apprenticeship and British Overseas",
          "North West/Apprenticeship and British Overseas",
          "South East/Apprenticeship and British Overseas",
          "South West/Apprenticeship and British Overseas",
          "Wales/Apprenticeship and British Overseas",
          "West Midlands/Apprenticeship and British Overseas",
          "Yorkshire and The Humber/Apprenticeship and British Overseas",
          "East/Apprenticeship and EU",
          "East Midlands/Apprenticeship and EU",
          "London/Apprenticeship and EU",
          "North East/Apprenticeship and EU",
          "North West/Apprenticeship and EU",
          "South East/Apprenticeship and EU",
          "South West/Apprenticeship and EU",
          "Wales/Apprenticeship and EU",
          "West Midlands/Apprenticeship and EU",
          "Yorkshire and The Humber/Apprenticeship and EU",
          "East/Apprenticeship and Europe: United Kingdom",
          "East Midlands/Apprenticeship and Europe: United Kingdom",
          "London/Apprenticeship and Europe: United Kingdom",
          "North East/Apprenticeship and Europe: United Kingdom",
          "North West/Apprenticeship and Europe: United Kingdom",
          "South East/Apprenticeship and Europe: United Kingdom",
          "South West/Apprenticeship and Europe: United Kingdom",
          "Wales/Apprenticeship and Europe: United Kingdom",
          "West Midlands/Apprenticeship and Europe: United Kingdom",
          "Yorkshire and The Humber/Apprenticeship and Europe: United Kingdom",
          "East/Apprenticeship and Middle East and Asia",
          "East Midlands/Apprenticeship and Middle East and Asia",
          "London/Apprenticeship and Middle East and Asia",
          "North East/Apprenticeship and Middle East and Asia",
          "North West/Apprenticeship and Middle East and Asia",
          "South East/Apprenticeship and Middle East and Asia",
          "South West/Apprenticeship and Middle East and Asia",
          "Wales/Apprenticeship and Middle East and Asia",
          "West Midlands/Apprenticeship and Middle East and Asia",
          "Yorkshire and The Humber/Apprenticeship and Middle East and Asia",
          "East/Apprenticeship and The Americas and the Caribbean",
          "East Midlands/Apprenticeship and The Americas and the Caribbean",
          "London/Apprenticeship and The Americas and the Caribbean",
          "North East/Apprenticeship and The Americas and the Caribbean",
          "North West/Apprenticeship and The Americas and the Caribbean",
          "South East/Apprenticeship and The Americas and the Caribbean",
          "South West/Apprenticeship and The Americas and the Caribbean",
          "Wales/Apprenticeship and The Americas and the Caribbean",
          "West Midlands/Apprenticeship and The Americas and the Caribbean",
          "Yorkshire and The Humber/Apprenticeship and The Americas and the Caribbean",
          "East/Level 1 and entry level qualifications and Africa",
          "East Midlands/Level 1 and entry level qualifications and Africa",
          "London/Level 1 and entry level qualifications and Africa",
          "North East/Level 1 and entry level qualifications and Africa",
          "North West/Level 1 and entry level qualifications and Africa",
          "South East/Level 1 and entry level qualifications and Africa",
          "South West/Level 1 and entry level qualifications and Africa",
          "Wales/Level 1 and entry level qualifications and Africa",
          "West Midlands/Level 1 and entry level qualifications and Africa",
          "Yorkshire and The Humber/Level 1 and entry level qualifications and Africa",
          "East/Level 1 and entry level qualifications and Antarctica and Oceania (including Australasia) and Other",
          "East Midlands/Level 1 and entry level qualifications and Antarctica and Oceania (including Australasia) and Other",
          "London/Level 1 and entry level qualifications and Antarctica and Oceania (including Australasia) and Other",
          "North East/Level 1 and entry level qualifications and Antarctica and Oceania (including Australasia) and Other",
          "North West/Level 1 and entry level qualifications and Antarctica and Oceania (including Australasia) and Other",
          "South East/Level 1 and entry level qualifications and Antarctica and Oceania (including Australasia) and Other",
          "South West/Level 1 and entry level qualifications and Antarctica and Oceania (including Australasia) and Other",
          "Wales/Level 1 and entry level qualifications and Antarctica and Oceania (including Australasia) and Other",
          "West Midlands/Level 1 and entry level qualifications and Antarctica and Oceania (including Australasia) and Other",
          "Yorkshire and The Humber/Level 1 and entry level qualifications and Antarctica and Oceania (including Australasia) and Other",
          "East/Level 1 and entry level qualifications and British Overseas",
          "East Midlands/Level 1 and entry level qualifications and British Overseas",
          "London/Level 1 and entry level qualifications and British Overseas",
          "North East/Level 1 and entry level qualifications and British Overseas",
          "North West/Level 1 and entry level qualifications and British Overseas",
          "South East/Level 1 and entry level qualifications and British Overseas",
          "South West/Level 1 and entry level qualifications and British Overseas",
          "Wales/Level 1 and entry level qualifications and British Overseas",
          "West Midlands/Level 1 and entry level qualifications and British Overseas",
          "Yorkshire and The Humber/Level 1 and entry level qualifications and British Overseas",
          "East/Level 1 and entry level qualifications and EU",
          "East Midlands/Level 1 and entry level qualifications and EU",
          "London/Level 1 and entry level qualifications and EU",
          "North East/Level 1 and entry level qualifications and EU",
          "North West/Level 1 and entry level qualifications and EU",
          "South East/Level 1 and entry level qualifications and EU",
          "South West/Level 1 and entry level qualifications and EU",
          "Wales/Level 1 and entry level qualifications and EU",
          "West Midlands/Level 1 and entry level qualifications and EU",
          "Yorkshire and The Humber/Level 1 and entry level qualifications and EU",
          "East/Level 1 and entry level qualifications and Europe: United Kingdom",
          "East Midlands/Level 1 and entry level qualifications and Europe: United Kingdom",
          "London/Level 1 and entry level qualifications and Europe: United Kingdom",
          "North East/Level 1 and entry level qualifications and Europe: United Kingdom",
          "North West/Level 1 and entry level qualifications and Europe: United Kingdom",
          "South East/Level 1 and entry level qualifications and Europe: United Kingdom",
          "South West/Level 1 and entry level qualifications and Europe: United Kingdom",
          "Wales/Level 1 and entry level qualifications and Europe: United Kingdom",
          "West Midlands/Level 1 and entry level qualifications and Europe: United Kingdom",
          "Yorkshire and The Humber/Level 1 and entry level qualifications and Europe: United Kingdom",
          "East/Level 1 and entry level qualifications and Middle East and Asia",
          "East Midlands/Level 1 and entry level qualifications and Middle East and Asia",
          "London/Level 1 and entry level qualifications and Middle East and Asia",
          "North East/Level 1 and entry level qualifications and Middle East and Asia",
          "North West/Level 1 and entry level qualifications and Middle East and Asia",
          "South East/Level 1 and entry level qualifications and Middle East and Asia",
          "South West/Level 1 and entry level qualifications and Middle East and Asia",
          "Wales/Level 1 and entry level qualifications and Middle East and Asia",
          "West Midlands/Level 1 and entry level qualifications and Middle East and Asia",
          "Yorkshire and The Humber/Level 1 and entry level qualifications and Middle East and Asia",
          "East/Level 1 and entry level qualifications and The Americas and the Caribbean",
          "East Midlands/Level 1 and entry level qualifications and The Americas and the Caribbean",
          "London/Level 1 and entry level qualifications and The Americas and the Caribbean",
          "North East/Level 1 and entry level qualifications and The Americas and the Caribbean",
          "North West/Level 1 and entry level qualifications and The Americas and the Caribbean",
          "South East/Level 1 and entry level qualifications and The Americas and the Caribbean",
          "South West/Level 1 and entry level qualifications and The Americas and the Caribbean",
          "Wales/Level 1 and entry level qualifications and The Americas and the Caribbean",
          "West Midlands/Level 1 and entry level qualifications and The Americas and the Caribbean",
          "Yorkshire and The Humber/Level 1 and entry level qualifications and The Americas and the Caribbean",
          "East/Level 2 qualifications and Africa",
          "East Midlands/Level 2 qualifications and Africa",
          "London/Level 2 qualifications and Africa",
          "North East/Level 2 qualifications and Africa",
          "North West/Level 2 qualifications and Africa",
          "South East/Level 2 qualifications and Africa",
          "South West/Level 2 qualifications and Africa",
          "Wales/Level 2 qualifications and Africa",
          "West Midlands/Level 2 qualifications and Africa",
          "Yorkshire and The Humber/Level 2 qualifications and Africa",
          "East/Level 2 qualifications and Antarctica and Oceania (including Australasia) and Other",
          "East Midlands/Level 2 qualifications and Antarctica and Oceania (including Australasia) and Other",
          "London/Level 2 qualifications and Antarctica and Oceania (including Australasia) and Other",
          "North East/Level 2 qualifications and Antarctica and Oceania (including Australasia) and Other",
          "North West/Level 2 qualifications and Antarctica and Oceania (including Australasia) and Other",
          "South East/Level 2 qualifications and Antarctica and Oceania (including Australasia) and Other",
          "South West/Level 2 qualifications and Antarctica and Oceania (including Australasia) and Other",
          "Wales/Level 2 qualifications and Antarctica and Oceania (including Australasia) and Other",
          "West Midlands/Level 2 qualifications and Antarctica and Oceania (including Australasia) and Other",
          "Yorkshire and The Humber/Level 2 qualifications and Antarctica and Oceania (including Australasia) and Other",
          "East/Level 2 qualifications and British Overseas",
          "East Midlands/Level 2 qualifications and British Overseas",
          "London/Level 2 qualifications and British Overseas",
          "North East/Level 2 qualifications and British Overseas",
          "North West/Level 2 qualifications and British Overseas",
          "South East/Level 2 qualifications and British Overseas",
          "South West/Level 2 qualifications and British Overseas",
          "Wales/Level 2 qualifications and British Overseas",
          "West Midlands/Level 2 qualifications and British Overseas",
          "Yorkshire and The Humber/Level 2 qualifications and British Overseas",
          "East/Level 2 qualifications and EU",
          "East Midlands/Level 2 qualifications and EU",
          "London/Level 2 qualifications and EU",
          "North East/Level 2 qualifications and EU",
          "North West/Level 2 qualifications and EU",
          "South East/Level 2 qualifications and EU",
          "South West/Level 2 qualifications and EU",
          "Wales/Level 2 qualifications and EU",
          "West Midlands/Level 2 qualifications and EU",
          "Yorkshire and The Humber/Level 2 qualifications and EU",
          "East/Level 2 qualifications and Europe: United Kingdom",
          "East Midlands/Level 2 qualifications and Europe: United Kingdom",
          "London/Level 2 qualifications and Europe: United Kingdom",
          "North East/Level 2 qualifications and Europe: United Kingdom",
          "North West/Level 2 qualifications and Europe: United Kingdom",
          "South East/Level 2 qualifications and Europe: United Kingdom",
          "South West/Level 2 qualifications and Europe: United Kingdom",
          "Wales/Level 2 qualifications and Europe: United Kingdom",
          "West Midlands/Level 2 qualifications and Europe: United Kingdom",
          "Yorkshire and The Humber/Level 2 qualifications and Europe: United Kingdom",
          "East/Level 2 qualifications and Middle East and Asia",
          "East Midlands/Level 2 qualifications and Middle East and Asia",
          "London/Level 2 qualifications and Middle East and Asia",
          "North East/Level 2 qualifications and Middle East and Asia",
          "North West/Level 2 qualifications and Middle East and Asia",
          "South East/Level 2 qualifications and Middle East and Asia",
          "South West/Level 2 qualifications and Middle East and Asia",
          "Wales/Level 2 qualifications and Middle East and Asia",
          "West Midlands/Level 2 qualifications and Middle East and Asia",
          "Yorkshire and The Humber/Level 2 qualifications and Middle East and Asia",
          "East/Level 2 qualifications and The Americas and the Caribbean",
          "East Midlands/Level 2 qualifications and The Americas and the Caribbean",
          "London/Level 2 qualifications and The Americas and the Caribbean",
          "North East/Level 2 qualifications and The Americas and the Caribbean",
          "North West/Level 2 qualifications and The Americas and the Caribbean",
          "South East/Level 2 qualifications and The Americas and the Caribbean",
          "South West/Level 2 qualifications and The Americas and the Caribbean",
          "Wales/Level 2 qualifications and The Americas and the Caribbean",
          "West Midlands/Level 2 qualifications and The Americas and the Caribbean",
          "Yorkshire and The Humber/Level 2 qualifications and The Americas and the Caribbean",
          "East/Level 3 qualifications and Africa",
          "East Midlands/Level 3 qualifications and Africa",
          "London/Level 3 qualifications and Africa",
          "North East/Level 3 qualifications and Africa",
          "North West/Level 3 qualifications and Africa",
          "South East/Level 3 qualifications and Africa",
          "South West/Level 3 qualifications and Africa",
          "Wales/Level 3 qualifications and Africa",
          "West Midlands/Level 3 qualifications and Africa",
          "Yorkshire and The Humber/Level 3 qualifications and Africa",
          "East/Level 3 qualifications and Antarctica and Oceania (including Australasia) and Other",
          "East Midlands/Level 3 qualifications and Antarctica and Oceania (including Australasia) and Other",
          "London/Level 3 qualifications and Antarctica and Oceania (including Australasia) and Other",
          "North East/Level 3 qualifications and Antarctica and Oceania (including Australasia) and Other",
          "North West/Level 3 qualifications and Antarctica and Oceania (including Australasia) and Other",
          "South East/Level 3 qualifications and Antarctica and Oceania (including Australasia) and Other",
          "South West/Level 3 qualifications and Antarctica and Oceania (including Australasia) and Other",
          "Wales/Level 3 qualifications and Antarctica and Oceania (including Australasia) and Other",
          "West Midlands/Level 3 qualifications and Antarctica and Oceania (including Australasia) and Other",
          "Yorkshire and The Humber/Level 3 qualifications and Antarctica and Oceania (including Australasia) and Other",
          "East/Level 3 qualifications and British Overseas",
          "East Midlands/Level 3 qualifications and British Overseas",
          "London/Level 3 qualifications and British Overseas",
          "North East/Level 3 qualifications and British Overseas",
          "North West/Level 3 qualifications and British Overseas",
          "South East/Level 3 qualifications and British Overseas",
          "South West/Level 3 qualifications and British Overseas",
          "Wales/Level 3 qualifications and British Overseas",
          "West Midlands/Level 3 qualifications and British Overseas",
          "Yorkshire and The Humber/Level 3 qualifications and British Overseas",
          "East/Level 3 qualifications and EU",
          "East Midlands/Level 3 qualifications and EU",
          "London/Level 3 qualifications and EU",
          "North East/Level 3 qualifications and EU",
          "North West/Level 3 qualifications and EU",
          "South East/Level 3 qualifications and EU",
          "South West/Level 3 qualifications and EU",
          "Wales/Level 3 qualifications and EU",
          "West Midlands/Level 3 qualifications and EU",
          "Yorkshire and The Humber/Level 3 qualifications and EU",
          "East/Level 3 qualifications and Europe: United Kingdom",
          "East Midlands/Level 3 qualifications and Europe: United Kingdom",
          "London/Level 3 qualifications and Europe: United Kingdom",
          "North East/Level 3 qualifications and Europe: United Kingdom",
          "North West/Level 3 qualifications and Europe: United Kingdom",
          "South East/Level 3 qualifications and Europe: United Kingdom",
          "South West/Level 3 qualifications and Europe: United Kingdom",
          "Wales/Level 3 qualifications and Europe: United Kingdom",
          "West Midlands/Level 3 qualifications and Europe: United Kingdom",
          "Yorkshire and The Humber/Level 3 qualifications and Europe: United Kingdom",
          "East/Level 3 qualifications and Middle East and Asia",
          "East Midlands/Level 3 qualifications and Middle East and Asia",
          "London/Level 3 qualifications and Middle East and Asia",
          "North East/Level 3 qualifications and Middle East and Asia",
          "North West/Level 3 qualifications and Middle East and Asia",
          "South East/Level 3 qualifications and Middle East and Asia",
          "South West/Level 3 qualifications and Middle East and Asia",
          "Wales/Level 3 qualifications and Middle East and Asia",
          "West Midlands/Level 3 qualifications and Middle East and Asia",
          "Yorkshire and The Humber/Level 3 qualifications and Middle East and Asia",
          "East/Level 3 qualifications and The Americas and the Caribbean",
          "East Midlands/Level 3 qualifications and The Americas and the Caribbean",
          "London/Level 3 qualifications and The Americas and the Caribbean",
          "North East/Level 3 qualifications and The Americas and the Caribbean",
          "North West/Level 3 qualifications and The Americas and the Caribbean",
          "South East/Level 3 qualifications and The Americas and the Caribbean",
          "South West/Level 3 qualifications and The Americas and the Caribbean",
          "Wales/Level 3 qualifications and The Americas and the Caribbean",
          "West Midlands/Level 3 qualifications and The Americas and the Caribbean",
          "Yorkshire and The Humber/Level 3 qualifications and The Americas and the Caribbean",
          "East/Level 4 qualifications and above and Africa",
          "East Midlands/Level 4 qualifications and above and Africa",
          "London/Level 4 qualifications and above and Africa",
          "North East/Level 4 qualifications and above and Africa",
          "North West/Level 4 qualifications and above and Africa",
          "South East/Level 4 qualifications and above and Africa",
          "South West/Level 4 qualifications and above and Africa",
          "Wales/Level 4 qualifications and above and Africa",
          "West Midlands/Level 4 qualifications and above and Africa",
          "Yorkshire and The Humber/Level 4 qualifications and above and Africa",
          "East/Level 4 qualifications and above and Antarctica and Oceania (including Australasia) and Other",
          "East Midlands/Level 4 qualifications and above and Antarctica and Oceania (including Australasia) and Other",
          "London/Level 4 qualifications and above and Antarctica and Oceania (including Australasia) and Other",
          "North East/Level 4 qualifications and above and Antarctica and Oceania (including Australasia) and Other",
          "North West/Level 4 qualifications and above and Antarctica and Oceania (including Australasia) and Other",
          "South East/Level 4 qualifications and above and Antarctica and Oceania (including Australasia) and Other",
          "South West/Level 4 qualifications and above and Antarctica and Oceania (including Australasia) and Other",
          "Wales/Level 4 qualifications and above and Antarctica and Oceania (including Australasia) and Other",
          "West Midlands/Level 4 qualifications and above and Antarctica and Oceania (including Australasia) and Other",
          "Yorkshire and The Humber/Level 4 qualifications and above and Antarctica and Oceania (including Australasia) and Other",
          "East/Level 4 qualifications and above and British Overseas",
          "East Midlands/Level 4 qualifications and above and British Overseas",
          "London/Level 4 qualifications and above and British Overseas",
          "North East/Level 4 qualifications and above and British Overseas",
          "North West/Level 4 qualifications and above and British Overseas",
          "South East/Level 4 qualifications and above and British Overseas",
          "South West/Level 4 qualifications and above and British Overseas",
          "Wales/Level 4 qualifications and above and British Overseas",
          "West Midlands/Level 4 qualifications and above and British Overseas",
          "Yorkshire and The Humber/Level 4 qualifications and above and British Overseas",
          "East/Level 4 qualifications and above and EU",
          "East Midlands/Level 4 qualifications and above and EU",
          "London/Level 4 qualifications and above and EU",
          "North East/Level 4 qualifications and above and EU",
          "North West/Level 4 qualifications and above and EU",
          "South East/Level 4 qualifications and above and EU",
          "South West/Level 4 qualifications and above and EU",
          "Wales/Level 4 qualifications and above and EU",
          "West Midlands/Level 4 qualifications and above and EU",
          "Yorkshire and The Humber/Level 4 qualifications and above and EU",
          "East/Level 4 qualifications and above and Europe: United Kingdom",
          "East Midlands/Level 4 qualifications and above and Europe: United Kingdom",
          "London/Level 4 qualifications and above and Europe: United Kingdom",
          "North East/Level 4 qualifications and above and Europe: United Kingdom",
          "North West/Level 4 qualifications and above and Europe: United Kingdom",
          "South East/Level 4 qualifications and above and Europe: United Kingdom",
          "South West/Level 4 qualifications and above and Europe: United Kingdom",
          "Wales/Level 4 qualifications and above and Europe: United Kingdom",
          "West Midlands/Level 4 qualifications and above and Europe: United Kingdom",
          "Yorkshire and The Humber/Level 4 qualifications and above and Europe: United Kingdom",
          "East/Level 4 qualifications and above and Middle East and Asia",
          "East Midlands/Level 4 qualifications and above and Middle East and Asia",
          "London/Level 4 qualifications and above and Middle East and Asia",
          "North East/Level 4 qualifications and above and Middle East and Asia",
          "North West/Level 4 qualifications and above and Middle East and Asia",
          "South East/Level 4 qualifications and above and Middle East and Asia",
          "South West/Level 4 qualifications and above and Middle East and Asia",
          "Wales/Level 4 qualifications and above and Middle East and Asia",
          "West Midlands/Level 4 qualifications and above and Middle East and Asia",
          "Yorkshire and The Humber/Level 4 qualifications and above and Middle East and Asia",
          "East/Level 4 qualifications and above and The Americas and the Caribbean",
          "East Midlands/Level 4 qualifications and above and The Americas and the Caribbean",
          "London/Level 4 qualifications and above and The Americas and the Caribbean",
          "North East/Level 4 qualifications and above and The Americas and the Caribbean",
          "North West/Level 4 qualifications and above and The Americas and the Caribbean",
          "South East/Level 4 qualifications and above and The Americas and the Caribbean",
          "South West/Level 4 qualifications and above and The Americas and the Caribbean",
          "Wales/Level 4 qualifications and above and The Americas and the Caribbean",
          "West Midlands/Level 4 qualifications and above and The Americas and the Caribbean",
          "Yorkshire and The Humber/Level 4 qualifications and above and The Americas and the Caribbean",
          "East/No qualifications and Africa",
          "East Midlands/No qualifications and Africa",
          "London/No qualifications and Africa",
          "North East/No qualifications and Africa",
          "North West/No qualifications and Africa",
          "South East/No qualifications and Africa",
          "South West/No qualifications and Africa",
          "Wales/No qualifications and Africa",
          "West Midlands/No qualifications and Africa",
          "Yorkshire and The Humber/No qualifications and Africa",
          "East/No qualifications and Antarctica and Oceania (including Australasia) and Other",
          "East Midlands/No qualifications and Antarctica and Oceania (including Australasia) and Other",
          "London/No qualifications and Antarctica and Oceania (including Australasia) and Other",
          "North East/No qualifications and Antarctica and Oceania (including Australasia) and Other",
          "North West/No qualifications and Antarctica and Oceania (including Australasia) and Other",
          "South East/No qualifications and Antarctica and Oceania (including Australasia) and Other",
          "South West/No qualifications and Antarctica and Oceania (including Australasia) and Other",
          "Wales/No qualifications and Antarctica and Oceania (including Australasia) and Other",
          "West Midlands/No qualifications and Antarctica and Oceania (including Australasia) and Other",
          "Yorkshire and The Humber/No qualifications and Antarctica and Oceania (including Australasia) and Other",
          "East/No qualifications and British Overseas",
          "East Midlands/No qualifications and British Overseas",
          "London/No qualifications and British Overseas",
          "North East/No qualifications and British Overseas",
          "North West/No qualifications and British Overseas",
          "South East/No qualifications and British Overseas",
          "South West/No qualifications and British Overseas",
          "Wales/No qualifications and British Overseas",
          "West Midlands/No qualifications and British Overseas",
          "Yorkshire and The Humber/No qualifications and British Overseas",
          "East/No qualifications and EU",
          "East Midlands/No qualifications and EU",
          "London/No qualifications and EU",
          "North East/No qualifications and EU",
          "North West/No qualifications and EU",
          "South East/No qualifications and EU",
          "South West/No qualifications and EU",
          "Wales/No qualifications and EU",
          "West Midlands/No qualifications and EU",
          "Yorkshire and The Humber/No qualifications and EU",
          "East/No qualifications and Europe: United Kingdom",
          "East Midlands/No qualifications and Europe: United Kingdom",
          "London/No qualifications and Europe: United Kingdom",
          "North East/No qualifications and Europe: United Kingdom",
          "North West/No qualifications and Europe: United Kingdom",
          "South East/No qualifications and Europe: United Kingdom",
          "South West/No qualifications and Europe: United Kingdom",
          "Wales/No qualifications and Europe: United Kingdom",
          "West Midlands/No qualifications and Europe: United Kingdom",
          "Yorkshire and The Humber/No qualifications and Europe: United Kingdom",
          "East/No qualifications and Middle East and Asia",
          "East Midlands/No qualifications and Middle East and Asia",
          "London/No qualifications and Middle East and Asia",
          "North East/No qualifications and Middle East and Asia",
          "North West/No qualifications and Middle East and Asia",
          "South East/No qualifications and Middle East and Asia",
          "South West/No qualifications and Middle East and Asia",
          "Wales/No qualifications and Middle East and Asia",
          "West Midlands/No qualifications and Middle East and Asia",
          "Yorkshire and The Humber/No qualifications and Middle East and Asia",
          "East/No qualifications and The Americas and the Caribbean",
          "East Midlands/No qualifications and The Americas and the Caribbean",
          "London/No qualifications and The Americas and the Caribbean",
          "North East/No qualifications and The Americas and the Caribbean",
          "North West/No qualifications and The Americas and the Caribbean",
          "South East/No qualifications and The Americas and the Caribbean",
          "South West/No qualifications and The Americas and the Caribbean",
          "Wales/No qualifications and The Americas and the Caribbean",
          "West Midlands/No qualifications and The Americas and the Caribbean",
          "Yorkshire and The Humber/No qualifications and The Americas and the Caribbean",
          "East/Other qualifications and Africa",
          "East Midlands/Other qualifications and Africa",
          "London/Other qualifications and Africa",
          "North East/Other qualifications and Africa",
          "North West/Other qualifications and Africa",
          "South East/Other qualifications and Africa",
          "South West/Other qualifications and Africa",
          "Wales/Other qualifications and Africa",
          "West Midlands/Other qualifications and Africa",
          "Yorkshire and The Humber/Other qualifications and Africa",
          "East/Other qualifications and Antarctica and Oceania (including Australasia) and Other",
          "East Midlands/Other qualifications and Antarctica and Oceania (including Australasia) and Other",
          "London/Other qualifications and Antarctica and Oceania (including Australasia) and Other",
          "North East/Other qualifications and Antarctica and Oceania (including Australasia) and Other",
          "North West/Other qualifications and Antarctica and Oceania (including Australasia) and Other",
          "South East/Other qualifications and Antarctica and Oceania (including Australasia) and Other",
          "South West/Other qualifications and Antarctica and Oceania (including Australasia) and Other",
          "Wales/Other qualifications and Antarctica and Oceania (including Australasia) and Other",
          "West Midlands/Other qualifications and Antarctica and Oceania (including Australasia) and Other",
          "Yorkshire and The Humber/Other qualifications and Antarctica and Oceania (including Australasia) and Other",
          "East/Other qualifications and British Overseas",
          "East Midlands/Other qualifications and British Overseas",
          "London/Other qualifications and British Overseas",
          "North East/Other qualifications and British Overseas",
          "North West/Other qualifications and British Overseas",
          "South East/Other qualifications and British Overseas",
          "South West/Other qualifications and British Overseas",
          "Wales/Other qualifications and British Overseas",
          "West Midlands/Other qualifications and British Overseas",
          "Yorkshire and The Humber/Other qualifications and British Overseas",
          "East/Other qualifications and EU",
          "East Midlands/Other qualifications and EU",
          "London/Other qualifications and EU",
          "North East/Other qualifications and EU",
          "North West/Other qualifications and EU",
          "South East/Other qualifications and EU",
          "South West/Other qualifications and EU",
          "Wales/Other qualifications and EU",
          "West Midlands/Other qualifications and EU",
          "Yorkshire and The Humber/Other qualifications and EU",
          "East/Other qualifications and Europe: United Kingdom",
          "East Midlands/Other qualifications and Europe: United Kingdom",
          "London/Other qualifications and Europe: United Kingdom",
          "North East/Other qualifications and Europe: United Kingdom",
          "North West/Other qualifications and Europe: United Kingdom",
          "South East/Other qualifications and Europe: United Kingdom",
          "South West/Other qualifications and Europe: United Kingdom",
          "Wales/Other qualifications and Europe: United Kingdom",
          "West Midlands/Other qualifications and Europe: United Kingdom",
          "Yorkshire and The Humber/Other qualifications and Europe: United Kingdom",
          "East/Other qualifications and Middle East and Asia",
          "East Midlands/Other qualifications and Middle East and Asia",
          "London/Other qualifications and Middle East and Asia",
          "North East/Other qualifications and Middle East and Asia",
          "North West/Other qualifications and Middle East and Asia",
          "South East/Other qualifications and Middle East and Asia",
          "South West/Other qualifications and Middle East and Asia",
          "Wales/Other qualifications and Middle East and Asia",
          "West Midlands/Other qualifications and Middle East and Asia",
          "Yorkshire and The Humber/Other qualifications and Middle East and Asia",
          "East/Other qualifications and The Americas and the Caribbean",
          "East Midlands/Other qualifications and The Americas and the Caribbean",
          "London/Other qualifications and The Americas and the Caribbean",
          "North East/Other qualifications and The Americas and the Caribbean",
          "North West/Other qualifications and The Americas and the Caribbean",
          "South East/Other qualifications and The Americas and the Caribbean",
          "South West/Other qualifications and The Americas and the Caribbean",
          "Wales/Other qualifications and The Americas and the Caribbean",
          "West Midlands/Other qualifications and The Americas and the Caribbean",
          "Yorkshire and The Humber/Other qualifications and The Americas and the Caribbean",
          "East",
          "East Midlands",
          "London",
          "North East",
          "North West",
          "South East",
          "South West",
          "Wales",
          "West Midlands",
          "Yorkshire and The Humber"
         ],
         "labels": [
          "Apprenticeship and Africa",
          "Apprenticeship and Africa",
          "Apprenticeship and Africa",
          "Apprenticeship and Africa",
          "Apprenticeship and Africa",
          "Apprenticeship and Africa",
          "Apprenticeship and Africa",
          "Apprenticeship and Africa",
          "Apprenticeship and Africa",
          "Apprenticeship and Africa",
          "Apprenticeship and Antarctica and Oceania (including Australasia) and Other",
          "Apprenticeship and Antarctica and Oceania (including Australasia) and Other",
          "Apprenticeship and Antarctica and Oceania (including Australasia) and Other",
          "Apprenticeship and Antarctica and Oceania (including Australasia) and Other",
          "Apprenticeship and Antarctica and Oceania (including Australasia) and Other",
          "Apprenticeship and Antarctica and Oceania (including Australasia) and Other",
          "Apprenticeship and Antarctica and Oceania (including Australasia) and Other",
          "Apprenticeship and Antarctica and Oceania (including Australasia) and Other",
          "Apprenticeship and Antarctica and Oceania (including Australasia) and Other",
          "Apprenticeship and Antarctica and Oceania (including Australasia) and Other",
          "Apprenticeship and British Overseas",
          "Apprenticeship and British Overseas",
          "Apprenticeship and British Overseas",
          "Apprenticeship and British Overseas",
          "Apprenticeship and British Overseas",
          "Apprenticeship and British Overseas",
          "Apprenticeship and British Overseas",
          "Apprenticeship and British Overseas",
          "Apprenticeship and British Overseas",
          "Apprenticeship and British Overseas",
          "Apprenticeship and EU",
          "Apprenticeship and EU",
          "Apprenticeship and EU",
          "Apprenticeship and EU",
          "Apprenticeship and EU",
          "Apprenticeship and EU",
          "Apprenticeship and EU",
          "Apprenticeship and EU",
          "Apprenticeship and EU",
          "Apprenticeship and EU",
          "Apprenticeship and Europe: United Kingdom",
          "Apprenticeship and Europe: United Kingdom",
          "Apprenticeship and Europe: United Kingdom",
          "Apprenticeship and Europe: United Kingdom",
          "Apprenticeship and Europe: United Kingdom",
          "Apprenticeship and Europe: United Kingdom",
          "Apprenticeship and Europe: United Kingdom",
          "Apprenticeship and Europe: United Kingdom",
          "Apprenticeship and Europe: United Kingdom",
          "Apprenticeship and Europe: United Kingdom",
          "Apprenticeship and Middle East and Asia",
          "Apprenticeship and Middle East and Asia",
          "Apprenticeship and Middle East and Asia",
          "Apprenticeship and Middle East and Asia",
          "Apprenticeship and Middle East and Asia",
          "Apprenticeship and Middle East and Asia",
          "Apprenticeship and Middle East and Asia",
          "Apprenticeship and Middle East and Asia",
          "Apprenticeship and Middle East and Asia",
          "Apprenticeship and Middle East and Asia",
          "Apprenticeship and The Americas and the Caribbean",
          "Apprenticeship and The Americas and the Caribbean",
          "Apprenticeship and The Americas and the Caribbean",
          "Apprenticeship and The Americas and the Caribbean",
          "Apprenticeship and The Americas and the Caribbean",
          "Apprenticeship and The Americas and the Caribbean",
          "Apprenticeship and The Americas and the Caribbean",
          "Apprenticeship and The Americas and the Caribbean",
          "Apprenticeship and The Americas and the Caribbean",
          "Apprenticeship and The Americas and the Caribbean",
          "Level 1 and entry level qualifications and Africa",
          "Level 1 and entry level qualifications and Africa",
          "Level 1 and entry level qualifications and Africa",
          "Level 1 and entry level qualifications and Africa",
          "Level 1 and entry level qualifications and Africa",
          "Level 1 and entry level qualifications and Africa",
          "Level 1 and entry level qualifications and Africa",
          "Level 1 and entry level qualifications and Africa",
          "Level 1 and entry level qualifications and Africa",
          "Level 1 and entry level qualifications and Africa",
          "Level 1 and entry level qualifications and Antarctica and Oceania (including Australasia) and Other",
          "Level 1 and entry level qualifications and Antarctica and Oceania (including Australasia) and Other",
          "Level 1 and entry level qualifications and Antarctica and Oceania (including Australasia) and Other",
          "Level 1 and entry level qualifications and Antarctica and Oceania (including Australasia) and Other",
          "Level 1 and entry level qualifications and Antarctica and Oceania (including Australasia) and Other",
          "Level 1 and entry level qualifications and Antarctica and Oceania (including Australasia) and Other",
          "Level 1 and entry level qualifications and Antarctica and Oceania (including Australasia) and Other",
          "Level 1 and entry level qualifications and Antarctica and Oceania (including Australasia) and Other",
          "Level 1 and entry level qualifications and Antarctica and Oceania (including Australasia) and Other",
          "Level 1 and entry level qualifications and Antarctica and Oceania (including Australasia) and Other",
          "Level 1 and entry level qualifications and British Overseas",
          "Level 1 and entry level qualifications and British Overseas",
          "Level 1 and entry level qualifications and British Overseas",
          "Level 1 and entry level qualifications and British Overseas",
          "Level 1 and entry level qualifications and British Overseas",
          "Level 1 and entry level qualifications and British Overseas",
          "Level 1 and entry level qualifications and British Overseas",
          "Level 1 and entry level qualifications and British Overseas",
          "Level 1 and entry level qualifications and British Overseas",
          "Level 1 and entry level qualifications and British Overseas",
          "Level 1 and entry level qualifications and EU",
          "Level 1 and entry level qualifications and EU",
          "Level 1 and entry level qualifications and EU",
          "Level 1 and entry level qualifications and EU",
          "Level 1 and entry level qualifications and EU",
          "Level 1 and entry level qualifications and EU",
          "Level 1 and entry level qualifications and EU",
          "Level 1 and entry level qualifications and EU",
          "Level 1 and entry level qualifications and EU",
          "Level 1 and entry level qualifications and EU",
          "Level 1 and entry level qualifications and Europe: United Kingdom",
          "Level 1 and entry level qualifications and Europe: United Kingdom",
          "Level 1 and entry level qualifications and Europe: United Kingdom",
          "Level 1 and entry level qualifications and Europe: United Kingdom",
          "Level 1 and entry level qualifications and Europe: United Kingdom",
          "Level 1 and entry level qualifications and Europe: United Kingdom",
          "Level 1 and entry level qualifications and Europe: United Kingdom",
          "Level 1 and entry level qualifications and Europe: United Kingdom",
          "Level 1 and entry level qualifications and Europe: United Kingdom",
          "Level 1 and entry level qualifications and Europe: United Kingdom",
          "Level 1 and entry level qualifications and Middle East and Asia",
          "Level 1 and entry level qualifications and Middle East and Asia",
          "Level 1 and entry level qualifications and Middle East and Asia",
          "Level 1 and entry level qualifications and Middle East and Asia",
          "Level 1 and entry level qualifications and Middle East and Asia",
          "Level 1 and entry level qualifications and Middle East and Asia",
          "Level 1 and entry level qualifications and Middle East and Asia",
          "Level 1 and entry level qualifications and Middle East and Asia",
          "Level 1 and entry level qualifications and Middle East and Asia",
          "Level 1 and entry level qualifications and Middle East and Asia",
          "Level 1 and entry level qualifications and The Americas and the Caribbean",
          "Level 1 and entry level qualifications and The Americas and the Caribbean",
          "Level 1 and entry level qualifications and The Americas and the Caribbean",
          "Level 1 and entry level qualifications and The Americas and the Caribbean",
          "Level 1 and entry level qualifications and The Americas and the Caribbean",
          "Level 1 and entry level qualifications and The Americas and the Caribbean",
          "Level 1 and entry level qualifications and The Americas and the Caribbean",
          "Level 1 and entry level qualifications and The Americas and the Caribbean",
          "Level 1 and entry level qualifications and The Americas and the Caribbean",
          "Level 1 and entry level qualifications and The Americas and the Caribbean",
          "Level 2 qualifications and Africa",
          "Level 2 qualifications and Africa",
          "Level 2 qualifications and Africa",
          "Level 2 qualifications and Africa",
          "Level 2 qualifications and Africa",
          "Level 2 qualifications and Africa",
          "Level 2 qualifications and Africa",
          "Level 2 qualifications and Africa",
          "Level 2 qualifications and Africa",
          "Level 2 qualifications and Africa",
          "Level 2 qualifications and Antarctica and Oceania (including Australasia) and Other",
          "Level 2 qualifications and Antarctica and Oceania (including Australasia) and Other",
          "Level 2 qualifications and Antarctica and Oceania (including Australasia) and Other",
          "Level 2 qualifications and Antarctica and Oceania (including Australasia) and Other",
          "Level 2 qualifications and Antarctica and Oceania (including Australasia) and Other",
          "Level 2 qualifications and Antarctica and Oceania (including Australasia) and Other",
          "Level 2 qualifications and Antarctica and Oceania (including Australasia) and Other",
          "Level 2 qualifications and Antarctica and Oceania (including Australasia) and Other",
          "Level 2 qualifications and Antarctica and Oceania (including Australasia) and Other",
          "Level 2 qualifications and Antarctica and Oceania (including Australasia) and Other",
          "Level 2 qualifications and British Overseas",
          "Level 2 qualifications and British Overseas",
          "Level 2 qualifications and British Overseas",
          "Level 2 qualifications and British Overseas",
          "Level 2 qualifications and British Overseas",
          "Level 2 qualifications and British Overseas",
          "Level 2 qualifications and British Overseas",
          "Level 2 qualifications and British Overseas",
          "Level 2 qualifications and British Overseas",
          "Level 2 qualifications and British Overseas",
          "Level 2 qualifications and EU",
          "Level 2 qualifications and EU",
          "Level 2 qualifications and EU",
          "Level 2 qualifications and EU",
          "Level 2 qualifications and EU",
          "Level 2 qualifications and EU",
          "Level 2 qualifications and EU",
          "Level 2 qualifications and EU",
          "Level 2 qualifications and EU",
          "Level 2 qualifications and EU",
          "Level 2 qualifications and Europe: United Kingdom",
          "Level 2 qualifications and Europe: United Kingdom",
          "Level 2 qualifications and Europe: United Kingdom",
          "Level 2 qualifications and Europe: United Kingdom",
          "Level 2 qualifications and Europe: United Kingdom",
          "Level 2 qualifications and Europe: United Kingdom",
          "Level 2 qualifications and Europe: United Kingdom",
          "Level 2 qualifications and Europe: United Kingdom",
          "Level 2 qualifications and Europe: United Kingdom",
          "Level 2 qualifications and Europe: United Kingdom",
          "Level 2 qualifications and Middle East and Asia",
          "Level 2 qualifications and Middle East and Asia",
          "Level 2 qualifications and Middle East and Asia",
          "Level 2 qualifications and Middle East and Asia",
          "Level 2 qualifications and Middle East and Asia",
          "Level 2 qualifications and Middle East and Asia",
          "Level 2 qualifications and Middle East and Asia",
          "Level 2 qualifications and Middle East and Asia",
          "Level 2 qualifications and Middle East and Asia",
          "Level 2 qualifications and Middle East and Asia",
          "Level 2 qualifications and The Americas and the Caribbean",
          "Level 2 qualifications and The Americas and the Caribbean",
          "Level 2 qualifications and The Americas and the Caribbean",
          "Level 2 qualifications and The Americas and the Caribbean",
          "Level 2 qualifications and The Americas and the Caribbean",
          "Level 2 qualifications and The Americas and the Caribbean",
          "Level 2 qualifications and The Americas and the Caribbean",
          "Level 2 qualifications and The Americas and the Caribbean",
          "Level 2 qualifications and The Americas and the Caribbean",
          "Level 2 qualifications and The Americas and the Caribbean",
          "Level 3 qualifications and Africa",
          "Level 3 qualifications and Africa",
          "Level 3 qualifications and Africa",
          "Level 3 qualifications and Africa",
          "Level 3 qualifications and Africa",
          "Level 3 qualifications and Africa",
          "Level 3 qualifications and Africa",
          "Level 3 qualifications and Africa",
          "Level 3 qualifications and Africa",
          "Level 3 qualifications and Africa",
          "Level 3 qualifications and Antarctica and Oceania (including Australasia) and Other",
          "Level 3 qualifications and Antarctica and Oceania (including Australasia) and Other",
          "Level 3 qualifications and Antarctica and Oceania (including Australasia) and Other",
          "Level 3 qualifications and Antarctica and Oceania (including Australasia) and Other",
          "Level 3 qualifications and Antarctica and Oceania (including Australasia) and Other",
          "Level 3 qualifications and Antarctica and Oceania (including Australasia) and Other",
          "Level 3 qualifications and Antarctica and Oceania (including Australasia) and Other",
          "Level 3 qualifications and Antarctica and Oceania (including Australasia) and Other",
          "Level 3 qualifications and Antarctica and Oceania (including Australasia) and Other",
          "Level 3 qualifications and Antarctica and Oceania (including Australasia) and Other",
          "Level 3 qualifications and British Overseas",
          "Level 3 qualifications and British Overseas",
          "Level 3 qualifications and British Overseas",
          "Level 3 qualifications and British Overseas",
          "Level 3 qualifications and British Overseas",
          "Level 3 qualifications and British Overseas",
          "Level 3 qualifications and British Overseas",
          "Level 3 qualifications and British Overseas",
          "Level 3 qualifications and British Overseas",
          "Level 3 qualifications and British Overseas",
          "Level 3 qualifications and EU",
          "Level 3 qualifications and EU",
          "Level 3 qualifications and EU",
          "Level 3 qualifications and EU",
          "Level 3 qualifications and EU",
          "Level 3 qualifications and EU",
          "Level 3 qualifications and EU",
          "Level 3 qualifications and EU",
          "Level 3 qualifications and EU",
          "Level 3 qualifications and EU",
          "Level 3 qualifications and Europe: United Kingdom",
          "Level 3 qualifications and Europe: United Kingdom",
          "Level 3 qualifications and Europe: United Kingdom",
          "Level 3 qualifications and Europe: United Kingdom",
          "Level 3 qualifications and Europe: United Kingdom",
          "Level 3 qualifications and Europe: United Kingdom",
          "Level 3 qualifications and Europe: United Kingdom",
          "Level 3 qualifications and Europe: United Kingdom",
          "Level 3 qualifications and Europe: United Kingdom",
          "Level 3 qualifications and Europe: United Kingdom",
          "Level 3 qualifications and Middle East and Asia",
          "Level 3 qualifications and Middle East and Asia",
          "Level 3 qualifications and Middle East and Asia",
          "Level 3 qualifications and Middle East and Asia",
          "Level 3 qualifications and Middle East and Asia",
          "Level 3 qualifications and Middle East and Asia",
          "Level 3 qualifications and Middle East and Asia",
          "Level 3 qualifications and Middle East and Asia",
          "Level 3 qualifications and Middle East and Asia",
          "Level 3 qualifications and Middle East and Asia",
          "Level 3 qualifications and The Americas and the Caribbean",
          "Level 3 qualifications and The Americas and the Caribbean",
          "Level 3 qualifications and The Americas and the Caribbean",
          "Level 3 qualifications and The Americas and the Caribbean",
          "Level 3 qualifications and The Americas and the Caribbean",
          "Level 3 qualifications and The Americas and the Caribbean",
          "Level 3 qualifications and The Americas and the Caribbean",
          "Level 3 qualifications and The Americas and the Caribbean",
          "Level 3 qualifications and The Americas and the Caribbean",
          "Level 3 qualifications and The Americas and the Caribbean",
          "Level 4 qualifications and above and Africa",
          "Level 4 qualifications and above and Africa",
          "Level 4 qualifications and above and Africa",
          "Level 4 qualifications and above and Africa",
          "Level 4 qualifications and above and Africa",
          "Level 4 qualifications and above and Africa",
          "Level 4 qualifications and above and Africa",
          "Level 4 qualifications and above and Africa",
          "Level 4 qualifications and above and Africa",
          "Level 4 qualifications and above and Africa",
          "Level 4 qualifications and above and Antarctica and Oceania (including Australasia) and Other",
          "Level 4 qualifications and above and Antarctica and Oceania (including Australasia) and Other",
          "Level 4 qualifications and above and Antarctica and Oceania (including Australasia) and Other",
          "Level 4 qualifications and above and Antarctica and Oceania (including Australasia) and Other",
          "Level 4 qualifications and above and Antarctica and Oceania (including Australasia) and Other",
          "Level 4 qualifications and above and Antarctica and Oceania (including Australasia) and Other",
          "Level 4 qualifications and above and Antarctica and Oceania (including Australasia) and Other",
          "Level 4 qualifications and above and Antarctica and Oceania (including Australasia) and Other",
          "Level 4 qualifications and above and Antarctica and Oceania (including Australasia) and Other",
          "Level 4 qualifications and above and Antarctica and Oceania (including Australasia) and Other",
          "Level 4 qualifications and above and British Overseas",
          "Level 4 qualifications and above and British Overseas",
          "Level 4 qualifications and above and British Overseas",
          "Level 4 qualifications and above and British Overseas",
          "Level 4 qualifications and above and British Overseas",
          "Level 4 qualifications and above and British Overseas",
          "Level 4 qualifications and above and British Overseas",
          "Level 4 qualifications and above and British Overseas",
          "Level 4 qualifications and above and British Overseas",
          "Level 4 qualifications and above and British Overseas",
          "Level 4 qualifications and above and EU",
          "Level 4 qualifications and above and EU",
          "Level 4 qualifications and above and EU",
          "Level 4 qualifications and above and EU",
          "Level 4 qualifications and above and EU",
          "Level 4 qualifications and above and EU",
          "Level 4 qualifications and above and EU",
          "Level 4 qualifications and above and EU",
          "Level 4 qualifications and above and EU",
          "Level 4 qualifications and above and EU",
          "Level 4 qualifications and above and Europe: United Kingdom",
          "Level 4 qualifications and above and Europe: United Kingdom",
          "Level 4 qualifications and above and Europe: United Kingdom",
          "Level 4 qualifications and above and Europe: United Kingdom",
          "Level 4 qualifications and above and Europe: United Kingdom",
          "Level 4 qualifications and above and Europe: United Kingdom",
          "Level 4 qualifications and above and Europe: United Kingdom",
          "Level 4 qualifications and above and Europe: United Kingdom",
          "Level 4 qualifications and above and Europe: United Kingdom",
          "Level 4 qualifications and above and Europe: United Kingdom",
          "Level 4 qualifications and above and Middle East and Asia",
          "Level 4 qualifications and above and Middle East and Asia",
          "Level 4 qualifications and above and Middle East and Asia",
          "Level 4 qualifications and above and Middle East and Asia",
          "Level 4 qualifications and above and Middle East and Asia",
          "Level 4 qualifications and above and Middle East and Asia",
          "Level 4 qualifications and above and Middle East and Asia",
          "Level 4 qualifications and above and Middle East and Asia",
          "Level 4 qualifications and above and Middle East and Asia",
          "Level 4 qualifications and above and Middle East and Asia",
          "Level 4 qualifications and above and The Americas and the Caribbean",
          "Level 4 qualifications and above and The Americas and the Caribbean",
          "Level 4 qualifications and above and The Americas and the Caribbean",
          "Level 4 qualifications and above and The Americas and the Caribbean",
          "Level 4 qualifications and above and The Americas and the Caribbean",
          "Level 4 qualifications and above and The Americas and the Caribbean",
          "Level 4 qualifications and above and The Americas and the Caribbean",
          "Level 4 qualifications and above and The Americas and the Caribbean",
          "Level 4 qualifications and above and The Americas and the Caribbean",
          "Level 4 qualifications and above and The Americas and the Caribbean",
          "No qualifications and Africa",
          "No qualifications and Africa",
          "No qualifications and Africa",
          "No qualifications and Africa",
          "No qualifications and Africa",
          "No qualifications and Africa",
          "No qualifications and Africa",
          "No qualifications and Africa",
          "No qualifications and Africa",
          "No qualifications and Africa",
          "No qualifications and Antarctica and Oceania (including Australasia) and Other",
          "No qualifications and Antarctica and Oceania (including Australasia) and Other",
          "No qualifications and Antarctica and Oceania (including Australasia) and Other",
          "No qualifications and Antarctica and Oceania (including Australasia) and Other",
          "No qualifications and Antarctica and Oceania (including Australasia) and Other",
          "No qualifications and Antarctica and Oceania (including Australasia) and Other",
          "No qualifications and Antarctica and Oceania (including Australasia) and Other",
          "No qualifications and Antarctica and Oceania (including Australasia) and Other",
          "No qualifications and Antarctica and Oceania (including Australasia) and Other",
          "No qualifications and Antarctica and Oceania (including Australasia) and Other",
          "No qualifications and British Overseas",
          "No qualifications and British Overseas",
          "No qualifications and British Overseas",
          "No qualifications and British Overseas",
          "No qualifications and British Overseas",
          "No qualifications and British Overseas",
          "No qualifications and British Overseas",
          "No qualifications and British Overseas",
          "No qualifications and British Overseas",
          "No qualifications and British Overseas",
          "No qualifications and EU",
          "No qualifications and EU",
          "No qualifications and EU",
          "No qualifications and EU",
          "No qualifications and EU",
          "No qualifications and EU",
          "No qualifications and EU",
          "No qualifications and EU",
          "No qualifications and EU",
          "No qualifications and EU",
          "No qualifications and Europe: United Kingdom",
          "No qualifications and Europe: United Kingdom",
          "No qualifications and Europe: United Kingdom",
          "No qualifications and Europe: United Kingdom",
          "No qualifications and Europe: United Kingdom",
          "No qualifications and Europe: United Kingdom",
          "No qualifications and Europe: United Kingdom",
          "No qualifications and Europe: United Kingdom",
          "No qualifications and Europe: United Kingdom",
          "No qualifications and Europe: United Kingdom",
          "No qualifications and Middle East and Asia",
          "No qualifications and Middle East and Asia",
          "No qualifications and Middle East and Asia",
          "No qualifications and Middle East and Asia",
          "No qualifications and Middle East and Asia",
          "No qualifications and Middle East and Asia",
          "No qualifications and Middle East and Asia",
          "No qualifications and Middle East and Asia",
          "No qualifications and Middle East and Asia",
          "No qualifications and Middle East and Asia",
          "No qualifications and The Americas and the Caribbean",
          "No qualifications and The Americas and the Caribbean",
          "No qualifications and The Americas and the Caribbean",
          "No qualifications and The Americas and the Caribbean",
          "No qualifications and The Americas and the Caribbean",
          "No qualifications and The Americas and the Caribbean",
          "No qualifications and The Americas and the Caribbean",
          "No qualifications and The Americas and the Caribbean",
          "No qualifications and The Americas and the Caribbean",
          "No qualifications and The Americas and the Caribbean",
          "Other qualifications and Africa",
          "Other qualifications and Africa",
          "Other qualifications and Africa",
          "Other qualifications and Africa",
          "Other qualifications and Africa",
          "Other qualifications and Africa",
          "Other qualifications and Africa",
          "Other qualifications and Africa",
          "Other qualifications and Africa",
          "Other qualifications and Africa",
          "Other qualifications and Antarctica and Oceania (including Australasia) and Other",
          "Other qualifications and Antarctica and Oceania (including Australasia) and Other",
          "Other qualifications and Antarctica and Oceania (including Australasia) and Other",
          "Other qualifications and Antarctica and Oceania (including Australasia) and Other",
          "Other qualifications and Antarctica and Oceania (including Australasia) and Other",
          "Other qualifications and Antarctica and Oceania (including Australasia) and Other",
          "Other qualifications and Antarctica and Oceania (including Australasia) and Other",
          "Other qualifications and Antarctica and Oceania (including Australasia) and Other",
          "Other qualifications and Antarctica and Oceania (including Australasia) and Other",
          "Other qualifications and Antarctica and Oceania (including Australasia) and Other",
          "Other qualifications and British Overseas",
          "Other qualifications and British Overseas",
          "Other qualifications and British Overseas",
          "Other qualifications and British Overseas",
          "Other qualifications and British Overseas",
          "Other qualifications and British Overseas",
          "Other qualifications and British Overseas",
          "Other qualifications and British Overseas",
          "Other qualifications and British Overseas",
          "Other qualifications and British Overseas",
          "Other qualifications and EU",
          "Other qualifications and EU",
          "Other qualifications and EU",
          "Other qualifications and EU",
          "Other qualifications and EU",
          "Other qualifications and EU",
          "Other qualifications and EU",
          "Other qualifications and EU",
          "Other qualifications and EU",
          "Other qualifications and EU",
          "Other qualifications and Europe: United Kingdom",
          "Other qualifications and Europe: United Kingdom",
          "Other qualifications and Europe: United Kingdom",
          "Other qualifications and Europe: United Kingdom",
          "Other qualifications and Europe: United Kingdom",
          "Other qualifications and Europe: United Kingdom",
          "Other qualifications and Europe: United Kingdom",
          "Other qualifications and Europe: United Kingdom",
          "Other qualifications and Europe: United Kingdom",
          "Other qualifications and Europe: United Kingdom",
          "Other qualifications and Middle East and Asia",
          "Other qualifications and Middle East and Asia",
          "Other qualifications and Middle East and Asia",
          "Other qualifications and Middle East and Asia",
          "Other qualifications and Middle East and Asia",
          "Other qualifications and Middle East and Asia",
          "Other qualifications and Middle East and Asia",
          "Other qualifications and Middle East and Asia",
          "Other qualifications and Middle East and Asia",
          "Other qualifications and Middle East and Asia",
          "Other qualifications and The Americas and the Caribbean",
          "Other qualifications and The Americas and the Caribbean",
          "Other qualifications and The Americas and the Caribbean",
          "Other qualifications and The Americas and the Caribbean",
          "Other qualifications and The Americas and the Caribbean",
          "Other qualifications and The Americas and the Caribbean",
          "Other qualifications and The Americas and the Caribbean",
          "Other qualifications and The Americas and the Caribbean",
          "Other qualifications and The Americas and the Caribbean",
          "Other qualifications and The Americas and the Caribbean",
          "East",
          "East Midlands",
          "London",
          "North East",
          "North West",
          "South East",
          "South West",
          "Wales",
          "West Midlands",
          "Yorkshire and The Humber"
         ],
         "level": "6af95a",
         "marker": {
          "coloraxis": "coloraxis",
          "colors": [
           6187,
           5352,
           16168,
           1447,
           6153,
           9773,
           3868,
           1324,
           5633,
           4174,
           717,
           343,
           1661,
           162,
           478,
           1456,
           877,
           209,
           316,
           385,
           67,
           82,
           155,
           14,
           89,
           144,
           94,
           14,
           117,
           64,
           20782,
           15192,
           35348,
           3750,
           15898,
           26132,
           14396,
           4619,
           13855,
           12953,
           241797,
           206409,
           135128,
           134967,
           312617,
           325810,
           254661,
           133380,
           214789,
           242642,
           11115,
           10290,
           29649,
           3920,
           16603,
           18794,
           7141,
           3197,
           16264,
           12052,
           3489,
           1553,
           9510,
           501,
           2068,
           4647,
           2556,
           570,
           2207,
           1446,
           12085,
           9287,
           38732,
           2089,
           10137,
           18677,
           6355,
           2061,
           11008,
           6848,
           1401,
           595,
           3979,
           234,
           788,
           2783,
           1442,
           326,
           619,
           632,
           131,
           143,
           371,
           21,
           147,
           276,
           156,
           22,
           230,
           106,
           40589,
           26359,
           84677,
           5412,
           26192,
           49941,
           23655,
           7187,
           27074,
           21251,
           472245,
           358148,
           323700,
           194779,
           515053,
           622644,
           418426,
           207563,
           419686,
           398080,
           21709,
           17855,
           71026,
           5658,
           27355,
           35917,
           11734,
           4975,
           31780,
           19772,
           6814,
           2694,
           22782,
           723,
           3407,
           8881,
           4200,
           888,
           4312,
           2373,
           16170,
           12441,
           50257,
           3016,
           14241,
           26451,
           9251,
           3395,
           14834,
           9262,
           1875,
           798,
           5164,
           338,
           1108,
           3942,
           2099,
           537,
           834,
           856,
           175,
           191,
           481,
           31,
           207,
           392,
           227,
           37,
           310,
           143,
           54311,
           35311,
           109872,
           7813,
           36796,
           70729,
           34432,
           11839,
           36485,
           28743,
           631910,
           479775,
           420020,
           281233,
           723562,
           881836,
           609074,
           341892,
           565590,
           538435,
           29049,
           23918,
           92160,
           8169,
           38429,
           50869,
           17080,
           8195,
           42828,
           26744,
           9118,
           3609,
           29561,
           1045,
           4786,
           12578,
           6114,
           1463,
           5811,
           3210,
           18796,
           16364,
           66620,
           4044,
           18463,
           33192,
           11957,
           4072,
           18223,
           11850,
           2180,
           1049,
           6845,
           454,
           1436,
           4947,
           2712,
           644,
           1024,
           1095,
           203,
           252,
           638,
           41,
           269,
           491,
           293,
           44,
           381,
           183,
           63128,
           46445,
           145645,
           10474,
           47704,
           88752,
           44499,
           14201,
           44818,
           36773,
           734490,
           631051,
           556772,
           377047,
           938049,
           1106551,
           787166,
           410103,
           694775,
           688845,
           33765,
           31460,
           122167,
           10953,
           49821,
           63831,
           22074,
           9831,
           52610,
           34215,
           10598,
           4748,
           39185,
           1401,
           6205,
           15784,
           7902,
           1755,
           7139,
           4107,
           35393,
           26039,
           235604,
           6224,
           32687,
           68279,
           21371,
           7456,
           31457,
           20060,
           4105,
           1670,
           24209,
           699,
           2543,
           10177,
           4848,
           1179,
           1768,
           1854,
           383,
           401,
           2259,
           64,
           476,
           1012,
           524,
           82,
           657,
           310,
           118872,
           73905,
           515080,
           16121,
           84453,
           182569,
           79535,
           26000,
           77367,
           62251,
           1383081,
           1004151,
           1969046,
           580295,
           1660699,
           2276236,
           1406915,
           750842,
           1199330,
           1166105,
           63581,
           50060,
           432048,
           16857,
           88202,
           131305,
           39454,
           17999,
           90817,
           57920,
           19957,
           7555,
           138581,
           2156,
           10986,
           32468,
           14124,
           3213,
           12323,
           6952,
           20299,
           17427,
           81776,
           4424,
           20423,
           29368,
           10109,
           4710,
           22591,
           14024,
           2354,
           1118,
           8402,
           496,
           1589,
           4377,
           2293,
           745,
           1270,
           1296,
           220,
           268,
           784,
           45,
           297,
           435,
           248,
           51,
           472,
           217,
           68177,
           49463,
           178781,
           11458,
           52768,
           78528,
           37625,
           16426,
           55562,
           43520,
           793244,
           672066,
           683443,
           412439,
           1037644,
           979068,
           665559,
           474347,
           861329,
           815228,
           36466,
           33505,
           149961,
           11981,
           55111,
           56478,
           18664,
           11371,
           65223,
           40492,
           11446,
           5056,
           48100,
           1532,
           6864,
           13965,
           6681,
           2030,
           8850,
           4860,
           3174,
           2542,
           15458,
           544,
           2656,
           5156,
           1683,
           634,
           3087,
           1798,
           368,
           163,
           1588,
           61,
           206,
           768,
           381,
           100,
           173,
           166,
           34,
           39,
           148,
           5,
           38,
           76,
           41,
           6,
           64,
           27,
           10662,
           7216,
           33795,
           1409,
           6864,
           13789,
           6266,
           2211,
           7593,
           5582,
           124057,
           98044,
           129192,
           50730,
           134983,
           171917,
           110835,
           63851,
           117699,
           104561,
           5703,
           4887,
           28347,
           1473,
           7169,
           9917,
           3108,
           1530,
           8912,
           5193,
           1790,
           737,
           9092,
           188,
           892,
           2452,
           1112,
           273,
           1209,
           623,
           741413.3674820745,
           572402.1083124522,
           794814.2665495209,
           361739.17443000874,
           938021.6063524513,
           1159514.4288975135,
           777279.094190295,
           445787.7932416946,
           677612.3052005653,
           680258.6069379532
          ]
         },
         "name": "",
         "parents": [
          "East",
          "East Midlands",
          "London",
          "North East",
          "North West",
          "South East",
          "South West",
          "Wales",
          "West Midlands",
          "Yorkshire and The Humber",
          "East",
          "East Midlands",
          "London",
          "North East",
          "North West",
          "South East",
          "South West",
          "Wales",
          "West Midlands",
          "Yorkshire and The Humber",
          "East",
          "East Midlands",
          "London",
          "North East",
          "North West",
          "South East",
          "South West",
          "Wales",
          "West Midlands",
          "Yorkshire and The Humber",
          "East",
          "East Midlands",
          "London",
          "North East",
          "North West",
          "South East",
          "South West",
          "Wales",
          "West Midlands",
          "Yorkshire and The Humber",
          "East",
          "East Midlands",
          "London",
          "North East",
          "North West",
          "South East",
          "South West",
          "Wales",
          "West Midlands",
          "Yorkshire and The Humber",
          "East",
          "East Midlands",
          "London",
          "North East",
          "North West",
          "South East",
          "South West",
          "Wales",
          "West Midlands",
          "Yorkshire and The Humber",
          "East",
          "East Midlands",
          "London",
          "North East",
          "North West",
          "South East",
          "South West",
          "Wales",
          "West Midlands",
          "Yorkshire and The Humber",
          "East",
          "East Midlands",
          "London",
          "North East",
          "North West",
          "South East",
          "South West",
          "Wales",
          "West Midlands",
          "Yorkshire and The Humber",
          "East",
          "East Midlands",
          "London",
          "North East",
          "North West",
          "South East",
          "South West",
          "Wales",
          "West Midlands",
          "Yorkshire and The Humber",
          "East",
          "East Midlands",
          "London",
          "North East",
          "North West",
          "South East",
          "South West",
          "Wales",
          "West Midlands",
          "Yorkshire and The Humber",
          "East",
          "East Midlands",
          "London",
          "North East",
          "North West",
          "South East",
          "South West",
          "Wales",
          "West Midlands",
          "Yorkshire and The Humber",
          "East",
          "East Midlands",
          "London",
          "North East",
          "North West",
          "South East",
          "South West",
          "Wales",
          "West Midlands",
          "Yorkshire and The Humber",
          "East",
          "East Midlands",
          "London",
          "North East",
          "North West",
          "South East",
          "South West",
          "Wales",
          "West Midlands",
          "Yorkshire and The Humber",
          "East",
          "East Midlands",
          "London",
          "North East",
          "North West",
          "South East",
          "South West",
          "Wales",
          "West Midlands",
          "Yorkshire and The Humber",
          "East",
          "East Midlands",
          "London",
          "North East",
          "North West",
          "South East",
          "South West",
          "Wales",
          "West Midlands",
          "Yorkshire and The Humber",
          "East",
          "East Midlands",
          "London",
          "North East",
          "North West",
          "South East",
          "South West",
          "Wales",
          "West Midlands",
          "Yorkshire and The Humber",
          "East",
          "East Midlands",
          "London",
          "North East",
          "North West",
          "South East",
          "South West",
          "Wales",
          "West Midlands",
          "Yorkshire and The Humber",
          "East",
          "East Midlands",
          "London",
          "North East",
          "North West",
          "South East",
          "South West",
          "Wales",
          "West Midlands",
          "Yorkshire and The Humber",
          "East",
          "East Midlands",
          "London",
          "North East",
          "North West",
          "South East",
          "South West",
          "Wales",
          "West Midlands",
          "Yorkshire and The Humber",
          "East",
          "East Midlands",
          "London",
          "North East",
          "North West",
          "South East",
          "South West",
          "Wales",
          "West Midlands",
          "Yorkshire and The Humber",
          "East",
          "East Midlands",
          "London",
          "North East",
          "North West",
          "South East",
          "South West",
          "Wales",
          "West Midlands",
          "Yorkshire and The Humber",
          "East",
          "East Midlands",
          "London",
          "North East",
          "North West",
          "South East",
          "South West",
          "Wales",
          "West Midlands",
          "Yorkshire and The Humber",
          "East",
          "East Midlands",
          "London",
          "North East",
          "North West",
          "South East",
          "South West",
          "Wales",
          "West Midlands",
          "Yorkshire and The Humber",
          "East",
          "East Midlands",
          "London",
          "North East",
          "North West",
          "South East",
          "South West",
          "Wales",
          "West Midlands",
          "Yorkshire and The Humber",
          "East",
          "East Midlands",
          "London",
          "North East",
          "North West",
          "South East",
          "South West",
          "Wales",
          "West Midlands",
          "Yorkshire and The Humber",
          "East",
          "East Midlands",
          "London",
          "North East",
          "North West",
          "South East",
          "South West",
          "Wales",
          "West Midlands",
          "Yorkshire and The Humber",
          "East",
          "East Midlands",
          "London",
          "North East",
          "North West",
          "South East",
          "South West",
          "Wales",
          "West Midlands",
          "Yorkshire and The Humber",
          "East",
          "East Midlands",
          "London",
          "North East",
          "North West",
          "South East",
          "South West",
          "Wales",
          "West Midlands",
          "Yorkshire and The Humber",
          "East",
          "East Midlands",
          "London",
          "North East",
          "North West",
          "South East",
          "South West",
          "Wales",
          "West Midlands",
          "Yorkshire and The Humber",
          "East",
          "East Midlands",
          "London",
          "North East",
          "North West",
          "South East",
          "South West",
          "Wales",
          "West Midlands",
          "Yorkshire and The Humber",
          "East",
          "East Midlands",
          "London",
          "North East",
          "North West",
          "South East",
          "South West",
          "Wales",
          "West Midlands",
          "Yorkshire and The Humber",
          "East",
          "East Midlands",
          "London",
          "North East",
          "North West",
          "South East",
          "South West",
          "Wales",
          "West Midlands",
          "Yorkshire and The Humber",
          "East",
          "East Midlands",
          "London",
          "North East",
          "North West",
          "South East",
          "South West",
          "Wales",
          "West Midlands",
          "Yorkshire and The Humber",
          "East",
          "East Midlands",
          "London",
          "North East",
          "North West",
          "South East",
          "South West",
          "Wales",
          "West Midlands",
          "Yorkshire and The Humber",
          "East",
          "East Midlands",
          "London",
          "North East",
          "North West",
          "South East",
          "South West",
          "Wales",
          "West Midlands",
          "Yorkshire and The Humber",
          "East",
          "East Midlands",
          "London",
          "North East",
          "North West",
          "South East",
          "South West",
          "Wales",
          "West Midlands",
          "Yorkshire and The Humber",
          "East",
          "East Midlands",
          "London",
          "North East",
          "North West",
          "South East",
          "South West",
          "Wales",
          "West Midlands",
          "Yorkshire and The Humber",
          "East",
          "East Midlands",
          "London",
          "North East",
          "North West",
          "South East",
          "South West",
          "Wales",
          "West Midlands",
          "Yorkshire and The Humber",
          "East",
          "East Midlands",
          "London",
          "North East",
          "North West",
          "South East",
          "South West",
          "Wales",
          "West Midlands",
          "Yorkshire and The Humber",
          "East",
          "East Midlands",
          "London",
          "North East",
          "North West",
          "South East",
          "South West",
          "Wales",
          "West Midlands",
          "Yorkshire and The Humber",
          "East",
          "East Midlands",
          "London",
          "North East",
          "North West",
          "South East",
          "South West",
          "Wales",
          "West Midlands",
          "Yorkshire and The Humber",
          "East",
          "East Midlands",
          "London",
          "North East",
          "North West",
          "South East",
          "South West",
          "Wales",
          "West Midlands",
          "Yorkshire and The Humber",
          "East",
          "East Midlands",
          "London",
          "North East",
          "North West",
          "South East",
          "South West",
          "Wales",
          "West Midlands",
          "Yorkshire and The Humber",
          "East",
          "East Midlands",
          "London",
          "North East",
          "North West",
          "South East",
          "South West",
          "Wales",
          "West Midlands",
          "Yorkshire and The Humber",
          "East",
          "East Midlands",
          "London",
          "North East",
          "North West",
          "South East",
          "South West",
          "Wales",
          "West Midlands",
          "Yorkshire and The Humber",
          "East",
          "East Midlands",
          "London",
          "North East",
          "North West",
          "South East",
          "South West",
          "Wales",
          "West Midlands",
          "Yorkshire and The Humber",
          "East",
          "East Midlands",
          "London",
          "North East",
          "North West",
          "South East",
          "South West",
          "Wales",
          "West Midlands",
          "Yorkshire and The Humber",
          "East",
          "East Midlands",
          "London",
          "North East",
          "North West",
          "South East",
          "South West",
          "Wales",
          "West Midlands",
          "Yorkshire and The Humber",
          "East",
          "East Midlands",
          "London",
          "North East",
          "North West",
          "South East",
          "South West",
          "Wales",
          "West Midlands",
          "Yorkshire and The Humber",
          "",
          "",
          "",
          "",
          "",
          "",
          "",
          "",
          "",
          ""
         ],
         "type": "treemap",
         "values": [
          6187,
          5352,
          16168,
          1447,
          6153,
          9773,
          3868,
          1324,
          5633,
          4174,
          717,
          343,
          1661,
          162,
          478,
          1456,
          877,
          209,
          316,
          385,
          67,
          82,
          155,
          14,
          89,
          144,
          94,
          14,
          117,
          64,
          20782,
          15192,
          35348,
          3750,
          15898,
          26132,
          14396,
          4619,
          13855,
          12953,
          241797,
          206409,
          135128,
          134967,
          312617,
          325810,
          254661,
          133380,
          214789,
          242642,
          11115,
          10290,
          29649,
          3920,
          16603,
          18794,
          7141,
          3197,
          16264,
          12052,
          3489,
          1553,
          9510,
          501,
          2068,
          4647,
          2556,
          570,
          2207,
          1446,
          12085,
          9287,
          38732,
          2089,
          10137,
          18677,
          6355,
          2061,
          11008,
          6848,
          1401,
          595,
          3979,
          234,
          788,
          2783,
          1442,
          326,
          619,
          632,
          131,
          143,
          371,
          21,
          147,
          276,
          156,
          22,
          230,
          106,
          40589,
          26359,
          84677,
          5412,
          26192,
          49941,
          23655,
          7187,
          27074,
          21251,
          472245,
          358148,
          323700,
          194779,
          515053,
          622644,
          418426,
          207563,
          419686,
          398080,
          21709,
          17855,
          71026,
          5658,
          27355,
          35917,
          11734,
          4975,
          31780,
          19772,
          6814,
          2694,
          22782,
          723,
          3407,
          8881,
          4200,
          888,
          4312,
          2373,
          16170,
          12441,
          50257,
          3016,
          14241,
          26451,
          9251,
          3395,
          14834,
          9262,
          1875,
          798,
          5164,
          338,
          1108,
          3942,
          2099,
          537,
          834,
          856,
          175,
          191,
          481,
          31,
          207,
          392,
          227,
          37,
          310,
          143,
          54311,
          35311,
          109872,
          7813,
          36796,
          70729,
          34432,
          11839,
          36485,
          28743,
          631910,
          479775,
          420020,
          281233,
          723562,
          881836,
          609074,
          341892,
          565590,
          538435,
          29049,
          23918,
          92160,
          8169,
          38429,
          50869,
          17080,
          8195,
          42828,
          26744,
          9118,
          3609,
          29561,
          1045,
          4786,
          12578,
          6114,
          1463,
          5811,
          3210,
          18796,
          16364,
          66620,
          4044,
          18463,
          33192,
          11957,
          4072,
          18223,
          11850,
          2180,
          1049,
          6845,
          454,
          1436,
          4947,
          2712,
          644,
          1024,
          1095,
          203,
          252,
          638,
          41,
          269,
          491,
          293,
          44,
          381,
          183,
          63128,
          46445,
          145645,
          10474,
          47704,
          88752,
          44499,
          14201,
          44818,
          36773,
          734490,
          631051,
          556772,
          377047,
          938049,
          1106551,
          787166,
          410103,
          694775,
          688845,
          33765,
          31460,
          122167,
          10953,
          49821,
          63831,
          22074,
          9831,
          52610,
          34215,
          10598,
          4748,
          39185,
          1401,
          6205,
          15784,
          7902,
          1755,
          7139,
          4107,
          35393,
          26039,
          235604,
          6224,
          32687,
          68279,
          21371,
          7456,
          31457,
          20060,
          4105,
          1670,
          24209,
          699,
          2543,
          10177,
          4848,
          1179,
          1768,
          1854,
          383,
          401,
          2259,
          64,
          476,
          1012,
          524,
          82,
          657,
          310,
          118872,
          73905,
          515080,
          16121,
          84453,
          182569,
          79535,
          26000,
          77367,
          62251,
          1383081,
          1004151,
          1969046,
          580295,
          1660699,
          2276236,
          1406915,
          750842,
          1199330,
          1166105,
          63581,
          50060,
          432048,
          16857,
          88202,
          131305,
          39454,
          17999,
          90817,
          57920,
          19957,
          7555,
          138581,
          2156,
          10986,
          32468,
          14124,
          3213,
          12323,
          6952,
          20299,
          17427,
          81776,
          4424,
          20423,
          29368,
          10109,
          4710,
          22591,
          14024,
          2354,
          1118,
          8402,
          496,
          1589,
          4377,
          2293,
          745,
          1270,
          1296,
          220,
          268,
          784,
          45,
          297,
          435,
          248,
          51,
          472,
          217,
          68177,
          49463,
          178781,
          11458,
          52768,
          78528,
          37625,
          16426,
          55562,
          43520,
          793244,
          672066,
          683443,
          412439,
          1037644,
          979068,
          665559,
          474347,
          861329,
          815228,
          36466,
          33505,
          149961,
          11981,
          55111,
          56478,
          18664,
          11371,
          65223,
          40492,
          11446,
          5056,
          48100,
          1532,
          6864,
          13965,
          6681,
          2030,
          8850,
          4860,
          3174,
          2542,
          15458,
          544,
          2656,
          5156,
          1683,
          634,
          3087,
          1798,
          368,
          163,
          1588,
          61,
          206,
          768,
          381,
          100,
          173,
          166,
          34,
          39,
          148,
          5,
          38,
          76,
          41,
          6,
          64,
          27,
          10662,
          7216,
          33795,
          1409,
          6864,
          13789,
          6266,
          2211,
          7593,
          5582,
          124057,
          98044,
          129192,
          50730,
          134983,
          171917,
          110835,
          63851,
          117699,
          104561,
          5703,
          4887,
          28347,
          1473,
          7169,
          9917,
          3108,
          1530,
          8912,
          5193,
          1790,
          737,
          9092,
          188,
          892,
          2452,
          1112,
          273,
          1209,
          623,
          5148262,
          3998026,
          7103967,
          2178937,
          6025611,
          7554560,
          4735817,
          2559399,
          4801305,
          4460278
         ]
        }
       ],
       "layout": {
        "coloraxis": {
         "colorbar": {
          "title": {
           "text": "People identified"
          }
         },
         "colorscale": [
          [
           0,
           "rgb(165,0,38)"
          ],
          [
           0.1,
           "rgb(215,48,39)"
          ],
          [
           0.2,
           "rgb(244,109,67)"
          ],
          [
           0.3,
           "rgb(253,174,97)"
          ],
          [
           0.4,
           "rgb(254,224,139)"
          ],
          [
           0.5,
           "rgb(255,255,191)"
          ],
          [
           0.6,
           "rgb(217,239,139)"
          ],
          [
           0.7,
           "rgb(166,217,106)"
          ],
          [
           0.8,
           "rgb(102,189,99)"
          ],
          [
           0.9,
           "rgb(26,152,80)"
          ],
          [
           1,
           "rgb(0,104,55)"
          ]
         ]
        },
        "height": 800,
        "legend": {
         "tracegroupgap": 0
        },
        "margin": {
         "t": 60
        },
        "template": {
         "data": {
          "bar": [
           {
            "error_x": {
             "color": "#2a3f5f"
            },
            "error_y": {
             "color": "#2a3f5f"
            },
            "marker": {
             "line": {
              "color": "#E5ECF6",
              "width": 0.5
             },
             "pattern": {
              "fillmode": "overlay",
              "size": 10,
              "solidity": 0.2
             }
            },
            "type": "bar"
           }
          ],
          "barpolar": [
           {
            "marker": {
             "line": {
              "color": "#E5ECF6",
              "width": 0.5
             },
             "pattern": {
              "fillmode": "overlay",
              "size": 10,
              "solidity": 0.2
             }
            },
            "type": "barpolar"
           }
          ],
          "carpet": [
           {
            "aaxis": {
             "endlinecolor": "#2a3f5f",
             "gridcolor": "white",
             "linecolor": "white",
             "minorgridcolor": "white",
             "startlinecolor": "#2a3f5f"
            },
            "baxis": {
             "endlinecolor": "#2a3f5f",
             "gridcolor": "white",
             "linecolor": "white",
             "minorgridcolor": "white",
             "startlinecolor": "#2a3f5f"
            },
            "type": "carpet"
           }
          ],
          "choropleth": [
           {
            "colorbar": {
             "outlinewidth": 0,
             "ticks": ""
            },
            "type": "choropleth"
           }
          ],
          "contour": [
           {
            "colorbar": {
             "outlinewidth": 0,
             "ticks": ""
            },
            "colorscale": [
             [
              0,
              "#0d0887"
             ],
             [
              0.1111111111111111,
              "#46039f"
             ],
             [
              0.2222222222222222,
              "#7201a8"
             ],
             [
              0.3333333333333333,
              "#9c179e"
             ],
             [
              0.4444444444444444,
              "#bd3786"
             ],
             [
              0.5555555555555556,
              "#d8576b"
             ],
             [
              0.6666666666666666,
              "#ed7953"
             ],
             [
              0.7777777777777778,
              "#fb9f3a"
             ],
             [
              0.8888888888888888,
              "#fdca26"
             ],
             [
              1,
              "#f0f921"
             ]
            ],
            "type": "contour"
           }
          ],
          "contourcarpet": [
           {
            "colorbar": {
             "outlinewidth": 0,
             "ticks": ""
            },
            "type": "contourcarpet"
           }
          ],
          "heatmap": [
           {
            "colorbar": {
             "outlinewidth": 0,
             "ticks": ""
            },
            "colorscale": [
             [
              0,
              "#0d0887"
             ],
             [
              0.1111111111111111,
              "#46039f"
             ],
             [
              0.2222222222222222,
              "#7201a8"
             ],
             [
              0.3333333333333333,
              "#9c179e"
             ],
             [
              0.4444444444444444,
              "#bd3786"
             ],
             [
              0.5555555555555556,
              "#d8576b"
             ],
             [
              0.6666666666666666,
              "#ed7953"
             ],
             [
              0.7777777777777778,
              "#fb9f3a"
             ],
             [
              0.8888888888888888,
              "#fdca26"
             ],
             [
              1,
              "#f0f921"
             ]
            ],
            "type": "heatmap"
           }
          ],
          "heatmapgl": [
           {
            "colorbar": {
             "outlinewidth": 0,
             "ticks": ""
            },
            "colorscale": [
             [
              0,
              "#0d0887"
             ],
             [
              0.1111111111111111,
              "#46039f"
             ],
             [
              0.2222222222222222,
              "#7201a8"
             ],
             [
              0.3333333333333333,
              "#9c179e"
             ],
             [
              0.4444444444444444,
              "#bd3786"
             ],
             [
              0.5555555555555556,
              "#d8576b"
             ],
             [
              0.6666666666666666,
              "#ed7953"
             ],
             [
              0.7777777777777778,
              "#fb9f3a"
             ],
             [
              0.8888888888888888,
              "#fdca26"
             ],
             [
              1,
              "#f0f921"
             ]
            ],
            "type": "heatmapgl"
           }
          ],
          "histogram": [
           {
            "marker": {
             "pattern": {
              "fillmode": "overlay",
              "size": 10,
              "solidity": 0.2
             }
            },
            "type": "histogram"
           }
          ],
          "histogram2d": [
           {
            "colorbar": {
             "outlinewidth": 0,
             "ticks": ""
            },
            "colorscale": [
             [
              0,
              "#0d0887"
             ],
             [
              0.1111111111111111,
              "#46039f"
             ],
             [
              0.2222222222222222,
              "#7201a8"
             ],
             [
              0.3333333333333333,
              "#9c179e"
             ],
             [
              0.4444444444444444,
              "#bd3786"
             ],
             [
              0.5555555555555556,
              "#d8576b"
             ],
             [
              0.6666666666666666,
              "#ed7953"
             ],
             [
              0.7777777777777778,
              "#fb9f3a"
             ],
             [
              0.8888888888888888,
              "#fdca26"
             ],
             [
              1,
              "#f0f921"
             ]
            ],
            "type": "histogram2d"
           }
          ],
          "histogram2dcontour": [
           {
            "colorbar": {
             "outlinewidth": 0,
             "ticks": ""
            },
            "colorscale": [
             [
              0,
              "#0d0887"
             ],
             [
              0.1111111111111111,
              "#46039f"
             ],
             [
              0.2222222222222222,
              "#7201a8"
             ],
             [
              0.3333333333333333,
              "#9c179e"
             ],
             [
              0.4444444444444444,
              "#bd3786"
             ],
             [
              0.5555555555555556,
              "#d8576b"
             ],
             [
              0.6666666666666666,
              "#ed7953"
             ],
             [
              0.7777777777777778,
              "#fb9f3a"
             ],
             [
              0.8888888888888888,
              "#fdca26"
             ],
             [
              1,
              "#f0f921"
             ]
            ],
            "type": "histogram2dcontour"
           }
          ],
          "mesh3d": [
           {
            "colorbar": {
             "outlinewidth": 0,
             "ticks": ""
            },
            "type": "mesh3d"
           }
          ],
          "parcoords": [
           {
            "line": {
             "colorbar": {
              "outlinewidth": 0,
              "ticks": ""
             }
            },
            "type": "parcoords"
           }
          ],
          "pie": [
           {
            "automargin": true,
            "type": "pie"
           }
          ],
          "scatter": [
           {
            "fillpattern": {
             "fillmode": "overlay",
             "size": 10,
             "solidity": 0.2
            },
            "type": "scatter"
           }
          ],
          "scatter3d": [
           {
            "line": {
             "colorbar": {
              "outlinewidth": 0,
              "ticks": ""
             }
            },
            "marker": {
             "colorbar": {
              "outlinewidth": 0,
              "ticks": ""
             }
            },
            "type": "scatter3d"
           }
          ],
          "scattercarpet": [
           {
            "marker": {
             "colorbar": {
              "outlinewidth": 0,
              "ticks": ""
             }
            },
            "type": "scattercarpet"
           }
          ],
          "scattergeo": [
           {
            "marker": {
             "colorbar": {
              "outlinewidth": 0,
              "ticks": ""
             }
            },
            "type": "scattergeo"
           }
          ],
          "scattergl": [
           {
            "marker": {
             "colorbar": {
              "outlinewidth": 0,
              "ticks": ""
             }
            },
            "type": "scattergl"
           }
          ],
          "scattermapbox": [
           {
            "marker": {
             "colorbar": {
              "outlinewidth": 0,
              "ticks": ""
             }
            },
            "type": "scattermapbox"
           }
          ],
          "scatterpolar": [
           {
            "marker": {
             "colorbar": {
              "outlinewidth": 0,
              "ticks": ""
             }
            },
            "type": "scatterpolar"
           }
          ],
          "scatterpolargl": [
           {
            "marker": {
             "colorbar": {
              "outlinewidth": 0,
              "ticks": ""
             }
            },
            "type": "scatterpolargl"
           }
          ],
          "scatterternary": [
           {
            "marker": {
             "colorbar": {
              "outlinewidth": 0,
              "ticks": ""
             }
            },
            "type": "scatterternary"
           }
          ],
          "surface": [
           {
            "colorbar": {
             "outlinewidth": 0,
             "ticks": ""
            },
            "colorscale": [
             [
              0,
              "#0d0887"
             ],
             [
              0.1111111111111111,
              "#46039f"
             ],
             [
              0.2222222222222222,
              "#7201a8"
             ],
             [
              0.3333333333333333,
              "#9c179e"
             ],
             [
              0.4444444444444444,
              "#bd3786"
             ],
             [
              0.5555555555555556,
              "#d8576b"
             ],
             [
              0.6666666666666666,
              "#ed7953"
             ],
             [
              0.7777777777777778,
              "#fb9f3a"
             ],
             [
              0.8888888888888888,
              "#fdca26"
             ],
             [
              1,
              "#f0f921"
             ]
            ],
            "type": "surface"
           }
          ],
          "table": [
           {
            "cells": {
             "fill": {
              "color": "#EBF0F8"
             },
             "line": {
              "color": "white"
             }
            },
            "header": {
             "fill": {
              "color": "#C8D4E3"
             },
             "line": {
              "color": "white"
             }
            },
            "type": "table"
           }
          ]
         },
         "layout": {
          "annotationdefaults": {
           "arrowcolor": "#2a3f5f",
           "arrowhead": 0,
           "arrowwidth": 1
          },
          "autotypenumbers": "strict",
          "coloraxis": {
           "colorbar": {
            "outlinewidth": 0,
            "ticks": ""
           }
          },
          "colorscale": {
           "diverging": [
            [
             0,
             "#8e0152"
            ],
            [
             0.1,
             "#c51b7d"
            ],
            [
             0.2,
             "#de77ae"
            ],
            [
             0.3,
             "#f1b6da"
            ],
            [
             0.4,
             "#fde0ef"
            ],
            [
             0.5,
             "#f7f7f7"
            ],
            [
             0.6,
             "#e6f5d0"
            ],
            [
             0.7,
             "#b8e186"
            ],
            [
             0.8,
             "#7fbc41"
            ],
            [
             0.9,
             "#4d9221"
            ],
            [
             1,
             "#276419"
            ]
           ],
           "sequential": [
            [
             0,
             "#0d0887"
            ],
            [
             0.1111111111111111,
             "#46039f"
            ],
            [
             0.2222222222222222,
             "#7201a8"
            ],
            [
             0.3333333333333333,
             "#9c179e"
            ],
            [
             0.4444444444444444,
             "#bd3786"
            ],
            [
             0.5555555555555556,
             "#d8576b"
            ],
            [
             0.6666666666666666,
             "#ed7953"
            ],
            [
             0.7777777777777778,
             "#fb9f3a"
            ],
            [
             0.8888888888888888,
             "#fdca26"
            ],
            [
             1,
             "#f0f921"
            ]
           ],
           "sequentialminus": [
            [
             0,
             "#0d0887"
            ],
            [
             0.1111111111111111,
             "#46039f"
            ],
            [
             0.2222222222222222,
             "#7201a8"
            ],
            [
             0.3333333333333333,
             "#9c179e"
            ],
            [
             0.4444444444444444,
             "#bd3786"
            ],
            [
             0.5555555555555556,
             "#d8576b"
            ],
            [
             0.6666666666666666,
             "#ed7953"
            ],
            [
             0.7777777777777778,
             "#fb9f3a"
            ],
            [
             0.8888888888888888,
             "#fdca26"
            ],
            [
             1,
             "#f0f921"
            ]
           ]
          },
          "colorway": [
           "#636efa",
           "#EF553B",
           "#00cc96",
           "#ab63fa",
           "#FFA15A",
           "#19d3f3",
           "#FF6692",
           "#B6E880",
           "#FF97FF",
           "#FECB52"
          ],
          "font": {
           "color": "#2a3f5f"
          },
          "geo": {
           "bgcolor": "white",
           "lakecolor": "white",
           "landcolor": "#E5ECF6",
           "showlakes": true,
           "showland": true,
           "subunitcolor": "white"
          },
          "hoverlabel": {
           "align": "left"
          },
          "hovermode": "closest",
          "mapbox": {
           "style": "light"
          },
          "paper_bgcolor": "white",
          "plot_bgcolor": "#E5ECF6",
          "polar": {
           "angularaxis": {
            "gridcolor": "white",
            "linecolor": "white",
            "ticks": ""
           },
           "bgcolor": "#E5ECF6",
           "radialaxis": {
            "gridcolor": "white",
            "linecolor": "white",
            "ticks": ""
           }
          },
          "scene": {
           "xaxis": {
            "backgroundcolor": "#E5ECF6",
            "gridcolor": "white",
            "gridwidth": 2,
            "linecolor": "white",
            "showbackground": true,
            "ticks": "",
            "zerolinecolor": "white"
           },
           "yaxis": {
            "backgroundcolor": "#E5ECF6",
            "gridcolor": "white",
            "gridwidth": 2,
            "linecolor": "white",
            "showbackground": true,
            "ticks": "",
            "zerolinecolor": "white"
           },
           "zaxis": {
            "backgroundcolor": "#E5ECF6",
            "gridcolor": "white",
            "gridwidth": 2,
            "linecolor": "white",
            "showbackground": true,
            "ticks": "",
            "zerolinecolor": "white"
           }
          },
          "shapedefaults": {
           "line": {
            "color": "#2a3f5f"
           }
          },
          "ternary": {
           "aaxis": {
            "gridcolor": "white",
            "linecolor": "white",
            "ticks": ""
           },
           "baxis": {
            "gridcolor": "white",
            "linecolor": "white",
            "ticks": ""
           },
           "bgcolor": "#E5ECF6",
           "caxis": {
            "gridcolor": "white",
            "linecolor": "white",
            "ticks": ""
           }
          },
          "title": {
           "x": 0.05
          },
          "xaxis": {
           "automargin": true,
           "gridcolor": "white",
           "linecolor": "white",
           "ticks": "",
           "title": {
            "standoff": 15
           },
           "zerolinecolor": "white",
           "zerolinewidth": 2
          },
          "yaxis": {
           "automargin": true,
           "gridcolor": "white",
           "linecolor": "white",
           "ticks": "",
           "title": {
            "standoff": 15
           },
           "zerolinecolor": "white",
           "zerolinewidth": 2
          }
         }
        },
        "width": 1600
       }
      },
      "image/png": "[encoded data removed]",
      "text/html": [
       "<div>                            <div id=\"e4ca19e3-8b11-4210-92d0-3dc4d3df724b\" class=\"plotly-graph-div\" style=\"height:800px; width:1600px;\"></div>            <script type=\"text/javascript\">                require([\"plotly\"], function(Plotly) {                    window.PLOTLYENV=window.PLOTLYENV || {};                                    if (document.getElementById(\"e4ca19e3-8b11-4210-92d0-3dc4d3df724b\")) {                    Plotly.newPlot(                        \"e4ca19e3-8b11-4210-92d0-3dc4d3df724b\",                        [{\"branchvalues\":\"total\",\"customdata\":[[6187.0],[5352.0],[16168.0],[1447.0],[6153.0],[9773.0],[3868.0],[1324.0],[5633.0],[4174.0],[717.0],[343.0],[1661.0],[162.0],[478.0],[1456.0],[877.0],[209.0],[316.0],[385.0],[67.0],[82.0],[155.0],[14.0],[89.0],[144.0],[94.0],[14.0],[117.0],[64.0],[20782.0],[15192.0],[35348.0],[3750.0],[15898.0],[26132.0],[14396.0],[4619.0],[13855.0],[12953.0],[241797.0],[206409.0],[135128.0],[134967.0],[312617.0],[325810.0],[254661.0],[133380.0],[214789.0],[242642.0],[11115.0],[10290.0],[29649.0],[3920.0],[16603.0],[18794.0],[7141.0],[3197.0],[16264.0],[12052.0],[3489.0],[1553.0],[9510.0],[501.0],[2068.0],[4647.0],[2556.0],[570.0],[2207.0],[1446.0],[12085.0],[9287.0],[38732.0],[2089.0],[10137.0],[18677.0],[6355.0],[2061.0],[11008.0],[6848.0],[1401.0],[595.0],[3979.0],[234.0],[788.0],[2783.0],[1442.0],[326.0],[619.0],[632.0],[131.0],[143.0],[371.0],[21.0],[147.0],[276.0],[156.0],[22.0],[230.0],[106.0],[40589.0],[26359.0],[84677.0],[5412.0],[26192.0],[49941.0],[23655.0],[7187.0],[27074.0],[21251.0],[472245.0],[358148.0],[323700.0],[194779.0],[515053.0],[622644.0],[418426.0],[207563.0],[419686.0],[398080.0],[21709.0],[17855.0],[71026.0],[5658.0],[27355.0],[35917.0],[11734.0],[4975.0],[31780.0],[19772.0],[6814.0],[2694.0],[22782.0],[723.0],[3407.0],[8881.0],[4200.0],[888.0],[4312.0],[2373.0],[16170.0],[12441.0],[50257.0],[3016.0],[14241.0],[26451.0],[9251.0],[3395.0],[14834.0],[9262.0],[1875.0],[798.0],[5164.0],[338.0],[1108.0],[3942.0],[2099.0],[537.0],[834.0],[856.0],[175.0],[191.0],[481.0],[31.0],[207.0],[392.0],[227.0],[37.0],[310.0],[143.0],[54311.0],[35311.0],[109872.0],[7813.0],[36796.0],[70729.0],[34432.0],[11839.0],[36485.0],[28743.0],[631910.0],[479775.0],[420020.0],[281233.0],[723562.0],[881836.0],[609074.0],[341892.0],[565590.0],[538435.0],[29049.0],[23918.0],[92160.0],[8169.0],[38429.0],[50869.0],[17080.0],[8195.0],[42828.0],[26744.0],[9118.0],[3609.0],[29561.0],[1045.0],[4786.0],[12578.0],[6114.0],[1463.0],[5811.0],[3210.0],[18796.0],[16364.0],[66620.0],[4044.0],[18463.0],[33192.0],[11957.0],[4072.0],[18223.0],[11850.0],[2180.0],[1049.0],[6845.0],[454.0],[1436.0],[4947.0],[2712.0],[644.0],[1024.0],[1095.0],[203.0],[252.0],[638.0],[41.0],[269.0],[491.0],[293.0],[44.0],[381.0],[183.0],[63128.0],[46445.0],[145645.0],[10474.0],[47704.0],[88752.0],[44499.0],[14201.0],[44818.0],[36773.0],[734490.0],[631051.0],[556772.0],[377047.0],[938049.0],[1106551.0],[787166.0],[410103.0],[694775.0],[688845.0],[33765.0],[31460.0],[122167.0],[10953.0],[49821.0],[63831.0],[22074.0],[9831.0],[52610.0],[34215.0],[10598.0],[4748.0],[39185.0],[1401.0],[6205.0],[15784.0],[7902.0],[1755.0],[7139.0],[4107.0],[35393.0],[26039.0],[235604.0],[6224.0],[32687.0],[68279.0],[21371.0],[7456.0],[31457.0],[20060.0],[4105.0],[1670.0],[24209.0],[699.0],[2543.0],[10177.0],[4848.0],[1179.0],[1768.0],[1854.0],[383.0],[401.0],[2259.0],[64.0],[476.0],[1012.0],[524.0],[82.0],[657.0],[310.0],[118872.0],[73905.0],[515080.0],[16121.0],[84453.0],[182569.0],[79535.0],[26000.0],[77367.0],[62251.0],[1383081.0],[1004151.0],[1969046.0],[580295.0],[1660699.0],[2276236.0],[1406915.0],[750842.0],[1199330.0],[1166105.0],[63581.0],[50060.0],[432048.0],[16857.0],[88202.0],[131305.0],[39454.0],[17999.0],[90817.0],[57920.0],[19957.0],[7555.0],[138581.0],[2156.0],[10986.0],[32468.0],[14124.0],[3213.0],[12323.0],[6952.0],[20299.0],[17427.0],[81776.0],[4424.0],[20423.0],[29368.0],[10109.0],[4710.0],[22591.0],[14024.0],[2354.0],[1118.0],[8402.0],[496.0],[1589.0],[4377.0],[2293.0],[745.0],[1270.0],[1296.0],[220.0],[268.0],[784.0],[45.0],[297.0],[435.0],[248.0],[51.0],[472.0],[217.0],[68177.0],[49463.0],[178781.0],[11458.0],[52768.0],[78528.0],[37625.0],[16426.0],[55562.0],[43520.0],[793244.0],[672066.0],[683443.0],[412439.0],[1037644.0],[979068.0],[665559.0],[474347.0],[861329.0],[815228.0],[36466.0],[33505.0],[149961.0],[11981.0],[55111.0],[56478.0],[18664.0],[11371.0],[65223.0],[40492.0],[11446.0],[5056.0],[48100.0],[1532.0],[6864.0],[13965.0],[6681.0],[2030.0],[8850.0],[4860.0],[3174.0],[2542.0],[15458.0],[544.0],[2656.0],[5156.0],[1683.0],[634.0],[3087.0],[1798.0],[368.0],[163.0],[1588.0],[61.0],[206.0],[768.0],[381.0],[100.0],[173.0],[166.0],[34.0],[39.0],[148.0],[5.0],[38.0],[76.0],[41.0],[6.0],[64.0],[27.0],[10662.0],[7216.0],[33795.0],[1409.0],[6864.0],[13789.0],[6266.0],[2211.0],[7593.0],[5582.0],[124057.0],[98044.0],[129192.0],[50730.0],[134983.0],[171917.0],[110835.0],[63851.0],[117699.0],[104561.0],[5703.0],[4887.0],[28347.0],[1473.0],[7169.0],[9917.0],[3108.0],[1530.0],[8912.0],[5193.0],[1790.0],[737.0],[9092.0],[188.0],[892.0],[2452.0],[1112.0],[273.0],[1209.0],[623.0],[741413.3674820745],[572402.1083124522],[794814.2665495209],[361739.17443000874],[938021.6063524513],[1159514.4288975135],[777279.094190295],[445787.7932416946],[677612.3052005653],[680258.6069379532]],\"domain\":{\"x\":[0.0,1.0],\"y\":[0.0,1.0]},\"hovertemplate\":\"labels=%{label}<br>People identified_sum=%{value}<br>parent=%{parent}<br>id=%{id}<br>People identified=%{color}<extra></extra>\",\"ids\":[\"East/Apprenticeship and Africa\",\"East Midlands/Apprenticeship and Africa\",\"London/Apprenticeship and Africa\",\"North East/Apprenticeship and Africa\",\"North West/Apprenticeship and Africa\",\"South East/Apprenticeship and Africa\",\"South West/Apprenticeship and Africa\",\"Wales/Apprenticeship and Africa\",\"West Midlands/Apprenticeship and Africa\",\"Yorkshire and The Humber/Apprenticeship and Africa\",\"East/Apprenticeship and Antarctica and Oceania (including Australasia) and Other\",\"East Midlands/Apprenticeship and Antarctica and Oceania (including Australasia) and Other\",\"London/Apprenticeship and Antarctica and Oceania (including Australasia) and Other\",\"North East/Apprenticeship and Antarctica and Oceania (including Australasia) and Other\",\"North West/Apprenticeship and Antarctica and Oceania (including Australasia) and Other\",\"South East/Apprenticeship and Antarctica and Oceania (including Australasia) and Other\",\"South West/Apprenticeship and Antarctica and Oceania (including Australasia) and Other\",\"Wales/Apprenticeship and Antarctica and Oceania (including Australasia) and Other\",\"West Midlands/Apprenticeship and Antarctica and Oceania (including Australasia) and Other\",\"Yorkshire and The Humber/Apprenticeship and Antarctica and Oceania (including Australasia) and Other\",\"East/Apprenticeship and British Overseas\",\"East Midlands/Apprenticeship and British Overseas\",\"London/Apprenticeship and British Overseas\",\"North East/Apprenticeship and British Overseas\",\"North West/Apprenticeship and British Overseas\",\"South East/Apprenticeship and British Overseas\",\"South West/Apprenticeship and British Overseas\",\"Wales/Apprenticeship and British Overseas\",\"West Midlands/Apprenticeship and British Overseas\",\"Yorkshire and The Humber/Apprenticeship and British Overseas\",\"East/Apprenticeship and EU\",\"East Midlands/Apprenticeship and EU\",\"London/Apprenticeship and EU\",\"North East/Apprenticeship and EU\",\"North West/Apprenticeship and EU\",\"South East/Apprenticeship and EU\",\"South West/Apprenticeship and EU\",\"Wales/Apprenticeship and EU\",\"West Midlands/Apprenticeship and EU\",\"Yorkshire and The Humber/Apprenticeship and EU\",\"East/Apprenticeship and Europe: United Kingdom\",\"East Midlands/Apprenticeship and Europe: United Kingdom\",\"London/Apprenticeship and Europe: United Kingdom\",\"North East/Apprenticeship and Europe: United Kingdom\",\"North West/Apprenticeship and Europe: United Kingdom\",\"South East/Apprenticeship and Europe: United Kingdom\",\"South West/Apprenticeship and Europe: United Kingdom\",\"Wales/Apprenticeship and Europe: United Kingdom\",\"West Midlands/Apprenticeship and Europe: United Kingdom\",\"Yorkshire and The Humber/Apprenticeship and Europe: United Kingdom\",\"East/Apprenticeship and Middle East and Asia\",\"East Midlands/Apprenticeship and Middle East and Asia\",\"London/Apprenticeship and Middle East and Asia\",\"North East/Apprenticeship and Middle East and Asia\",\"North West/Apprenticeship and Middle East and Asia\",\"South East/Apprenticeship and Middle East and Asia\",\"South West/Apprenticeship and Middle East and Asia\",\"Wales/Apprenticeship and Middle East and Asia\",\"West Midlands/Apprenticeship and Middle East and Asia\",\"Yorkshire and The Humber/Apprenticeship and Middle East and Asia\",\"East/Apprenticeship and The Americas and the Caribbean\",\"East Midlands/Apprenticeship and The Americas and the Caribbean\",\"London/Apprenticeship and The Americas and the Caribbean\",\"North East/Apprenticeship and The Americas and the Caribbean\",\"North West/Apprenticeship and The Americas and the Caribbean\",\"South East/Apprenticeship and The Americas and the Caribbean\",\"South West/Apprenticeship and The Americas and the Caribbean\",\"Wales/Apprenticeship and The Americas and the Caribbean\",\"West Midlands/Apprenticeship and The Americas and the Caribbean\",\"Yorkshire and The Humber/Apprenticeship and The Americas and the Caribbean\",\"East/Level 1 and entry level qualifications and Africa\",\"East Midlands/Level 1 and entry level qualifications and Africa\",\"London/Level 1 and entry level qualifications and Africa\",\"North East/Level 1 and entry level qualifications and Africa\",\"North West/Level 1 and entry level qualifications and Africa\",\"South East/Level 1 and entry level qualifications and Africa\",\"South West/Level 1 and entry level qualifications and Africa\",\"Wales/Level 1 and entry level qualifications and Africa\",\"West Midlands/Level 1 and entry level qualifications and Africa\",\"Yorkshire and The Humber/Level 1 and entry level qualifications and Africa\",\"East/Level 1 and entry level qualifications and Antarctica and Oceania (including Australasia) and Other\",\"East Midlands/Level 1 and entry level qualifications and Antarctica and Oceania (including Australasia) and Other\",\"London/Level 1 and entry level qualifications and Antarctica and Oceania (including Australasia) and Other\",\"North East/Level 1 and entry level qualifications and Antarctica and Oceania (including Australasia) and Other\",\"North West/Level 1 and entry level qualifications and Antarctica and Oceania (including Australasia) and Other\",\"South East/Level 1 and entry level qualifications and Antarctica and Oceania (including Australasia) and Other\",\"South West/Level 1 and entry level qualifications and Antarctica and Oceania (including Australasia) and Other\",\"Wales/Level 1 and entry level qualifications and Antarctica and Oceania (including Australasia) and Other\",\"West Midlands/Level 1 and entry level qualifications and Antarctica and Oceania (including Australasia) and Other\",\"Yorkshire and The Humber/Level 1 and entry level qualifications and Antarctica and Oceania (including Australasia) and Other\",\"East/Level 1 and entry level qualifications and British Overseas\",\"East Midlands/Level 1 and entry level qualifications and British Overseas\",\"London/Level 1 and entry level qualifications and British Overseas\",\"North East/Level 1 and entry level qualifications and British Overseas\",\"North West/Level 1 and entry level qualifications and British Overseas\",\"South East/Level 1 and entry level qualifications and British Overseas\",\"South West/Level 1 and entry level qualifications and British Overseas\",\"Wales/Level 1 and entry level qualifications and British Overseas\",\"West Midlands/Level 1 and entry level qualifications and British Overseas\",\"Yorkshire and The Humber/Level 1 and entry level qualifications and British Overseas\",\"East/Level 1 and entry level qualifications and EU\",\"East Midlands/Level 1 and entry level qualifications and EU\",\"London/Level 1 and entry level qualifications and EU\",\"North East/Level 1 and entry level qualifications and EU\",\"North West/Level 1 and entry level qualifications and EU\",\"South East/Level 1 and entry level qualifications and EU\",\"South West/Level 1 and entry level qualifications and EU\",\"Wales/Level 1 and entry level qualifications and EU\",\"West Midlands/Level 1 and entry level qualifications and EU\",\"Yorkshire and The Humber/Level 1 and entry level qualifications and EU\",\"East/Level 1 and entry level qualifications and Europe: United Kingdom\",\"East Midlands/Level 1 and entry level qualifications and Europe: United Kingdom\",\"London/Level 1 and entry level qualifications and Europe: United Kingdom\",\"North East/Level 1 and entry level qualifications and Europe: United Kingdom\",\"North West/Level 1 and entry level qualifications and Europe: United Kingdom\",\"South East/Level 1 and entry level qualifications and Europe: United Kingdom\",\"South West/Level 1 and entry level qualifications and Europe: United Kingdom\",\"Wales/Level 1 and entry level qualifications and Europe: United Kingdom\",\"West Midlands/Level 1 and entry level qualifications and Europe: United Kingdom\",\"Yorkshire and The Humber/Level 1 and entry level qualifications and Europe: United Kingdom\",\"East/Level 1 and entry level qualifications and Middle East and Asia\",\"East Midlands/Level 1 and entry level qualifications and Middle East and Asia\",\"London/Level 1 and entry level qualifications and Middle East and Asia\",\"North East/Level 1 and entry level qualifications and Middle East and Asia\",\"North West/Level 1 and entry level qualifications and Middle East and Asia\",\"South East/Level 1 and entry level qualifications and Middle East and Asia\",\"South West/Level 1 and entry level qualifications and Middle East and Asia\",\"Wales/Level 1 and entry level qualifications and Middle East and Asia\",\"West Midlands/Level 1 and entry level qualifications and Middle East and Asia\",\"Yorkshire and The Humber/Level 1 and entry level qualifications and Middle East and Asia\",\"East/Level 1 and entry level qualifications and The Americas and the Caribbean\",\"East Midlands/Level 1 and entry level qualifications and The Americas and the Caribbean\",\"London/Level 1 and entry level qualifications and The Americas and the Caribbean\",\"North East/Level 1 and entry level qualifications and The Americas and the Caribbean\",\"North West/Level 1 and entry level qualifications and The Americas and the Caribbean\",\"South East/Level 1 and entry level qualifications and The Americas and the Caribbean\",\"South West/Level 1 and entry level qualifications and The Americas and the Caribbean\",\"Wales/Level 1 and entry level qualifications and The Americas and the Caribbean\",\"West Midlands/Level 1 and entry level qualifications and The Americas and the Caribbean\",\"Yorkshire and The Humber/Level 1 and entry level qualifications and The Americas and the Caribbean\",\"East/Level 2 qualifications and Africa\",\"East Midlands/Level 2 qualifications and Africa\",\"London/Level 2 qualifications and Africa\",\"North East/Level 2 qualifications and Africa\",\"North West/Level 2 qualifications and Africa\",\"South East/Level 2 qualifications and Africa\",\"South West/Level 2 qualifications and Africa\",\"Wales/Level 2 qualifications and Africa\",\"West Midlands/Level 2 qualifications and Africa\",\"Yorkshire and The Humber/Level 2 qualifications and Africa\",\"East/Level 2 qualifications and Antarctica and Oceania (including Australasia) and Other\",\"East Midlands/Level 2 qualifications and Antarctica and Oceania (including Australasia) and Other\",\"London/Level 2 qualifications and Antarctica and Oceania (including Australasia) and Other\",\"North East/Level 2 qualifications and Antarctica and Oceania (including Australasia) and Other\",\"North West/Level 2 qualifications and Antarctica and Oceania (including Australasia) and Other\",\"South East/Level 2 qualifications and Antarctica and Oceania (including Australasia) and Other\",\"South West/Level 2 qualifications and Antarctica and Oceania (including Australasia) and Other\",\"Wales/Level 2 qualifications and Antarctica and Oceania (including Australasia) and Other\",\"West Midlands/Level 2 qualifications and Antarctica and Oceania (including Australasia) and Other\",\"Yorkshire and The Humber/Level 2 qualifications and Antarctica and Oceania (including Australasia) and Other\",\"East/Level 2 qualifications and British Overseas\",\"East Midlands/Level 2 qualifications and British Overseas\",\"London/Level 2 qualifications and British Overseas\",\"North East/Level 2 qualifications and British Overseas\",\"North West/Level 2 qualifications and British Overseas\",\"South East/Level 2 qualifications and British Overseas\",\"South West/Level 2 qualifications and British Overseas\",\"Wales/Level 2 qualifications and British Overseas\",\"West Midlands/Level 2 qualifications and British Overseas\",\"Yorkshire and The Humber/Level 2 qualifications and British Overseas\",\"East/Level 2 qualifications and EU\",\"East Midlands/Level 2 qualifications and EU\",\"London/Level 2 qualifications and EU\",\"North East/Level 2 qualifications and EU\",\"North West/Level 2 qualifications and EU\",\"South East/Level 2 qualifications and EU\",\"South West/Level 2 qualifications and EU\",\"Wales/Level 2 qualifications and EU\",\"West Midlands/Level 2 qualifications and EU\",\"Yorkshire and The Humber/Level 2 qualifications and EU\",\"East/Level 2 qualifications and Europe: United Kingdom\",\"East Midlands/Level 2 qualifications and Europe: United Kingdom\",\"London/Level 2 qualifications and Europe: United Kingdom\",\"North East/Level 2 qualifications and Europe: United Kingdom\",\"North West/Level 2 qualifications and Europe: United Kingdom\",\"South East/Level 2 qualifications and Europe: United Kingdom\",\"South West/Level 2 qualifications and Europe: United Kingdom\",\"Wales/Level 2 qualifications and Europe: United Kingdom\",\"West Midlands/Level 2 qualifications and Europe: United Kingdom\",\"Yorkshire and The Humber/Level 2 qualifications and Europe: United Kingdom\",\"East/Level 2 qualifications and Middle East and Asia\",\"East Midlands/Level 2 qualifications and Middle East and Asia\",\"London/Level 2 qualifications and Middle East and Asia\",\"North East/Level 2 qualifications and Middle East and Asia\",\"North West/Level 2 qualifications and Middle East and Asia\",\"South East/Level 2 qualifications and Middle East and Asia\",\"South West/Level 2 qualifications and Middle East and Asia\",\"Wales/Level 2 qualifications and Middle East and Asia\",\"West Midlands/Level 2 qualifications and Middle East and Asia\",\"Yorkshire and The Humber/Level 2 qualifications and Middle East and Asia\",\"East/Level 2 qualifications and The Americas and the Caribbean\",\"East Midlands/Level 2 qualifications and The Americas and the Caribbean\",\"London/Level 2 qualifications and The Americas and the Caribbean\",\"North East/Level 2 qualifications and The Americas and the Caribbean\",\"North West/Level 2 qualifications and The Americas and the Caribbean\",\"South East/Level 2 qualifications and The Americas and the Caribbean\",\"South West/Level 2 qualifications and The Americas and the Caribbean\",\"Wales/Level 2 qualifications and The Americas and the Caribbean\",\"West Midlands/Level 2 qualifications and The Americas and the Caribbean\",\"Yorkshire and The Humber/Level 2 qualifications and The Americas and the Caribbean\",\"East/Level 3 qualifications and Africa\",\"East Midlands/Level 3 qualifications and Africa\",\"London/Level 3 qualifications and Africa\",\"North East/Level 3 qualifications and Africa\",\"North West/Level 3 qualifications and Africa\",\"South East/Level 3 qualifications and Africa\",\"South West/Level 3 qualifications and Africa\",\"Wales/Level 3 qualifications and Africa\",\"West Midlands/Level 3 qualifications and Africa\",\"Yorkshire and The Humber/Level 3 qualifications and Africa\",\"East/Level 3 qualifications and Antarctica and Oceania (including Australasia) and Other\",\"East Midlands/Level 3 qualifications and Antarctica and Oceania (including Australasia) and Other\",\"London/Level 3 qualifications and Antarctica and Oceania (including Australasia) and Other\",\"North East/Level 3 qualifications and Antarctica and Oceania (including Australasia) and Other\",\"North West/Level 3 qualifications and Antarctica and Oceania (including Australasia) and Other\",\"South East/Level 3 qualifications and Antarctica and Oceania (including Australasia) and Other\",\"South West/Level 3 qualifications and Antarctica and Oceania (including Australasia) and Other\",\"Wales/Level 3 qualifications and Antarctica and Oceania (including Australasia) and Other\",\"West Midlands/Level 3 qualifications and Antarctica and Oceania (including Australasia) and Other\",\"Yorkshire and The Humber/Level 3 qualifications and Antarctica and Oceania (including Australasia) and Other\",\"East/Level 3 qualifications and British Overseas\",\"East Midlands/Level 3 qualifications and British Overseas\",\"London/Level 3 qualifications and British Overseas\",\"North East/Level 3 qualifications and British Overseas\",\"North West/Level 3 qualifications and British Overseas\",\"South East/Level 3 qualifications and British Overseas\",\"South West/Level 3 qualifications and British Overseas\",\"Wales/Level 3 qualifications and British Overseas\",\"West Midlands/Level 3 qualifications and British Overseas\",\"Yorkshire and The Humber/Level 3 qualifications and British Overseas\",\"East/Level 3 qualifications and EU\",\"East Midlands/Level 3 qualifications and EU\",\"London/Level 3 qualifications and EU\",\"North East/Level 3 qualifications and EU\",\"North West/Level 3 qualifications and EU\",\"South East/Level 3 qualifications and EU\",\"South West/Level 3 qualifications and EU\",\"Wales/Level 3 qualifications and EU\",\"West Midlands/Level 3 qualifications and EU\",\"Yorkshire and The Humber/Level 3 qualifications and EU\",\"East/Level 3 qualifications and Europe: United Kingdom\",\"East Midlands/Level 3 qualifications and Europe: United Kingdom\",\"London/Level 3 qualifications and Europe: United Kingdom\",\"North East/Level 3 qualifications and Europe: United Kingdom\",\"North West/Level 3 qualifications and Europe: United Kingdom\",\"South East/Level 3 qualifications and Europe: United Kingdom\",\"South West/Level 3 qualifications and Europe: United Kingdom\",\"Wales/Level 3 qualifications and Europe: United Kingdom\",\"West Midlands/Level 3 qualifications and Europe: United Kingdom\",\"Yorkshire and The Humber/Level 3 qualifications and Europe: United Kingdom\",\"East/Level 3 qualifications and Middle East and Asia\",\"East Midlands/Level 3 qualifications and Middle East and Asia\",\"London/Level 3 qualifications and Middle East and Asia\",\"North East/Level 3 qualifications and Middle East and Asia\",\"North West/Level 3 qualifications and Middle East and Asia\",\"South East/Level 3 qualifications and Middle East and Asia\",\"South West/Level 3 qualifications and Middle East and Asia\",\"Wales/Level 3 qualifications and Middle East and Asia\",\"West Midlands/Level 3 qualifications and Middle East and Asia\",\"Yorkshire and The Humber/Level 3 qualifications and Middle East and Asia\",\"East/Level 3 qualifications and The Americas and the Caribbean\",\"East Midlands/Level 3 qualifications and The Americas and the Caribbean\",\"London/Level 3 qualifications and The Americas and the Caribbean\",\"North East/Level 3 qualifications and The Americas and the Caribbean\",\"North West/Level 3 qualifications and The Americas and the Caribbean\",\"South East/Level 3 qualifications and The Americas and the Caribbean\",\"South West/Level 3 qualifications and The Americas and the Caribbean\",\"Wales/Level 3 qualifications and The Americas and the Caribbean\",\"West Midlands/Level 3 qualifications and The Americas and the Caribbean\",\"Yorkshire and The Humber/Level 3 qualifications and The Americas and the Caribbean\",\"East/Level 4 qualifications and above and Africa\",\"East Midlands/Level 4 qualifications and above and Africa\",\"London/Level 4 qualifications and above and Africa\",\"North East/Level 4 qualifications and above and Africa\",\"North West/Level 4 qualifications and above and Africa\",\"South East/Level 4 qualifications and above and Africa\",\"South West/Level 4 qualifications and above and Africa\",\"Wales/Level 4 qualifications and above and Africa\",\"West Midlands/Level 4 qualifications and above and Africa\",\"Yorkshire and The Humber/Level 4 qualifications and above and Africa\",\"East/Level 4 qualifications and above and Antarctica and Oceania (including Australasia) and Other\",\"East Midlands/Level 4 qualifications and above and Antarctica and Oceania (including Australasia) and Other\",\"London/Level 4 qualifications and above and Antarctica and Oceania (including Australasia) and Other\",\"North East/Level 4 qualifications and above and Antarctica and Oceania (including Australasia) and Other\",\"North West/Level 4 qualifications and above and Antarctica and Oceania (including Australasia) and Other\",\"South East/Level 4 qualifications and above and Antarctica and Oceania (including Australasia) and Other\",\"South West/Level 4 qualifications and above and Antarctica and Oceania (including Australasia) and Other\",\"Wales/Level 4 qualifications and above and Antarctica and Oceania (including Australasia) and Other\",\"West Midlands/Level 4 qualifications and above and Antarctica and Oceania (including Australasia) and Other\",\"Yorkshire and The Humber/Level 4 qualifications and above and Antarctica and Oceania (including Australasia) and Other\",\"East/Level 4 qualifications and above and British Overseas\",\"East Midlands/Level 4 qualifications and above and British Overseas\",\"London/Level 4 qualifications and above and British Overseas\",\"North East/Level 4 qualifications and above and British Overseas\",\"North West/Level 4 qualifications and above and British Overseas\",\"South East/Level 4 qualifications and above and British Overseas\",\"South West/Level 4 qualifications and above and British Overseas\",\"Wales/Level 4 qualifications and above and British Overseas\",\"West Midlands/Level 4 qualifications and above and British Overseas\",\"Yorkshire and The Humber/Level 4 qualifications and above and British Overseas\",\"East/Level 4 qualifications and above and EU\",\"East Midlands/Level 4 qualifications and above and EU\",\"London/Level 4 qualifications and above and EU\",\"North East/Level 4 qualifications and above and EU\",\"North West/Level 4 qualifications and above and EU\",\"South East/Level 4 qualifications and above and EU\",\"South West/Level 4 qualifications and above and EU\",\"Wales/Level 4 qualifications and above and EU\",\"West Midlands/Level 4 qualifications and above and EU\",\"Yorkshire and The Humber/Level 4 qualifications and above and EU\",\"East/Level 4 qualifications and above and Europe: United Kingdom\",\"East Midlands/Level 4 qualifications and above and Europe: United Kingdom\",\"London/Level 4 qualifications and above and Europe: United Kingdom\",\"North East/Level 4 qualifications and above and Europe: United Kingdom\",\"North West/Level 4 qualifications and above and Europe: United Kingdom\",\"South East/Level 4 qualifications and above and Europe: United Kingdom\",\"South West/Level 4 qualifications and above and Europe: United Kingdom\",\"Wales/Level 4 qualifications and above and Europe: United Kingdom\",\"West Midlands/Level 4 qualifications and above and Europe: United Kingdom\",\"Yorkshire and The Humber/Level 4 qualifications and above and Europe: United Kingdom\",\"East/Level 4 qualifications and above and Middle East and Asia\",\"East Midlands/Level 4 qualifications and above and Middle East and Asia\",\"London/Level 4 qualifications and above and Middle East and Asia\",\"North East/Level 4 qualifications and above and Middle East and Asia\",\"North West/Level 4 qualifications and above and Middle East and Asia\",\"South East/Level 4 qualifications and above and Middle East and Asia\",\"South West/Level 4 qualifications and above and Middle East and Asia\",\"Wales/Level 4 qualifications and above and Middle East and Asia\",\"West Midlands/Level 4 qualifications and above and Middle East and Asia\",\"Yorkshire and The Humber/Level 4 qualifications and above and Middle East and Asia\",\"East/Level 4 qualifications and above and The Americas and the Caribbean\",\"East Midlands/Level 4 qualifications and above and The Americas and the Caribbean\",\"London/Level 4 qualifications and above and The Americas and the Caribbean\",\"North East/Level 4 qualifications and above and The Americas and the Caribbean\",\"North West/Level 4 qualifications and above and The Americas and the Caribbean\",\"South East/Level 4 qualifications and above and The Americas and the Caribbean\",\"South West/Level 4 qualifications and above and The Americas and the Caribbean\",\"Wales/Level 4 qualifications and above and The Americas and the Caribbean\",\"West Midlands/Level 4 qualifications and above and The Americas and the Caribbean\",\"Yorkshire and The Humber/Level 4 qualifications and above and The Americas and the Caribbean\",\"East/No qualifications and Africa\",\"East Midlands/No qualifications and Africa\",\"London/No qualifications and Africa\",\"North East/No qualifications and Africa\",\"North West/No qualifications and Africa\",\"South East/No qualifications and Africa\",\"South West/No qualifications and Africa\",\"Wales/No qualifications and Africa\",\"West Midlands/No qualifications and Africa\",\"Yorkshire and The Humber/No qualifications and Africa\",\"East/No qualifications and Antarctica and Oceania (including Australasia) and Other\",\"East Midlands/No qualifications and Antarctica and Oceania (including Australasia) and Other\",\"London/No qualifications and Antarctica and Oceania (including Australasia) and Other\",\"North East/No qualifications and Antarctica and Oceania (including Australasia) and Other\",\"North West/No qualifications and Antarctica and Oceania (including Australasia) and Other\",\"South East/No qualifications and Antarctica and Oceania (including Australasia) and Other\",\"South West/No qualifications and Antarctica and Oceania (including Australasia) and Other\",\"Wales/No qualifications and Antarctica and Oceania (including Australasia) and Other\",\"West Midlands/No qualifications and Antarctica and Oceania (including Australasia) and Other\",\"Yorkshire and The Humber/No qualifications and Antarctica and Oceania (including Australasia) and Other\",\"East/No qualifications and British Overseas\",\"East Midlands/No qualifications and British Overseas\",\"London/No qualifications and British Overseas\",\"North East/No qualifications and British Overseas\",\"North West/No qualifications and British Overseas\",\"South East/No qualifications and British Overseas\",\"South West/No qualifications and British Overseas\",\"Wales/No qualifications and British Overseas\",\"West Midlands/No qualifications and British Overseas\",\"Yorkshire and The Humber/No qualifications and British Overseas\",\"East/No qualifications and EU\",\"East Midlands/No qualifications and EU\",\"London/No qualifications and EU\",\"North East/No qualifications and EU\",\"North West/No qualifications and EU\",\"South East/No qualifications and EU\",\"South West/No qualifications and EU\",\"Wales/No qualifications and EU\",\"West Midlands/No qualifications and EU\",\"Yorkshire and The Humber/No qualifications and EU\",\"East/No qualifications and Europe: United Kingdom\",\"East Midlands/No qualifications and Europe: United Kingdom\",\"London/No qualifications and Europe: United Kingdom\",\"North East/No qualifications and Europe: United Kingdom\",\"North West/No qualifications and Europe: United Kingdom\",\"South East/No qualifications and Europe: United Kingdom\",\"South West/No qualifications and Europe: United Kingdom\",\"Wales/No qualifications and Europe: United Kingdom\",\"West Midlands/No qualifications and Europe: United Kingdom\",\"Yorkshire and The Humber/No qualifications and Europe: United Kingdom\",\"East/No qualifications and Middle East and Asia\",\"East Midlands/No qualifications and Middle East and Asia\",\"London/No qualifications and Middle East and Asia\",\"North East/No qualifications and Middle East and Asia\",\"North West/No qualifications and Middle East and Asia\",\"South East/No qualifications and Middle East and Asia\",\"South West/No qualifications and Middle East and Asia\",\"Wales/No qualifications and Middle East and Asia\",\"West Midlands/No qualifications and Middle East and Asia\",\"Yorkshire and The Humber/No qualifications and Middle East and Asia\",\"East/No qualifications and The Americas and the Caribbean\",\"East Midlands/No qualifications and The Americas and the Caribbean\",\"London/No qualifications and The Americas and the Caribbean\",\"North East/No qualifications and The Americas and the Caribbean\",\"North West/No qualifications and The Americas and the Caribbean\",\"South East/No qualifications and The Americas and the Caribbean\",\"South West/No qualifications and The Americas and the Caribbean\",\"Wales/No qualifications and The Americas and the Caribbean\",\"West Midlands/No qualifications and The Americas and the Caribbean\",\"Yorkshire and The Humber/No qualifications and The Americas and the Caribbean\",\"East/Other qualifications and Africa\",\"East Midlands/Other qualifications and Africa\",\"London/Other qualifications and Africa\",\"North East/Other qualifications and Africa\",\"North West/Other qualifications and Africa\",\"South East/Other qualifications and Africa\",\"South West/Other qualifications and Africa\",\"Wales/Other qualifications and Africa\",\"West Midlands/Other qualifications and Africa\",\"Yorkshire and The Humber/Other qualifications and Africa\",\"East/Other qualifications and Antarctica and Oceania (including Australasia) and Other\",\"East Midlands/Other qualifications and Antarctica and Oceania (including Australasia) and Other\",\"London/Other qualifications and Antarctica and Oceania (including Australasia) and Other\",\"North East/Other qualifications and Antarctica and Oceania (including Australasia) and Other\",\"North West/Other qualifications and Antarctica and Oceania (including Australasia) and Other\",\"South East/Other qualifications and Antarctica and Oceania (including Australasia) and Other\",\"South West/Other qualifications and Antarctica and Oceania (including Australasia) and Other\",\"Wales/Other qualifications and Antarctica and Oceania (including Australasia) and Other\",\"West Midlands/Other qualifications and Antarctica and Oceania (including Australasia) and Other\",\"Yorkshire and The Humber/Other qualifications and Antarctica and Oceania (including Australasia) and Other\",\"East/Other qualifications and British Overseas\",\"East Midlands/Other qualifications and British Overseas\",\"London/Other qualifications and British Overseas\",\"North East/Other qualifications and British Overseas\",\"North West/Other qualifications and British Overseas\",\"South East/Other qualifications and British Overseas\",\"South West/Other qualifications and British Overseas\",\"Wales/Other qualifications and British Overseas\",\"West Midlands/Other qualifications and British Overseas\",\"Yorkshire and The Humber/Other qualifications and British Overseas\",\"East/Other qualifications and EU\",\"East Midlands/Other qualifications and EU\",\"London/Other qualifications and EU\",\"North East/Other qualifications and EU\",\"North West/Other qualifications and EU\",\"South East/Other qualifications and EU\",\"South West/Other qualifications and EU\",\"Wales/Other qualifications and EU\",\"West Midlands/Other qualifications and EU\",\"Yorkshire and The Humber/Other qualifications and EU\",\"East/Other qualifications and Europe: United Kingdom\",\"East Midlands/Other qualifications and Europe: United Kingdom\",\"London/Other qualifications and Europe: United Kingdom\",\"North East/Other qualifications and Europe: United Kingdom\",\"North West/Other qualifications and Europe: United Kingdom\",\"South East/Other qualifications and Europe: United Kingdom\",\"South West/Other qualifications and Europe: United Kingdom\",\"Wales/Other qualifications and Europe: United Kingdom\",\"West Midlands/Other qualifications and Europe: United Kingdom\",\"Yorkshire and The Humber/Other qualifications and Europe: United Kingdom\",\"East/Other qualifications and Middle East and Asia\",\"East Midlands/Other qualifications and Middle East and Asia\",\"London/Other qualifications and Middle East and Asia\",\"North East/Other qualifications and Middle East and Asia\",\"North West/Other qualifications and Middle East and Asia\",\"South East/Other qualifications and Middle East and Asia\",\"South West/Other qualifications and Middle East and Asia\",\"Wales/Other qualifications and Middle East and Asia\",\"West Midlands/Other qualifications and Middle East and Asia\",\"Yorkshire and The Humber/Other qualifications and Middle East and Asia\",\"East/Other qualifications and The Americas and the Caribbean\",\"East Midlands/Other qualifications and The Americas and the Caribbean\",\"London/Other qualifications and The Americas and the Caribbean\",\"North East/Other qualifications and The Americas and the Caribbean\",\"North West/Other qualifications and The Americas and the Caribbean\",\"South East/Other qualifications and The Americas and the Caribbean\",\"South West/Other qualifications and The Americas and the Caribbean\",\"Wales/Other qualifications and The Americas and the Caribbean\",\"West Midlands/Other qualifications and The Americas and the Caribbean\",\"Yorkshire and The Humber/Other qualifications and The Americas and the Caribbean\",\"East\",\"East Midlands\",\"London\",\"North East\",\"North West\",\"South East\",\"South West\",\"Wales\",\"West Midlands\",\"Yorkshire and The Humber\"],\"labels\":[\"Apprenticeship and Africa\",\"Apprenticeship and Africa\",\"Apprenticeship and Africa\",\"Apprenticeship and Africa\",\"Apprenticeship and Africa\",\"Apprenticeship and Africa\",\"Apprenticeship and Africa\",\"Apprenticeship and Africa\",\"Apprenticeship and Africa\",\"Apprenticeship and Africa\",\"Apprenticeship and Antarctica and Oceania (including Australasia) and Other\",\"Apprenticeship and Antarctica and Oceania (including Australasia) and Other\",\"Apprenticeship and Antarctica and Oceania (including Australasia) and Other\",\"Apprenticeship and Antarctica and Oceania (including Australasia) and Other\",\"Apprenticeship and Antarctica and Oceania (including Australasia) and Other\",\"Apprenticeship and Antarctica and Oceania (including Australasia) and Other\",\"Apprenticeship and Antarctica and Oceania (including Australasia) and Other\",\"Apprenticeship and Antarctica and Oceania (including Australasia) and Other\",\"Apprenticeship and Antarctica and Oceania (including Australasia) and Other\",\"Apprenticeship and Antarctica and Oceania (including Australasia) and Other\",\"Apprenticeship and British Overseas\",\"Apprenticeship and British Overseas\",\"Apprenticeship and British Overseas\",\"Apprenticeship and British Overseas\",\"Apprenticeship and British Overseas\",\"Apprenticeship and British Overseas\",\"Apprenticeship and British Overseas\",\"Apprenticeship and British Overseas\",\"Apprenticeship and British Overseas\",\"Apprenticeship and British Overseas\",\"Apprenticeship and EU\",\"Apprenticeship and EU\",\"Apprenticeship and EU\",\"Apprenticeship and EU\",\"Apprenticeship and EU\",\"Apprenticeship and EU\",\"Apprenticeship and EU\",\"Apprenticeship and EU\",\"Apprenticeship and EU\",\"Apprenticeship and EU\",\"Apprenticeship and Europe: United Kingdom\",\"Apprenticeship and Europe: United Kingdom\",\"Apprenticeship and Europe: United Kingdom\",\"Apprenticeship and Europe: United Kingdom\",\"Apprenticeship and Europe: United Kingdom\",\"Apprenticeship and Europe: United Kingdom\",\"Apprenticeship and Europe: United Kingdom\",\"Apprenticeship and Europe: United Kingdom\",\"Apprenticeship and Europe: United Kingdom\",\"Apprenticeship and Europe: United Kingdom\",\"Apprenticeship and Middle East and Asia\",\"Apprenticeship and Middle East and Asia\",\"Apprenticeship and Middle East and Asia\",\"Apprenticeship and Middle East and Asia\",\"Apprenticeship and Middle East and Asia\",\"Apprenticeship and Middle East and Asia\",\"Apprenticeship and Middle East and Asia\",\"Apprenticeship and Middle East and Asia\",\"Apprenticeship and Middle East and Asia\",\"Apprenticeship and Middle East and Asia\",\"Apprenticeship and The Americas and the Caribbean\",\"Apprenticeship and The Americas and the Caribbean\",\"Apprenticeship and The Americas and the Caribbean\",\"Apprenticeship and The Americas and the Caribbean\",\"Apprenticeship and The Americas and the Caribbean\",\"Apprenticeship and The Americas and the Caribbean\",\"Apprenticeship and The Americas and the Caribbean\",\"Apprenticeship and The Americas and the Caribbean\",\"Apprenticeship and The Americas and the Caribbean\",\"Apprenticeship and The Americas and the Caribbean\",\"Level 1 and entry level qualifications and Africa\",\"Level 1 and entry level qualifications and Africa\",\"Level 1 and entry level qualifications and Africa\",\"Level 1 and entry level qualifications and Africa\",\"Level 1 and entry level qualifications and Africa\",\"Level 1 and entry level qualifications and Africa\",\"Level 1 and entry level qualifications and Africa\",\"Level 1 and entry level qualifications and Africa\",\"Level 1 and entry level qualifications and Africa\",\"Level 1 and entry level qualifications and Africa\",\"Level 1 and entry level qualifications and Antarctica and Oceania (including Australasia) and Other\",\"Level 1 and entry level qualifications and Antarctica and Oceania (including Australasia) and Other\",\"Level 1 and entry level qualifications and Antarctica and Oceania (including Australasia) and Other\",\"Level 1 and entry level qualifications and Antarctica and Oceania (including Australasia) and Other\",\"Level 1 and entry level qualifications and Antarctica and Oceania (including Australasia) and Other\",\"Level 1 and entry level qualifications and Antarctica and Oceania (including Australasia) and Other\",\"Level 1 and entry level qualifications and Antarctica and Oceania (including Australasia) and Other\",\"Level 1 and entry level qualifications and Antarctica and Oceania (including Australasia) and Other\",\"Level 1 and entry level qualifications and Antarctica and Oceania (including Australasia) and Other\",\"Level 1 and entry level qualifications and Antarctica and Oceania (including Australasia) and Other\",\"Level 1 and entry level qualifications and British Overseas\",\"Level 1 and entry level qualifications and British Overseas\",\"Level 1 and entry level qualifications and British Overseas\",\"Level 1 and entry level qualifications and British Overseas\",\"Level 1 and entry level qualifications and British Overseas\",\"Level 1 and entry level qualifications and British Overseas\",\"Level 1 and entry level qualifications and British Overseas\",\"Level 1 and entry level qualifications and British Overseas\",\"Level 1 and entry level qualifications and British Overseas\",\"Level 1 and entry level qualifications and British Overseas\",\"Level 1 and entry level qualifications and EU\",\"Level 1 and entry level qualifications and EU\",\"Level 1 and entry level qualifications and EU\",\"Level 1 and entry level qualifications and EU\",\"Level 1 and entry level qualifications and EU\",\"Level 1 and entry level qualifications and EU\",\"Level 1 and entry level qualifications and EU\",\"Level 1 and entry level qualifications and EU\",\"Level 1 and entry level qualifications and EU\",\"Level 1 and entry level qualifications and EU\",\"Level 1 and entry level qualifications and Europe: United Kingdom\",\"Level 1 and entry level qualifications and Europe: United Kingdom\",\"Level 1 and entry level qualifications and Europe: United Kingdom\",\"Level 1 and entry level qualifications and Europe: United Kingdom\",\"Level 1 and entry level qualifications and Europe: United Kingdom\",\"Level 1 and entry level qualifications and Europe: United Kingdom\",\"Level 1 and entry level qualifications and Europe: United Kingdom\",\"Level 1 and entry level qualifications and Europe: United Kingdom\",\"Level 1 and entry level qualifications and Europe: United Kingdom\",\"Level 1 and entry level qualifications and Europe: United Kingdom\",\"Level 1 and entry level qualifications and Middle East and Asia\",\"Level 1 and entry level qualifications and Middle East and Asia\",\"Level 1 and entry level qualifications and Middle East and Asia\",\"Level 1 and entry level qualifications and Middle East and Asia\",\"Level 1 and entry level qualifications and Middle East and Asia\",\"Level 1 and entry level qualifications and Middle East and Asia\",\"Level 1 and entry level qualifications and Middle East and Asia\",\"Level 1 and entry level qualifications and Middle East and Asia\",\"Level 1 and entry level qualifications and Middle East and Asia\",\"Level 1 and entry level qualifications and Middle East and Asia\",\"Level 1 and entry level qualifications and The Americas and the Caribbean\",\"Level 1 and entry level qualifications and The Americas and the Caribbean\",\"Level 1 and entry level qualifications and The Americas and the Caribbean\",\"Level 1 and entry level qualifications and The Americas and the Caribbean\",\"Level 1 and entry level qualifications and The Americas and the Caribbean\",\"Level 1 and entry level qualifications and The Americas and the Caribbean\",\"Level 1 and entry level qualifications and The Americas and the Caribbean\",\"Level 1 and entry level qualifications and The Americas and the Caribbean\",\"Level 1 and entry level qualifications and The Americas and the Caribbean\",\"Level 1 and entry level qualifications and The Americas and the Caribbean\",\"Level 2 qualifications and Africa\",\"Level 2 qualifications and Africa\",\"Level 2 qualifications and Africa\",\"Level 2 qualifications and Africa\",\"Level 2 qualifications and Africa\",\"Level 2 qualifications and Africa\",\"Level 2 qualifications and Africa\",\"Level 2 qualifications and Africa\",\"Level 2 qualifications and Africa\",\"Level 2 qualifications and Africa\",\"Level 2 qualifications and Antarctica and Oceania (including Australasia) and Other\",\"Level 2 qualifications and Antarctica and Oceania (including Australasia) and Other\",\"Level 2 qualifications and Antarctica and Oceania (including Australasia) and Other\",\"Level 2 qualifications and Antarctica and Oceania (including Australasia) and Other\",\"Level 2 qualifications and Antarctica and Oceania (including Australasia) and Other\",\"Level 2 qualifications and Antarctica and Oceania (including Australasia) and Other\",\"Level 2 qualifications and Antarctica and Oceania (including Australasia) and Other\",\"Level 2 qualifications and Antarctica and Oceania (including Australasia) and Other\",\"Level 2 qualifications and Antarctica and Oceania (including Australasia) and Other\",\"Level 2 qualifications and Antarctica and Oceania (including Australasia) and Other\",\"Level 2 qualifications and British Overseas\",\"Level 2 qualifications and British Overseas\",\"Level 2 qualifications and British Overseas\",\"Level 2 qualifications and British Overseas\",\"Level 2 qualifications and British Overseas\",\"Level 2 qualifications and British Overseas\",\"Level 2 qualifications and British Overseas\",\"Level 2 qualifications and British Overseas\",\"Level 2 qualifications and British Overseas\",\"Level 2 qualifications and British Overseas\",\"Level 2 qualifications and EU\",\"Level 2 qualifications and EU\",\"Level 2 qualifications and EU\",\"Level 2 qualifications and EU\",\"Level 2 qualifications and EU\",\"Level 2 qualifications and EU\",\"Level 2 qualifications and EU\",\"Level 2 qualifications and EU\",\"Level 2 qualifications and EU\",\"Level 2 qualifications and EU\",\"Level 2 qualifications and Europe: United Kingdom\",\"Level 2 qualifications and Europe: United Kingdom\",\"Level 2 qualifications and Europe: United Kingdom\",\"Level 2 qualifications and Europe: United Kingdom\",\"Level 2 qualifications and Europe: United Kingdom\",\"Level 2 qualifications and Europe: United Kingdom\",\"Level 2 qualifications and Europe: United Kingdom\",\"Level 2 qualifications and Europe: United Kingdom\",\"Level 2 qualifications and Europe: United Kingdom\",\"Level 2 qualifications and Europe: United Kingdom\",\"Level 2 qualifications and Middle East and Asia\",\"Level 2 qualifications and Middle East and Asia\",\"Level 2 qualifications and Middle East and Asia\",\"Level 2 qualifications and Middle East and Asia\",\"Level 2 qualifications and Middle East and Asia\",\"Level 2 qualifications and Middle East and Asia\",\"Level 2 qualifications and Middle East and Asia\",\"Level 2 qualifications and Middle East and Asia\",\"Level 2 qualifications and Middle East and Asia\",\"Level 2 qualifications and Middle East and Asia\",\"Level 2 qualifications and The Americas and the Caribbean\",\"Level 2 qualifications and The Americas and the Caribbean\",\"Level 2 qualifications and The Americas and the Caribbean\",\"Level 2 qualifications and The Americas and the Caribbean\",\"Level 2 qualifications and The Americas and the Caribbean\",\"Level 2 qualifications and The Americas and the Caribbean\",\"Level 2 qualifications and The Americas and the Caribbean\",\"Level 2 qualifications and The Americas and the Caribbean\",\"Level 2 qualifications and The Americas and the Caribbean\",\"Level 2 qualifications and The Americas and the Caribbean\",\"Level 3 qualifications and Africa\",\"Level 3 qualifications and Africa\",\"Level 3 qualifications and Africa\",\"Level 3 qualifications and Africa\",\"Level 3 qualifications and Africa\",\"Level 3 qualifications and Africa\",\"Level 3 qualifications and Africa\",\"Level 3 qualifications and Africa\",\"Level 3 qualifications and Africa\",\"Level 3 qualifications and Africa\",\"Level 3 qualifications and Antarctica and Oceania (including Australasia) and Other\",\"Level 3 qualifications and Antarctica and Oceania (including Australasia) and Other\",\"Level 3 qualifications and Antarctica and Oceania (including Australasia) and Other\",\"Level 3 qualifications and Antarctica and Oceania (including Australasia) and Other\",\"Level 3 qualifications and Antarctica and Oceania (including Australasia) and Other\",\"Level 3 qualifications and Antarctica and Oceania (including Australasia) and Other\",\"Level 3 qualifications and Antarctica and Oceania (including Australasia) and Other\",\"Level 3 qualifications and Antarctica and Oceania (including Australasia) and Other\",\"Level 3 qualifications and Antarctica and Oceania (including Australasia) and Other\",\"Level 3 qualifications and Antarctica and Oceania (including Australasia) and Other\",\"Level 3 qualifications and British Overseas\",\"Level 3 qualifications and British Overseas\",\"Level 3 qualifications and British Overseas\",\"Level 3 qualifications and British Overseas\",\"Level 3 qualifications and British Overseas\",\"Level 3 qualifications and British Overseas\",\"Level 3 qualifications and British Overseas\",\"Level 3 qualifications and British Overseas\",\"Level 3 qualifications and British Overseas\",\"Level 3 qualifications and British Overseas\",\"Level 3 qualifications and EU\",\"Level 3 qualifications and EU\",\"Level 3 qualifications and EU\",\"Level 3 qualifications and EU\",\"Level 3 qualifications and EU\",\"Level 3 qualifications and EU\",\"Level 3 qualifications and EU\",\"Level 3 qualifications and EU\",\"Level 3 qualifications and EU\",\"Level 3 qualifications and EU\",\"Level 3 qualifications and Europe: United Kingdom\",\"Level 3 qualifications and Europe: United Kingdom\",\"Level 3 qualifications and Europe: United Kingdom\",\"Level 3 qualifications and Europe: United Kingdom\",\"Level 3 qualifications and Europe: United Kingdom\",\"Level 3 qualifications and Europe: United Kingdom\",\"Level 3 qualifications and Europe: United Kingdom\",\"Level 3 qualifications and Europe: United Kingdom\",\"Level 3 qualifications and Europe: United Kingdom\",\"Level 3 qualifications and Europe: United Kingdom\",\"Level 3 qualifications and Middle East and Asia\",\"Level 3 qualifications and Middle East and Asia\",\"Level 3 qualifications and Middle East and Asia\",\"Level 3 qualifications and Middle East and Asia\",\"Level 3 qualifications and Middle East and Asia\",\"Level 3 qualifications and Middle East and Asia\",\"Level 3 qualifications and Middle East and Asia\",\"Level 3 qualifications and Middle East and Asia\",\"Level 3 qualifications and Middle East and Asia\",\"Level 3 qualifications and Middle East and Asia\",\"Level 3 qualifications and The Americas and the Caribbean\",\"Level 3 qualifications and The Americas and the Caribbean\",\"Level 3 qualifications and The Americas and the Caribbean\",\"Level 3 qualifications and The Americas and the Caribbean\",\"Level 3 qualifications and The Americas and the Caribbean\",\"Level 3 qualifications and The Americas and the Caribbean\",\"Level 3 qualifications and The Americas and the Caribbean\",\"Level 3 qualifications and The Americas and the Caribbean\",\"Level 3 qualifications and The Americas and the Caribbean\",\"Level 3 qualifications and The Americas and the Caribbean\",\"Level 4 qualifications and above and Africa\",\"Level 4 qualifications and above and Africa\",\"Level 4 qualifications and above and Africa\",\"Level 4 qualifications and above and Africa\",\"Level 4 qualifications and above and Africa\",\"Level 4 qualifications and above and Africa\",\"Level 4 qualifications and above and Africa\",\"Level 4 qualifications and above and Africa\",\"Level 4 qualifications and above and Africa\",\"Level 4 qualifications and above and Africa\",\"Level 4 qualifications and above and Antarctica and Oceania (including Australasia) and Other\",\"Level 4 qualifications and above and Antarctica and Oceania (including Australasia) and Other\",\"Level 4 qualifications and above and Antarctica and Oceania (including Australasia) and Other\",\"Level 4 qualifications and above and Antarctica and Oceania (including Australasia) and Other\",\"Level 4 qualifications and above and Antarctica and Oceania (including Australasia) and Other\",\"Level 4 qualifications and above and Antarctica and Oceania (including Australasia) and Other\",\"Level 4 qualifications and above and Antarctica and Oceania (including Australasia) and Other\",\"Level 4 qualifications and above and Antarctica and Oceania (including Australasia) and Other\",\"Level 4 qualifications and above and Antarctica and Oceania (including Australasia) and Other\",\"Level 4 qualifications and above and Antarctica and Oceania (including Australasia) and Other\",\"Level 4 qualifications and above and British Overseas\",\"Level 4 qualifications and above and British Overseas\",\"Level 4 qualifications and above and British Overseas\",\"Level 4 qualifications and above and British Overseas\",\"Level 4 qualifications and above and British Overseas\",\"Level 4 qualifications and above and British Overseas\",\"Level 4 qualifications and above and British Overseas\",\"Level 4 qualifications and above and British Overseas\",\"Level 4 qualifications and above and British Overseas\",\"Level 4 qualifications and above and British Overseas\",\"Level 4 qualifications and above and EU\",\"Level 4 qualifications and above and EU\",\"Level 4 qualifications and above and EU\",\"Level 4 qualifications and above and EU\",\"Level 4 qualifications and above and EU\",\"Level 4 qualifications and above and EU\",\"Level 4 qualifications and above and EU\",\"Level 4 qualifications and above and EU\",\"Level 4 qualifications and above and EU\",\"Level 4 qualifications and above and EU\",\"Level 4 qualifications and above and Europe: United Kingdom\",\"Level 4 qualifications and above and Europe: United Kingdom\",\"Level 4 qualifications and above and Europe: United Kingdom\",\"Level 4 qualifications and above and Europe: United Kingdom\",\"Level 4 qualifications and above and Europe: United Kingdom\",\"Level 4 qualifications and above and Europe: United Kingdom\",\"Level 4 qualifications and above and Europe: United Kingdom\",\"Level 4 qualifications and above and Europe: United Kingdom\",\"Level 4 qualifications and above and Europe: United Kingdom\",\"Level 4 qualifications and above and Europe: United Kingdom\",\"Level 4 qualifications and above and Middle East and Asia\",\"Level 4 qualifications and above and Middle East and Asia\",\"Level 4 qualifications and above and Middle East and Asia\",\"Level 4 qualifications and above and Middle East and Asia\",\"Level 4 qualifications and above and Middle East and Asia\",\"Level 4 qualifications and above and Middle East and Asia\",\"Level 4 qualifications and above and Middle East and Asia\",\"Level 4 qualifications and above and Middle East and Asia\",\"Level 4 qualifications and above and Middle East and Asia\",\"Level 4 qualifications and above and Middle East and Asia\",\"Level 4 qualifications and above and The Americas and the Caribbean\",\"Level 4 qualifications and above and The Americas and the Caribbean\",\"Level 4 qualifications and above and The Americas and the Caribbean\",\"Level 4 qualifications and above and The Americas and the Caribbean\",\"Level 4 qualifications and above and The Americas and the Caribbean\",\"Level 4 qualifications and above and The Americas and the Caribbean\",\"Level 4 qualifications and above and The Americas and the Caribbean\",\"Level 4 qualifications and above and The Americas and the Caribbean\",\"Level 4 qualifications and above and The Americas and the Caribbean\",\"Level 4 qualifications and above and The Americas and the Caribbean\",\"No qualifications and Africa\",\"No qualifications and Africa\",\"No qualifications and Africa\",\"No qualifications and Africa\",\"No qualifications and Africa\",\"No qualifications and Africa\",\"No qualifications and Africa\",\"No qualifications and Africa\",\"No qualifications and Africa\",\"No qualifications and Africa\",\"No qualifications and Antarctica and Oceania (including Australasia) and Other\",\"No qualifications and Antarctica and Oceania (including Australasia) and Other\",\"No qualifications and Antarctica and Oceania (including Australasia) and Other\",\"No qualifications and Antarctica and Oceania (including Australasia) and Other\",\"No qualifications and Antarctica and Oceania (including Australasia) and Other\",\"No qualifications and Antarctica and Oceania (including Australasia) and Other\",\"No qualifications and Antarctica and Oceania (including Australasia) and Other\",\"No qualifications and Antarctica and Oceania (including Australasia) and Other\",\"No qualifications and Antarctica and Oceania (including Australasia) and Other\",\"No qualifications and Antarctica and Oceania (including Australasia) and Other\",\"No qualifications and British Overseas\",\"No qualifications and British Overseas\",\"No qualifications and British Overseas\",\"No qualifications and British Overseas\",\"No qualifications and British Overseas\",\"No qualifications and British Overseas\",\"No qualifications and British Overseas\",\"No qualifications and British Overseas\",\"No qualifications and British Overseas\",\"No qualifications and British Overseas\",\"No qualifications and EU\",\"No qualifications and EU\",\"No qualifications and EU\",\"No qualifications and EU\",\"No qualifications and EU\",\"No qualifications and EU\",\"No qualifications and EU\",\"No qualifications and EU\",\"No qualifications and EU\",\"No qualifications and EU\",\"No qualifications and Europe: United Kingdom\",\"No qualifications and Europe: United Kingdom\",\"No qualifications and Europe: United Kingdom\",\"No qualifications and Europe: United Kingdom\",\"No qualifications and Europe: United Kingdom\",\"No qualifications and Europe: United Kingdom\",\"No qualifications and Europe: United Kingdom\",\"No qualifications and Europe: United Kingdom\",\"No qualifications and Europe: United Kingdom\",\"No qualifications and Europe: United Kingdom\",\"No qualifications and Middle East and Asia\",\"No qualifications and Middle East and Asia\",\"No qualifications and Middle East and Asia\",\"No qualifications and Middle East and Asia\",\"No qualifications and Middle East and Asia\",\"No qualifications and Middle East and Asia\",\"No qualifications and Middle East and Asia\",\"No qualifications and Middle East and Asia\",\"No qualifications and Middle East and Asia\",\"No qualifications and Middle East and Asia\",\"No qualifications and The Americas and the Caribbean\",\"No qualifications and The Americas and the Caribbean\",\"No qualifications and The Americas and the Caribbean\",\"No qualifications and The Americas and the Caribbean\",\"No qualifications and The Americas and the Caribbean\",\"No qualifications and The Americas and the Caribbean\",\"No qualifications and The Americas and the Caribbean\",\"No qualifications and The Americas and the Caribbean\",\"No qualifications and The Americas and the Caribbean\",\"No qualifications and The Americas and the Caribbean\",\"Other qualifications and Africa\",\"Other qualifications and Africa\",\"Other qualifications and Africa\",\"Other qualifications and Africa\",\"Other qualifications and Africa\",\"Other qualifications and Africa\",\"Other qualifications and Africa\",\"Other qualifications and Africa\",\"Other qualifications and Africa\",\"Other qualifications and Africa\",\"Other qualifications and Antarctica and Oceania (including Australasia) and Other\",\"Other qualifications and Antarctica and Oceania (including Australasia) and Other\",\"Other qualifications and Antarctica and Oceania (including Australasia) and Other\",\"Other qualifications and Antarctica and Oceania (including Australasia) and Other\",\"Other qualifications and Antarctica and Oceania (including Australasia) and Other\",\"Other qualifications and Antarctica and Oceania (including Australasia) and Other\",\"Other qualifications and Antarctica and Oceania (including Australasia) and Other\",\"Other qualifications and Antarctica and Oceania (including Australasia) and Other\",\"Other qualifications and Antarctica and Oceania (including Australasia) and Other\",\"Other qualifications and Antarctica and Oceania (including Australasia) and Other\",\"Other qualifications and British Overseas\",\"Other qualifications and British Overseas\",\"Other qualifications and British Overseas\",\"Other qualifications and British Overseas\",\"Other qualifications and British Overseas\",\"Other qualifications and British Overseas\",\"Other qualifications and British Overseas\",\"Other qualifications and British Overseas\",\"Other qualifications and British Overseas\",\"Other qualifications and British Overseas\",\"Other qualifications and EU\",\"Other qualifications and EU\",\"Other qualifications and EU\",\"Other qualifications and EU\",\"Other qualifications and EU\",\"Other qualifications and EU\",\"Other qualifications and EU\",\"Other qualifications and EU\",\"Other qualifications and EU\",\"Other qualifications and EU\",\"Other qualifications and Europe: United Kingdom\",\"Other qualifications and Europe: United Kingdom\",\"Other qualifications and Europe: United Kingdom\",\"Other qualifications and Europe: United Kingdom\",\"Other qualifications and Europe: United Kingdom\",\"Other qualifications and Europe: United Kingdom\",\"Other qualifications and Europe: United Kingdom\",\"Other qualifications and Europe: United Kingdom\",\"Other qualifications and Europe: United Kingdom\",\"Other qualifications and Europe: United Kingdom\",\"Other qualifications and Middle East and Asia\",\"Other qualifications and Middle East and Asia\",\"Other qualifications and Middle East and Asia\",\"Other qualifications and Middle East and Asia\",\"Other qualifications and Middle East and Asia\",\"Other qualifications and Middle East and Asia\",\"Other qualifications and Middle East and Asia\",\"Other qualifications and Middle East and Asia\",\"Other qualifications and Middle East and Asia\",\"Other qualifications and Middle East and Asia\",\"Other qualifications and The Americas and the Caribbean\",\"Other qualifications and The Americas and the Caribbean\",\"Other qualifications and The Americas and the Caribbean\",\"Other qualifications and The Americas and the Caribbean\",\"Other qualifications and The Americas and the Caribbean\",\"Other qualifications and The Americas and the Caribbean\",\"Other qualifications and The Americas and the Caribbean\",\"Other qualifications and The Americas and the Caribbean\",\"Other qualifications and The Americas and the Caribbean\",\"Other qualifications and The Americas and the Caribbean\",\"East\",\"East Midlands\",\"London\",\"North East\",\"North West\",\"South East\",\"South West\",\"Wales\",\"West Midlands\",\"Yorkshire and The Humber\"],\"marker\":{\"coloraxis\":\"coloraxis\",\"colors\":[6187.0,5352.0,16168.0,1447.0,6153.0,9773.0,3868.0,1324.0,5633.0,4174.0,717.0,343.0,1661.0,162.0,478.0,1456.0,877.0,209.0,316.0,385.0,67.0,82.0,155.0,14.0,89.0,144.0,94.0,14.0,117.0,64.0,20782.0,15192.0,35348.0,3750.0,15898.0,26132.0,14396.0,4619.0,13855.0,12953.0,241797.0,206409.0,135128.0,134967.0,312617.0,325810.0,254661.0,133380.0,214789.0,242642.0,11115.0,10290.0,29649.0,3920.0,16603.0,18794.0,7141.0,3197.0,16264.0,12052.0,3489.0,1553.0,9510.0,501.0,2068.0,4647.0,2556.0,570.0,2207.0,1446.0,12085.0,9287.0,38732.0,2089.0,10137.0,18677.0,6355.0,2061.0,11008.0,6848.0,1401.0,595.0,3979.0,234.0,788.0,2783.0,1442.0,326.0,619.0,632.0,131.0,143.0,371.0,21.0,147.0,276.0,156.0,22.0,230.0,106.0,40589.0,26359.0,84677.0,5412.0,26192.0,49941.0,23655.0,7187.0,27074.0,21251.0,472245.0,358148.0,323700.0,194779.0,515053.0,622644.0,418426.0,207563.0,419686.0,398080.0,21709.0,17855.0,71026.0,5658.0,27355.0,35917.0,11734.0,4975.0,31780.0,19772.0,6814.0,2694.0,22782.0,723.0,3407.0,8881.0,4200.0,888.0,4312.0,2373.0,16170.0,12441.0,50257.0,3016.0,14241.0,26451.0,9251.0,3395.0,14834.0,9262.0,1875.0,798.0,5164.0,338.0,1108.0,3942.0,2099.0,537.0,834.0,856.0,175.0,191.0,481.0,31.0,207.0,392.0,227.0,37.0,310.0,143.0,54311.0,35311.0,109872.0,7813.0,36796.0,70729.0,34432.0,11839.0,36485.0,28743.0,631910.0,479775.0,420020.0,281233.0,723562.0,881836.0,609074.0,341892.0,565590.0,538435.0,29049.0,23918.0,92160.0,8169.0,38429.0,50869.0,17080.0,8195.0,42828.0,26744.0,9118.0,3609.0,29561.0,1045.0,4786.0,12578.0,6114.0,1463.0,5811.0,3210.0,18796.0,16364.0,66620.0,4044.0,18463.0,33192.0,11957.0,4072.0,18223.0,11850.0,2180.0,1049.0,6845.0,454.0,1436.0,4947.0,2712.0,644.0,1024.0,1095.0,203.0,252.0,638.0,41.0,269.0,491.0,293.0,44.0,381.0,183.0,63128.0,46445.0,145645.0,10474.0,47704.0,88752.0,44499.0,14201.0,44818.0,36773.0,734490.0,631051.0,556772.0,377047.0,938049.0,1106551.0,787166.0,410103.0,694775.0,688845.0,33765.0,31460.0,122167.0,10953.0,49821.0,63831.0,22074.0,9831.0,52610.0,34215.0,10598.0,4748.0,39185.0,1401.0,6205.0,15784.0,7902.0,1755.0,7139.0,4107.0,35393.0,26039.0,235604.0,6224.0,32687.0,68279.0,21371.0,7456.0,31457.0,20060.0,4105.0,1670.0,24209.0,699.0,2543.0,10177.0,4848.0,1179.0,1768.0,1854.0,383.0,401.0,2259.0,64.0,476.0,1012.0,524.0,82.0,657.0,310.0,118872.0,73905.0,515080.0,16121.0,84453.0,182569.0,79535.0,26000.0,77367.0,62251.0,1383081.0,1004151.0,1969046.0,580295.0,1660699.0,2276236.0,1406915.0,750842.0,1199330.0,1166105.0,63581.0,50060.0,432048.0,16857.0,88202.0,131305.0,39454.0,17999.0,90817.0,57920.0,19957.0,7555.0,138581.0,2156.0,10986.0,32468.0,14124.0,3213.0,12323.0,6952.0,20299.0,17427.0,81776.0,4424.0,20423.0,29368.0,10109.0,4710.0,22591.0,14024.0,2354.0,1118.0,8402.0,496.0,1589.0,4377.0,2293.0,745.0,1270.0,1296.0,220.0,268.0,784.0,45.0,297.0,435.0,248.0,51.0,472.0,217.0,68177.0,49463.0,178781.0,11458.0,52768.0,78528.0,37625.0,16426.0,55562.0,43520.0,793244.0,672066.0,683443.0,412439.0,1037644.0,979068.0,665559.0,474347.0,861329.0,815228.0,36466.0,33505.0,149961.0,11981.0,55111.0,56478.0,18664.0,11371.0,65223.0,40492.0,11446.0,5056.0,48100.0,1532.0,6864.0,13965.0,6681.0,2030.0,8850.0,4860.0,3174.0,2542.0,15458.0,544.0,2656.0,5156.0,1683.0,634.0,3087.0,1798.0,368.0,163.0,1588.0,61.0,206.0,768.0,381.0,100.0,173.0,166.0,34.0,39.0,148.0,5.0,38.0,76.0,41.0,6.0,64.0,27.0,10662.0,7216.0,33795.0,1409.0,6864.0,13789.0,6266.0,2211.0,7593.0,5582.0,124057.0,98044.0,129192.0,50730.0,134983.0,171917.0,110835.0,63851.0,117699.0,104561.0,5703.0,4887.0,28347.0,1473.0,7169.0,9917.0,3108.0,1530.0,8912.0,5193.0,1790.0,737.0,9092.0,188.0,892.0,2452.0,1112.0,273.0,1209.0,623.0,741413.3674820745,572402.1083124522,794814.2665495209,361739.17443000874,938021.6063524513,1159514.4288975135,777279.094190295,445787.7932416946,677612.3052005653,680258.6069379532]},\"name\":\"\",\"parents\":[\"East\",\"East Midlands\",\"London\",\"North East\",\"North West\",\"South East\",\"South West\",\"Wales\",\"West Midlands\",\"Yorkshire and The Humber\",\"East\",\"East Midlands\",\"London\",\"North East\",\"North West\",\"South East\",\"South West\",\"Wales\",\"West Midlands\",\"Yorkshire and The Humber\",\"East\",\"East Midlands\",\"London\",\"North East\",\"North West\",\"South East\",\"South West\",\"Wales\",\"West Midlands\",\"Yorkshire and The Humber\",\"East\",\"East Midlands\",\"London\",\"North East\",\"North West\",\"South East\",\"South West\",\"Wales\",\"West Midlands\",\"Yorkshire and The Humber\",\"East\",\"East Midlands\",\"London\",\"North East\",\"North West\",\"South East\",\"South West\",\"Wales\",\"West Midlands\",\"Yorkshire and The Humber\",\"East\",\"East Midlands\",\"London\",\"North East\",\"North West\",\"South East\",\"South West\",\"Wales\",\"West Midlands\",\"Yorkshire and The Humber\",\"East\",\"East Midlands\",\"London\",\"North East\",\"North West\",\"South East\",\"South West\",\"Wales\",\"West Midlands\",\"Yorkshire and The Humber\",\"East\",\"East Midlands\",\"London\",\"North East\",\"North West\",\"South East\",\"South West\",\"Wales\",\"West Midlands\",\"Yorkshire and The Humber\",\"East\",\"East Midlands\",\"London\",\"North East\",\"North West\",\"South East\",\"South West\",\"Wales\",\"West Midlands\",\"Yorkshire and The Humber\",\"East\",\"East Midlands\",\"London\",\"North East\",\"North West\",\"South East\",\"South West\",\"Wales\",\"West Midlands\",\"Yorkshire and The Humber\",\"East\",\"East Midlands\",\"London\",\"North East\",\"North West\",\"South East\",\"South West\",\"Wales\",\"West Midlands\",\"Yorkshire and The Humber\",\"East\",\"East Midlands\",\"London\",\"North East\",\"North West\",\"South East\",\"South West\",\"Wales\",\"West Midlands\",\"Yorkshire and The Humber\",\"East\",\"East Midlands\",\"London\",\"North East\",\"North West\",\"South East\",\"South West\",\"Wales\",\"West Midlands\",\"Yorkshire and The Humber\",\"East\",\"East Midlands\",\"London\",\"North East\",\"North West\",\"South East\",\"South West\",\"Wales\",\"West Midlands\",\"Yorkshire and The Humber\",\"East\",\"East Midlands\",\"London\",\"North East\",\"North West\",\"South East\",\"South West\",\"Wales\",\"West Midlands\",\"Yorkshire and The Humber\",\"East\",\"East Midlands\",\"London\",\"North East\",\"North West\",\"South East\",\"South West\",\"Wales\",\"West Midlands\",\"Yorkshire and The Humber\",\"East\",\"East Midlands\",\"London\",\"North East\",\"North West\",\"South East\",\"South West\",\"Wales\",\"West Midlands\",\"Yorkshire and The Humber\",\"East\",\"East Midlands\",\"London\",\"North East\",\"North West\",\"South East\",\"South West\",\"Wales\",\"West Midlands\",\"Yorkshire and The Humber\",\"East\",\"East Midlands\",\"London\",\"North East\",\"North West\",\"South East\",\"South West\",\"Wales\",\"West Midlands\",\"Yorkshire and The Humber\",\"East\",\"East Midlands\",\"London\",\"North East\",\"North West\",\"South East\",\"South West\",\"Wales\",\"West Midlands\",\"Yorkshire and The Humber\",\"East\",\"East Midlands\",\"London\",\"North East\",\"North West\",\"South East\",\"South West\",\"Wales\",\"West Midlands\",\"Yorkshire and The Humber\",\"East\",\"East Midlands\",\"London\",\"North East\",\"North West\",\"South East\",\"South West\",\"Wales\",\"West Midlands\",\"Yorkshire and The Humber\",\"East\",\"East Midlands\",\"London\",\"North East\",\"North West\",\"South East\",\"South West\",\"Wales\",\"West Midlands\",\"Yorkshire and The Humber\",\"East\",\"East Midlands\",\"London\",\"North East\",\"North West\",\"South East\",\"South West\",\"Wales\",\"West Midlands\",\"Yorkshire and The Humber\",\"East\",\"East Midlands\",\"London\",\"North East\",\"North West\",\"South East\",\"South West\",\"Wales\",\"West Midlands\",\"Yorkshire and The Humber\",\"East\",\"East Midlands\",\"London\",\"North East\",\"North West\",\"South East\",\"South West\",\"Wales\",\"West Midlands\",\"Yorkshire and The Humber\",\"East\",\"East Midlands\",\"London\",\"North East\",\"North West\",\"South East\",\"South West\",\"Wales\",\"West Midlands\",\"Yorkshire and The Humber\",\"East\",\"East Midlands\",\"London\",\"North East\",\"North West\",\"South East\",\"South West\",\"Wales\",\"West Midlands\",\"Yorkshire and The Humber\",\"East\",\"East Midlands\",\"London\",\"North East\",\"North West\",\"South East\",\"South West\",\"Wales\",\"West Midlands\",\"Yorkshire and The Humber\",\"East\",\"East Midlands\",\"London\",\"North East\",\"North West\",\"South East\",\"South West\",\"Wales\",\"West Midlands\",\"Yorkshire and The Humber\",\"East\",\"East Midlands\",\"London\",\"North East\",\"North West\",\"South East\",\"South West\",\"Wales\",\"West Midlands\",\"Yorkshire and The Humber\",\"East\",\"East Midlands\",\"London\",\"North East\",\"North West\",\"South East\",\"South West\",\"Wales\",\"West Midlands\",\"Yorkshire and The Humber\",\"East\",\"East Midlands\",\"London\",\"North East\",\"North West\",\"South East\",\"South West\",\"Wales\",\"West Midlands\",\"Yorkshire and The Humber\",\"East\",\"East Midlands\",\"London\",\"North East\",\"North West\",\"South East\",\"South West\",\"Wales\",\"West Midlands\",\"Yorkshire and The Humber\",\"East\",\"East Midlands\",\"London\",\"North East\",\"North West\",\"South East\",\"South West\",\"Wales\",\"West Midlands\",\"Yorkshire and The Humber\",\"East\",\"East Midlands\",\"London\",\"North East\",\"North West\",\"South East\",\"South West\",\"Wales\",\"West Midlands\",\"Yorkshire and The Humber\",\"East\",\"East Midlands\",\"London\",\"North East\",\"North West\",\"South East\",\"South West\",\"Wales\",\"West Midlands\",\"Yorkshire and The Humber\",\"East\",\"East Midlands\",\"London\",\"North East\",\"North West\",\"South East\",\"South West\",\"Wales\",\"West Midlands\",\"Yorkshire and The Humber\",\"East\",\"East Midlands\",\"London\",\"North East\",\"North West\",\"South East\",\"South West\",\"Wales\",\"West Midlands\",\"Yorkshire and The Humber\",\"East\",\"East Midlands\",\"London\",\"North East\",\"North West\",\"South East\",\"South West\",\"Wales\",\"West Midlands\",\"Yorkshire and The Humber\",\"East\",\"East Midlands\",\"London\",\"North East\",\"North West\",\"South East\",\"South West\",\"Wales\",\"West Midlands\",\"Yorkshire and The Humber\",\"East\",\"East Midlands\",\"London\",\"North East\",\"North West\",\"South East\",\"South West\",\"Wales\",\"West Midlands\",\"Yorkshire and The Humber\",\"East\",\"East Midlands\",\"London\",\"North East\",\"North West\",\"South East\",\"South West\",\"Wales\",\"West Midlands\",\"Yorkshire and The Humber\",\"East\",\"East Midlands\",\"London\",\"North East\",\"North West\",\"South East\",\"South West\",\"Wales\",\"West Midlands\",\"Yorkshire and The Humber\",\"East\",\"East Midlands\",\"London\",\"North East\",\"North West\",\"South East\",\"South West\",\"Wales\",\"West Midlands\",\"Yorkshire and The Humber\",\"East\",\"East Midlands\",\"London\",\"North East\",\"North West\",\"South East\",\"South West\",\"Wales\",\"West Midlands\",\"Yorkshire and The Humber\",\"East\",\"East Midlands\",\"London\",\"North East\",\"North West\",\"South East\",\"South West\",\"Wales\",\"West Midlands\",\"Yorkshire and The Humber\",\"East\",\"East Midlands\",\"London\",\"North East\",\"North West\",\"South East\",\"South West\",\"Wales\",\"West Midlands\",\"Yorkshire and The Humber\",\"East\",\"East Midlands\",\"London\",\"North East\",\"North West\",\"South East\",\"South West\",\"Wales\",\"West Midlands\",\"Yorkshire and The Humber\",\"\",\"\",\"\",\"\",\"\",\"\",\"\",\"\",\"\",\"\"],\"values\":[6187.0,5352.0,16168.0,1447.0,6153.0,9773.0,3868.0,1324.0,5633.0,4174.0,717.0,343.0,1661.0,162.0,478.0,1456.0,877.0,209.0,316.0,385.0,67.0,82.0,155.0,14.0,89.0,144.0,94.0,14.0,117.0,64.0,20782.0,15192.0,35348.0,3750.0,15898.0,26132.0,14396.0,4619.0,13855.0,12953.0,241797.0,206409.0,135128.0,134967.0,312617.0,325810.0,254661.0,133380.0,214789.0,242642.0,11115.0,10290.0,29649.0,3920.0,16603.0,18794.0,7141.0,3197.0,16264.0,12052.0,3489.0,1553.0,9510.0,501.0,2068.0,4647.0,2556.0,570.0,2207.0,1446.0,12085.0,9287.0,38732.0,2089.0,10137.0,18677.0,6355.0,2061.0,11008.0,6848.0,1401.0,595.0,3979.0,234.0,788.0,2783.0,1442.0,326.0,619.0,632.0,131.0,143.0,371.0,21.0,147.0,276.0,156.0,22.0,230.0,106.0,40589.0,26359.0,84677.0,5412.0,26192.0,49941.0,23655.0,7187.0,27074.0,21251.0,472245.0,358148.0,323700.0,194779.0,515053.0,622644.0,418426.0,207563.0,419686.0,398080.0,21709.0,17855.0,71026.0,5658.0,27355.0,35917.0,11734.0,4975.0,31780.0,19772.0,6814.0,2694.0,22782.0,723.0,3407.0,8881.0,4200.0,888.0,4312.0,2373.0,16170.0,12441.0,50257.0,3016.0,14241.0,26451.0,9251.0,3395.0,14834.0,9262.0,1875.0,798.0,5164.0,338.0,1108.0,3942.0,2099.0,537.0,834.0,856.0,175.0,191.0,481.0,31.0,207.0,392.0,227.0,37.0,310.0,143.0,54311.0,35311.0,109872.0,7813.0,36796.0,70729.0,34432.0,11839.0,36485.0,28743.0,631910.0,479775.0,420020.0,281233.0,723562.0,881836.0,609074.0,341892.0,565590.0,538435.0,29049.0,23918.0,92160.0,8169.0,38429.0,50869.0,17080.0,8195.0,42828.0,26744.0,9118.0,3609.0,29561.0,1045.0,4786.0,12578.0,6114.0,1463.0,5811.0,3210.0,18796.0,16364.0,66620.0,4044.0,18463.0,33192.0,11957.0,4072.0,18223.0,11850.0,2180.0,1049.0,6845.0,454.0,1436.0,4947.0,2712.0,644.0,1024.0,1095.0,203.0,252.0,638.0,41.0,269.0,491.0,293.0,44.0,381.0,183.0,63128.0,46445.0,145645.0,10474.0,47704.0,88752.0,44499.0,14201.0,44818.0,36773.0,734490.0,631051.0,556772.0,377047.0,938049.0,1106551.0,787166.0,410103.0,694775.0,688845.0,33765.0,31460.0,122167.0,10953.0,49821.0,63831.0,22074.0,9831.0,52610.0,34215.0,10598.0,4748.0,39185.0,1401.0,6205.0,15784.0,7902.0,1755.0,7139.0,4107.0,35393.0,26039.0,235604.0,6224.0,32687.0,68279.0,21371.0,7456.0,31457.0,20060.0,4105.0,1670.0,24209.0,699.0,2543.0,10177.0,4848.0,1179.0,1768.0,1854.0,383.0,401.0,2259.0,64.0,476.0,1012.0,524.0,82.0,657.0,310.0,118872.0,73905.0,515080.0,16121.0,84453.0,182569.0,79535.0,26000.0,77367.0,62251.0,1383081.0,1004151.0,1969046.0,580295.0,1660699.0,2276236.0,1406915.0,750842.0,1199330.0,1166105.0,63581.0,50060.0,432048.0,16857.0,88202.0,131305.0,39454.0,17999.0,90817.0,57920.0,19957.0,7555.0,138581.0,2156.0,10986.0,32468.0,14124.0,3213.0,12323.0,6952.0,20299.0,17427.0,81776.0,4424.0,20423.0,29368.0,10109.0,4710.0,22591.0,14024.0,2354.0,1118.0,8402.0,496.0,1589.0,4377.0,2293.0,745.0,1270.0,1296.0,220.0,268.0,784.0,45.0,297.0,435.0,248.0,51.0,472.0,217.0,68177.0,49463.0,178781.0,11458.0,52768.0,78528.0,37625.0,16426.0,55562.0,43520.0,793244.0,672066.0,683443.0,412439.0,1037644.0,979068.0,665559.0,474347.0,861329.0,815228.0,36466.0,33505.0,149961.0,11981.0,55111.0,56478.0,18664.0,11371.0,65223.0,40492.0,11446.0,5056.0,48100.0,1532.0,6864.0,13965.0,6681.0,2030.0,8850.0,4860.0,3174.0,2542.0,15458.0,544.0,2656.0,5156.0,1683.0,634.0,3087.0,1798.0,368.0,163.0,1588.0,61.0,206.0,768.0,381.0,100.0,173.0,166.0,34.0,39.0,148.0,5.0,38.0,76.0,41.0,6.0,64.0,27.0,10662.0,7216.0,33795.0,1409.0,6864.0,13789.0,6266.0,2211.0,7593.0,5582.0,124057.0,98044.0,129192.0,50730.0,134983.0,171917.0,110835.0,63851.0,117699.0,104561.0,5703.0,4887.0,28347.0,1473.0,7169.0,9917.0,3108.0,1530.0,8912.0,5193.0,1790.0,737.0,9092.0,188.0,892.0,2452.0,1112.0,273.0,1209.0,623.0,5148262.0,3998026.0,7103967.0,2178937.0,6025611.0,7554560.0,4735817.0,2559399.0,4801305.0,4460278.0],\"type\":\"treemap\"}],                        {\"template\":{\"data\":{\"histogram2dcontour\":[{\"type\":\"histogram2dcontour\",\"colorbar\":{\"outlinewidth\":0,\"ticks\":\"\"},\"colorscale\":[[0.0,\"#0d0887\"],[0.1111111111111111,\"#46039f\"],[0.2222222222222222,\"#7201a8\"],[0.3333333333333333,\"#9c179e\"],[0.4444444444444444,\"#bd3786\"],[0.5555555555555556,\"#d8576b\"],[0.6666666666666666,\"#ed7953\"],[0.7777777777777778,\"#fb9f3a\"],[0.8888888888888888,\"#fdca26\"],[1.0,\"#f0f921\"]]}],\"choropleth\":[{\"type\":\"choropleth\",\"colorbar\":{\"outlinewidth\":0,\"ticks\":\"\"}}],\"histogram2d\":[{\"type\":\"histogram2d\",\"colorbar\":{\"outlinewidth\":0,\"ticks\":\"\"},\"colorscale\":[[0.0,\"#0d0887\"],[0.1111111111111111,\"#46039f\"],[0.2222222222222222,\"#7201a8\"],[0.3333333333333333,\"#9c179e\"],[0.4444444444444444,\"#bd3786\"],[0.5555555555555556,\"#d8576b\"],[0.6666666666666666,\"#ed7953\"],[0.7777777777777778,\"#fb9f3a\"],[0.8888888888888888,\"#fdca26\"],[1.0,\"#f0f921\"]]}],\"heatmap\":[{\"type\":\"heatmap\",\"colorbar\":{\"outlinewidth\":0,\"ticks\":\"\"},\"colorscale\":[[0.0,\"#0d0887\"],[0.1111111111111111,\"#46039f\"],[0.2222222222222222,\"#7201a8\"],[0.3333333333333333,\"#9c179e\"],[0.4444444444444444,\"#bd3786\"],[0.5555555555555556,\"#d8576b\"],[0.6666666666666666,\"#ed7953\"],[0.7777777777777778,\"#fb9f3a\"],[0.8888888888888888,\"#fdca26\"],[1.0,\"#f0f921\"]]}],\"heatmapgl\":[{\"type\":\"heatmapgl\",\"colorbar\":{\"outlinewidth\":0,\"ticks\":\"\"},\"colorscale\":[[0.0,\"#0d0887\"],[0.1111111111111111,\"#46039f\"],[0.2222222222222222,\"#7201a8\"],[0.3333333333333333,\"#9c179e\"],[0.4444444444444444,\"#bd3786\"],[0.5555555555555556,\"#d8576b\"],[0.6666666666666666,\"#ed7953\"],[0.7777777777777778,\"#fb9f3a\"],[0.8888888888888888,\"#fdca26\"],[1.0,\"#f0f921\"]]}],\"contourcarpet\":[{\"type\":\"contourcarpet\",\"colorbar\":{\"outlinewidth\":0,\"ticks\":\"\"}}],\"contour\":[{\"type\":\"contour\",\"colorbar\":{\"outlinewidth\":0,\"ticks\":\"\"},\"colorscale\":[[0.0,\"#0d0887\"],[0.1111111111111111,\"#46039f\"],[0.2222222222222222,\"#7201a8\"],[0.3333333333333333,\"#9c179e\"],[0.4444444444444444,\"#bd3786\"],[0.5555555555555556,\"#d8576b\"],[0.6666666666666666,\"#ed7953\"],[0.7777777777777778,\"#fb9f3a\"],[0.8888888888888888,\"#fdca26\"],[1.0,\"#f0f921\"]]}],\"surface\":[{\"type\":\"surface\",\"colorbar\":{\"outlinewidth\":0,\"ticks\":\"\"},\"colorscale\":[[0.0,\"#0d0887\"],[0.1111111111111111,\"#46039f\"],[0.2222222222222222,\"#7201a8\"],[0.3333333333333333,\"#9c179e\"],[0.4444444444444444,\"#bd3786\"],[0.5555555555555556,\"#d8576b\"],[0.6666666666666666,\"#ed7953\"],[0.7777777777777778,\"#fb9f3a\"],[0.8888888888888888,\"#fdca26\"],[1.0,\"#f0f921\"]]}],\"mesh3d\":[{\"type\":\"mesh3d\",\"colorbar\":{\"outlinewidth\":0,\"ticks\":\"\"}}],\"scatter\":[{\"fillpattern\":{\"fillmode\":\"overlay\",\"size\":10,\"solidity\":0.2},\"type\":\"scatter\"}],\"parcoords\":[{\"type\":\"parcoords\",\"line\":{\"colorbar\":{\"outlinewidth\":0,\"ticks\":\"\"}}}],\"scatterpolargl\":[{\"type\":\"scatterpolargl\",\"marker\":{\"colorbar\":{\"outlinewidth\":0,\"ticks\":\"\"}}}],\"bar\":[{\"error_x\":{\"color\":\"#2a3f5f\"},\"error_y\":{\"color\":\"#2a3f5f\"},\"marker\":{\"line\":{\"color\":\"#E5ECF6\",\"width\":0.5},\"pattern\":{\"fillmode\":\"overlay\",\"size\":10,\"solidity\":0.2}},\"type\":\"bar\"}],\"scattergeo\":[{\"type\":\"scattergeo\",\"marker\":{\"colorbar\":{\"outlinewidth\":0,\"ticks\":\"\"}}}],\"scatterpolar\":[{\"type\":\"scatterpolar\",\"marker\":{\"colorbar\":{\"outlinewidth\":0,\"ticks\":\"\"}}}],\"histogram\":[{\"marker\":{\"pattern\":{\"fillmode\":\"overlay\",\"size\":10,\"solidity\":0.2}},\"type\":\"histogram\"}],\"scattergl\":[{\"type\":\"scattergl\",\"marker\":{\"colorbar\":{\"outlinewidth\":0,\"ticks\":\"\"}}}],\"scatter3d\":[{\"type\":\"scatter3d\",\"line\":{\"colorbar\":{\"outlinewidth\":0,\"ticks\":\"\"}},\"marker\":{\"colorbar\":{\"outlinewidth\":0,\"ticks\":\"\"}}}],\"scattermapbox\":[{\"type\":\"scattermapbox\",\"marker\":{\"colorbar\":{\"outlinewidth\":0,\"ticks\":\"\"}}}],\"scatterternary\":[{\"type\":\"scatterternary\",\"marker\":{\"colorbar\":{\"outlinewidth\":0,\"ticks\":\"\"}}}],\"scattercarpet\":[{\"type\":\"scattercarpet\",\"marker\":{\"colorbar\":{\"outlinewidth\":0,\"ticks\":\"\"}}}],\"carpet\":[{\"aaxis\":{\"endlinecolor\":\"#2a3f5f\",\"gridcolor\":\"white\",\"linecolor\":\"white\",\"minorgridcolor\":\"white\",\"startlinecolor\":\"#2a3f5f\"},\"baxis\":{\"endlinecolor\":\"#2a3f5f\",\"gridcolor\":\"white\",\"linecolor\":\"white\",\"minorgridcolor\":\"white\",\"startlinecolor\":\"#2a3f5f\"},\"type\":\"carpet\"}],\"table\":[{\"cells\":{\"fill\":{\"color\":\"#EBF0F8\"},\"line\":{\"color\":\"white\"}},\"header\":{\"fill\":{\"color\":\"#C8D4E3\"},\"line\":{\"color\":\"white\"}},\"type\":\"table\"}],\"barpolar\":[{\"marker\":{\"line\":{\"color\":\"#E5ECF6\",\"width\":0.5},\"pattern\":{\"fillmode\":\"overlay\",\"size\":10,\"solidity\":0.2}},\"type\":\"barpolar\"}],\"pie\":[{\"automargin\":true,\"type\":\"pie\"}]},\"layout\":{\"autotypenumbers\":\"strict\",\"colorway\":[\"#636efa\",\"#EF553B\",\"#00cc96\",\"#ab63fa\",\"#FFA15A\",\"#19d3f3\",\"#FF6692\",\"#B6E880\",\"#FF97FF\",\"#FECB52\"],\"font\":{\"color\":\"#2a3f5f\"},\"hovermode\":\"closest\",\"hoverlabel\":{\"align\":\"left\"},\"paper_bgcolor\":\"white\",\"plot_bgcolor\":\"#E5ECF6\",\"polar\":{\"bgcolor\":\"#E5ECF6\",\"angularaxis\":{\"gridcolor\":\"white\",\"linecolor\":\"white\",\"ticks\":\"\"},\"radialaxis\":{\"gridcolor\":\"white\",\"linecolor\":\"white\",\"ticks\":\"\"}},\"ternary\":{\"bgcolor\":\"#E5ECF6\",\"aaxis\":{\"gridcolor\":\"white\",\"linecolor\":\"white\",\"ticks\":\"\"},\"baxis\":{\"gridcolor\":\"white\",\"linecolor\":\"white\",\"ticks\":\"\"},\"caxis\":{\"gridcolor\":\"white\",\"linecolor\":\"white\",\"ticks\":\"\"}},\"coloraxis\":{\"colorbar\":{\"outlinewidth\":0,\"ticks\":\"\"}},\"colorscale\":{\"sequential\":[[0.0,\"#0d0887\"],[0.1111111111111111,\"#46039f\"],[0.2222222222222222,\"#7201a8\"],[0.3333333333333333,\"#9c179e\"],[0.4444444444444444,\"#bd3786\"],[0.5555555555555556,\"#d8576b\"],[0.6666666666666666,\"#ed7953\"],[0.7777777777777778,\"#fb9f3a\"],[0.8888888888888888,\"#fdca26\"],[1.0,\"#f0f921\"]],\"sequentialminus\":[[0.0,\"#0d0887\"],[0.1111111111111111,\"#46039f\"],[0.2222222222222222,\"#7201a8\"],[0.3333333333333333,\"#9c179e\"],[0.4444444444444444,\"#bd3786\"],[0.5555555555555556,\"#d8576b\"],[0.6666666666666666,\"#ed7953\"],[0.7777777777777778,\"#fb9f3a\"],[0.8888888888888888,\"#fdca26\"],[1.0,\"#f0f921\"]],\"diverging\":[[0,\"#8e0152\"],[0.1,\"#c51b7d\"],[0.2,\"#de77ae\"],[0.3,\"#f1b6da\"],[0.4,\"#fde0ef\"],[0.5,\"#f7f7f7\"],[0.6,\"#e6f5d0\"],[0.7,\"#b8e186\"],[0.8,\"#7fbc41\"],[0.9,\"#4d9221\"],[1,\"#276419\"]]},\"xaxis\":{\"gridcolor\":\"white\",\"linecolor\":\"white\",\"ticks\":\"\",\"title\":{\"standoff\":15},\"zerolinecolor\":\"white\",\"automargin\":true,\"zerolinewidth\":2},\"yaxis\":{\"gridcolor\":\"white\",\"linecolor\":\"white\",\"ticks\":\"\",\"title\":{\"standoff\":15},\"zerolinecolor\":\"white\",\"automargin\":true,\"zerolinewidth\":2},\"scene\":{\"xaxis\":{\"backgroundcolor\":\"#E5ECF6\",\"gridcolor\":\"white\",\"linecolor\":\"white\",\"showbackground\":true,\"ticks\":\"\",\"zerolinecolor\":\"white\",\"gridwidth\":2},\"yaxis\":{\"backgroundcolor\":\"#E5ECF6\",\"gridcolor\":\"white\",\"linecolor\":\"white\",\"showbackground\":true,\"ticks\":\"\",\"zerolinecolor\":\"white\",\"gridwidth\":2},\"zaxis\":{\"backgroundcolor\":\"#E5ECF6\",\"gridcolor\":\"white\",\"linecolor\":\"white\",\"showbackground\":true,\"ticks\":\"\",\"zerolinecolor\":\"white\",\"gridwidth\":2}},\"shapedefaults\":{\"line\":{\"color\":\"#2a3f5f\"}},\"annotationdefaults\":{\"arrowcolor\":\"#2a3f5f\",\"arrowhead\":0,\"arrowwidth\":1},\"geo\":{\"bgcolor\":\"white\",\"landcolor\":\"#E5ECF6\",\"subunitcolor\":\"white\",\"showland\":true,\"showlakes\":true,\"lakecolor\":\"white\"},\"title\":{\"x\":0.05},\"mapbox\":{\"style\":\"light\"}}},\"coloraxis\":{\"colorbar\":{\"title\":{\"text\":\"People identified\"}},\"colorscale\":[[0.0,\"rgb(165,0,38)\"],[0.1,\"rgb(215,48,39)\"],[0.2,\"rgb(244,109,67)\"],[0.3,\"rgb(253,174,97)\"],[0.4,\"rgb(254,224,139)\"],[0.5,\"rgb(255,255,191)\"],[0.6,\"rgb(217,239,139)\"],[0.7,\"rgb(166,217,106)\"],[0.8,\"rgb(102,189,99)\"],[0.9,\"rgb(26,152,80)\"],[1.0,\"rgb(0,104,55)\"]]},\"legend\":{\"tracegroupgap\":0},\"margin\":{\"t\":60},\"height\":800,\"width\":1600},                        {\"responsive\": true}                    ).then(function(){\n",
       "                            \n",
       "var gd = document.getElementById('e4ca19e3-8b11-4210-92d0-3dc4d3df724b');\n",
       "var x = new MutationObserver(function (mutations, observer) {{\n",
       "        var display = window.getComputedStyle(gd).display;\n",
       "        if (!display || display === 'none') {{\n",
       "            console.log([gd, 'removed!']);\n",
       "            Plotly.purge(gd);\n",
       "            observer.disconnect();\n",
       "        }}\n",
       "}});\n",
       "\n",
       "// Listen for the removal of the full notebook cells\n",
       "var notebookContainer = gd.closest('#notebook-container');\n",
       "if (notebookContainer) {{\n",
       "    x.observe(notebookContainer, {childList: true});\n",
       "}}\n",
       "\n",
       "// Listen for the clearing of the current output cell\n",
       "var outputEl = gd.closest('.output');\n",
       "if (outputEl) {{\n",
       "    x.observe(outputEl, {childList: true});\n",
       "}}\n",
       "\n",
       "                        })                };                });            </script>        </div>"
      ]
     },
     "metadata": {},
     "output_type": "display_data"
    }
   ],
   "source": [
    " # creates treemap with all regions and gives colour key based on number of people identified\n",
    " # more green is more poeple identified so theres a lower risk of indviduals being personally identified\n",
    " # more red is less people identified so theres a higher risk of individuals being personally identified\n",
    "\n",
    "fig = px.treemap(\n",
    "    treemap_df,path=['Region','variable'],\n",
    "    values='People identified',\n",
    "    width=1600, height=800, \n",
    "    color='People identified',\n",
    "    color_continuous_scale='rdylgn'\n",
    ")\n",
    "fig.show()"
   ]
  },
  {
   "cell_type": "code",
   "execution_count": 86,
   "id": "10808292-2d7c-4ba8-aafd-bb3ec9f0448d",
   "metadata": {
    "tags": []
   },
   "outputs": [
    {
     "data": {
      "application/vnd.plotly.v1+json": {
       "config": {
        "plotlyServerURL": "https://plot.ly"
       },
       "data": [
        {
         "branchvalues": "total",
         "customdata": [
          [
           1447
          ],
          [
           162
          ],
          [
           14
          ],
          [
           3750
          ],
          [
           134967
          ],
          [
           3920
          ],
          [
           501
          ],
          [
           2089
          ],
          [
           234
          ],
          [
           21
          ],
          [
           5412
          ],
          [
           194779
          ],
          [
           5658
          ],
          [
           723
          ],
          [
           3016
          ],
          [
           338
          ],
          [
           31
          ],
          [
           7813
          ],
          [
           281233
          ],
          [
           8169
          ],
          [
           1045
          ],
          [
           4044
          ],
          [
           454
          ],
          [
           41
          ],
          [
           10474
          ],
          [
           377047
          ],
          [
           10953
          ],
          [
           1401
          ],
          [
           6224
          ],
          [
           699
          ],
          [
           64
          ],
          [
           16121
          ],
          [
           580295
          ],
          [
           16857
          ],
          [
           2156
          ],
          [
           4424
          ],
          [
           496
          ],
          [
           45
          ],
          [
           11458
          ],
          [
           412439
          ],
          [
           11981
          ],
          [
           1532
          ],
          [
           544
          ],
          [
           61
          ],
          [
           5
          ],
          [
           1409
          ],
          [
           50730
          ],
          [
           1473
          ],
          [
           188
          ],
          [
           361739.17443000874
          ]
         ],
         "domain": {
          "x": [
           0,
           1
          ],
          "y": [
           0,
           1
          ]
         },
         "hovertemplate": "labels=%{label}<br>People identified_sum=%{value}<br>parent=%{parent}<br>id=%{id}<br>People identified=%{color}<extra></extra>",
         "ids": [
          "North East/Apprenticeship and Africa",
          "North East/Apprenticeship and Antarctica and Oceania (including Australasia) and Other",
          "North East/Apprenticeship and British Overseas",
          "North East/Apprenticeship and EU",
          "North East/Apprenticeship and Europe: United Kingdom",
          "North East/Apprenticeship and Middle East and Asia",
          "North East/Apprenticeship and The Americas and the Caribbean",
          "North East/Level 1 and entry level qualifications and Africa",
          "North East/Level 1 and entry level qualifications and Antarctica and Oceania (including Australasia) and Other",
          "North East/Level 1 and entry level qualifications and British Overseas",
          "North East/Level 1 and entry level qualifications and EU",
          "North East/Level 1 and entry level qualifications and Europe: United Kingdom",
          "North East/Level 1 and entry level qualifications and Middle East and Asia",
          "North East/Level 1 and entry level qualifications and The Americas and the Caribbean",
          "North East/Level 2 qualifications and Africa",
          "North East/Level 2 qualifications and Antarctica and Oceania (including Australasia) and Other",
          "North East/Level 2 qualifications and British Overseas",
          "North East/Level 2 qualifications and EU",
          "North East/Level 2 qualifications and Europe: United Kingdom",
          "North East/Level 2 qualifications and Middle East and Asia",
          "North East/Level 2 qualifications and The Americas and the Caribbean",
          "North East/Level 3 qualifications and Africa",
          "North East/Level 3 qualifications and Antarctica and Oceania (including Australasia) and Other",
          "North East/Level 3 qualifications and British Overseas",
          "North East/Level 3 qualifications and EU",
          "North East/Level 3 qualifications and Europe: United Kingdom",
          "North East/Level 3 qualifications and Middle East and Asia",
          "North East/Level 3 qualifications and The Americas and the Caribbean",
          "North East/Level 4 qualifications and above and Africa",
          "North East/Level 4 qualifications and above and Antarctica and Oceania (including Australasia) and Other",
          "North East/Level 4 qualifications and above and British Overseas",
          "North East/Level 4 qualifications and above and EU",
          "North East/Level 4 qualifications and above and Europe: United Kingdom",
          "North East/Level 4 qualifications and above and Middle East and Asia",
          "North East/Level 4 qualifications and above and The Americas and the Caribbean",
          "North East/No qualifications and Africa",
          "North East/No qualifications and Antarctica and Oceania (including Australasia) and Other",
          "North East/No qualifications and British Overseas",
          "North East/No qualifications and EU",
          "North East/No qualifications and Europe: United Kingdom",
          "North East/No qualifications and Middle East and Asia",
          "North East/No qualifications and The Americas and the Caribbean",
          "North East/Other qualifications and Africa",
          "North East/Other qualifications and Antarctica and Oceania (including Australasia) and Other",
          "North East/Other qualifications and British Overseas",
          "North East/Other qualifications and EU",
          "North East/Other qualifications and Europe: United Kingdom",
          "North East/Other qualifications and Middle East and Asia",
          "North East/Other qualifications and The Americas and the Caribbean",
          "North East"
         ],
         "labels": [
          "Apprenticeship and Africa",
          "Apprenticeship and Antarctica and Oceania (including Australasia) and Other",
          "Apprenticeship and British Overseas",
          "Apprenticeship and EU",
          "Apprenticeship and Europe: United Kingdom",
          "Apprenticeship and Middle East and Asia",
          "Apprenticeship and The Americas and the Caribbean",
          "Level 1 and entry level qualifications and Africa",
          "Level 1 and entry level qualifications and Antarctica and Oceania (including Australasia) and Other",
          "Level 1 and entry level qualifications and British Overseas",
          "Level 1 and entry level qualifications and EU",
          "Level 1 and entry level qualifications and Europe: United Kingdom",
          "Level 1 and entry level qualifications and Middle East and Asia",
          "Level 1 and entry level qualifications and The Americas and the Caribbean",
          "Level 2 qualifications and Africa",
          "Level 2 qualifications and Antarctica and Oceania (including Australasia) and Other",
          "Level 2 qualifications and British Overseas",
          "Level 2 qualifications and EU",
          "Level 2 qualifications and Europe: United Kingdom",
          "Level 2 qualifications and Middle East and Asia",
          "Level 2 qualifications and The Americas and the Caribbean",
          "Level 3 qualifications and Africa",
          "Level 3 qualifications and Antarctica and Oceania (including Australasia) and Other",
          "Level 3 qualifications and British Overseas",
          "Level 3 qualifications and EU",
          "Level 3 qualifications and Europe: United Kingdom",
          "Level 3 qualifications and Middle East and Asia",
          "Level 3 qualifications and The Americas and the Caribbean",
          "Level 4 qualifications and above and Africa",
          "Level 4 qualifications and above and Antarctica and Oceania (including Australasia) and Other",
          "Level 4 qualifications and above and British Overseas",
          "Level 4 qualifications and above and EU",
          "Level 4 qualifications and above and Europe: United Kingdom",
          "Level 4 qualifications and above and Middle East and Asia",
          "Level 4 qualifications and above and The Americas and the Caribbean",
          "No qualifications and Africa",
          "No qualifications and Antarctica and Oceania (including Australasia) and Other",
          "No qualifications and British Overseas",
          "No qualifications and EU",
          "No qualifications and Europe: United Kingdom",
          "No qualifications and Middle East and Asia",
          "No qualifications and The Americas and the Caribbean",
          "Other qualifications and Africa",
          "Other qualifications and Antarctica and Oceania (including Australasia) and Other",
          "Other qualifications and British Overseas",
          "Other qualifications and EU",
          "Other qualifications and Europe: United Kingdom",
          "Other qualifications and Middle East and Asia",
          "Other qualifications and The Americas and the Caribbean",
          "North East"
         ],
         "marker": {
          "coloraxis": "coloraxis",
          "colors": [
           1447,
           162,
           14,
           3750,
           134967,
           3920,
           501,
           2089,
           234,
           21,
           5412,
           194779,
           5658,
           723,
           3016,
           338,
           31,
           7813,
           281233,
           8169,
           1045,
           4044,
           454,
           41,
           10474,
           377047,
           10953,
           1401,
           6224,
           699,
           64,
           16121,
           580295,
           16857,
           2156,
           4424,
           496,
           45,
           11458,
           412439,
           11981,
           1532,
           544,
           61,
           5,
           1409,
           50730,
           1473,
           188,
           361739.17443000874
          ]
         },
         "name": "",
         "parents": [
          "North East",
          "North East",
          "North East",
          "North East",
          "North East",
          "North East",
          "North East",
          "North East",
          "North East",
          "North East",
          "North East",
          "North East",
          "North East",
          "North East",
          "North East",
          "North East",
          "North East",
          "North East",
          "North East",
          "North East",
          "North East",
          "North East",
          "North East",
          "North East",
          "North East",
          "North East",
          "North East",
          "North East",
          "North East",
          "North East",
          "North East",
          "North East",
          "North East",
          "North East",
          "North East",
          "North East",
          "North East",
          "North East",
          "North East",
          "North East",
          "North East",
          "North East",
          "North East",
          "North East",
          "North East",
          "North East",
          "North East",
          "North East",
          "North East",
          ""
         ],
         "type": "treemap",
         "values": [
          1447,
          162,
          14,
          3750,
          134967,
          3920,
          501,
          2089,
          234,
          21,
          5412,
          194779,
          5658,
          723,
          3016,
          338,
          31,
          7813,
          281233,
          8169,
          1045,
          4044,
          454,
          41,
          10474,
          377047,
          10953,
          1401,
          6224,
          699,
          64,
          16121,
          580295,
          16857,
          2156,
          4424,
          496,
          45,
          11458,
          412439,
          11981,
          1532,
          544,
          61,
          5,
          1409,
          50730,
          1473,
          188,
          2178937
         ]
        }
       ],
       "layout": {
        "coloraxis": {
         "colorbar": {
          "title": {
           "text": "People identified"
          }
         },
         "colorscale": [
          [
           0,
           "rgb(165,0,38)"
          ],
          [
           0.1,
           "rgb(215,48,39)"
          ],
          [
           0.2,
           "rgb(244,109,67)"
          ],
          [
           0.3,
           "rgb(253,174,97)"
          ],
          [
           0.4,
           "rgb(254,224,139)"
          ],
          [
           0.5,
           "rgb(255,255,191)"
          ],
          [
           0.6,
           "rgb(217,239,139)"
          ],
          [
           0.7,
           "rgb(166,217,106)"
          ],
          [
           0.8,
           "rgb(102,189,99)"
          ],
          [
           0.9,
           "rgb(26,152,80)"
          ],
          [
           1,
           "rgb(0,104,55)"
          ]
         ]
        },
        "height": 800,
        "legend": {
         "tracegroupgap": 0
        },
        "margin": {
         "t": 60
        },
        "template": {
         "data": {
          "bar": [
           {
            "error_x": {
             "color": "#2a3f5f"
            },
            "error_y": {
             "color": "#2a3f5f"
            },
            "marker": {
             "line": {
              "color": "#E5ECF6",
              "width": 0.5
             },
             "pattern": {
              "fillmode": "overlay",
              "size": 10,
              "solidity": 0.2
             }
            },
            "type": "bar"
           }
          ],
          "barpolar": [
           {
            "marker": {
             "line": {
              "color": "#E5ECF6",
              "width": 0.5
             },
             "pattern": {
              "fillmode": "overlay",
              "size": 10,
              "solidity": 0.2
             }
            },
            "type": "barpolar"
           }
          ],
          "carpet": [
           {
            "aaxis": {
             "endlinecolor": "#2a3f5f",
             "gridcolor": "white",
             "linecolor": "white",
             "minorgridcolor": "white",
             "startlinecolor": "#2a3f5f"
            },
            "baxis": {
             "endlinecolor": "#2a3f5f",
             "gridcolor": "white",
             "linecolor": "white",
             "minorgridcolor": "white",
             "startlinecolor": "#2a3f5f"
            },
            "type": "carpet"
           }
          ],
          "choropleth": [
           {
            "colorbar": {
             "outlinewidth": 0,
             "ticks": ""
            },
            "type": "choropleth"
           }
          ],
          "contour": [
           {
            "colorbar": {
             "outlinewidth": 0,
             "ticks": ""
            },
            "colorscale": [
             [
              0,
              "#0d0887"
             ],
             [
              0.1111111111111111,
              "#46039f"
             ],
             [
              0.2222222222222222,
              "#7201a8"
             ],
             [
              0.3333333333333333,
              "#9c179e"
             ],
             [
              0.4444444444444444,
              "#bd3786"
             ],
             [
              0.5555555555555556,
              "#d8576b"
             ],
             [
              0.6666666666666666,
              "#ed7953"
             ],
             [
              0.7777777777777778,
              "#fb9f3a"
             ],
             [
              0.8888888888888888,
              "#fdca26"
             ],
             [
              1,
              "#f0f921"
             ]
            ],
            "type": "contour"
           }
          ],
          "contourcarpet": [
           {
            "colorbar": {
             "outlinewidth": 0,
             "ticks": ""
            },
            "type": "contourcarpet"
           }
          ],
          "heatmap": [
           {
            "colorbar": {
             "outlinewidth": 0,
             "ticks": ""
            },
            "colorscale": [
             [
              0,
              "#0d0887"
             ],
             [
              0.1111111111111111,
              "#46039f"
             ],
             [
              0.2222222222222222,
              "#7201a8"
             ],
             [
              0.3333333333333333,
              "#9c179e"
             ],
             [
              0.4444444444444444,
              "#bd3786"
             ],
             [
              0.5555555555555556,
              "#d8576b"
             ],
             [
              0.6666666666666666,
              "#ed7953"
             ],
             [
              0.7777777777777778,
              "#fb9f3a"
             ],
             [
              0.8888888888888888,
              "#fdca26"
             ],
             [
              1,
              "#f0f921"
             ]
            ],
            "type": "heatmap"
           }
          ],
          "heatmapgl": [
           {
            "colorbar": {
             "outlinewidth": 0,
             "ticks": ""
            },
            "colorscale": [
             [
              0,
              "#0d0887"
             ],
             [
              0.1111111111111111,
              "#46039f"
             ],
             [
              0.2222222222222222,
              "#7201a8"
             ],
             [
              0.3333333333333333,
              "#9c179e"
             ],
             [
              0.4444444444444444,
              "#bd3786"
             ],
             [
              0.5555555555555556,
              "#d8576b"
             ],
             [
              0.6666666666666666,
              "#ed7953"
             ],
             [
              0.7777777777777778,
              "#fb9f3a"
             ],
             [
              0.8888888888888888,
              "#fdca26"
             ],
             [
              1,
              "#f0f921"
             ]
            ],
            "type": "heatmapgl"
           }
          ],
          "histogram": [
           {
            "marker": {
             "pattern": {
              "fillmode": "overlay",
              "size": 10,
              "solidity": 0.2
             }
            },
            "type": "histogram"
           }
          ],
          "histogram2d": [
           {
            "colorbar": {
             "outlinewidth": 0,
             "ticks": ""
            },
            "colorscale": [
             [
              0,
              "#0d0887"
             ],
             [
              0.1111111111111111,
              "#46039f"
             ],
             [
              0.2222222222222222,
              "#7201a8"
             ],
             [
              0.3333333333333333,
              "#9c179e"
             ],
             [
              0.4444444444444444,
              "#bd3786"
             ],
             [
              0.5555555555555556,
              "#d8576b"
             ],
             [
              0.6666666666666666,
              "#ed7953"
             ],
             [
              0.7777777777777778,
              "#fb9f3a"
             ],
             [
              0.8888888888888888,
              "#fdca26"
             ],
             [
              1,
              "#f0f921"
             ]
            ],
            "type": "histogram2d"
           }
          ],
          "histogram2dcontour": [
           {
            "colorbar": {
             "outlinewidth": 0,
             "ticks": ""
            },
            "colorscale": [
             [
              0,
              "#0d0887"
             ],
             [
              0.1111111111111111,
              "#46039f"
             ],
             [
              0.2222222222222222,
              "#7201a8"
             ],
             [
              0.3333333333333333,
              "#9c179e"
             ],
             [
              0.4444444444444444,
              "#bd3786"
             ],
             [
              0.5555555555555556,
              "#d8576b"
             ],
             [
              0.6666666666666666,
              "#ed7953"
             ],
             [
              0.7777777777777778,
              "#fb9f3a"
             ],
             [
              0.8888888888888888,
              "#fdca26"
             ],
             [
              1,
              "#f0f921"
             ]
            ],
            "type": "histogram2dcontour"
           }
          ],
          "mesh3d": [
           {
            "colorbar": {
             "outlinewidth": 0,
             "ticks": ""
            },
            "type": "mesh3d"
           }
          ],
          "parcoords": [
           {
            "line": {
             "colorbar": {
              "outlinewidth": 0,
              "ticks": ""
             }
            },
            "type": "parcoords"
           }
          ],
          "pie": [
           {
            "automargin": true,
            "type": "pie"
           }
          ],
          "scatter": [
           {
            "fillpattern": {
             "fillmode": "overlay",
             "size": 10,
             "solidity": 0.2
            },
            "type": "scatter"
           }
          ],
          "scatter3d": [
           {
            "line": {
             "colorbar": {
              "outlinewidth": 0,
              "ticks": ""
             }
            },
            "marker": {
             "colorbar": {
              "outlinewidth": 0,
              "ticks": ""
             }
            },
            "type": "scatter3d"
           }
          ],
          "scattercarpet": [
           {
            "marker": {
             "colorbar": {
              "outlinewidth": 0,
              "ticks": ""
             }
            },
            "type": "scattercarpet"
           }
          ],
          "scattergeo": [
           {
            "marker": {
             "colorbar": {
              "outlinewidth": 0,
              "ticks": ""
             }
            },
            "type": "scattergeo"
           }
          ],
          "scattergl": [
           {
            "marker": {
             "colorbar": {
              "outlinewidth": 0,
              "ticks": ""
             }
            },
            "type": "scattergl"
           }
          ],
          "scattermapbox": [
           {
            "marker": {
             "colorbar": {
              "outlinewidth": 0,
              "ticks": ""
             }
            },
            "type": "scattermapbox"
           }
          ],
          "scatterpolar": [
           {
            "marker": {
             "colorbar": {
              "outlinewidth": 0,
              "ticks": ""
             }
            },
            "type": "scatterpolar"
           }
          ],
          "scatterpolargl": [
           {
            "marker": {
             "colorbar": {
              "outlinewidth": 0,
              "ticks": ""
             }
            },
            "type": "scatterpolargl"
           }
          ],
          "scatterternary": [
           {
            "marker": {
             "colorbar": {
              "outlinewidth": 0,
              "ticks": ""
             }
            },
            "type": "scatterternary"
           }
          ],
          "surface": [
           {
            "colorbar": {
             "outlinewidth": 0,
             "ticks": ""
            },
            "colorscale": [
             [
              0,
              "#0d0887"
             ],
             [
              0.1111111111111111,
              "#46039f"
             ],
             [
              0.2222222222222222,
              "#7201a8"
             ],
             [
              0.3333333333333333,
              "#9c179e"
             ],
             [
              0.4444444444444444,
              "#bd3786"
             ],
             [
              0.5555555555555556,
              "#d8576b"
             ],
             [
              0.6666666666666666,
              "#ed7953"
             ],
             [
              0.7777777777777778,
              "#fb9f3a"
             ],
             [
              0.8888888888888888,
              "#fdca26"
             ],
             [
              1,
              "#f0f921"
             ]
            ],
            "type": "surface"
           }
          ],
          "table": [
           {
            "cells": {
             "fill": {
              "color": "#EBF0F8"
             },
             "line": {
              "color": "white"
             }
            },
            "header": {
             "fill": {
              "color": "#C8D4E3"
             },
             "line": {
              "color": "white"
             }
            },
            "type": "table"
           }
          ]
         },
         "layout": {
          "annotationdefaults": {
           "arrowcolor": "#2a3f5f",
           "arrowhead": 0,
           "arrowwidth": 1
          },
          "autotypenumbers": "strict",
          "coloraxis": {
           "colorbar": {
            "outlinewidth": 0,
            "ticks": ""
           }
          },
          "colorscale": {
           "diverging": [
            [
             0,
             "#8e0152"
            ],
            [
             0.1,
             "#c51b7d"
            ],
            [
             0.2,
             "#de77ae"
            ],
            [
             0.3,
             "#f1b6da"
            ],
            [
             0.4,
             "#fde0ef"
            ],
            [
             0.5,
             "#f7f7f7"
            ],
            [
             0.6,
             "#e6f5d0"
            ],
            [
             0.7,
             "#b8e186"
            ],
            [
             0.8,
             "#7fbc41"
            ],
            [
             0.9,
             "#4d9221"
            ],
            [
             1,
             "#276419"
            ]
           ],
           "sequential": [
            [
             0,
             "#0d0887"
            ],
            [
             0.1111111111111111,
             "#46039f"
            ],
            [
             0.2222222222222222,
             "#7201a8"
            ],
            [
             0.3333333333333333,
             "#9c179e"
            ],
            [
             0.4444444444444444,
             "#bd3786"
            ],
            [
             0.5555555555555556,
             "#d8576b"
            ],
            [
             0.6666666666666666,
             "#ed7953"
            ],
            [
             0.7777777777777778,
             "#fb9f3a"
            ],
            [
             0.8888888888888888,
             "#fdca26"
            ],
            [
             1,
             "#f0f921"
            ]
           ],
           "sequentialminus": [
            [
             0,
             "#0d0887"
            ],
            [
             0.1111111111111111,
             "#46039f"
            ],
            [
             0.2222222222222222,
             "#7201a8"
            ],
            [
             0.3333333333333333,
             "#9c179e"
            ],
            [
             0.4444444444444444,
             "#bd3786"
            ],
            [
             0.5555555555555556,
             "#d8576b"
            ],
            [
             0.6666666666666666,
             "#ed7953"
            ],
            [
             0.7777777777777778,
             "#fb9f3a"
            ],
            [
             0.8888888888888888,
             "#fdca26"
            ],
            [
             1,
             "#f0f921"
            ]
           ]
          },
          "colorway": [
           "#636efa",
           "#EF553B",
           "#00cc96",
           "#ab63fa",
           "#FFA15A",
           "#19d3f3",
           "#FF6692",
           "#B6E880",
           "#FF97FF",
           "#FECB52"
          ],
          "font": {
           "color": "#2a3f5f"
          },
          "geo": {
           "bgcolor": "white",
           "lakecolor": "white",
           "landcolor": "#E5ECF6",
           "showlakes": true,
           "showland": true,
           "subunitcolor": "white"
          },
          "hoverlabel": {
           "align": "left"
          },
          "hovermode": "closest",
          "mapbox": {
           "style": "light"
          },
          "paper_bgcolor": "white",
          "plot_bgcolor": "#E5ECF6",
          "polar": {
           "angularaxis": {
            "gridcolor": "white",
            "linecolor": "white",
            "ticks": ""
           },
           "bgcolor": "#E5ECF6",
           "radialaxis": {
            "gridcolor": "white",
            "linecolor": "white",
            "ticks": ""
           }
          },
          "scene": {
           "xaxis": {
            "backgroundcolor": "#E5ECF6",
            "gridcolor": "white",
            "gridwidth": 2,
            "linecolor": "white",
            "showbackground": true,
            "ticks": "",
            "zerolinecolor": "white"
           },
           "yaxis": {
            "backgroundcolor": "#E5ECF6",
            "gridcolor": "white",
            "gridwidth": 2,
            "linecolor": "white",
            "showbackground": true,
            "ticks": "",
            "zerolinecolor": "white"
           },
           "zaxis": {
            "backgroundcolor": "#E5ECF6",
            "gridcolor": "white",
            "gridwidth": 2,
            "linecolor": "white",
            "showbackground": true,
            "ticks": "",
            "zerolinecolor": "white"
           }
          },
          "shapedefaults": {
           "line": {
            "color": "#2a3f5f"
           }
          },
          "ternary": {
           "aaxis": {
            "gridcolor": "white",
            "linecolor": "white",
            "ticks": ""
           },
           "baxis": {
            "gridcolor": "white",
            "linecolor": "white",
            "ticks": ""
           },
           "bgcolor": "#E5ECF6",
           "caxis": {
            "gridcolor": "white",
            "linecolor": "white",
            "ticks": ""
           }
          },
          "title": {
           "x": 0.05
          },
          "xaxis": {
           "automargin": true,
           "gridcolor": "white",
           "linecolor": "white",
           "ticks": "",
           "title": {
            "standoff": 15
           },
           "zerolinecolor": "white",
           "zerolinewidth": 2
          },
          "yaxis": {
           "automargin": true,
           "gridcolor": "white",
           "linecolor": "white",
           "ticks": "",
           "title": {
            "standoff": 15
           },
           "zerolinecolor": "white",
           "zerolinewidth": 2
          }
         }
        },
        "width": 1600
       }
      },
      "image/png": "[encoded data removed]",
      "text/html": [
       "<div>                            <div id=\"024ee75b-919a-4368-a16f-5287cfcd313d\" class=\"plotly-graph-div\" style=\"height:800px; width:1600px;\"></div>            <script type=\"text/javascript\">                require([\"plotly\"], function(Plotly) {                    window.PLOTLYENV=window.PLOTLYENV || {};                                    if (document.getElementById(\"024ee75b-919a-4368-a16f-5287cfcd313d\")) {                    Plotly.newPlot(                        \"024ee75b-919a-4368-a16f-5287cfcd313d\",                        [{\"branchvalues\":\"total\",\"customdata\":[[1447.0],[162.0],[14.0],[3750.0],[134967.0],[3920.0],[501.0],[2089.0],[234.0],[21.0],[5412.0],[194779.0],[5658.0],[723.0],[3016.0],[338.0],[31.0],[7813.0],[281233.0],[8169.0],[1045.0],[4044.0],[454.0],[41.0],[10474.0],[377047.0],[10953.0],[1401.0],[6224.0],[699.0],[64.0],[16121.0],[580295.0],[16857.0],[2156.0],[4424.0],[496.0],[45.0],[11458.0],[412439.0],[11981.0],[1532.0],[544.0],[61.0],[5.0],[1409.0],[50730.0],[1473.0],[188.0],[361739.17443000874]],\"domain\":{\"x\":[0.0,1.0],\"y\":[0.0,1.0]},\"hovertemplate\":\"labels=%{label}<br>People identified_sum=%{value}<br>parent=%{parent}<br>id=%{id}<br>People identified=%{color}<extra></extra>\",\"ids\":[\"North East/Apprenticeship and Africa\",\"North East/Apprenticeship and Antarctica and Oceania (including Australasia) and Other\",\"North East/Apprenticeship and British Overseas\",\"North East/Apprenticeship and EU\",\"North East/Apprenticeship and Europe: United Kingdom\",\"North East/Apprenticeship and Middle East and Asia\",\"North East/Apprenticeship and The Americas and the Caribbean\",\"North East/Level 1 and entry level qualifications and Africa\",\"North East/Level 1 and entry level qualifications and Antarctica and Oceania (including Australasia) and Other\",\"North East/Level 1 and entry level qualifications and British Overseas\",\"North East/Level 1 and entry level qualifications and EU\",\"North East/Level 1 and entry level qualifications and Europe: United Kingdom\",\"North East/Level 1 and entry level qualifications and Middle East and Asia\",\"North East/Level 1 and entry level qualifications and The Americas and the Caribbean\",\"North East/Level 2 qualifications and Africa\",\"North East/Level 2 qualifications and Antarctica and Oceania (including Australasia) and Other\",\"North East/Level 2 qualifications and British Overseas\",\"North East/Level 2 qualifications and EU\",\"North East/Level 2 qualifications and Europe: United Kingdom\",\"North East/Level 2 qualifications and Middle East and Asia\",\"North East/Level 2 qualifications and The Americas and the Caribbean\",\"North East/Level 3 qualifications and Africa\",\"North East/Level 3 qualifications and Antarctica and Oceania (including Australasia) and Other\",\"North East/Level 3 qualifications and British Overseas\",\"North East/Level 3 qualifications and EU\",\"North East/Level 3 qualifications and Europe: United Kingdom\",\"North East/Level 3 qualifications and Middle East and Asia\",\"North East/Level 3 qualifications and The Americas and the Caribbean\",\"North East/Level 4 qualifications and above and Africa\",\"North East/Level 4 qualifications and above and Antarctica and Oceania (including Australasia) and Other\",\"North East/Level 4 qualifications and above and British Overseas\",\"North East/Level 4 qualifications and above and EU\",\"North East/Level 4 qualifications and above and Europe: United Kingdom\",\"North East/Level 4 qualifications and above and Middle East and Asia\",\"North East/Level 4 qualifications and above and The Americas and the Caribbean\",\"North East/No qualifications and Africa\",\"North East/No qualifications and Antarctica and Oceania (including Australasia) and Other\",\"North East/No qualifications and British Overseas\",\"North East/No qualifications and EU\",\"North East/No qualifications and Europe: United Kingdom\",\"North East/No qualifications and Middle East and Asia\",\"North East/No qualifications and The Americas and the Caribbean\",\"North East/Other qualifications and Africa\",\"North East/Other qualifications and Antarctica and Oceania (including Australasia) and Other\",\"North East/Other qualifications and British Overseas\",\"North East/Other qualifications and EU\",\"North East/Other qualifications and Europe: United Kingdom\",\"North East/Other qualifications and Middle East and Asia\",\"North East/Other qualifications and The Americas and the Caribbean\",\"North East\"],\"labels\":[\"Apprenticeship and Africa\",\"Apprenticeship and Antarctica and Oceania (including Australasia) and Other\",\"Apprenticeship and British Overseas\",\"Apprenticeship and EU\",\"Apprenticeship and Europe: United Kingdom\",\"Apprenticeship and Middle East and Asia\",\"Apprenticeship and The Americas and the Caribbean\",\"Level 1 and entry level qualifications and Africa\",\"Level 1 and entry level qualifications and Antarctica and Oceania (including Australasia) and Other\",\"Level 1 and entry level qualifications and British Overseas\",\"Level 1 and entry level qualifications and EU\",\"Level 1 and entry level qualifications and Europe: United Kingdom\",\"Level 1 and entry level qualifications and Middle East and Asia\",\"Level 1 and entry level qualifications and The Americas and the Caribbean\",\"Level 2 qualifications and Africa\",\"Level 2 qualifications and Antarctica and Oceania (including Australasia) and Other\",\"Level 2 qualifications and British Overseas\",\"Level 2 qualifications and EU\",\"Level 2 qualifications and Europe: United Kingdom\",\"Level 2 qualifications and Middle East and Asia\",\"Level 2 qualifications and The Americas and the Caribbean\",\"Level 3 qualifications and Africa\",\"Level 3 qualifications and Antarctica and Oceania (including Australasia) and Other\",\"Level 3 qualifications and British Overseas\",\"Level 3 qualifications and EU\",\"Level 3 qualifications and Europe: United Kingdom\",\"Level 3 qualifications and Middle East and Asia\",\"Level 3 qualifications and The Americas and the Caribbean\",\"Level 4 qualifications and above and Africa\",\"Level 4 qualifications and above and Antarctica and Oceania (including Australasia) and Other\",\"Level 4 qualifications and above and British Overseas\",\"Level 4 qualifications and above and EU\",\"Level 4 qualifications and above and Europe: United Kingdom\",\"Level 4 qualifications and above and Middle East and Asia\",\"Level 4 qualifications and above and The Americas and the Caribbean\",\"No qualifications and Africa\",\"No qualifications and Antarctica and Oceania (including Australasia) and Other\",\"No qualifications and British Overseas\",\"No qualifications and EU\",\"No qualifications and Europe: United Kingdom\",\"No qualifications and Middle East and Asia\",\"No qualifications and The Americas and the Caribbean\",\"Other qualifications and Africa\",\"Other qualifications and Antarctica and Oceania (including Australasia) and Other\",\"Other qualifications and British Overseas\",\"Other qualifications and EU\",\"Other qualifications and Europe: United Kingdom\",\"Other qualifications and Middle East and Asia\",\"Other qualifications and The Americas and the Caribbean\",\"North East\"],\"marker\":{\"coloraxis\":\"coloraxis\",\"colors\":[1447.0,162.0,14.0,3750.0,134967.0,3920.0,501.0,2089.0,234.0,21.0,5412.0,194779.0,5658.0,723.0,3016.0,338.0,31.0,7813.0,281233.0,8169.0,1045.0,4044.0,454.0,41.0,10474.0,377047.0,10953.0,1401.0,6224.0,699.0,64.0,16121.0,580295.0,16857.0,2156.0,4424.0,496.0,45.0,11458.0,412439.0,11981.0,1532.0,544.0,61.0,5.0,1409.0,50730.0,1473.0,188.0,361739.17443000874]},\"name\":\"\",\"parents\":[\"North East\",\"North East\",\"North East\",\"North East\",\"North East\",\"North East\",\"North East\",\"North East\",\"North East\",\"North East\",\"North East\",\"North East\",\"North East\",\"North East\",\"North East\",\"North East\",\"North East\",\"North East\",\"North East\",\"North East\",\"North East\",\"North East\",\"North East\",\"North East\",\"North East\",\"North East\",\"North East\",\"North East\",\"North East\",\"North East\",\"North East\",\"North East\",\"North East\",\"North East\",\"North East\",\"North East\",\"North East\",\"North East\",\"North East\",\"North East\",\"North East\",\"North East\",\"North East\",\"North East\",\"North East\",\"North East\",\"North East\",\"North East\",\"North East\",\"\"],\"values\":[1447.0,162.0,14.0,3750.0,134967.0,3920.0,501.0,2089.0,234.0,21.0,5412.0,194779.0,5658.0,723.0,3016.0,338.0,31.0,7813.0,281233.0,8169.0,1045.0,4044.0,454.0,41.0,10474.0,377047.0,10953.0,1401.0,6224.0,699.0,64.0,16121.0,580295.0,16857.0,2156.0,4424.0,496.0,45.0,11458.0,412439.0,11981.0,1532.0,544.0,61.0,5.0,1409.0,50730.0,1473.0,188.0,2178937.0],\"type\":\"treemap\"}],                        {\"template\":{\"data\":{\"histogram2dcontour\":[{\"type\":\"histogram2dcontour\",\"colorbar\":{\"outlinewidth\":0,\"ticks\":\"\"},\"colorscale\":[[0.0,\"#0d0887\"],[0.1111111111111111,\"#46039f\"],[0.2222222222222222,\"#7201a8\"],[0.3333333333333333,\"#9c179e\"],[0.4444444444444444,\"#bd3786\"],[0.5555555555555556,\"#d8576b\"],[0.6666666666666666,\"#ed7953\"],[0.7777777777777778,\"#fb9f3a\"],[0.8888888888888888,\"#fdca26\"],[1.0,\"#f0f921\"]]}],\"choropleth\":[{\"type\":\"choropleth\",\"colorbar\":{\"outlinewidth\":0,\"ticks\":\"\"}}],\"histogram2d\":[{\"type\":\"histogram2d\",\"colorbar\":{\"outlinewidth\":0,\"ticks\":\"\"},\"colorscale\":[[0.0,\"#0d0887\"],[0.1111111111111111,\"#46039f\"],[0.2222222222222222,\"#7201a8\"],[0.3333333333333333,\"#9c179e\"],[0.4444444444444444,\"#bd3786\"],[0.5555555555555556,\"#d8576b\"],[0.6666666666666666,\"#ed7953\"],[0.7777777777777778,\"#fb9f3a\"],[0.8888888888888888,\"#fdca26\"],[1.0,\"#f0f921\"]]}],\"heatmap\":[{\"type\":\"heatmap\",\"colorbar\":{\"outlinewidth\":0,\"ticks\":\"\"},\"colorscale\":[[0.0,\"#0d0887\"],[0.1111111111111111,\"#46039f\"],[0.2222222222222222,\"#7201a8\"],[0.3333333333333333,\"#9c179e\"],[0.4444444444444444,\"#bd3786\"],[0.5555555555555556,\"#d8576b\"],[0.6666666666666666,\"#ed7953\"],[0.7777777777777778,\"#fb9f3a\"],[0.8888888888888888,\"#fdca26\"],[1.0,\"#f0f921\"]]}],\"heatmapgl\":[{\"type\":\"heatmapgl\",\"colorbar\":{\"outlinewidth\":0,\"ticks\":\"\"},\"colorscale\":[[0.0,\"#0d0887\"],[0.1111111111111111,\"#46039f\"],[0.2222222222222222,\"#7201a8\"],[0.3333333333333333,\"#9c179e\"],[0.4444444444444444,\"#bd3786\"],[0.5555555555555556,\"#d8576b\"],[0.6666666666666666,\"#ed7953\"],[0.7777777777777778,\"#fb9f3a\"],[0.8888888888888888,\"#fdca26\"],[1.0,\"#f0f921\"]]}],\"contourcarpet\":[{\"type\":\"contourcarpet\",\"colorbar\":{\"outlinewidth\":0,\"ticks\":\"\"}}],\"contour\":[{\"type\":\"contour\",\"colorbar\":{\"outlinewidth\":0,\"ticks\":\"\"},\"colorscale\":[[0.0,\"#0d0887\"],[0.1111111111111111,\"#46039f\"],[0.2222222222222222,\"#7201a8\"],[0.3333333333333333,\"#9c179e\"],[0.4444444444444444,\"#bd3786\"],[0.5555555555555556,\"#d8576b\"],[0.6666666666666666,\"#ed7953\"],[0.7777777777777778,\"#fb9f3a\"],[0.8888888888888888,\"#fdca26\"],[1.0,\"#f0f921\"]]}],\"surface\":[{\"type\":\"surface\",\"colorbar\":{\"outlinewidth\":0,\"ticks\":\"\"},\"colorscale\":[[0.0,\"#0d0887\"],[0.1111111111111111,\"#46039f\"],[0.2222222222222222,\"#7201a8\"],[0.3333333333333333,\"#9c179e\"],[0.4444444444444444,\"#bd3786\"],[0.5555555555555556,\"#d8576b\"],[0.6666666666666666,\"#ed7953\"],[0.7777777777777778,\"#fb9f3a\"],[0.8888888888888888,\"#fdca26\"],[1.0,\"#f0f921\"]]}],\"mesh3d\":[{\"type\":\"mesh3d\",\"colorbar\":{\"outlinewidth\":0,\"ticks\":\"\"}}],\"scatter\":[{\"fillpattern\":{\"fillmode\":\"overlay\",\"size\":10,\"solidity\":0.2},\"type\":\"scatter\"}],\"parcoords\":[{\"type\":\"parcoords\",\"line\":{\"colorbar\":{\"outlinewidth\":0,\"ticks\":\"\"}}}],\"scatterpolargl\":[{\"type\":\"scatterpolargl\",\"marker\":{\"colorbar\":{\"outlinewidth\":0,\"ticks\":\"\"}}}],\"bar\":[{\"error_x\":{\"color\":\"#2a3f5f\"},\"error_y\":{\"color\":\"#2a3f5f\"},\"marker\":{\"line\":{\"color\":\"#E5ECF6\",\"width\":0.5},\"pattern\":{\"fillmode\":\"overlay\",\"size\":10,\"solidity\":0.2}},\"type\":\"bar\"}],\"scattergeo\":[{\"type\":\"scattergeo\",\"marker\":{\"colorbar\":{\"outlinewidth\":0,\"ticks\":\"\"}}}],\"scatterpolar\":[{\"type\":\"scatterpolar\",\"marker\":{\"colorbar\":{\"outlinewidth\":0,\"ticks\":\"\"}}}],\"histogram\":[{\"marker\":{\"pattern\":{\"fillmode\":\"overlay\",\"size\":10,\"solidity\":0.2}},\"type\":\"histogram\"}],\"scattergl\":[{\"type\":\"scattergl\",\"marker\":{\"colorbar\":{\"outlinewidth\":0,\"ticks\":\"\"}}}],\"scatter3d\":[{\"type\":\"scatter3d\",\"line\":{\"colorbar\":{\"outlinewidth\":0,\"ticks\":\"\"}},\"marker\":{\"colorbar\":{\"outlinewidth\":0,\"ticks\":\"\"}}}],\"scattermapbox\":[{\"type\":\"scattermapbox\",\"marker\":{\"colorbar\":{\"outlinewidth\":0,\"ticks\":\"\"}}}],\"scatterternary\":[{\"type\":\"scatterternary\",\"marker\":{\"colorbar\":{\"outlinewidth\":0,\"ticks\":\"\"}}}],\"scattercarpet\":[{\"type\":\"scattercarpet\",\"marker\":{\"colorbar\":{\"outlinewidth\":0,\"ticks\":\"\"}}}],\"carpet\":[{\"aaxis\":{\"endlinecolor\":\"#2a3f5f\",\"gridcolor\":\"white\",\"linecolor\":\"white\",\"minorgridcolor\":\"white\",\"startlinecolor\":\"#2a3f5f\"},\"baxis\":{\"endlinecolor\":\"#2a3f5f\",\"gridcolor\":\"white\",\"linecolor\":\"white\",\"minorgridcolor\":\"white\",\"startlinecolor\":\"#2a3f5f\"},\"type\":\"carpet\"}],\"table\":[{\"cells\":{\"fill\":{\"color\":\"#EBF0F8\"},\"line\":{\"color\":\"white\"}},\"header\":{\"fill\":{\"color\":\"#C8D4E3\"},\"line\":{\"color\":\"white\"}},\"type\":\"table\"}],\"barpolar\":[{\"marker\":{\"line\":{\"color\":\"#E5ECF6\",\"width\":0.5},\"pattern\":{\"fillmode\":\"overlay\",\"size\":10,\"solidity\":0.2}},\"type\":\"barpolar\"}],\"pie\":[{\"automargin\":true,\"type\":\"pie\"}]},\"layout\":{\"autotypenumbers\":\"strict\",\"colorway\":[\"#636efa\",\"#EF553B\",\"#00cc96\",\"#ab63fa\",\"#FFA15A\",\"#19d3f3\",\"#FF6692\",\"#B6E880\",\"#FF97FF\",\"#FECB52\"],\"font\":{\"color\":\"#2a3f5f\"},\"hovermode\":\"closest\",\"hoverlabel\":{\"align\":\"left\"},\"paper_bgcolor\":\"white\",\"plot_bgcolor\":\"#E5ECF6\",\"polar\":{\"bgcolor\":\"#E5ECF6\",\"angularaxis\":{\"gridcolor\":\"white\",\"linecolor\":\"white\",\"ticks\":\"\"},\"radialaxis\":{\"gridcolor\":\"white\",\"linecolor\":\"white\",\"ticks\":\"\"}},\"ternary\":{\"bgcolor\":\"#E5ECF6\",\"aaxis\":{\"gridcolor\":\"white\",\"linecolor\":\"white\",\"ticks\":\"\"},\"baxis\":{\"gridcolor\":\"white\",\"linecolor\":\"white\",\"ticks\":\"\"},\"caxis\":{\"gridcolor\":\"white\",\"linecolor\":\"white\",\"ticks\":\"\"}},\"coloraxis\":{\"colorbar\":{\"outlinewidth\":0,\"ticks\":\"\"}},\"colorscale\":{\"sequential\":[[0.0,\"#0d0887\"],[0.1111111111111111,\"#46039f\"],[0.2222222222222222,\"#7201a8\"],[0.3333333333333333,\"#9c179e\"],[0.4444444444444444,\"#bd3786\"],[0.5555555555555556,\"#d8576b\"],[0.6666666666666666,\"#ed7953\"],[0.7777777777777778,\"#fb9f3a\"],[0.8888888888888888,\"#fdca26\"],[1.0,\"#f0f921\"]],\"sequentialminus\":[[0.0,\"#0d0887\"],[0.1111111111111111,\"#46039f\"],[0.2222222222222222,\"#7201a8\"],[0.3333333333333333,\"#9c179e\"],[0.4444444444444444,\"#bd3786\"],[0.5555555555555556,\"#d8576b\"],[0.6666666666666666,\"#ed7953\"],[0.7777777777777778,\"#fb9f3a\"],[0.8888888888888888,\"#fdca26\"],[1.0,\"#f0f921\"]],\"diverging\":[[0,\"#8e0152\"],[0.1,\"#c51b7d\"],[0.2,\"#de77ae\"],[0.3,\"#f1b6da\"],[0.4,\"#fde0ef\"],[0.5,\"#f7f7f7\"],[0.6,\"#e6f5d0\"],[0.7,\"#b8e186\"],[0.8,\"#7fbc41\"],[0.9,\"#4d9221\"],[1,\"#276419\"]]},\"xaxis\":{\"gridcolor\":\"white\",\"linecolor\":\"white\",\"ticks\":\"\",\"title\":{\"standoff\":15},\"zerolinecolor\":\"white\",\"automargin\":true,\"zerolinewidth\":2},\"yaxis\":{\"gridcolor\":\"white\",\"linecolor\":\"white\",\"ticks\":\"\",\"title\":{\"standoff\":15},\"zerolinecolor\":\"white\",\"automargin\":true,\"zerolinewidth\":2},\"scene\":{\"xaxis\":{\"backgroundcolor\":\"#E5ECF6\",\"gridcolor\":\"white\",\"linecolor\":\"white\",\"showbackground\":true,\"ticks\":\"\",\"zerolinecolor\":\"white\",\"gridwidth\":2},\"yaxis\":{\"backgroundcolor\":\"#E5ECF6\",\"gridcolor\":\"white\",\"linecolor\":\"white\",\"showbackground\":true,\"ticks\":\"\",\"zerolinecolor\":\"white\",\"gridwidth\":2},\"zaxis\":{\"backgroundcolor\":\"#E5ECF6\",\"gridcolor\":\"white\",\"linecolor\":\"white\",\"showbackground\":true,\"ticks\":\"\",\"zerolinecolor\":\"white\",\"gridwidth\":2}},\"shapedefaults\":{\"line\":{\"color\":\"#2a3f5f\"}},\"annotationdefaults\":{\"arrowcolor\":\"#2a3f5f\",\"arrowhead\":0,\"arrowwidth\":1},\"geo\":{\"bgcolor\":\"white\",\"landcolor\":\"#E5ECF6\",\"subunitcolor\":\"white\",\"showland\":true,\"showlakes\":true,\"lakecolor\":\"white\"},\"title\":{\"x\":0.05},\"mapbox\":{\"style\":\"light\"}}},\"coloraxis\":{\"colorbar\":{\"title\":{\"text\":\"People identified\"}},\"colorscale\":[[0.0,\"rgb(165,0,38)\"],[0.1,\"rgb(215,48,39)\"],[0.2,\"rgb(244,109,67)\"],[0.3,\"rgb(253,174,97)\"],[0.4,\"rgb(254,224,139)\"],[0.5,\"rgb(255,255,191)\"],[0.6,\"rgb(217,239,139)\"],[0.7,\"rgb(166,217,106)\"],[0.8,\"rgb(102,189,99)\"],[0.9,\"rgb(26,152,80)\"],[1.0,\"rgb(0,104,55)\"]]},\"legend\":{\"tracegroupgap\":0},\"margin\":{\"t\":60},\"height\":800,\"width\":1600},                        {\"responsive\": true}                    ).then(function(){\n",
       "                            \n",
       "var gd = document.getElementById('024ee75b-919a-4368-a16f-5287cfcd313d');\n",
       "var x = new MutationObserver(function (mutations, observer) {{\n",
       "        var display = window.getComputedStyle(gd).display;\n",
       "        if (!display || display === 'none') {{\n",
       "            console.log([gd, 'removed!']);\n",
       "            Plotly.purge(gd);\n",
       "            observer.disconnect();\n",
       "        }}\n",
       "}});\n",
       "\n",
       "// Listen for the removal of the full notebook cells\n",
       "var notebookContainer = gd.closest('#notebook-container');\n",
       "if (notebookContainer) {{\n",
       "    x.observe(notebookContainer, {childList: true});\n",
       "}}\n",
       "\n",
       "// Listen for the clearing of the current output cell\n",
       "var outputEl = gd.closest('.output');\n",
       "if (outputEl) {{\n",
       "    x.observe(outputEl, {childList: true});\n",
       "}}\n",
       "\n",
       "                        })                };                });            </script>        </div>"
      ]
     },
     "metadata": {},
     "output_type": "display_data"
    }
   ],
   "source": [
    "# creating a treemap of a more specific location\n",
    "\n",
    "fig = px.treemap(\n",
    "    treemap_df.loc[treemap_df['Region']=='North East'],path=['Region','variable'],\n",
    "    values='People identified',\n",
    "    width=1600, height=800,\n",
    "    color='People identified',\n",
    "    color_continuous_scale='rdylgn',\n",
    ")\n",
    "\n",
    "fig.show()\n",
    "\n",
    "# ideally this code would create the size of the box ased on risk (larger box correlates to larger risk) however time became a limitation when attempting this"
   ]
  },
  {
   "cell_type": "code",
   "execution_count": null,
   "id": "6d2e232e-ae17-4b04-bbec-214e0d313d18",
   "metadata": {},
   "outputs": [],
   "source": []
  }
 ],
 "metadata": {
  "kernelspec": {
   "display_name": "Python 3 (ipykernel)",
   "language": "python",
   "name": "python3"
  },
  "language_info": {
   "codemirror_mode": {
    "name": "ipython",
    "version": 3
   },
   "file_extension": ".py",
   "mimetype": "text/x-python",
   "name": "python",
   "nbconvert_exporter": "python",
   "pygments_lexer": "ipython3",
   "version": "3.11.4"
  }
 },
 "nbformat": 4,
 "nbformat_minor": 5
}
