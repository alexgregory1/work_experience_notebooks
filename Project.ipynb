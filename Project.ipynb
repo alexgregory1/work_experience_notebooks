{
 "cells": [
  {
   "cell_type": "markdown",
   "id": "fdb22622-99bf-46ef-96e8-3804f632c715",
   "metadata": {},
   "source": [
    "# ONS Census 2021 - PII Risk"
   ]
  },
  {
   "cell_type": "markdown",
   "id": "c06853d4-350c-46de-9c00-f68671b2c3b4",
   "metadata": {},
   "source": [
    "### Importing/Cleaning Data"
   ]
  },
  {
   "cell_type": "markdown",
   "id": "189570fc-d83f-4900-9486-51f549ede5e4",
   "metadata": {},
   "source": [
    "### Probability Function"
   ]
  },
  {
   "cell_type": "markdown",
   "id": "616449ac-095a-4e69-a672-72346ebdd908",
   "metadata": {},
   "source": [
    "Function to calculate probailities as a percent of the total in each region."
   ]
  },
  {
   "cell_type": "markdown",
   "id": "0fb7052a-ed3d-462c-a5a6-8ea41559a0d2",
   "metadata": {},
   "source": [
    "Data must be input in the form\n",
    "\n",
    "<table style=\"border-collapse:collapse;border-spacing:0\" class=\"tg\"><thead><tr><th style=\"border-color:inherit;border-style:solid;border-width:1px;font-family:Arial, sans-serif;font-size:14px;font-weight:normal;overflow:hidden;padding:10px 5px;text-align:left;vertical-align:top;word-break:normal\">Region<br></th><th style=\"border-color:inherit;border-style:solid;border-width:1px;font-family:Arial, sans-serif;font-size:14px;font-weight:normal;overflow:hidden;padding:10px 5px;text-align:left;vertical-align:top;word-break:normal\">Population</th><th style=\"border-color:inherit;border-style:solid;border-width:1px;font-family:Arial, sans-serif;font-size:14px;font-weight:normal;overflow:hidden;padding:10px 5px;text-align:left;vertical-align:top;word-break:normal\">Variable</th><th style=\"border-color:inherit;border-style:solid;border-width:1px;font-family:Arial, sans-serif;font-size:14px;font-weight:normal;overflow:hidden;padding:10px 5px;text-align:left;vertical-align:top;word-break:normal\">...</th></tr></thead><tbody><tr><td style=\"border-color:inherit;border-style:solid;border-width:1px;font-family:Arial, sans-serif;font-size:14px;overflow:hidden;padding:10px 5px;text-align:left;vertical-align:top;word-break:normal\">North East</td><td style=\"border-color:inherit;border-style:solid;border-width:1px;font-family:Arial, sans-serif;font-size:14px;overflow:hidden;padding:10px 5px;text-align:left;vertical-align:top;word-break:normal\">2647013</td><td style=\"border-color:inherit;border-style:solid;border-width:1px;font-family:Arial, sans-serif;font-size:14px;overflow:hidden;padding:10px 5px;text-align:right;vertical-align:top;word-break:normal\">2536430</td><td style=\"border-color:inherit;border-style:solid;border-width:1px;font-family:Arial, sans-serif;font-size:14px;overflow:hidden;padding:10px 5px;text-align:left;vertical-align:top;word-break:normal\">...</td></tr><tr><td style=\"border-color:inherit;border-style:solid;border-width:1px;font-family:Arial, sans-serif;font-size:14px;overflow:hidden;padding:10px 5px;text-align:left;vertical-align:top;word-break:normal\">North West</td><td style=\"border-color:inherit;border-style:solid;border-width:1px;font-family:Arial, sans-serif;font-size:14px;overflow:hidden;padding:10px 5px;text-align:left;vertical-align:top;word-break:normal\">7417399</td><td style=\"border-color:inherit;border-style:solid;border-width:1px;font-family:Arial, sans-serif;font-size:14px;overflow:hidden;padding:10px 5px;text-align:left;vertical-align:top;word-break:normal\">6885187</td><td style=\"border-color:inherit;border-style:solid;border-width:1px;font-family:Arial, sans-serif;font-size:14px;overflow:hidden;padding:10px 5px;text-align:left;vertical-align:top;word-break:normal\">...</td></tr></tbody></table>\n",
    "\n",
    "and will be output in the form\n",
    "\n",
    "<table style=\"border-collapse:collapse;border-spacing:0\" class=\"tg\"><thead><tr><th style=\"border-color:inherit;border-style:solid;border-width:1px;font-family:Arial, sans-serif;font-size:14px;font-weight:normal;overflow:hidden;padding:10px 5px;text-align:left;vertical-align:top;word-break:normal\">Region<br></th><th style=\"border-color:inherit;border-style:solid;border-width:1px;font-family:Arial, sans-serif;font-size:14px;font-weight:normal;overflow:hidden;padding:10px 5px;text-align:left;vertical-align:top;word-break:normal\">Population</th><th style=\"border-color:inherit;border-style:solid;border-width:1px;font-family:Arial, sans-serif;font-size:14px;font-weight:normal;overflow:hidden;padding:10px 5px;text-align:left;vertical-align:top;word-break:normal\">Probability</th><th style=\"border-color:inherit;border-style:solid;border-width:1px;font-family:Arial, sans-serif;font-size:14px;font-weight:normal;overflow:hidden;padding:10px 5px;text-align:left;vertical-align:top;word-break:normal\">...</th></tr></thead><tbody><tr><td style=\"border-color:inherit;border-style:solid;border-width:1px;font-family:Arial, sans-serif;font-size:14px;overflow:hidden;padding:10px 5px;text-align:left;vertical-align:top;word-break:normal\">North East</td><td style=\"border-color:inherit;border-style:solid;border-width:1px;font-family:Arial, sans-serif;font-size:14px;overflow:hidden;padding:10px 5px;text-align:left;vertical-align:top;word-break:normal\">2647013</td><td style=\"border-color:inherit;border-style:solid;border-width:1px;font-family:Arial, sans-serif;font-size:14px;overflow:hidden;padding:10px 5px;text-align:right;vertical-align:top;word-break:normal\">0.958233</td><td style=\"border-color:inherit;border-style:solid;border-width:1px;font-family:Arial, sans-serif;font-size:14px;overflow:hidden;padding:10px 5px;text-align:left;vertical-align:top;word-break:normal\">...</td></tr><tr><td style=\"border-color:inherit;border-style:solid;border-width:1px;font-family:Arial, sans-serif;font-size:14px;overflow:hidden;padding:10px 5px;text-align:left;vertical-align:top;word-break:normal\">North West</td><td style=\"border-color:inherit;border-style:solid;border-width:1px;font-family:Arial, sans-serif;font-size:14px;overflow:hidden;padding:10px 5px;text-align:left;vertical-align:top;word-break:normal\">7417399</td><td style=\"border-color:inherit;border-style:solid;border-width:1px;font-family:Arial, sans-serif;font-size:14px;overflow:hidden;padding:10px 5px;text-align:left;vertical-align:top;word-break:normal\">0.928248</td><td style=\"border-color:inherit;border-style:solid;border-width:1px;font-family:Arial, sans-serif;font-size:14px;overflow:hidden;padding:10px 5px;text-align:left;vertical-align:top;word-break:normal\">...</td></tr></tbody></table>"
   ]
  },
  {
   "cell_type": "code",
   "execution_count": 2,
   "id": "445cb6b6-dd5b-476a-84cd-f051b3fb69d5",
   "metadata": {},
   "outputs": [],
   "source": [
    "def prob_calc(dataframe):\n",
    "    probabilities = pd.DataFrame(dataframe)\n",
    "    total = dataframe.loc[:,dataframe.columns[1]]\n",
    "    \n",
    "    count = 2\n",
    "\n",
    "    # Iterates through columns in dataframe\n",
    "    for num in range(len(dataframe.columns)-2):\n",
    "        column = dataframe.loc[:,dataframe.columns[count]]\n",
    "        cell_count = 0\n",
    "        # Iterates through items in each column\n",
    "        for row in column:\n",
    "            # Divides current cell by the item at the start of the row\n",
    "            probabilities.loc[:, dataframe.columns[count]].at[cell_count] = row / total[cell_count]\n",
    "            cell_count += 1\n",
    "        count += 1\n",
    "    \n",
    "    return probabilities"
   ]
  },
  {
   "cell_type": "markdown",
   "id": "164261ae-204d-48c2-af1d-5bdec06eb339",
   "metadata": {},
   "source": [
    "### Correlation Calculations"
   ]
  },
  {
   "cell_type": "markdown",
   "id": "01338000-ffd5-4701-ae53-698efdfd25e3",
   "metadata": {},
   "source": [
    "### Combining Variables"
   ]
  },
  {
   "cell_type": "markdown",
   "id": "02d9fd41-f9af-43c7-aa3c-5792c660816b",
   "metadata": {},
   "source": [
    "### Probabilities to Population Function"
   ]
  },
  {
   "cell_type": "markdown",
   "id": "31ae4cda-11b0-4fba-8869-0836ff028eec",
   "metadata": {},
   "source": [
    "Function to calculate return probabilities from a percent of the total in each region to the population that percentage represents."
   ]
  },
  {
   "cell_type": "markdown",
   "id": "7998981a-d884-4908-b1dc-fab9c81b0c88",
   "metadata": {},
   "source": [
    "Data must be input in the form\n",
    "\n",
    "<table style=\"border-collapse:collapse;border-spacing:0\" class=\"tg\"><thead><tr><th style=\"border-color:inherit;border-style:solid;border-width:1px;font-family:Arial, sans-serif;font-size:14px;font-weight:normal;overflow:hidden;padding:10px 5px;text-align:left;vertical-align:top;word-break:normal\">Region<br></th><th style=\"border-color:inherit;border-style:solid;border-width:1px;font-family:Arial, sans-serif;font-size:14px;font-weight:normal;overflow:hidden;padding:10px 5px;text-align:left;vertical-align:top;word-break:normal\">Population</th><th style=\"border-color:inherit;border-style:solid;border-width:1px;font-family:Arial, sans-serif;font-size:14px;font-weight:normal;overflow:hidden;padding:10px 5px;text-align:left;vertical-align:top;word-break:normal\">Probability</th><th style=\"border-color:inherit;border-style:solid;border-width:1px;font-family:Arial, sans-serif;font-size:14px;font-weight:normal;overflow:hidden;padding:10px 5px;text-align:left;vertical-align:top;word-break:normal\">...</th></tr></thead><tbody><tr><td style=\"border-color:inherit;border-style:solid;border-width:1px;font-family:Arial, sans-serif;font-size:14px;overflow:hidden;padding:10px 5px;text-align:left;vertical-align:top;word-break:normal\">North East</td><td style=\"border-color:inherit;border-style:solid;border-width:1px;font-family:Arial, sans-serif;font-size:14px;overflow:hidden;padding:10px 5px;text-align:left;vertical-align:top;word-break:normal\">2647013</td><td style=\"border-color:inherit;border-style:solid;border-width:1px;font-family:Arial, sans-serif;font-size:14px;overflow:hidden;padding:10px 5px;text-align:right;vertical-align:top;word-break:normal\">0.958233</td><td style=\"border-color:inherit;border-style:solid;border-width:1px;font-family:Arial, sans-serif;font-size:14px;overflow:hidden;padding:10px 5px;text-align:left;vertical-align:top;word-break:normal\">...</td></tr><tr><td style=\"border-color:inherit;border-style:solid;border-width:1px;font-family:Arial, sans-serif;font-size:14px;overflow:hidden;padding:10px 5px;text-align:left;vertical-align:top;word-break:normal\">North West</td><td style=\"border-color:inherit;border-style:solid;border-width:1px;font-family:Arial, sans-serif;font-size:14px;overflow:hidden;padding:10px 5px;text-align:left;vertical-align:top;word-break:normal\">7417399</td><td style=\"border-color:inherit;border-style:solid;border-width:1px;font-family:Arial, sans-serif;font-size:14px;overflow:hidden;padding:10px 5px;text-align:left;vertical-align:top;word-break:normal\">0.928248</td><td style=\"border-color:inherit;border-style:solid;border-width:1px;font-family:Arial, sans-serif;font-size:14px;overflow:hidden;padding:10px 5px;text-align:left;vertical-align:top;word-break:normal\">...</td></tr></tbody></table>\n",
    "\n",
    "and will be output in the form\n",
    "\n",
    "<table style=\"border-collapse:collapse;border-spacing:0\" class=\"tg\"><thead><tr><th style=\"border-color:inherit;border-style:solid;border-width:1px;font-family:Arial, sans-serif;font-size:14px;font-weight:normal;overflow:hidden;padding:10px 5px;text-align:left;vertical-align:top;word-break:normal\">Region<br></th><th style=\"border-color:inherit;border-style:solid;border-width:1px;font-family:Arial, sans-serif;font-size:14px;font-weight:normal;overflow:hidden;padding:10px 5px;text-align:left;vertical-align:top;word-break:normal\">Population</th><th style=\"border-color:inherit;border-style:solid;border-width:1px;font-family:Arial, sans-serif;font-size:14px;font-weight:normal;overflow:hidden;padding:10px 5px;text-align:left;vertical-align:top;word-break:normal\">Variable</th><th style=\"border-color:inherit;border-style:solid;border-width:1px;font-family:Arial, sans-serif;font-size:14px;font-weight:normal;overflow:hidden;padding:10px 5px;text-align:left;vertical-align:top;word-break:normal\">...</th></tr></thead><tbody><tr><td style=\"border-color:inherit;border-style:solid;border-width:1px;font-family:Arial, sans-serif;font-size:14px;overflow:hidden;padding:10px 5px;text-align:left;vertical-align:top;word-break:normal\">North East</td><td style=\"border-color:inherit;border-style:solid;border-width:1px;font-family:Arial, sans-serif;font-size:14px;overflow:hidden;padding:10px 5px;text-align:left;vertical-align:top;word-break:normal\">2647013</td><td style=\"border-color:inherit;border-style:solid;border-width:1px;font-family:Arial, sans-serif;font-size:14px;overflow:hidden;padding:10px 5px;text-align:right;vertical-align:top;word-break:normal\">2536430</td><td style=\"border-color:inherit;border-style:solid;border-width:1px;font-family:Arial, sans-serif;font-size:14px;overflow:hidden;padding:10px 5px;text-align:left;vertical-align:top;word-break:normal\">...</td></tr><tr><td style=\"border-color:inherit;border-style:solid;border-width:1px;font-family:Arial, sans-serif;font-size:14px;overflow:hidden;padding:10px 5px;text-align:left;vertical-align:top;word-break:normal\">North West</td><td style=\"border-color:inherit;border-style:solid;border-width:1px;font-family:Arial, sans-serif;font-size:14px;overflow:hidden;padding:10px 5px;text-align:left;vertical-align:top;word-break:normal\">7417399</td><td style=\"border-color:inherit;border-style:solid;border-width:1px;font-family:Arial, sans-serif;font-size:14px;overflow:hidden;padding:10px 5px;text-align:left;vertical-align:top;word-break:normal\">6885187</td><td style=\"border-color:inherit;border-style:solid;border-width:1px;font-family:Arial, sans-serif;font-size:14px;overflow:hidden;padding:10px 5px;text-align:left;vertical-align:top;word-break:normal\">...</td></tr></tbody></table>"
   ]
  },
  {
   "cell_type": "code",
   "execution_count": 6,
   "id": "584ff3cd-7b46-4fc9-b6e9-7943cac95e81",
   "metadata": {},
   "outputs": [],
   "source": [
    "def population_calc():\n",
    "    pass"
   ]
  },
  {
   "cell_type": "markdown",
   "id": "0108b137-3185-4396-b3c7-883f629dd07b",
   "metadata": {},
   "source": [
    "### Visualising the Data"
   ]
  },
  {
   "cell_type": "markdown",
   "id": "d7c396c1-0eb4-40b2-8a8a-e50e26f46398",
   "metadata": {},
   "source": [
    "#### Matplotlib"
   ]
  },
  {
   "cell_type": "markdown",
   "id": "05530adb-e14d-41ab-9f1d-c808cb01649a",
   "metadata": {},
   "source": [
    "#### Geopandas"
   ]
  },
  {
   "cell_type": "markdown",
   "id": "376e6037-f6a4-45b0-baea-027cdbe03418",
   "metadata": {},
   "source": [
    "#### Seaborn"
   ]
  },
  {
   "cell_type": "markdown",
   "id": "c8329551-fd04-4448-8cbf-0df4bc91600f",
   "metadata": {},
   "source": [
    "### Identifying High Risk Cells"
   ]
  },
  {
   "cell_type": "markdown",
   "id": "0f619502-2577-4a51-938e-8d5f3922d46c",
   "metadata": {},
   "source": [
    "Function to highlight cells with a colour of yellow (lower risk) to red (higher risk) relative to the region population, aswell as highlight specific cells below the level of 10 as `High Risk` and ones below 100 as `Low Risk`."
   ]
  },
  {
   "cell_type": "markdown",
   "id": "f0495149-2d4b-48f3-9846-566177dddadb",
   "metadata": {},
   "source": [
    "Data must be input in the form\n",
    "\n",
    "<table style=\"border-collapse:collapse;border-spacing:0\" class=\"tg\"><thead><tr><th style=\"border-color:inherit;border-style:solid;border-width:1px;font-family:Arial, sans-serif;font-size:14px;font-weight:normal;overflow:hidden;padding:10px 5px;text-align:left;vertical-align:top;word-break:normal\">Region<br></th><th style=\"border-color:inherit;border-style:solid;border-width:1px;font-family:Arial, sans-serif;font-size:14px;font-weight:normal;overflow:hidden;padding:10px 5px;text-align:left;vertical-align:top;word-break:normal\">Population</th><th style=\"border-color:inherit;border-style:solid;border-width:1px;font-family:Arial, sans-serif;font-size:14px;font-weight:normal;overflow:hidden;padding:10px 5px;text-align:left;vertical-align:top;word-break:normal\">Variable</th><th style=\"border-color:inherit;border-style:solid;border-width:1px;font-family:Arial, sans-serif;font-size:14px;font-weight:normal;overflow:hidden;padding:10px 5px;text-align:left;vertical-align:top;word-break:normal\">...</th></tr></thead><tbody><tr><td style=\"border-color:inherit;border-style:solid;border-width:1px;font-family:Arial, sans-serif;font-size:14px;overflow:hidden;padding:10px 5px;text-align:left;vertical-align:top;word-break:normal\">North East</td><td style=\"border-color:inherit;border-style:solid;border-width:1px;font-family:Arial, sans-serif;font-size:14px;overflow:hidden;padding:10px 5px;text-align:left;vertical-align:top;word-break:normal\">2647013</td><td style=\"border-color:inherit;border-style:solid;border-width:1px;font-family:Arial, sans-serif;font-size:14px;overflow:hidden;padding:10px 5px;text-align:right;vertical-align:top;word-break:normal\">2536430</td><td style=\"border-color:inherit;border-style:solid;border-width:1px;font-family:Arial, sans-serif;font-size:14px;overflow:hidden;padding:10px 5px;text-align:left;vertical-align:top;word-break:normal\">...</td></tr><tr><td style=\"border-color:inherit;border-style:solid;border-width:1px;font-family:Arial, sans-serif;font-size:14px;overflow:hidden;padding:10px 5px;text-align:left;vertical-align:top;word-break:normal\">North West</td><td style=\"border-color:inherit;border-style:solid;border-width:1px;font-family:Arial, sans-serif;font-size:14px;overflow:hidden;padding:10px 5px;text-align:left;vertical-align:top;word-break:normal\">7417399</td><td style=\"border-color:inherit;border-style:solid;border-width:1px;font-family:Arial, sans-serif;font-size:14px;overflow:hidden;padding:10px 5px;text-align:left;vertical-align:top;word-break:normal\">6885187</td><td style=\"border-color:inherit;border-style:solid;border-width:1px;font-family:Arial, sans-serif;font-size:14px;overflow:hidden;padding:10px 5px;text-align:left;vertical-align:top;word-break:normal\">...</td></tr></tbody></table>\n",
    "\n",
    "and will be output in the form\n",
    "\n",
    "<table style=\"border-collapse:collapse;border-spacing:0\" class=\"tg\"><thead><tr><th style=\"border-color:inherit;border-style:solid;border-width:1px;font-family:Arial, sans-serif;font-size:14px;font-weight:normal;overflow:hidden;padding:10px 5px;text-align:left;vertical-align:top;word-break:normal\">Region<br></th><th style=\"border-color:inherit;border-style:solid;border-width:1px;font-family:Arial, sans-serif;font-size:14px;font-weight:normal;overflow:hidden;padding:10px 5px;text-align:left;vertical-align:top;word-break:normal\">Population</th><th style=\"border-color:inherit;border-style:solid;border-width:1px;font-family:Arial, sans-serif;font-size:14px;font-weight:normal;overflow:hidden;padding:10px 5px;text-align:left;vertical-align:top;word-break:normal\">Variable</th><th style=\"border-color:inherit;border-style:solid;border-width:1px;font-family:Arial, sans-serif;font-size:14px;font-weight:normal;overflow:hidden;padding:10px 5px;text-align:left;vertical-align:top;word-break:normal\">...</th></tr></thead><tbody><tr><td style=\"border-color:inherit;border-style:solid;border-width:1px;font-family:Arial, sans-serif;font-size:14px;overflow:hidden;padding:10px 5px;text-align:left;vertical-align:top;word-break:normal\">North East</td><td style=\"background-color:#f8ff00;border-color:inherit;border-style:solid;border-width:1px;font-family:Arial, sans-serif;font-size:14px;overflow:hidden;padding:10px 5px;text-align:left;vertical-align:top;word-break:normal\">2647013</td><td style=\"background-color:#ffc702;border-color:inherit;border-style:solid;border-width:1px;font-family:Arial, sans-serif;font-size:14px;overflow:hidden;padding:10px 5px;text-align:right;vertical-align:top;word-break:normal\">2536430</td><td style=\"background-color:#fe0000;border-color:inherit;border-style:solid;border-width:1px;font-family:Arial, sans-serif;font-size:14px;overflow:hidden;padding:10px 5px;text-align:left;vertical-align:top;word-break:normal\">...</td></tr><tr><td style=\"border-color:inherit;border-style:solid;border-width:1px;font-family:Arial, sans-serif;font-size:14px;overflow:hidden;padding:10px 5px;text-align:left;vertical-align:top;word-break:normal\">North West</td><td style=\"background-color:#f8ff00;border-color:inherit;border-style:solid;border-width:1px;font-family:Arial, sans-serif;font-size:14px;overflow:hidden;padding:10px 5px;text-align:left;vertical-align:top;word-break:normal\">7417399</td><td style=\"background-color:#f8a102;border-color:inherit;border-style:solid;border-width:1px;font-family:Arial, sans-serif;font-size:14px;overflow:hidden;padding:10px 5px;text-align:left;vertical-align:top;word-break:normal\">6885187</td><td style=\"background-color:#ffcb2f;border-color:inherit;border-style:solid;border-width:1px;font-family:Arial, sans-serif;font-size:14px;overflow:hidden;padding:10px 5px;text-align:left;vertical-align:top;word-break:normal\">...</td></tr></tbody></table>"
   ]
  },
  {
   "cell_type": "code",
   "execution_count": 4,
   "id": "91790266-8b99-41ea-b9a9-04ce857ae409",
   "metadata": {},
   "outputs": [],
   "source": [
    "def risk_assessment(dataframe):\n",
    "    def risk(v):\n",
    "        # If below critical values concatonates High/Low risk to the start of the cell\n",
    "        try:\n",
    "            if v <= 10:\n",
    "                return f\"High risk: {v}\"\n",
    "            elif v <= 100:\n",
    "                return f\"Low risk: {v}\"\n",
    "            return v\n",
    "        # Will return any words as they were\n",
    "        except TypeError:\n",
    "            return v\n",
    "    \n",
    "    def highlight(styler):\n",
    "        # Will call the risk function and apply it to each cell\n",
    "        styler.set_caption(\"Risk Level\")\n",
    "        styler.format(risk)\n",
    "        # Applys a colour map to each row relative to the population size\n",
    "        styler.background_gradient(axis=1, cmap=\"autumn\")\n",
    "        return styler\n",
    "\n",
    "    # Will call highlight function and apply it to dataframe\n",
    "    return dataframe.style.pipe(highlight)"
   ]
  },
  {
   "cell_type": "markdown",
   "id": "bc41e641-3fd1-40a5-829b-0b5933dadca3",
   "metadata": {},
   "source": [
    "### Work out Regions that need more variables to hit critical levels"
   ]
  },
  {
   "cell_type": "markdown",
   "id": "36d70709-61a6-46c3-a22b-88f9715ed081",
   "metadata": {},
   "source": [
    "### Extension - Research how ONS privacy protection exercises have impacted the final results"
   ]
  },
  {
   "cell_type": "markdown",
   "id": "baf0eca8-51ea-4d0b-96de-e33457096dcc",
   "metadata": {},
   "source": [
    "### Extension - Explore wider utility of the census data for other Hartree Centre projects"
   ]
  },
  {
   "cell_type": "markdown",
   "id": "c2419bd9-e19a-44cb-b61e-4c34f5c2d3de",
   "metadata": {},
   "source": [
    "### Extension - Consider other open data sources"
   ]
  }
 ],
 "metadata": {
  "kernelspec": {
   "display_name": "Python 3 (ipykernel)",
   "language": "python",
   "name": "python3"
  },
  "language_info": {
   "codemirror_mode": {
    "name": "ipython",
    "version": 3
   },
   "file_extension": ".py",
   "mimetype": "text/x-python",
   "name": "python",
   "nbconvert_exporter": "python",
   "pygments_lexer": "ipython3",
   "version": "3.11.4"
  }
 },
 "nbformat": 4,
 "nbformat_minor": 5
}
