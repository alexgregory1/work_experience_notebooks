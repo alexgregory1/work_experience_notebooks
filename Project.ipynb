{
 "cells": [
  {
   "cell_type": "markdown",
   "id": "fdb22622-99bf-46ef-96e8-3804f632c715",
   "metadata": {},
   "source": [
    "# ONS Census 2021 - PII Risk"
   ]
  },
  {
   "cell_type": "markdown",
   "id": "c06853d4-350c-46de-9c00-f68671b2c3b4",
   "metadata": {},
   "source": [
    "### Importing/Cleaning Data"
   ]
  },
  {
   "cell_type": "code",
   "execution_count": 1,
   "id": "a510be51",
   "metadata": {},
   "outputs": [],
   "source": [
    "import os, pathlib\n",
    "import pandas as pd\n",
    "import warnings\n",
    "\n",
    "root = pathlib.Path(\"data\")\n",
    "\n",
    "region_sizes = {\"Country\" : \"ctry\",\n",
    "                \"Region\" : \"rgn\",\n",
    "                \"Upper-Tier Local Authority\" : \"utla\",      #153 in England\n",
    "                \"Lower-Tier Local Authority\" : \"ltla\",      #296 in England\n",
    "                \"Middle-Layer Super Output Area\" : \"msoa\",  #2000-6000 households; 5000-15000 persons\n",
    "                \"Lower-Layer Super Output Area\" : \"lsoa\",   #400-1200 households; 1000-3000 persons\n",
    "                \"Output Area\" : \"oa\"}                       #40-250 households; 100-625 persons\n",
    "\n",
    "region_indices = {3 : \"ctry\", #how many are per country\n",
    "                  10 : \"rgn\",\n",
    "                  174 : \"utla\",\n",
    "                  331 : \"ltla\",\n",
    "                  7264 : \"msoa\",\n",
    "                  35672 : \"lsoa\",\n",
    "                  188800 : \"oa\"}\n",
    "\n",
    "regions = list(region_sizes.values())\n",
    "\n",
    "def import_data(region : str, target_groups : list = None, target_codes: list = None): \n",
    "    '''Imports target census data\\n\n",
    "    Parameters:\\n\n",
    "        region, should be string of one of the following: ctry, rgn, utla, ltla, msoa, lsoa, oa\\n\n",
    "        target_groups, should be a list of strings of the descriptions of the data values as found at https://www.nomisweb.co.uk/census/2021/bulk\\n\n",
    "        target_codes, should be a list of strings of the codes of the data values as found at https://www.nomisweb.co.uk/census/2021/bulk\\n\n",
    "    Note: one of the two target parameters must be passed\\n\n",
    "\n",
    "    Returns dictionary of \"Data type code\" : Pandas DataFrame'''\n",
    "    if target_groups == None and target_codes == None:\n",
    "        raise ValueError(\"Need specified groups to import\")\n",
    "    \n",
    "    region = str(region)\n",
    "    if region not in regions:\n",
    "        regions_error = '\\n'.join(f\"{key}  :  {val}\" for key, val in region_sizes.items())\n",
    "        raise ValueError(f\"Region code must be one of the following: \\nRegion  :  Region Code\\n{regions_error}\")\n",
    "    \n",
    "    codes = pd.read_csv(root / \"census_codes.csv\")\n",
    "    codes[\"Filename\"] = (\n",
    "    codes[\"Filename\"].str.split(\".\")\n",
    "    .apply(lambda x: x[0])\n",
    "    )\n",
    "\n",
    "    if target_groups:\n",
    "        valid_target_groups = [group for group in target_groups if group in codes[\"Description\"].values]\n",
    "        if len(valid_target_groups) == 0:\n",
    "            raise ValueError(\"Inputs not found in code database, ensure the group names are as found on https://www.nomisweb.co.uk/census/2021/bulk\")\n",
    "        erroneous_groups = [group for group in target_groups if group not in valid_target_groups]\n",
    "        output_erroneous_groups = '\\n'.join(erroneous_groups)\n",
    "        if len(erroneous_groups) > 0:\n",
    "            warnings.warn(f\"The following groups were not imported as they are invalid: {output_erroneous_groups}\\nEnsure the group names are as found on https://www.nomisweb.co.uk/census/2021/bulk\")\n",
    "        \n",
    "    if target_codes:\n",
    "        valid_target_codes = [code for code in target_codes if code in codes[\"Code\"].values]\n",
    "        if len(valid_target_codes) == 0:\n",
    "            raise ValueError(\"Inputs not found in code database, ensure codes are in the form 'TSXXX' where X's are digits, as found on https://www.nomisweb.co.uk/census/2021/bulk\")\n",
    "        erroneous_codes = [code for code in target_codes if code not in valid_target_codes]\n",
    "        output_erroneous_codes = '\\n'.join(erroneous_codes)\n",
    "        if len(erroneous_codes) > 0:\n",
    "            warnings.warn(f\"The following codes were not imported as they are invalid: {output_erroneous_codes}\\nEnsure codes are in the form 'TSXXX' where X's are digits, as found on https://www.nomisweb.co.uk/census/2021/bulk\")\n",
    "    \n",
    "    if target_groups:\n",
    "        try:\n",
    "            valid_target_codes = valid_target_codes\n",
    "        except UnboundLocalError:\n",
    "            valid_target_codes = []\n",
    "        for group in valid_target_groups:\n",
    "            valid_target_codes.append(codes.loc[codes[\"Description\"] == group,\"Code\"].item())\n",
    "\n",
    "    data = {}\n",
    "    for code in valid_target_codes:\n",
    "        folder = codes.loc[codes[\"Code\"] == code, \"Filename\"].item()\n",
    "        try:\n",
    "            data.update({code : pd.read_csv(root / folder / f\"{folder}-{region}.csv\").drop(columns=\"date\")})\n",
    "        except FileNotFoundError:\n",
    "            warnings.warn(f\"File {folder}-{region}.csv not found in data/{folder}\")\n",
    "    \n",
    "    return data\n",
    "\n",
    "def import_all_data(region : str):\n",
    "    '''Imports all installed census data\\n\n",
    "    Parameters:\\n\n",
    "        region, should be string of one of the following: ctry, rgn, utla, ltla, msoa, lsoa, oa\\n\n",
    "    Returns dictionary of \"Data type code\" : Pandas DataFrame\n",
    "    '''\n",
    "    region = str(region)\n",
    "    if region not in regions:\n",
    "        regions_error = '\\n'.join(f\"{key}  :  {val}\" for key, val in region_sizes.items())\n",
    "        raise ValueError(f\"Region code must be one of the following: \\nRegion  :  Region Code\\n{regions_error}\")\n",
    "\n",
    "    codes = pd.read_csv(root / \"census_codes.csv\")\n",
    "    codes[\"Filename\"] = (\n",
    "    codes[\"Filename\"].str.split(\".\")\n",
    "    .apply(lambda x: x[0])\n",
    "    )\n",
    "    \n",
    "    data = {}\n",
    "    for code in codes[\"Code\"].values:\n",
    "        folder = codes.loc[codes[\"Code\"] == code, \"Filename\"].item()\n",
    "        try:\n",
    "            data.update({code : pd.read_csv(root / folder / f\"{folder}-{region}.csv\").drop(columns=\"date\")})\n",
    "        except FileNotFoundError:\n",
    "            warnings.warn(f\"File {folder}-{region}.csv not found in data/{folder}\")\n",
    "    \n",
    "    return data\n",
    "\n",
    "def cleanup_all(data : dict, remove_geography : bool = True, remove_geography_code : bool = True):\n",
    "    '''\n",
    "    Removes the specified columns from all dataframes\\n\n",
    "    Parameters:\\n\n",
    "        data, data to be cleaned, dictionary of \"Data type code\" : Pandas DataFrame\\n\n",
    "        remove_geography, whether to remove geography column, bool\\n\n",
    "        remove_geography-code, whether to remove geography code column, bool\\n\n",
    "        \n",
    "    Returns dictionary of \"Data type code\" : Pandas DataFrame\n",
    "    '''\n",
    "    for key in data.keys():\n",
    "        dataframe = data[key]\n",
    "        try:\n",
    "            if remove_geography:\n",
    "                dataframe = dataframe.drop(columns=\"geography\")\n",
    "        except KeyError:\n",
    "            pass\n",
    "        try:\n",
    "            if remove_geography_code:\n",
    "                dataframe = dataframe.drop(columns=\"geography code\")\n",
    "        except KeyError:\n",
    "            pass\n",
    "        data[key] = dataframe\n",
    "    return data\n",
    "\n",
    "def cleanup(dataframe, columns : list):\n",
    "    '''Removes specified columns from dataframe\\n\n",
    "    Parameters:\\n\n",
    "        dataframe, Pandas DataFrame to be cleaned\\n\n",
    "        columns, list of strings of column names to be removed\\n\n",
    "    '''\n",
    "    if type(columns) is not list:\n",
    "        raise ValueError(\"Parameter 'columns' must be a list\")\n",
    "    elif len([column for column in columns if type(column) is str]) == 0:\n",
    "        raise ValueError(\"Parameter 'columns' must be a list of strings\")  \n",
    "    for column in columns:\n",
    "        try:\n",
    "            dataframe = dataframe.drop(columns=column)\n",
    "        except KeyError:\n",
    "            warnings.warn(f\"Column {column} does not exist \")\n",
    "    return dataframe\n",
    "\n",
    "def factor_in_age(df, name=None):\n",
    "    df_age = import_data(region_indices[len(df.index)], target_codes=[\"TS004\"])[\"TS004\"]\n",
    "    df_age_totals_column = [column for column in list(df_age.columns) if \"Total\" in column][0]\n",
    "    df_totals_column = [column for column in list(df.columns) if \"Total\" in column][0]\n",
    "    if name is not None:\n",
    "        name = str(name)\n",
    "    else:\n",
    "        name = \"Not accounted for\"\n",
    "    df[name] = df_age[df_age_totals_column] - df[df_totals_column]\n",
    "    df[df_totals_column] = df_age[df_age_totals_column]\n",
    "    df.rename(columns={df_totals_column:\"Total\"}, inplace=True)\n",
    "    return df"
   ]
  },
  {
   "cell_type": "markdown",
   "id": "189570fc-d83f-4900-9486-51f549ede5e4",
   "metadata": {},
   "source": [
    "### Probability Function"
   ]
  },
  {
   "cell_type": "markdown",
   "id": "616449ac-095a-4e69-a672-72346ebdd908",
   "metadata": {},
   "source": [
    "Function to calculate probailities as a percent of the total in each region."
   ]
  },
  {
   "cell_type": "markdown",
   "id": "104f6515-899a-4d86-b581-12015a04fdb7",
   "metadata": {},
   "source": [
    "Data must be input in the form\n",
    "\n",
    "<table style=\"border-collapse:collapse;border-spacing:0\" class=\"tg\"><thead><tr><th style=\"border-color:inherit;border-style:solid;border-width:1px;font-family:Arial, sans-serif;font-size:14px;font-weight:normal;overflow:hidden;padding:10px 5px;text-align:left;vertical-align:top;word-break:normal\">Region<br></th><th style=\"border-color:inherit;border-style:solid;border-width:1px;font-family:Arial, sans-serif;font-size:14px;font-weight:normal;overflow:hidden;padding:10px 5px;text-align:left;vertical-align:top;word-break:normal\">Population</th><th style=\"border-color:inherit;border-style:solid;border-width:1px;font-family:Arial, sans-serif;font-size:14px;font-weight:normal;overflow:hidden;padding:10px 5px;text-align:left;vertical-align:top;word-break:normal\">Variable</th><th style=\"border-color:inherit;border-style:solid;border-width:1px;font-family:Arial, sans-serif;font-size:14px;font-weight:normal;overflow:hidden;padding:10px 5px;text-align:left;vertical-align:top;word-break:normal\">...</th></tr></thead><tbody><tr><td style=\"border-color:inherit;border-style:solid;border-width:1px;font-family:Arial, sans-serif;font-size:14px;overflow:hidden;padding:10px 5px;text-align:left;vertical-align:top;word-break:normal\">North East</td><td style=\"border-color:inherit;border-style:solid;border-width:1px;font-family:Arial, sans-serif;font-size:14px;overflow:hidden;padding:10px 5px;text-align:left;vertical-align:top;word-break:normal\">2647013</td><td style=\"border-color:inherit;border-style:solid;border-width:1px;font-family:Arial, sans-serif;font-size:14px;overflow:hidden;padding:10px 5px;text-align:right;vertical-align:top;word-break:normal\">2536430</td><td style=\"border-color:inherit;border-style:solid;border-width:1px;font-family:Arial, sans-serif;font-size:14px;overflow:hidden;padding:10px 5px;text-align:left;vertical-align:top;word-break:normal\">...</td></tr><tr><td style=\"border-color:inherit;border-style:solid;border-width:1px;font-family:Arial, sans-serif;font-size:14px;overflow:hidden;padding:10px 5px;text-align:left;vertical-align:top;word-break:normal\">North West</td><td style=\"border-color:inherit;border-style:solid;border-width:1px;font-family:Arial, sans-serif;font-size:14px;overflow:hidden;padding:10px 5px;text-align:left;vertical-align:top;word-break:normal\">7417399</td><td style=\"border-color:inherit;border-style:solid;border-width:1px;font-family:Arial, sans-serif;font-size:14px;overflow:hidden;padding:10px 5px;text-align:left;vertical-align:top;word-break:normal\">6885187</td><td style=\"border-color:inherit;border-style:solid;border-width:1px;font-family:Arial, sans-serif;font-size:14px;overflow:hidden;padding:10px 5px;text-align:left;vertical-align:top;word-break:normal\">...</td></tr></tbody></table>\n",
    "\n",
    "and will be output in the form\n",
    "\n",
    "<table style=\"border-collapse:collapse;border-spacing:0\" class=\"tg\"><thead><tr><th style=\"border-color:inherit;border-style:solid;border-width:1px;font-family:Arial, sans-serif;font-size:14px;font-weight:normal;overflow:hidden;padding:10px 5px;text-align:left;vertical-align:top;word-break:normal\">Region<br></th><th style=\"border-color:inherit;border-style:solid;border-width:1px;font-family:Arial, sans-serif;font-size:14px;font-weight:normal;overflow:hidden;padding:10px 5px;text-align:left;vertical-align:top;word-break:normal\">Population</th><th style=\"border-color:inherit;border-style:solid;border-width:1px;font-family:Arial, sans-serif;font-size:14px;font-weight:normal;overflow:hidden;padding:10px 5px;text-align:left;vertical-align:top;word-break:normal\">Probability</th><th style=\"border-color:inherit;border-style:solid;border-width:1px;font-family:Arial, sans-serif;font-size:14px;font-weight:normal;overflow:hidden;padding:10px 5px;text-align:left;vertical-align:top;word-break:normal\">...</th></tr></thead><tbody><tr><td style=\"border-color:inherit;border-style:solid;border-width:1px;font-family:Arial, sans-serif;font-size:14px;overflow:hidden;padding:10px 5px;text-align:left;vertical-align:top;word-break:normal\">North East</td><td style=\"border-color:inherit;border-style:solid;border-width:1px;font-family:Arial, sans-serif;font-size:14px;overflow:hidden;padding:10px 5px;text-align:left;vertical-align:top;word-break:normal\">2647013</td><td style=\"border-color:inherit;border-style:solid;border-width:1px;font-family:Arial, sans-serif;font-size:14px;overflow:hidden;padding:10px 5px;text-align:right;vertical-align:top;word-break:normal\">0.958233</td><td style=\"border-color:inherit;border-style:solid;border-width:1px;font-family:Arial, sans-serif;font-size:14px;overflow:hidden;padding:10px 5px;text-align:left;vertical-align:top;word-break:normal\">...</td></tr><tr><td style=\"border-color:inherit;border-style:solid;border-width:1px;font-family:Arial, sans-serif;font-size:14px;overflow:hidden;padding:10px 5px;text-align:left;vertical-align:top;word-break:normal\">North West</td><td style=\"border-color:inherit;border-style:solid;border-width:1px;font-family:Arial, sans-serif;font-size:14px;overflow:hidden;padding:10px 5px;text-align:left;vertical-align:top;word-break:normal\">7417399</td><td style=\"border-color:inherit;border-style:solid;border-width:1px;font-family:Arial, sans-serif;font-size:14px;overflow:hidden;padding:10px 5px;text-align:left;vertical-align:top;word-break:normal\">0.928248</td><td style=\"border-color:inherit;border-style:solid;border-width:1px;font-family:Arial, sans-serif;font-size:14px;overflow:hidden;padding:10px 5px;text-align:left;vertical-align:top;word-break:normal\">...</td></tr></tbody></table>"
   ]
  },
  {
   "cell_type": "code",
   "execution_count": 1,
   "id": "445cb6b6-dd5b-476a-84cd-f051b3fb69d5",
   "metadata": {},
   "outputs": [],
   "source": [
    "def prob_calc(df):\n",
    "    \"\"\"\n",
    "    Function that converts the population into a probability.\n",
    "    \n",
    "    Args:\n",
    "        df (Pandas Dataframe): The dataframe to be converted.\n",
    "\n",
    "    Returns:\n",
    "        df (Pandas Dataframe): The converted dataframe.\n",
    "    \"\"\"\n",
    "    for i in range(2,len(df.columns)):\n",
    "        df[df.columns[i]] = df[df.columns[i]]/df[df.columns[1]]\n",
    "    return df"
   ]
  },
  {
   "cell_type": "markdown",
   "id": "164261ae-204d-48c2-af1d-5bdec06eb339",
   "metadata": {},
   "source": [
    "### Correlation Calculations"
   ]
  },
  {
   "cell_type": "code",
   "execution_count": null,
   "id": "fbcafbda",
   "metadata": {},
   "outputs": [],
   "source": []
  },
  {
   "cell_type": "markdown",
   "id": "e419b27e",
   "metadata": {},
   "source": [
    "### Combining Variables"
   ]
  },
  {
   "cell_type": "markdown",
   "id": "d6b6872c-541a-4e45-b633-e5e798e488d5",
   "metadata": {},
   "source": [
    "This function takes an input of 2 data frames of population values. The 2 data frames get passed through the prob_calc function, and then iterated through and combined. The output is a table of combined probabilities.\n",
    "\n",
    "Data must be input in the form\n",
    "\n",
    "<table style=\"border-collapse:collapse;border-spacing:0\" class=\"tg\"><thead><tr><th style=\"border-color:inherit;border-style:solid;border-width:1px;font-family:Arial, sans-serif;font-size:14px;font-weight:normal;overflow:hidden;padding:10px 5px;text-align:left;vertical-align:top;word-break:normal\">Region<br></th><th style=\"border-color:inherit;border-style:solid;border-width:1px;font-family:Arial, sans-serif;font-size:14px;font-weight:normal;overflow:hidden;padding:10px 5px;text-align:left;vertical-align:top;word-break:normal\">Population</th><th style=\"border-color:inherit;border-style:solid;border-width:1px;font-family:Arial, sans-serif;font-size:14px;font-weight:normal;overflow:hidden;padding:10px 5px;text-align:left;vertical-align:top;word-break:normal\">Variable 1</th><th style=\"border-color:inherit;border-style:solid;border-width:1px;font-family:Arial, sans-serif;font-size:14px;font-weight:normal;overflow:hidden;padding:10px 5px;text-align:left;vertical-align:top;word-break:normal\">...</th></tr></thead><tbody><tr><td style=\"border-color:inherit;border-style:solid;border-width:1px;font-family:Arial, sans-serif;font-size:14px;overflow:hidden;padding:10px 5px;text-align:left;vertical-align:top;word-break:normal\">North East</td><td style=\"border-color:inherit;border-style:solid;border-width:1px;font-family:Arial, sans-serif;font-size:14px;overflow:hidden;padding:10px 5px;text-align:left;vertical-align:top;word-break:normal\">2647013</td><td style=\"border-color:inherit;border-style:solid;border-width:1px;font-family:Arial, sans-serif;font-size:14px;overflow:hidden;padding:10px 5px;text-align:right;vertical-align:top;word-break:normal\">2536430</td><td style=\"border-color:inherit;border-style:solid;border-width:1px;font-family:Arial, sans-serif;font-size:14px;overflow:hidden;padding:10px 5px;text-align:left;vertical-align:top;word-break:normal\">...</td></tr><tr><td style=\"border-color:inherit;border-style:solid;border-width:1px;font-family:Arial, sans-serif;font-size:14px;overflow:hidden;padding:10px 5px;text-align:left;vertical-align:top;word-break:normal\">North West</td><td style=\"border-color:inherit;border-style:solid;border-width:1px;font-family:Arial, sans-serif;font-size:14px;overflow:hidden;padding:10px 5px;text-align:left;vertical-align:top;word-break:normal\">7417399</td><td style=\"border-color:inherit;border-style:solid;border-width:1px;font-family:Arial, sans-serif;font-size:14px;overflow:hidden;padding:10px 5px;text-align:left;vertical-align:top;word-break:normal\">6885187</td><td style=\"border-color:inherit;border-style:solid;border-width:1px;font-family:Arial, sans-serif;font-size:14px;overflow:hidden;padding:10px 5px;text-align:left;vertical-align:top;word-break:normal\">...</td></tr></tbody></table>\n",
    "\n",
    "<table style=\"border-collapse:collapse;border-spacing:0\" class=\"tg\"><thead><tr><th style=\"border-color:inherit;border-style:solid;border-width:1px;font-family:Arial, sans-serif;font-size:14px;font-weight:normal;overflow:hidden;padding:10px 5px;text-align:left;vertical-align:top;word-break:normal\">Region<br></th><th style=\"border-color:inherit;border-style:solid;border-width:1px;font-family:Arial, sans-serif;font-size:14px;font-weight:normal;overflow:hidden;padding:10px 5px;text-align:left;vertical-align:top;word-break:normal\">Population</th><th style=\"border-color:inherit;border-style:solid;border-width:1px;font-family:Arial, sans-serif;font-size:14px;font-weight:normal;overflow:hidden;padding:10px 5px;text-align:left;vertical-align:top;word-break:normal\">Variable 2</th><th style=\"border-color:inherit;border-style:solid;border-width:1px;font-family:Arial, sans-serif;font-size:14px;font-weight:normal;overflow:hidden;padding:10px 5px;text-align:left;vertical-align:top;word-break:normal\">...</th></tr></thead><tbody><tr><td style=\"border-color:inherit;border-style:solid;border-width:1px;font-family:Arial, sans-serif;font-size:14px;overflow:hidden;padding:10px 5px;text-align:left;vertical-align:top;word-break:normal\">North East</td><td style=\"border-color:inherit;border-style:solid;border-width:1px;font-family:Arial, sans-serif;font-size:14px;overflow:hidden;padding:10px 5px;text-align:left;vertical-align:top;word-break:normal\">2647013</td><td style=\"border-color:inherit;border-style:solid;border-width:1px;font-family:Arial, sans-serif;font-size:14px;overflow:hidden;padding:10px 5px;text-align:right;vertical-align:top;word-break:normal\">2536430</td><td style=\"border-color:inherit;border-style:solid;border-width:1px;font-family:Arial, sans-serif;font-size:14px;overflow:hidden;padding:10px 5px;text-align:left;vertical-align:top;word-break:normal\">...</td></tr><tr><td style=\"border-color:inherit;border-style:solid;border-width:1px;font-family:Arial, sans-serif;font-size:14px;overflow:hidden;padding:10px 5px;text-align:left;vertical-align:top;word-break:normal\">North West</td><td style=\"border-color:inherit;border-style:solid;border-width:1px;font-family:Arial, sans-serif;font-size:14px;overflow:hidden;padding:10px 5px;text-align:left;vertical-align:top;word-break:normal\">7417399</td><td style=\"border-color:inherit;border-style:solid;border-width:1px;font-family:Arial, sans-serif;font-size:14px;overflow:hidden;padding:10px 5px;text-align:left;vertical-align:top;word-break:normal\">6885187</td><td style=\"border-color:inherit;border-style:solid;border-width:1px;font-family:Arial, sans-serif;font-size:14px;overflow:hidden;padding:10px 5px;text-align:left;vertical-align:top;word-break:normal\">...</td></tr></tbody></table>\n",
    "\n",
    "and output in the form\n",
    "\n",
    "<table style=\"border-collapse:collapse;border-spacing:0\" class=\"tg\"><thead><tr><th style=\"border-color:inherit;border-style:solid;border-width:1px;font-family:Arial, sans-serif;font-size:14px;font-weight:normal;overflow:hidden;padding:10px 5px;text-align:left;vertical-align:top;word-break:normal\">Region<br></th><th style=\"border-color:inherit;border-style:solid;border-width:1px;font-family:Arial, sans-serif;font-size:14px;font-weight:normal;overflow:hidden;padding:10px 5px;text-align:left;vertical-align:top;word-break:normal\">Population</th><th style=\"border-color:inherit;border-style:solid;border-width:1px;font-family:Arial, sans-serif;font-size:14px;font-weight:normal;overflow:hidden;padding:10px 5px;text-align:left;vertical-align:top;word-break:normal\">Probability of Var1 and Var2</th><th style=\"border-color:inherit;border-style:solid;border-width:1px;font-family:Arial, sans-serif;font-size:14px;font-weight:normal;overflow:hidden;padding:10px 5px;text-align:left;vertical-align:top;word-break:normal\">...</th></tr></thead><tbody><tr><td style=\"border-color:inherit;border-style:solid;border-width:1px;font-family:Arial, sans-serif;font-size:14px;overflow:hidden;padding:10px 5px;text-align:left;vertical-align:top;word-break:normal\">North East</td><td style=\"border-color:inherit;border-style:solid;border-width:1px;font-family:Arial, sans-serif;font-size:14px;overflow:hidden;padding:10px 5px;text-align:left;vertical-align:top;word-break:normal\">2647013</td><td style=\"border-color:inherit;border-style:solid;border-width:1px;font-family:Arial, sans-serif;font-size:14px;overflow:hidden;padding:10px 5px;text-align:right;vertical-align:top;word-break:normal\">2536430</td><td style=\"border-color:inherit;border-style:solid;border-width:1px;font-family:Arial, sans-serif;font-size:14px;overflow:hidden;padding:10px 5px;text-align:left;vertical-align:top;word-break:normal\">...</td></tr><tr><td style=\"border-color:inherit;border-style:solid;border-width:1px;font-family:Arial, sans-serif;font-size:14px;overflow:hidden;padding:10px 5px;text-align:left;vertical-align:top;word-break:normal\">North West</td><td style=\"border-color:inherit;border-style:solid;border-width:1px;font-family:Arial, sans-serif;font-size:14px;overflow:hidden;padding:10px 5px;text-align:left;vertical-align:top;word-break:normal\">7417399</td><td style=\"border-color:inherit;border-style:solid;border-width:1px;font-family:Arial, sans-serif;font-size:14px;overflow:hidden;padding:10px 5px;text-align:left;vertical-align:top;word-break:normal\">6885187</td><td style=\"border-color:inherit;border-style:solid;border-width:1px;font-family:Arial, sans-serif;font-size:14px;overflow:hidden;padding:10px 5px;text-align:left;vertical-align:top;word-break:normal\">...</td></tr></tbody></table>"
   ]
  },
  {
   "cell_type": "code",
   "execution_count": 9,
   "id": "cce2eb26-abda-4f2e-ab47-800393a1ab1b",
   "metadata": {},
   "outputs": [],
   "source": [
    "def combine_probability_tables(inputdata1, inputdata2):\n",
    "\n",
    "    \"\"\"\n",
    "    Finds probabilitiy of a resident of a region having a combination of 2 characteristics\n",
    "    \n",
    "    Args:\n",
    "        inputdata1 (Pandas dataframe): a dataframe of raw population numbers for the first characteristic, where the first column of the dataframe is the name of region, and the second is total population of region\\n\n",
    "        inputdata2 (Pamdas dataframe): a dataframe of raw population numbers for the second characteristic, in the same format as inputdata1\n",
    "\n",
    "    Returns:\n",
    "        dfprobability (Pandas Dataframe): dataframe of probability per region of each characteristic combination\n",
    "    \"\"\"\n",
    "    df1 = prob_calc(inputdata1)\n",
    "    df2 = prob_calc(inputdata2)\n",
    "\n",
    "    \n",
    "    #create lists of characteristics in each table\n",
    "    df1_names = df1.columns.values.tolist()\n",
    "    df2_names = df2.columns.values.tolist()\n",
    "    \n",
    "    #create a new table to store the combined probabilities, our results\n",
    "    dfprobability = pd.DataFrame()\n",
    "    dfprobability[\"Region\"] = df1[df1_names[0]]\n",
    "    dfprobability[\"Total Population\"] = df1[df1_names[1]]\n",
    "    \n",
    "    del df1_names[:2]\n",
    "    del df2_names[:2]\n",
    "    \n",
    "    \n",
    "    #iterate through columns of df2 and multiply by df1\n",
    "    #output is then added to the results table\n",
    "   \n",
    "    for col2 in df2_names:\n",
    "        s = df1[df1_names].multiply(df2[col2], axis = \"index\")\n",
    "        new_column = [c+\" and \"+col2 for c in s.columns]\n",
    "        renaming_mapper = {old:new for old,new in zip(s.columns, new_column)}\n",
    "        dfprobability = pd.concat([dfprobability,s.rename(columns = renaming_mapper)], axis=1)\n",
    " \n",
    "    #output result\n",
    "    return dfprobability"
   ]
  },
  {
   "cell_type": "markdown",
   "id": "e53c874c-eb9b-44a0-a730-bd9aaefcf83b",
   "metadata": {},
   "source": [
    "We also looked at expanding this function to consider more than 2 characteristics\n"
   ]
  },
  {
   "cell_type": "code",
   "execution_count": 1,
   "id": "2a307d47-9c62-4602-b91d-74bc32c58585",
   "metadata": {},
   "outputs": [],
   "source": [

    "\n",
    "def create_prob_table(list):\n",
    "    \"\"\"\n",
    "    Finds probabilitiy of a resident of a region having a combination of multiple characteristics\n",
    "    \n",
    "    Args:\n",
    "        list (list): a list of strings of target codes for the characteristics being combined, eg TS004, TS067\n",
    "\n",
    "    Returns:\n",
    "        dfprobability (Pandas Dataframe): dataframe of probability per region of each characteristic combination\n",
    "    \"\"\"\n",
    "    data = import_data(\"rgn\", None, list)\n",
    "    cleanup_all(data,False,True)\n",

    "#function takes an input of a list of characteristic codes. assumes data has been imported via import_data or import_all_data functions, \n",
    "#assmues geography code column has been removed by calling cleanup_all(data,False,True)\n",
    "def create_prob_table(data, list):\n",

    "    \n",
    "    count = 1\n",
    "    if len(list) < 2:\n",
    "        raise ValueError(\"Must input more than one characteristic\")\n",
    "    else:\n",
    "        for i in list:\n",
    "            if count == 1:\n",
    "                dfprobability = combine_probability_tables(data[list[0]], data[list[1]])\n",
    "            elif count != len(list):\n",
    "                dfprobability = combine_probability_tables(dfprobability, data[list[count]])\n",
    "        \n",
    "            count+= 1\n",
    "    \n",
    "\n",
    "    return dfprobability"
   ]
  },
  {
   "cell_type": "markdown",
   "id": "02d9fd41-f9af-43c7-aa3c-5792c660816b",
   "metadata": {},
   "source": [
    "### Probabilities to Population Function"
   ]
  },
  {
   "cell_type": "markdown",
   "id": "31ae4cda-11b0-4fba-8869-0836ff028eec",
   "metadata": {},
   "source": [
    "Function to calculate return probabilities from a percent of the total in each region to the population that percentage represents."
   ]
  },
  {
   "cell_type": "markdown",
   "id": "7998981a-d884-4908-b1dc-fab9c81b0c88",
   "metadata": {},
   "source": [
    "Data must be input in the form\n",
    "\n",
    "<table style=\"border-collapse:collapse;border-spacing:0\" class=\"tg\"><thead><tr><th style=\"border-color:inherit;border-style:solid;border-width:1px;font-family:Arial, sans-serif;font-size:14px;font-weight:normal;overflow:hidden;padding:10px 5px;text-align:left;vertical-align:top;word-break:normal\">Region<br></th><th style=\"border-color:inherit;border-style:solid;border-width:1px;font-family:Arial, sans-serif;font-size:14px;font-weight:normal;overflow:hidden;padding:10px 5px;text-align:left;vertical-align:top;word-break:normal\">Population</th><th style=\"border-color:inherit;border-style:solid;border-width:1px;font-family:Arial, sans-serif;font-size:14px;font-weight:normal;overflow:hidden;padding:10px 5px;text-align:left;vertical-align:top;word-break:normal\">Probability</th><th style=\"border-color:inherit;border-style:solid;border-width:1px;font-family:Arial, sans-serif;font-size:14px;font-weight:normal;overflow:hidden;padding:10px 5px;text-align:left;vertical-align:top;word-break:normal\">...</th></tr></thead><tbody><tr><td style=\"border-color:inherit;border-style:solid;border-width:1px;font-family:Arial, sans-serif;font-size:14px;overflow:hidden;padding:10px 5px;text-align:left;vertical-align:top;word-break:normal\">North East</td><td style=\"border-color:inherit;border-style:solid;border-width:1px;font-family:Arial, sans-serif;font-size:14px;overflow:hidden;padding:10px 5px;text-align:left;vertical-align:top;word-break:normal\">2647013</td><td style=\"border-color:inherit;border-style:solid;border-width:1px;font-family:Arial, sans-serif;font-size:14px;overflow:hidden;padding:10px 5px;text-align:right;vertical-align:top;word-break:normal\">0.958233</td><td style=\"border-color:inherit;border-style:solid;border-width:1px;font-family:Arial, sans-serif;font-size:14px;overflow:hidden;padding:10px 5px;text-align:left;vertical-align:top;word-break:normal\">...</td></tr><tr><td style=\"border-color:inherit;border-style:solid;border-width:1px;font-family:Arial, sans-serif;font-size:14px;overflow:hidden;padding:10px 5px;text-align:left;vertical-align:top;word-break:normal\">North West</td><td style=\"border-color:inherit;border-style:solid;border-width:1px;font-family:Arial, sans-serif;font-size:14px;overflow:hidden;padding:10px 5px;text-align:left;vertical-align:top;word-break:normal\">7417399</td><td style=\"border-color:inherit;border-style:solid;border-width:1px;font-family:Arial, sans-serif;font-size:14px;overflow:hidden;padding:10px 5px;text-align:left;vertical-align:top;word-break:normal\">0.928248</td><td style=\"border-color:inherit;border-style:solid;border-width:1px;font-family:Arial, sans-serif;font-size:14px;overflow:hidden;padding:10px 5px;text-align:left;vertical-align:top;word-break:normal\">...</td></tr></tbody></table>\n",
    "\n",
    "and will be output in the form\n",
    "\n",
    "<table style=\"border-collapse:collapse;border-spacing:0\" class=\"tg\"><thead><tr><th style=\"border-color:inherit;border-style:solid;border-width:1px;font-family:Arial, sans-serif;font-size:14px;font-weight:normal;overflow:hidden;padding:10px 5px;text-align:left;vertical-align:top;word-break:normal\">Region<br></th><th style=\"border-color:inherit;border-style:solid;border-width:1px;font-family:Arial, sans-serif;font-size:14px;font-weight:normal;overflow:hidden;padding:10px 5px;text-align:left;vertical-align:top;word-break:normal\">Population</th><th style=\"border-color:inherit;border-style:solid;border-width:1px;font-family:Arial, sans-serif;font-size:14px;font-weight:normal;overflow:hidden;padding:10px 5px;text-align:left;vertical-align:top;word-break:normal\">Variable</th><th style=\"border-color:inherit;border-style:solid;border-width:1px;font-family:Arial, sans-serif;font-size:14px;font-weight:normal;overflow:hidden;padding:10px 5px;text-align:left;vertical-align:top;word-break:normal\">...</th></tr></thead><tbody><tr><td style=\"border-color:inherit;border-style:solid;border-width:1px;font-family:Arial, sans-serif;font-size:14px;overflow:hidden;padding:10px 5px;text-align:left;vertical-align:top;word-break:normal\">North East</td><td style=\"border-color:inherit;border-style:solid;border-width:1px;font-family:Arial, sans-serif;font-size:14px;overflow:hidden;padding:10px 5px;text-align:left;vertical-align:top;word-break:normal\">2647013</td><td style=\"border-color:inherit;border-style:solid;border-width:1px;font-family:Arial, sans-serif;font-size:14px;overflow:hidden;padding:10px 5px;text-align:right;vertical-align:top;word-break:normal\">2536430</td><td style=\"border-color:inherit;border-style:solid;border-width:1px;font-family:Arial, sans-serif;font-size:14px;overflow:hidden;padding:10px 5px;text-align:left;vertical-align:top;word-break:normal\">...</td></tr><tr><td style=\"border-color:inherit;border-style:solid;border-width:1px;font-family:Arial, sans-serif;font-size:14px;overflow:hidden;padding:10px 5px;text-align:left;vertical-align:top;word-break:normal\">North West</td><td style=\"border-color:inherit;border-style:solid;border-width:1px;font-family:Arial, sans-serif;font-size:14px;overflow:hidden;padding:10px 5px;text-align:left;vertical-align:top;word-break:normal\">7417399</td><td style=\"border-color:inherit;border-style:solid;border-width:1px;font-family:Arial, sans-serif;font-size:14px;overflow:hidden;padding:10px 5px;text-align:left;vertical-align:top;word-break:normal\">6885187</td><td style=\"border-color:inherit;border-style:solid;border-width:1px;font-family:Arial, sans-serif;font-size:14px;overflow:hidden;padding:10px 5px;text-align:left;vertical-align:top;word-break:normal\">...</td></tr></tbody></table>"
   ]
  },
  {
   "cell_type": "code",
   "execution_count": 3,
   "id": "584ff3cd-7b46-4fc9-b6e9-7943cac95e81",
   "metadata": {},
   "outputs": [],
   "source": [
    "def population_calc(df):\n",
    "    \"\"\"\n",
    "    Function that converts the probability into a population.\n",
    "    \n",
    "    Args:\n",
    "        df (Pandas Dataframe): The dataframe to be converted.\n",
    "\n",
    "    Returns:\n",
    "        df (Pandas Dataframe): The converted dataframe.\n",
    "    \"\"\"\n",
    "    for i in range(2,len(df.columns)):\n",
    "        df[df.columns[i]] = df[df.columns[i]]*df[df.columns[1]]\n",
    "        df[df.columns[i]] = df[df.columns[i]].astype(np.int64)\n",
    "    return df"
   ]
  },
  {
   "cell_type": "markdown",
   "id": "0108b137-3185-4396-b3c7-883f629dd07b",
   "metadata": {},
   "source": [
    "### Visualising the Data"
   ]
  },
  {
   "cell_type": "markdown",
   "id": "d7c396c1-0eb4-40b2-8a8a-e50e26f46398",
   "metadata": {},
   "source": [
    "#### Matplotlib"
   ]
  },
  {
   "cell_type": "markdown",
   "id": "05530adb-e14d-41ab-9f1d-c808cb01649a",
   "metadata": {},
   "source": [
    "#### Geopandas"
   ]
  },
  {
   "cell_type": "markdown",
   "id": "376e6037-f6a4-45b0-baea-027cdbe03418",
   "metadata": {},
   "source": [
    "#### Seaborn"
   ]
  },
  {
   "cell_type": "markdown",
   "id": "56e2c696",
   "metadata": {},
   "source": [
    "### Identifying High Risk Cells"
   ]
  },
  {
   "cell_type": "markdown",
   "id": "0f619502-2577-4a51-938e-8d5f3922d46c",
   "metadata": {},
   "source": [
    "Function to highlight cells with a colour of yellow (lower risk) to red (higher risk) relative to the region population, aswell as highlight specific cells below the level of 10 as `High Risk` and ones below 100 as `Low Risk`."
   ]
  },
  {
   "cell_type": "markdown",
   "id": "f0495149-2d4b-48f3-9846-566177dddadb",
   "metadata": {},
   "source": [
    "Data must be input in the form\n",
    "\n",
    "<table style=\"border-collapse:collapse;border-spacing:0\" class=\"tg\"><thead><tr><th style=\"border-color:inherit;border-style:solid;border-width:1px;font-family:Arial, sans-serif;font-size:14px;font-weight:normal;overflow:hidden;padding:10px 5px;text-align:left;vertical-align:top;word-break:normal\">Region<br></th><th style=\"border-color:inherit;border-style:solid;border-width:1px;font-family:Arial, sans-serif;font-size:14px;font-weight:normal;overflow:hidden;padding:10px 5px;text-align:left;vertical-align:top;word-break:normal\">Population</th><th style=\"border-color:inherit;border-style:solid;border-width:1px;font-family:Arial, sans-serif;font-size:14px;font-weight:normal;overflow:hidden;padding:10px 5px;text-align:left;vertical-align:top;word-break:normal\">Variable</th><th style=\"border-color:inherit;border-style:solid;border-width:1px;font-family:Arial, sans-serif;font-size:14px;font-weight:normal;overflow:hidden;padding:10px 5px;text-align:left;vertical-align:top;word-break:normal\">...</th></tr></thead><tbody><tr><td style=\"border-color:inherit;border-style:solid;border-width:1px;font-family:Arial, sans-serif;font-size:14px;overflow:hidden;padding:10px 5px;text-align:left;vertical-align:top;word-break:normal\">North East</td><td style=\"border-color:inherit;border-style:solid;border-width:1px;font-family:Arial, sans-serif;font-size:14px;overflow:hidden;padding:10px 5px;text-align:left;vertical-align:top;word-break:normal\">2647013</td><td style=\"border-color:inherit;border-style:solid;border-width:1px;font-family:Arial, sans-serif;font-size:14px;overflow:hidden;padding:10px 5px;text-align:right;vertical-align:top;word-break:normal\">2536430</td><td style=\"border-color:inherit;border-style:solid;border-width:1px;font-family:Arial, sans-serif;font-size:14px;overflow:hidden;padding:10px 5px;text-align:left;vertical-align:top;word-break:normal\">...</td></tr><tr><td style=\"border-color:inherit;border-style:solid;border-width:1px;font-family:Arial, sans-serif;font-size:14px;overflow:hidden;padding:10px 5px;text-align:left;vertical-align:top;word-break:normal\">North West</td><td style=\"border-color:inherit;border-style:solid;border-width:1px;font-family:Arial, sans-serif;font-size:14px;overflow:hidden;padding:10px 5px;text-align:left;vertical-align:top;word-break:normal\">7417399</td><td style=\"border-color:inherit;border-style:solid;border-width:1px;font-family:Arial, sans-serif;font-size:14px;overflow:hidden;padding:10px 5px;text-align:left;vertical-align:top;word-break:normal\">6885187</td><td style=\"border-color:inherit;border-style:solid;border-width:1px;font-family:Arial, sans-serif;font-size:14px;overflow:hidden;padding:10px 5px;text-align:left;vertical-align:top;word-break:normal\">...</td></tr></tbody></table>\n",
    "\n",
    "and will be output in the form\n",
    "\n",
    "<table style=\"border-collapse:collapse;border-spacing:0\" class=\"tg\"><thead><tr><th style=\"border-color:inherit;border-style:solid;border-width:1px;font-family:Arial, sans-serif;font-size:14px;font-weight:normal;overflow:hidden;padding:10px 5px;text-align:left;vertical-align:top;word-break:normal\">Region<br></th><th style=\"border-color:inherit;border-style:solid;border-width:1px;font-family:Arial, sans-serif;font-size:14px;font-weight:normal;overflow:hidden;padding:10px 5px;text-align:left;vertical-align:top;word-break:normal\">Population</th><th style=\"border-color:inherit;border-style:solid;border-width:1px;font-family:Arial, sans-serif;font-size:14px;font-weight:normal;overflow:hidden;padding:10px 5px;text-align:left;vertical-align:top;word-break:normal\">Variable</th><th style=\"border-color:inherit;border-style:solid;border-width:1px;font-family:Arial, sans-serif;font-size:14px;font-weight:normal;overflow:hidden;padding:10px 5px;text-align:left;vertical-align:top;word-break:normal\">...</th></tr></thead><tbody><tr><td style=\"border-color:inherit;border-style:solid;border-width:1px;font-family:Arial, sans-serif;font-size:14px;overflow:hidden;padding:10px 5px;text-align:left;vertical-align:top;word-break:normal\">North East</td><td style=\"background-color:#f8ff00;border-color:inherit;border-style:solid;border-width:1px;font-family:Arial, sans-serif;font-size:14px;overflow:hidden;padding:10px 5px;text-align:left;vertical-align:top;word-break:normal\">2647013</td><td style=\"background-color:#ffc702;border-color:inherit;border-style:solid;border-width:1px;font-family:Arial, sans-serif;font-size:14px;overflow:hidden;padding:10px 5px;text-align:right;vertical-align:top;word-break:normal\">2536430</td><td style=\"background-color:#fe0000;border-color:inherit;border-style:solid;border-width:1px;font-family:Arial, sans-serif;font-size:14px;overflow:hidden;padding:10px 5px;text-align:left;vertical-align:top;word-break:normal\">...</td></tr><tr><td style=\"border-color:inherit;border-style:solid;border-width:1px;font-family:Arial, sans-serif;font-size:14px;overflow:hidden;padding:10px 5px;text-align:left;vertical-align:top;word-break:normal\">North West</td><td style=\"background-color:#f8ff00;border-color:inherit;border-style:solid;border-width:1px;font-family:Arial, sans-serif;font-size:14px;overflow:hidden;padding:10px 5px;text-align:left;vertical-align:top;word-break:normal\">7417399</td><td style=\"background-color:#f8a102;border-color:inherit;border-style:solid;border-width:1px;font-family:Arial, sans-serif;font-size:14px;overflow:hidden;padding:10px 5px;text-align:left;vertical-align:top;word-break:normal\">6885187</td><td style=\"background-color:#ffcb2f;border-color:inherit;border-style:solid;border-width:1px;font-family:Arial, sans-serif;font-size:14px;overflow:hidden;padding:10px 5px;text-align:left;vertical-align:top;word-break:normal\">...</td></tr></tbody></table>"
   ]
  },
  {
   "cell_type": "code",
   "execution_count": 4,
   "id": "91790266-8b99-41ea-b9a9-04ce857ae409",
   "metadata": {},
   "outputs": [],
   "source": [
    "def risk_assessment(dataframe):\n",
    "    \"\"\"\n",
    "    Function that styles the dataframe to hightlight at risk and low risk cells.\n",
    "    \n",
    "    Args:\n",
    "        df (Pandas Dataframe): The dataframe to be styled.\n",
    "\n",
    "    Returns:\n",
    "        df (Pandas Styler): The styled dataframe with at risk cells highlighted.\n",
    "    \"\"\"\n",
    "    def risk(v):\n",
    "        # If below critical values concatonates High/Low risk to the start of the cell\n",
    "        try:\n",
    "            if v <= 10:\n",
    "                return f\"High risk: {v}\"\n",
    "            elif v <= 100:\n",
    "                return f\"Low risk: {v}\"\n",
    "            return v\n",
    "        # Will return any words as they were\n",
    "        except TypeError:\n",
    "            return v\n",
    "    \n",
    "    def highlight(styler):\n",
    "        # Will call the risk function and apply it to each cell\n",
    "        styler.set_caption(\"Risk Level\")\n",
    "        styler.format(risk)\n",
    "        # Applys a colour map to each row relative to the population size\n",
    "        styler.background_gradient(axis=1, cmap=\"autumn\")\n",
    "        return styler\n",
    "\n",
    "    # Will call highlight function and apply it to dataframe\n",
    "    return dataframe.style.pipe(highlight)"
   ]
  },
  {
   "cell_type": "markdown",
   "id": "bc41e641-3fd1-40a5-829b-0b5933dadca3",
   "metadata": {},
   "source": [
    "### Work out Regions that need more variables to hit critical levels"
   ]
  },
  {
   "cell_type": "markdown",
   "id": "36d70709-61a6-46c3-a22b-88f9715ed081",
   "metadata": {},
   "source": [
    "### Extension - Research how ONS privacy protection exercises have impacted the final results"
   ]
  },
  {
   "cell_type": "markdown",
   "id": "baf0eca8-51ea-4d0b-96de-e33457096dcc",
   "metadata": {},
   "source": [
    "### Extension - Explore wider utility of the census data for other Hartree Centre projects"
   ]
  },
  {
   "cell_type": "markdown",
   "id": "c2419bd9-e19a-44cb-b61e-4c34f5c2d3de",
   "metadata": {},
   "source": [
    "### Extension - Consider other open data sources"
   ]
  },
  {
   "cell_type": "code",
   "execution_count": null,
   "id": "eb5cad7e-7976-49a1-8b7c-6775dfae8481",
   "metadata": {},
   "outputs": [],
   "source": []
  }
 ],
 "metadata": {
  "kernelspec": {
   "display_name": "Python 3 (ipykernel)",
   "language": "python",
   "name": "python3"
  },
  "language_info": {
   "codemirror_mode": {
    "name": "ipython",
    "version": 3
   },
   "file_extension": ".py",
   "mimetype": "text/x-python",
   "name": "python",
   "nbconvert_exporter": "python",
   "pygments_lexer": "ipython3",
   "version": "3.11.4"
  }
 },
 "nbformat": 4,
 "nbformat_minor": 5
}
