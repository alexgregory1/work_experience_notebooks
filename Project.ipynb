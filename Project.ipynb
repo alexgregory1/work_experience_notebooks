{
 "cells": [
  {
   "cell_type": "markdown",
   "id": "fdb22622-99bf-46ef-96e8-3804f632c715",
   "metadata": {},
   "source": [
    "# ONS Census 2021 - PII Risk"
   ]
  },
  {
   "cell_type": "markdown",
   "id": "c06853d4-350c-46de-9c00-f68671b2c3b4",
   "metadata": {},
   "source": [
    "### Importing/Cleaning Data"
   ]
  },
  {
   "cell_type": "markdown",
   "id": "01338000-ffd5-4701-ae53-698efdfd25e3",
   "metadata": {},
   "source": [
    "### Combining Variables"
   ]
  },
  {
   "cell_type": "markdown",
   "id": "c8329551-fd04-4448-8cbf-0df4bc91600f",
   "metadata": {},
   "source": [
    "### Identifying Select Cells"
   ]
  },
  {
   "cell_type": "markdown",
   "id": "0f619502-2577-4a51-938e-8d5f3922d46c",
   "metadata": {},
   "source": [
    "Function to highlight cells that are below the critical level of 10."
   ]
  },
  {
   "cell_type": "markdown",
   "id": "163f395e-1ff1-49a3-92be-a62ace3cad2c",
   "metadata": {},
   "source": [
    "Data must be input in the form\n",
    "\n",
    "| Region     | Population | Variable | ... |\n",
    "|------------|------------|----------|-----|\n",
    "| North East | 2647013    |  2536430 | ... |\n",
    "| North West | 7417399    | 6885187  | ... |\n",
    "\n",
    "and will be output in the form\n",
    "\n",
    "| Region     | Population | Probability | ... |\n",
    "|------------|------------|-------------|-----|\n",
    "| North East | 2647013    |    0.958223 | ... |\n",
    "| North West | 7417399    | 0.928248    | ... |"
   ]
  },
  {
   "cell_type": "code",
   "execution_count": 3,
   "id": "91790266-8b99-41ea-b9a9-04ce857ae409",
   "metadata": {},
   "outputs": [],
   "source": [
    "def highlight_critical_cells(dataframe):\n",
    "    # Iterates through columns in dataframe\n",
    "    for num in range(len(dataframe.columns)):\n",
    "        column = dataframe.loc[:,dataframe.columns[count]]\n",
    "        cell_count = 0\n",
    "        # Iterates through items in each column\n",
    "        for row in column:\n",
    "            #Highlights cell based on size\n",
    "            column.style.apply('background-color: blue')  \n",
    "            cell_count += 1\n",
    "        count += 1\n",
    "    return dataframe"
   ]
  },
  {
   "cell_type": "markdown",
   "id": "189570fc-d83f-4900-9486-51f549ede5e4",
   "metadata": {},
   "source": [
    "### Probability Function"
   ]
  },
  {
   "cell_type": "markdown",
   "id": "616449ac-095a-4e69-a672-72346ebdd908",
   "metadata": {},
   "source": [
    "Function to calculate probailities as a percent of the total in each region."
   ]
  },
  {
   "cell_type": "markdown",
   "id": "104f6515-899a-4d86-b581-12015a04fdb7",
   "metadata": {},
   "source": [
    "Data must be input in the form\n",
    "\n",
    "| Region     | Population | Variable | ... |\r\n",
    "|------------|------------|----------|-----|\r\n",
    "| North East | 2647013    |  2536430 | ... |\r\n",
    "| North West | 7417399    | 6885187  | ... |\n",
    "\n",
    "and will be output in the form\n",
    "\n",
    "| Region     | Population | Probability | ... |\r\n",
    "|------------|------------|-------------|-----|\r\n",
    "| North East | 2647013    |    0.958223 | ... |\r\n",
    "| North West | 7417399    | 0.928248    | ... |  |  |  |"
   ]
  },
  {
   "cell_type": "code",
   "execution_count": 2,
   "id": "445cb6b6-dd5b-476a-84cd-f051b3fb69d5",
   "metadata": {},
   "outputs": [],
   "source": [
    "def prob_calc(dataframe):\n",
    "    probabilities = pd.DataFrame(dataframe)\n",
    "    total = dataframe.loc[:,dataframe.columns[1]]\n",
    "    \n",
    "    count = 2\n",
    "\n",
    "    # Iterates through columns in dataframe\n",
    "    for num in range(len(dataframe.columns)-2):\n",
    "        column = dataframe.loc[:,dataframe.columns[count]]\n",
    "        cell_count = 0\n",
    "        # Iterates through items in each column\n",
    "        for row in column:\n",
    "            #Divides current cell by the item at the start of the row\n",
    "            probabilities.loc[:, dataframe.columns[count]].at[cell_count] = row / total[cell_count]\n",
    "            cell_count += 1\n",
    "        count += 1\n",
    "    \n",
    "    return probabilities"
   ]
  },
  {
   "cell_type": "markdown",
   "id": "de88de6c-ba4b-44b1-9071-64ee764681e2",
   "metadata": {},
   "source": [
    "### Correlations in the Data"
   ]
  },
  {
   "cell_type": "markdown",
   "id": "0108b137-3185-4396-b3c7-883f629dd07b",
   "metadata": {},
   "source": [
    "### Visualising the Data"
   ]
  },
  {
   "cell_type": "markdown",
   "id": "36d70709-61a6-46c3-a22b-88f9715ed081",
   "metadata": {},
   "source": [
    "### Extension - Research how ONS privacy protection exercises have impacted the final results"
   ]
  },
  {
   "cell_type": "markdown",
   "id": "baf0eca8-51ea-4d0b-96de-e33457096dcc",
   "metadata": {},
   "source": [
    "### Extension - Explore wider utility of the census data for other Hartree Centre projects"
   ]
  },
  {
   "cell_type": "markdown",
   "id": "c2419bd9-e19a-44cb-b61e-4c34f5c2d3de",
   "metadata": {},
   "source": [
    "### Extension - Consider other open data sources"
   ]
  },
  {
   "cell_type": "code",
   "execution_count": null,
   "id": "eb5cad7e-7976-49a1-8b7c-6775dfae8481",
   "metadata": {},
   "outputs": [],
   "source": []
  }
 ],
 "metadata": {
  "kernelspec": {
   "display_name": "Python 3 (ipykernel)",
   "language": "python",
   "name": "python3"
  },
  "language_info": {
   "codemirror_mode": {
    "name": "ipython",
    "version": 3
   },
   "file_extension": ".py",
   "mimetype": "text/x-python",
   "name": "python",
   "nbconvert_exporter": "python",
   "pygments_lexer": "ipython3",
   "version": "3.11.4"
  }
 },
 "nbformat": 4,
 "nbformat_minor": 5
}
