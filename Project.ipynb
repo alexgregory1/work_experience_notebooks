{
 "cells": [
  {
   "cell_type": "markdown",
   "id": "fdb22622-99bf-46ef-96e8-3804f632c715",
   "metadata": {},
   "source": [
    "# ONS Census 2021 - PII Risk"
   ]
  },
  {
   "cell_type": "code",
   "execution_count": 1,
   "id": "9c296710",
   "metadata": {},
   "outputs": [],
   "source": [
    "import os, pathlib, math, warnings\n",
    "import numpy as np\n",
    "import pandas as pd\n",
    "import matplotlib.pyplot as plt\n",
    "import seaborn as sns\n",
    "from itertools import combinations"
   ]
  },
  {
   "cell_type": "code",
   "execution_count": 2,
   "id": "73db72e6",
   "metadata": {},
   "outputs": [],
   "source": [
    "root = pathlib.Path(\"data\")\n",
    "area_size = \"msoa\"\n",
    "target_codes = [\"TS001\", \"TS004\", \"TS007A\", \"TS030\", \"TS058\", \"TS059\", \"TS050\", \"TS067\", \"TS037\"]"
   ]
  },
  {
   "cell_type": "markdown",
   "id": "8ce7285a",
   "metadata": {},
   "source": [
    "Constants for the program. Target codes are the data sources we are interested in."
   ]
  },
  {
   "cell_type": "code",
   "execution_count": 3,
   "id": "963b4b79",
   "metadata": {},
   "outputs": [],
   "source": [
    "region_sizes = {\"Country\" : \"ctry\",\n",
    "                \"Region\" : \"rgn\",\n",
    "                \"Upper-Tier Local Authority\" : \"utla\",      #153 in England\n",
    "                \"Lower-Tier Local Authority\" : \"ltla\",      #296 in England\n",
    "                \"Middle-Layer Super Output Area\" : \"msoa\",  #2000-6000 households; 5000-15000 persons\n",
    "                \"Lower-Layer Super Output Area\" : \"lsoa\",   #400-1200 households; 1000-3000 persons\n",
    "                \"Output Area\" : \"oa\"}                       #40-250 households; 100-625 persons\n",
    "\n",
    "region_indices = {3 : \"ctry\", #how many are per country\n",
    "                  10 : \"rgn\",\n",
    "                  174 : \"utla\",\n",
    "                  331 : \"ltla\",\n",
    "                  7264 : \"msoa\",\n",
    "                  35672 : \"lsoa\",\n",
    "                  188800 : \"oa\"}\n",
    "\n",
    "regions = list(region_sizes.values())"
   ]
  },
  {
   "cell_type": "markdown",
   "id": "1e137a30",
   "metadata": {},
   "source": [
    "Information about geographical levels for use in code and for deciding which to use."
   ]
  },
  {
   "cell_type": "markdown",
   "id": "c06853d4-350c-46de-9c00-f68671b2c3b4",
   "metadata": {},
   "source": [
    "### Importing/Cleaning Data"
   ]
  },
  {
   "cell_type": "code",
   "execution_count": 4,
   "id": "71fb33d9",
   "metadata": {},
   "outputs": [],
   "source": [
    "def check_region(region : str) -> str:\n",
    "    \"\"\"Checks the given region string.\n",
    "\n",
    "    Args:\n",
    "        region (str): Region string to be checked.\n",
    "\n",
    "    Raises:\n",
    "        ValueError: Region code not valid.\n",
    "\n",
    "    Returns:\n",
    "        str: Casted and verified version of region string.\n",
    "    \"\"\"\n",
    "    region = str(region)\n",
    "    if region not in regions:\n",
    "        regions_error = '\\n'.join(f\"{key}  :  {val}\" for key, val in region_sizes.items()) #formulate error string to show valid region strings\n",
    "        raise ValueError(f\"Region code must be one of the following: \\nRegion  :  Region Code\\n{regions_error}\")\n",
    "    return region"
   ]
  },
  {
   "cell_type": "code",
   "execution_count": 5,
   "id": "a58b257f",
   "metadata": {},
   "outputs": [],
   "source": [
    "def get_codes_df() -> pd.DataFrame:\n",
    "    \"\"\"Gets a pd.DataFrame of all census codes and files, from https://www.nomisweb.co.uk/census/2021/bulk\n",
    "\n",
    "    Returns:\n",
    "        pd.DataFrame: Dataframe of all census codes, filenames and descriptions\n",
    "    \"\"\"\n",
    "    codes = pd.read_csv(root / \"census_codes.csv\")\n",
    "    #removes the .zip extension, as we are using the root to formulate the folder and csv path names\n",
    "    codes[\"Filename\"] = (\n",
    "    codes[\"Filename\"].str.split(\".\")\n",
    "    .apply(lambda x: x[0]) \n",
    "    )\n",
    "    return codes"
   ]
  },
  {
   "cell_type": "code",
   "execution_count": 6,
   "id": "a510be51",
   "metadata": {},
   "outputs": [],
   "source": [
    "def import_data(region : str, target_codes: list[str] = None, all : bool = False) -> dict[str, pd.DataFrame]: \n",
    "    \"\"\"Imports csv data from given codes.\n",
    "\n",
    "    Args:\n",
    "        region (str): Region string.\n",
    "        target_codes (list[str], optional): List of census characteristic codes as found on https://www.nomisweb.co.uk/census/2021/bulk. Defaults to None.\n",
    "        all (bool, optional): Whether to import all available census data. Defaults to False.\n",
    "\n",
    "    Raises:\n",
    "        ValueError: All the given codes are wrong or not as found on https://www.nomisweb.co.uk/census/2021/bulk.\n",
    "\n",
    "    Returns:\n",
    "        dict[str, pd.DataFrame]: Dictionary of census characteristic codes and its associated pd.DataFrame.\n",
    "    \"\"\"\n",
    "    region = check_region(region) #verify region\n",
    "    \n",
    "    codes = get_codes_df()\n",
    "    \n",
    "    if all:\n",
    "        valid_target_codes = codes[\"Code\"].values #gets all codes if user wants to import all data\n",
    "    else:\n",
    "        valid_target_codes = [code for code in target_codes if code in codes[\"Code\"].values] #checks if each code is in the codes dataframe\n",
    "        if len(valid_target_codes) == 0: #raises fatal error if there are no valid codes, hence nothing to import\n",
    "            raise ValueError(\"Inputs not found in code database, ensure codes are in the form 'TSXXX' where X's are digits, as found on https://www.nomisweb.co.uk/census/2021/bulk\")\n",
    "        erroneous_codes = [code for code in target_codes if code not in valid_target_codes]\n",
    "        output_erroneous_codes = '\\n'.join(erroneous_codes) #formulate error string\n",
    "        if len(erroneous_codes) > 0: #non-fatal warning if some codes were valid and imported\n",
    "            warnings.warn(f\"The following codes were not imported as they are invalid: {output_erroneous_codes}\\nEnsure codes are in the form 'TSXXX' where X's are digits, as found on https://www.nomisweb.co.uk/census/2021/bulk\")\n",
    "        \n",
    "    data = {} #initialise dictionary\n",
    "    for code in valid_target_codes:\n",
    "        folder = codes.loc[codes[\"Code\"] == code, \"Filename\"].item() #locates the .zip file name (codes dataframe ripped from https://www.nomisweb.co.uk/census/2021/bulk)\n",
    "        try: \n",
    "            data.update({code : pd.read_csv(root / folder / f\"{folder}-{region}.csv\").drop(columns=\"date\")}) #automatically removes date column, as it is unnecesary for our use\n",
    "        except FileNotFoundError: #non-fatal warning if unable to find file\n",
    "            warnings.warn(f\"File {folder}-{region}.csv not found in data/{folder}\")\n",
    "    \n",
    "    return data"
   ]
  },
  {
   "cell_type": "code",
   "execution_count": 7,
   "id": "3f23b94c",
   "metadata": {},
   "outputs": [],
   "source": [
    "def cleanup_all(data : dict[str, pd.DataFrame], remove_geography : bool = True, remove_geography_code : bool = True) -> dict[str, pd.DataFrame]:\n",
    "    \"\"\"Removes data column, plus optional geography columns, from all pd.DataFrame in dictionary.\n",
    "\n",
    "    Args:\n",
    "        data (dict[str, pd.DataFrame]): Dictionary of codes and pd.DataFrame, where dataframes are to have columns removed.\n",
    "        remove_geography (bool, optional): Whether to remove the 'goegraphy' column. Defaults to True.\n",
    "        remove_geography_code (bool, optional): Whether to remove the 'geography code' column. Defaults to True.\n",
    "\n",
    "    Returns:\n",
    "        dict[str, pd.DataFrame]: Dictionary of codes and pd.Dataframe, where dataframes have had columns removed.\n",
    "    \"\"\"\n",
    "    for key in data.keys():\n",
    "        dataframe = data[key]\n",
    "        try:\n",
    "            if remove_geography:\n",
    "                dataframe = dataframe.drop(columns=\"geography\")\n",
    "        except KeyError: #in case these columns have already been removed\n",
    "            pass\n",
    "        try:\n",
    "            if remove_geography_code:\n",
    "                dataframe = dataframe.drop(columns=\"geography code\")\n",
    "        except KeyError:\n",
    "            pass\n",
    "        data[key] = dataframe #saving changes to data\n",
    "    return data"
   ]
  },
  {
   "cell_type": "code",
   "execution_count": 8,
   "id": "b1f601d7",
   "metadata": {},
   "outputs": [],
   "source": [
    "def cleanup(dataframe : pd.DataFrame, columns : list[str]) -> pd.DataFrame:\n",
    "    \"\"\"Removes given column names from pd.DataFrame.\n",
    "\n",
    "    Args:\n",
    "        dataframe (pd.DataFrame): pd.DataFrame to be cleaned.\n",
    "        columns (list[str]): List of column names to be removed from pd.DataFrame.\n",
    "\n",
    "    Returns:\n",
    "        pd.DataFrame: pd.Dataframe with the given columns removed.\n",
    "    \"\"\"\n",
    "    if type(columns) is not list:\n",
    "        raise ValueError(\"Parameter 'columns' must be a list\")\n",
    "    elif len([column for column in columns if type(column) is str]) == 0:\n",
    "        raise ValueError(\"Parameter 'columns' must be a list of strings\")  \n",
    "    for column in columns: #iteratively tries to do df.drop for each column given\n",
    "        try:\n",
    "            dataframe = dataframe.drop(columns=column)\n",
    "        except KeyError:\n",
    "            warnings.warn(f\"Column {column} does not exist \") #no fatal error, warning instead\n",
    "    return dataframe\n"
   ]
  },
  {
   "cell_type": "code",
   "execution_count": 9,
   "id": "58d7febe",
   "metadata": {},
   "outputs": [],
   "source": [
    "def factor_in_age(df : pd.DataFrame, name : str = \"Not accounted for\") -> pd.DataFrame:\n",
    "    \"\"\"Adds a column to given dataframe to account for people not included in data.\n",
    "\n",
    "    Args:\n",
    "        df (pd.DataFrame): Dataframe to be modified\n",
    "        name (str, optional): Name of column which contains unaccounted people. Defaults to \"Not accounted for\".\n",
    "\n",
    "    Returns:\n",
    "        pd.DataFrame: Modified dataframe\n",
    "    \"\"\"\n",
    "    df_age = import_data(region_indices[len(df.index)], target_codes=[\"TS004\"])[\"TS004\"] #uses TS004 country of birth to find total numbers\n",
    "    df_age_totals_column = [column for column in list(df_age.columns) if \"Total\" in column][0] #gets total numbers of people from reference and \n",
    "    df_totals_column = [column for column in list(df.columns) if \"Total\" in column][0] #given dataframes\n",
    "    name = str(name)\n",
    "    df[name] = df_age[df_age_totals_column] - df[df_totals_column] #calculates value of new column to account for those not used in data\n",
    "    df[df_totals_column] = df_age[df_age_totals_column]\n",
    "    df.rename(columns={df_totals_column:\"Total\"}, inplace=True) #modifies the total column to reflect all people\n",
    "    return df"
   ]
  },
  {
   "cell_type": "markdown",
   "id": "189570fc-d83f-4900-9486-51f549ede5e4",
   "metadata": {},
   "source": [
    "### Probability Function"
   ]
  },
  {
   "cell_type": "markdown",
   "id": "616449ac-095a-4e69-a672-72346ebdd908",
   "metadata": {},
   "source": [
    "Function to calculate probailities as a percent of the total in each region."
   ]
  },
  {
   "cell_type": "markdown",
   "id": "104f6515-899a-4d86-b581-12015a04fdb7",
   "metadata": {},
   "source": [
    "Data must be input in the form\n",
    "\n",
    "<table style=\"border-collapse:collapse;border-spacing:0\" class=\"tg\"><thead><tr><th style=\"border-color:inherit;border-style:solid;border-width:1px;font-family:Arial, sans-serif;font-size:14px;font-weight:normal;overflow:hidden;padding:10px 5px;text-align:left;vertical-align:top;word-break:normal\">Region<br></th><th style=\"border-color:inherit;border-style:solid;border-width:1px;font-family:Arial, sans-serif;font-size:14px;font-weight:normal;overflow:hidden;padding:10px 5px;text-align:left;vertical-align:top;word-break:normal\">Population</th><th style=\"border-color:inherit;border-style:solid;border-width:1px;font-family:Arial, sans-serif;font-size:14px;font-weight:normal;overflow:hidden;padding:10px 5px;text-align:left;vertical-align:top;word-break:normal\">Variable</th><th style=\"border-color:inherit;border-style:solid;border-width:1px;font-family:Arial, sans-serif;font-size:14px;font-weight:normal;overflow:hidden;padding:10px 5px;text-align:left;vertical-align:top;word-break:normal\">...</th></tr></thead><tbody><tr><td style=\"border-color:inherit;border-style:solid;border-width:1px;font-family:Arial, sans-serif;font-size:14px;overflow:hidden;padding:10px 5px;text-align:left;vertical-align:top;word-break:normal\">North East</td><td style=\"border-color:inherit;border-style:solid;border-width:1px;font-family:Arial, sans-serif;font-size:14px;overflow:hidden;padding:10px 5px;text-align:left;vertical-align:top;word-break:normal\">2647013</td><td style=\"border-color:inherit;border-style:solid;border-width:1px;font-family:Arial, sans-serif;font-size:14px;overflow:hidden;padding:10px 5px;text-align:right;vertical-align:top;word-break:normal\">2536430</td><td style=\"border-color:inherit;border-style:solid;border-width:1px;font-family:Arial, sans-serif;font-size:14px;overflow:hidden;padding:10px 5px;text-align:left;vertical-align:top;word-break:normal\">...</td></tr><tr><td style=\"border-color:inherit;border-style:solid;border-width:1px;font-family:Arial, sans-serif;font-size:14px;overflow:hidden;padding:10px 5px;text-align:left;vertical-align:top;word-break:normal\">North West</td><td style=\"border-color:inherit;border-style:solid;border-width:1px;font-family:Arial, sans-serif;font-size:14px;overflow:hidden;padding:10px 5px;text-align:left;vertical-align:top;word-break:normal\">7417399</td><td style=\"border-color:inherit;border-style:solid;border-width:1px;font-family:Arial, sans-serif;font-size:14px;overflow:hidden;padding:10px 5px;text-align:left;vertical-align:top;word-break:normal\">6885187</td><td style=\"border-color:inherit;border-style:solid;border-width:1px;font-family:Arial, sans-serif;font-size:14px;overflow:hidden;padding:10px 5px;text-align:left;vertical-align:top;word-break:normal\">...</td></tr></tbody></table>\n",
    "\n",
    "and will be output in the form\n",
    "\n",
    "<table style=\"border-collapse:collapse;border-spacing:0\" class=\"tg\"><thead><tr><th style=\"border-color:inherit;border-style:solid;border-width:1px;font-family:Arial, sans-serif;font-size:14px;font-weight:normal;overflow:hidden;padding:10px 5px;text-align:left;vertical-align:top;word-break:normal\">Region<br></th><th style=\"border-color:inherit;border-style:solid;border-width:1px;font-family:Arial, sans-serif;font-size:14px;font-weight:normal;overflow:hidden;padding:10px 5px;text-align:left;vertical-align:top;word-break:normal\">Population</th><th style=\"border-color:inherit;border-style:solid;border-width:1px;font-family:Arial, sans-serif;font-size:14px;font-weight:normal;overflow:hidden;padding:10px 5px;text-align:left;vertical-align:top;word-break:normal\">Probability</th><th style=\"border-color:inherit;border-style:solid;border-width:1px;font-family:Arial, sans-serif;font-size:14px;font-weight:normal;overflow:hidden;padding:10px 5px;text-align:left;vertical-align:top;word-break:normal\">...</th></tr></thead><tbody><tr><td style=\"border-color:inherit;border-style:solid;border-width:1px;font-family:Arial, sans-serif;font-size:14px;overflow:hidden;padding:10px 5px;text-align:left;vertical-align:top;word-break:normal\">North East</td><td style=\"border-color:inherit;border-style:solid;border-width:1px;font-family:Arial, sans-serif;font-size:14px;overflow:hidden;padding:10px 5px;text-align:left;vertical-align:top;word-break:normal\">2647013</td><td style=\"border-color:inherit;border-style:solid;border-width:1px;font-family:Arial, sans-serif;font-size:14px;overflow:hidden;padding:10px 5px;text-align:right;vertical-align:top;word-break:normal\">0.958233</td><td style=\"border-color:inherit;border-style:solid;border-width:1px;font-family:Arial, sans-serif;font-size:14px;overflow:hidden;padding:10px 5px;text-align:left;vertical-align:top;word-break:normal\">...</td></tr><tr><td style=\"border-color:inherit;border-style:solid;border-width:1px;font-family:Arial, sans-serif;font-size:14px;overflow:hidden;padding:10px 5px;text-align:left;vertical-align:top;word-break:normal\">North West</td><td style=\"border-color:inherit;border-style:solid;border-width:1px;font-family:Arial, sans-serif;font-size:14px;overflow:hidden;padding:10px 5px;text-align:left;vertical-align:top;word-break:normal\">7417399</td><td style=\"border-color:inherit;border-style:solid;border-width:1px;font-family:Arial, sans-serif;font-size:14px;overflow:hidden;padding:10px 5px;text-align:left;vertical-align:top;word-break:normal\">0.928248</td><td style=\"border-color:inherit;border-style:solid;border-width:1px;font-family:Arial, sans-serif;font-size:14px;overflow:hidden;padding:10px 5px;text-align:left;vertical-align:top;word-break:normal\">...</td></tr></tbody></table>"
   ]
  },
  {
   "cell_type": "code",
   "execution_count": 10,
   "id": "445cb6b6-dd5b-476a-84cd-f051b3fb69d5",
   "metadata": {},
   "outputs": [],
   "source": [
    "def prob_calc(df):\n",
    "    \"\"\"\n",
    "    Function that converts the population into a probability.\n",
    "    \n",
    "    Args:\n",
    "        df (Pandas Dataframe): The dataframe to be converted.\n",
    "\n",
    "    Returns:\n",
    "        df (Pandas Dataframe): The converted dataframe.\n",
    "    \"\"\"\n",
    "    for i in range(2,len(df.columns)):\n",
    "        df[df.columns[i]] = df[df.columns[i]]/df[df.columns[1]]\n",
    "    return df"
   ]
  },
  {
   "cell_type": "markdown",
   "id": "164261ae-204d-48c2-af1d-5bdec06eb339",
   "metadata": {},
   "source": [
    "### Correlation Calculations"
   ]
  },
  {
   "cell_type": "code",
   "execution_count": 11,
   "id": "525e29aa",
   "metadata": {},
   "outputs": [],
   "source": [
    "def calculate_coefficient_distribution(df : pd.DataFrame = pd.DataFrame(), input_path : str = root/\"coefficients.csv\",\n",
    "                                       output_to_file : bool = False, output_path : str = root/\"most_correlated.csv\",\n",
    "                                       verbose : bool = True, visualise : bool = True) -> None:\n",
    "    \"\"\"Calculates the distribution of coefficients of correlation.\n",
    "    \n",
    "    Calculates the distribution of coefficients of correlation and selects the strongest correlated (both positive and negative)\n",
    "\n",
    "    Args:\n",
    "        df (pd.DataFrame, optional): pd.DataFrame of coefficients, with a column named 'coefficient'. Defaults to empty pd.DataFrame().\n",
    "        input_path (str, optional): Input path of csv file containing a pd.DataFrame. Defaults to root/\"coefficients.csv\".\n",
    "        output_to_file (bool, optional): Whether to output the most correlated to a csv file. Defaults to False.\n",
    "        output_path (str, optional): Path to write csv file of output to. Defaults to root/\"most_correlated.csv\".\n",
    "        verbose (bool, optional): Whether to print key distribution metrics. Defaults to True.\n",
    "        visualise (bool, optional): Whether to visualise the distribution with Seaborn. Defaults to True.\n",
    "        \n",
    "    Returns:\n",
    "        None\n",
    "    \"\"\"\n",
    "    if df.empty:\n",
    "        df = pd.read_csv(input_path)\n",
    "    mean = df[\"coefficient\"].mean() #calculates mean and standard deviation\n",
    "    std = df[\"coefficient\"].std()\n",
    "    if visualise:\n",
    "        fig, ax = plt.subplots(figsize=(10, 10)) #draws histogram of distribution\n",
    "        sns.histplot(data=df, x='coefficient', ax=ax, bins=50, stat='density', kde=True)\n",
    "    \n",
    "    number_of_sd = 2.5 #found this to be the sweet spot\n",
    "    upper_threshold = mean + number_of_sd*std\n",
    "    lower_threshold = mean - number_of_sd*std\n",
    "\n",
    "    above = df[df[\"coefficient\"] > upper_threshold].sort_values(\"coefficient\", ascending=False) #selecting those above and below thresholds\n",
    "    below = df[df[\"coefficient\"] < lower_threshold].sort_values(\"coefficient\", ascending=True) #and sorting by strongest correlation\n",
    "    \n",
    "    if verbose:\n",
    "        print(f\"Mean:{mean}\\nStandard Deviation:{std}\")\n",
    "        print(f\"Upper threshold:{upper_threshold}\\nLower threshold:{lower_threshold}\")\n",
    "        print(f\"Number of significantly correlated pairs of characteristics: {len(above)+len(below)}\")\n",
    "        \n",
    "    above = above.head(50) #selecting only top 50 from both to reduce number of strongly correlated data to be saved\n",
    "    below = below.head(50)\n",
    "    all = pd.concat([above, below])\n",
    "    if output_to_file:\n",
    "        all.to_csv(output_path)"
   ]
  },
  {
   "cell_type": "code",
   "execution_count": 12,
   "id": "7462cb78",
   "metadata": {},
   "outputs": [],
   "source": [
    "def merge_normalise(dataframes : list[pd.DataFrame], columns : list[list[str]]) -> pd.DataFrame:\n",
    "    \"\"\"Merges and normalises a list of dataframes.\n",
    "    \n",
    "    Combines the two dataframes and divides each row by the total number of people\n",
    "\n",
    "    Args:\n",
    "        dataframes (list[pd.DataFrame]): List of pd.DataFrame\n",
    "        columns (list[list[str]]): Nested list of column names, where columns[0] contains the column names of DataFrame dataframes[0]\n",
    "\n",
    "    Returns:\n",
    "        pd.Dataframe: Normalised and merged DataFrame\n",
    "    \"\"\"\n",
    "    df_merged = dataframes[0].merge(dataframes[1], on=\"geography code\") #merges on geography code\n",
    "    df_normalised = df_merged.copy() \n",
    "    for column_set, total in zip(columns, [[column for column in df.columns if \"Total\" in column][0] for df in dataframes]):\n",
    "            df_normalised[column_set] = df_normalised[column_set].divide(df_normalised[total], axis=0) #divides the relevant columns by the totals to normalise\n",
    "    return df_normalised"
   ]
  },
  {
   "cell_type": "code",
   "execution_count": 13,
   "id": "fbcafbda",
   "metadata": {},
   "outputs": [],
   "source": [
    "def get_all_correlations(target_codes : list[str],\n",
    "                         output_to_file : bool = False, \n",
    "                         output_path : str = root/\"coefficients.csv\") -> pd.DataFrame:\n",
    "    \"\"\"Creates file coefficients.csv.\n",
    "    \n",
    "    Calculates the Pearson's coefficient of correlation for all combinations of columns from the specified census data codes.\n",
    "    Optionally writes a file to /data/coefficients.csv\n",
    "    \n",
    "    Args:\n",
    "        target_codes (list[str]): A list of wanted census codes as given in https://www.nomisweb.co.uk/census/2021/bulk, in the form 'TSxxx' where x are digits\n",
    "        visualise (bool): Whether to output a histogram of distribution of correlations, default = False\n",
    "        verbose (bool): Whether to print out metrics such as standard deviation, default = False\n",
    "    \n",
    "    Returns:\n",
    "        pd.DataFrame: DataFrame containing all coefficients, the columns used, and codes of datasets used.\n",
    "    \"\"\"\n",
    "    #import and clean relevant data\n",
    "    df_dict = cleanup_all(\n",
    "                        import_data(\n",
    "                                        area_size, \n",
    "                                        target_codes=target_codes\n",
    "                                    ),\n",
    "                        remove_geography_code=False)\n",
    "    \n",
    "    uid = 0 #sets uid to create a unique index\n",
    "    keys = list(df_dict.keys())\n",
    "    coefficients_list = [] #blank list to turn to dataframe at the end of the loop: for efficiency reasons\n",
    "    for k1, k2 in combinations(keys, 2):\n",
    "        if \"TS007A\" in [k1, k2] and \"TS004\" in [k1, k2]: #Country of birth and age by year together make the correlations data bad\n",
    "            continue\n",
    "        dataframes = [df_dict[k1], df_dict[k2]] #turned into list to iteratively address the dataframes\n",
    "        #selecting relevant columns, excluding geography code, totals and \"Country of birth: Europe; measures: Value\" as that repeated data and did not bright any insight\n",
    "        columns = [[column for column in df.columns if column != \"geography code\" and \"Total\" not in column and column != \"Country of birth: Europe; measures: Value\"] for df in dataframes] \n",
    "        \n",
    "        df_normalised = merge_normalise(dataframes, columns) #normalise to compare accurately\n",
    "        \n",
    "        #calculates the pearsons coefficient of correlation for each combination of columns from each of the two dataframes\n",
    "        data = [(\n",
    "                np.corrcoef(\n",
    "                    np.array(df_normalised[column1]), \n",
    "                    np.array(df_normalised[column2])\n",
    "                )[0][1],\n",
    "                column1,\n",
    "                column2) \n",
    "                for column2 in columns[1]\n",
    "                for column1 in columns[0]]\n",
    "        \n",
    "        #adds data row by row to list\n",
    "        for p, c1, c2, in data:\n",
    "            coefficients_list.append([uid, c1, c2, p, k1, k2]) #uid (as index); characteristic 1; characteristic 2; pearsons coefficient; key 1; key 2\n",
    "            uid += 1\n",
    "    \n",
    "    #conversion to dataframe\n",
    "    coefficients = pd.DataFrame(coefficients_list, columns=['uid', 'variable1', 'variable2', 'coefficient', \"k1\", \"k2\"])\n",
    "\n",
    "    if output_to_file:\n",
    "        coefficients.to_csv(output_path)\n",
    "    \n",
    "    return coefficients\n"
   ]
  },
  {
   "cell_type": "code",
   "execution_count": 14,
   "id": "1413e55a",
   "metadata": {},
   "outputs": [
    {
     "name": "stdout",
     "output_type": "stream",
     "text": [
      "Mean:-0.002478471466191243\n",
      "Standard Deviation:0.2758666492936517\n",
      "Upper threshold:0.6871881517679379\n",
      "Lower threshold:-0.6921450947003205\n",
      "Number of significantly correlated pairs of characteristics: 22\n"
     ]
    },
    {
     "data": {
      "image/png": "[encoded data removed]",
      "text/plain": [
       "<Figure size 1000x1000 with 1 Axes>"
      ]
     },
     "metadata": {},
     "output_type": "display_data"
    }
   ],
   "source": [
    "coefficients =  get_all_correlations(target_codes=target_codes)\n",
    "\n",
    "calculate_coefficient_distribution(coefficients)"
   ]
  },
  {
   "cell_type": "markdown",
   "id": "e419b27e",
   "metadata": {},
   "source": [
    "### Combining Variables"
   ]
  },
  {
   "cell_type": "markdown",
   "id": "d6b6872c-541a-4e45-b633-e5e798e488d5",
   "metadata": {},
   "source": [
    "This function takes an input of 2 data frames of population values. The 2 data frames get passed through the prob_calc function, and then iterated through and combined. The output is a table of combined probabilities.\n",
    "\n",
    "Data must be input in the form\n",
    "\n",
    "<table style=\"border-collapse:collapse;border-spacing:0\" class=\"tg\"><thead><tr><th style=\"border-color:inherit;border-style:solid;border-width:1px;font-family:Arial, sans-serif;font-size:14px;font-weight:normal;overflow:hidden;padding:10px 5px;text-align:left;vertical-align:top;word-break:normal\">Region<br></th><th style=\"border-color:inherit;border-style:solid;border-width:1px;font-family:Arial, sans-serif;font-size:14px;font-weight:normal;overflow:hidden;padding:10px 5px;text-align:left;vertical-align:top;word-break:normal\">Population</th><th style=\"border-color:inherit;border-style:solid;border-width:1px;font-family:Arial, sans-serif;font-size:14px;font-weight:normal;overflow:hidden;padding:10px 5px;text-align:left;vertical-align:top;word-break:normal\">Variable 1</th><th style=\"border-color:inherit;border-style:solid;border-width:1px;font-family:Arial, sans-serif;font-size:14px;font-weight:normal;overflow:hidden;padding:10px 5px;text-align:left;vertical-align:top;word-break:normal\">...</th></tr></thead><tbody><tr><td style=\"border-color:inherit;border-style:solid;border-width:1px;font-family:Arial, sans-serif;font-size:14px;overflow:hidden;padding:10px 5px;text-align:left;vertical-align:top;word-break:normal\">North East</td><td style=\"border-color:inherit;border-style:solid;border-width:1px;font-family:Arial, sans-serif;font-size:14px;overflow:hidden;padding:10px 5px;text-align:left;vertical-align:top;word-break:normal\">2647013</td><td style=\"border-color:inherit;border-style:solid;border-width:1px;font-family:Arial, sans-serif;font-size:14px;overflow:hidden;padding:10px 5px;text-align:right;vertical-align:top;word-break:normal\">2536430</td><td style=\"border-color:inherit;border-style:solid;border-width:1px;font-family:Arial, sans-serif;font-size:14px;overflow:hidden;padding:10px 5px;text-align:left;vertical-align:top;word-break:normal\">...</td></tr><tr><td style=\"border-color:inherit;border-style:solid;border-width:1px;font-family:Arial, sans-serif;font-size:14px;overflow:hidden;padding:10px 5px;text-align:left;vertical-align:top;word-break:normal\">North West</td><td style=\"border-color:inherit;border-style:solid;border-width:1px;font-family:Arial, sans-serif;font-size:14px;overflow:hidden;padding:10px 5px;text-align:left;vertical-align:top;word-break:normal\">7417399</td><td style=\"border-color:inherit;border-style:solid;border-width:1px;font-family:Arial, sans-serif;font-size:14px;overflow:hidden;padding:10px 5px;text-align:left;vertical-align:top;word-break:normal\">6885187</td><td style=\"border-color:inherit;border-style:solid;border-width:1px;font-family:Arial, sans-serif;font-size:14px;overflow:hidden;padding:10px 5px;text-align:left;vertical-align:top;word-break:normal\">...</td></tr></tbody></table>\n",
    "\n",
    "<table style=\"border-collapse:collapse;border-spacing:0\" class=\"tg\"><thead><tr><th style=\"border-color:inherit;border-style:solid;border-width:1px;font-family:Arial, sans-serif;font-size:14px;font-weight:normal;overflow:hidden;padding:10px 5px;text-align:left;vertical-align:top;word-break:normal\">Region<br></th><th style=\"border-color:inherit;border-style:solid;border-width:1px;font-family:Arial, sans-serif;font-size:14px;font-weight:normal;overflow:hidden;padding:10px 5px;text-align:left;vertical-align:top;word-break:normal\">Population</th><th style=\"border-color:inherit;border-style:solid;border-width:1px;font-family:Arial, sans-serif;font-size:14px;font-weight:normal;overflow:hidden;padding:10px 5px;text-align:left;vertical-align:top;word-break:normal\">Variable 2</th><th style=\"border-color:inherit;border-style:solid;border-width:1px;font-family:Arial, sans-serif;font-size:14px;font-weight:normal;overflow:hidden;padding:10px 5px;text-align:left;vertical-align:top;word-break:normal\">...</th></tr></thead><tbody><tr><td style=\"border-color:inherit;border-style:solid;border-width:1px;font-family:Arial, sans-serif;font-size:14px;overflow:hidden;padding:10px 5px;text-align:left;vertical-align:top;word-break:normal\">North East</td><td style=\"border-color:inherit;border-style:solid;border-width:1px;font-family:Arial, sans-serif;font-size:14px;overflow:hidden;padding:10px 5px;text-align:left;vertical-align:top;word-break:normal\">2647013</td><td style=\"border-color:inherit;border-style:solid;border-width:1px;font-family:Arial, sans-serif;font-size:14px;overflow:hidden;padding:10px 5px;text-align:right;vertical-align:top;word-break:normal\">2536430</td><td style=\"border-color:inherit;border-style:solid;border-width:1px;font-family:Arial, sans-serif;font-size:14px;overflow:hidden;padding:10px 5px;text-align:left;vertical-align:top;word-break:normal\">...</td></tr><tr><td style=\"border-color:inherit;border-style:solid;border-width:1px;font-family:Arial, sans-serif;font-size:14px;overflow:hidden;padding:10px 5px;text-align:left;vertical-align:top;word-break:normal\">North West</td><td style=\"border-color:inherit;border-style:solid;border-width:1px;font-family:Arial, sans-serif;font-size:14px;overflow:hidden;padding:10px 5px;text-align:left;vertical-align:top;word-break:normal\">7417399</td><td style=\"border-color:inherit;border-style:solid;border-width:1px;font-family:Arial, sans-serif;font-size:14px;overflow:hidden;padding:10px 5px;text-align:left;vertical-align:top;word-break:normal\">6885187</td><td style=\"border-color:inherit;border-style:solid;border-width:1px;font-family:Arial, sans-serif;font-size:14px;overflow:hidden;padding:10px 5px;text-align:left;vertical-align:top;word-break:normal\">...</td></tr></tbody></table>\n",
    "\n",
    "and output in the form\n",
    "\n",
    "<table style=\"border-collapse:collapse;border-spacing:0\" class=\"tg\"><thead><tr><th style=\"border-color:inherit;border-style:solid;border-width:1px;font-family:Arial, sans-serif;font-size:14px;font-weight:normal;overflow:hidden;padding:10px 5px;text-align:left;vertical-align:top;word-break:normal\">Region<br></th><th style=\"border-color:inherit;border-style:solid;border-width:1px;font-family:Arial, sans-serif;font-size:14px;font-weight:normal;overflow:hidden;padding:10px 5px;text-align:left;vertical-align:top;word-break:normal\">Population</th><th style=\"border-color:inherit;border-style:solid;border-width:1px;font-family:Arial, sans-serif;font-size:14px;font-weight:normal;overflow:hidden;padding:10px 5px;text-align:left;vertical-align:top;word-break:normal\">Probability of Var1 and Var2</th><th style=\"border-color:inherit;border-style:solid;border-width:1px;font-family:Arial, sans-serif;font-size:14px;font-weight:normal;overflow:hidden;padding:10px 5px;text-align:left;vertical-align:top;word-break:normal\">...</th></tr></thead><tbody><tr><td style=\"border-color:inherit;border-style:solid;border-width:1px;font-family:Arial, sans-serif;font-size:14px;overflow:hidden;padding:10px 5px;text-align:left;vertical-align:top;word-break:normal\">North East</td><td style=\"border-color:inherit;border-style:solid;border-width:1px;font-family:Arial, sans-serif;font-size:14px;overflow:hidden;padding:10px 5px;text-align:left;vertical-align:top;word-break:normal\">2647013</td><td style=\"border-color:inherit;border-style:solid;border-width:1px;font-family:Arial, sans-serif;font-size:14px;overflow:hidden;padding:10px 5px;text-align:right;vertical-align:top;word-break:normal\">2536430</td><td style=\"border-color:inherit;border-style:solid;border-width:1px;font-family:Arial, sans-serif;font-size:14px;overflow:hidden;padding:10px 5px;text-align:left;vertical-align:top;word-break:normal\">...</td></tr><tr><td style=\"border-color:inherit;border-style:solid;border-width:1px;font-family:Arial, sans-serif;font-size:14px;overflow:hidden;padding:10px 5px;text-align:left;vertical-align:top;word-break:normal\">North West</td><td style=\"border-color:inherit;border-style:solid;border-width:1px;font-family:Arial, sans-serif;font-size:14px;overflow:hidden;padding:10px 5px;text-align:left;vertical-align:top;word-break:normal\">7417399</td><td style=\"border-color:inherit;border-style:solid;border-width:1px;font-family:Arial, sans-serif;font-size:14px;overflow:hidden;padding:10px 5px;text-align:left;vertical-align:top;word-break:normal\">6885187</td><td style=\"border-color:inherit;border-style:solid;border-width:1px;font-family:Arial, sans-serif;font-size:14px;overflow:hidden;padding:10px 5px;text-align:left;vertical-align:top;word-break:normal\">...</td></tr></tbody></table>"
   ]
  },
  {
   "cell_type": "code",
   "execution_count": 36,
   "id": "cce2eb26-abda-4f2e-ab47-800393a1ab1b",
   "metadata": {},
   "outputs": [],
   "source": [
    "def combine_probability_tables(inputdata1 : pd.DataFrame, inputdata2 : pd.DataFrame) -> pd.DataFrame:\n",
    "    \"\"\"\n",
    "    Finds probabilitiy of a resident of a region having a combination of 2 characteristics\n",
    "    \n",
    "    Args:\n",
    "        inputdata1 (pd.DataFrame): a dataframe of raw population numbers for the first characteristic, where the first column of the dataframe is the name of region, and the second is total population of region\\n\n",
    "        inputdata2 (pd.DataFrame): a dataframe of raw population numbers for the second characteristic, in the same format as inputdata1\n",
    "\n",
    "    Returns:\n",
    "        pd.DataFrame: dataframe of probability per region of each characteristic combination\n",
    "    \"\"\"\n",
    "    df1 = prob_calc(inputdata1)\n",
    "    df2 = prob_calc(inputdata2)\n",
    "    \n",
    "    #create lists of characteristics in each table\n",
    "    df1_names = df1.columns.values.tolist()\n",
    "    df2_names = df2.columns.values.tolist()\n",
    "    \n",
    "    #create a new table to store the combined probabilities, our results\n",
    "    dfprobability = pd.DataFrame()\n",
    "    dfprobability[\"Region\"] = df1[df1_names[0]]\n",
    "    dfprobability[\"Total Population\"] = df1[df1_names[1]]\n",
    "    \n",
    "    del df1_names[:2]\n",
    "    del df2_names[:2]\n",
    "    \n",
    "    \n",
    "    #iterate through columns of df2 and multiply by df1\n",
    "    #output is then added to the results table\n",
    "   \n",
    "    for col2 in df2_names:\n",
    "        s = df1[df1_names].multiply(df2[col2], axis = \"index\")\n",
    "        new_column = [c+\" and \"+col2 for c in s.columns]\n",
    "        renaming_mapper = {old:new for old,new in zip(s.columns, new_column)}\n",
    "        dfprobability = pd.concat([dfprobability,s.rename(columns = renaming_mapper)], axis=1)\n",
    "    \n",
    "    #output result\n",
    "    return dfprobability"
   ]
  },
  {
   "cell_type": "markdown",
   "id": "e53c874c-eb9b-44a0-a730-bd9aaefcf83b",
   "metadata": {},
   "source": [
    "We also looked at expanding this function to consider more than 2 characteristics\n"
   ]
  },
  {
   "cell_type": "code",
   "execution_count": 35,
   "id": "2a307d47-9c62-4602-b91d-74bc32c58585",
   "metadata": {},
   "outputs": [],
   "source": [
    "\n",
    "def create_prob_table(data : dict[str, pd.DataFrame], list_codes : list[str]) -> pd.DataFrame:\n",
    "    \"\"\"\n",
    "    Finds probabilitiy of a resident of a region having a combination of multiple characteristics\n",
    "    \n",
    "    Args:\n",
    "        data (dict[str, pd.DataFrame]): dictionary of code and associated dataframe.\n",
    "        list (list[str]): a list of strings of target codes for the characteristics being combined, eg TS004, TS067\n",
    "\n",
    "    Returns:\n",
    "        pd.DataFrame: dataframe of probability per region of each characteristic combination\n",
    "    \"\"\"\n",
    "#function takes an input of a list of characteristic codes. assumes data has been imported via import_data function, \n",
    "#assmues geography code column has been removed by calling cleanup_all(data,False,True)\n",
    "    count = 1\n",
    "    if len(list_codes) < 2:\n",
    "        raise ValueError(\"Must input more than one characteristic\")\n",
    "    for i in range(len(list_codes)-1):\n",
    "        data_new = data.copy()\n",
    "        if count == 1:\n",
    "            dfprobability = combine_probability_tables(data_new[list_codes[0]], data_new[list_codes[1]])\n",
    "        elif count != len(list_codes):\n",
    "            dfprobability = combine_probability_tables(dfprobability, data_new[list_codes[count]])\n",
    "    \n",
    "        count+= 1\n",
    "    \n",
    "\n",
    "    return dfprobability"
   ]
  },
  {
   "cell_type": "code",
   "execution_count": 31,
   "id": "00a5498d",
   "metadata": {},
   "outputs": [],
   "source": [
    "def get_all_probability_combinations(target_codes : list[str], data : dict[str, pd.DataFrame], numCodes : int = 2) -> pd.DataFrame(list[str, str, pd.DataFrame]):\n",
    "    \"\"\"Gets all the combined probabilities from combinations of target data codes.\n",
    "\n",
    "    Args:\n",
    "        target_codes (list[str]): List of target codes, as found on https://www.nomisweb.co.uk/census/2021/bulk.\n",
    "        data (dict[str, pd.DataFrame]): A dictionary of codes and their data in DataFrames.\n",
    "        numCodes (int): Number of codes to use per combination. Defaults to 2.\n",
    "\n",
    "    Returns:\n",
    "        pd.DataFrame(list[str, str, pd.DataFrame]): DataFrame of the two codes used and the resulting dataframe when multiplying together the dataframes of the two codes.\n",
    "    \"\"\"\n",
    "    tempList = [] #initialises a blank list to hold rows from which to create DataFrame\n",
    "    if numCodes < 2: #special case when we do not need to multiply dataframes together\n",
    "        for code in target_codes:\n",
    "            datarow = [code]\n",
    "            datarow.append(prob_calc(data[code]))\n",
    "            tempList.append(datarow)\n",
    "    else:\n",
    "        for codes in combinations(target_codes, numCodes): #iterating through all combinations of keys\n",
    "            datarow = list(codes) #adds codes to row\n",
    "            datarow.append(create_prob_table(data=data.copy(), list_codes=codes)) #adds dataframe to row\n",
    "            tempList.append(datarow) #adds row to list\n",
    "    columns = []\n",
    "    for i in range(numCodes): #creating column headings\n",
    "        columns.append(f\"code{i}\") \n",
    "    columns.append(\"dataframe\")\n",
    "    all_combinations = pd.DataFrame(tempList, columns=columns) #conversion to dataframe\n",
    "    return all_combinations\n",
    "    "
   ]
  },
  {
   "cell_type": "markdown",
   "id": "02d9fd41-f9af-43c7-aa3c-5792c660816b",
   "metadata": {},
   "source": [
    "### Probabilities to Population Function"
   ]
  },
  {
   "cell_type": "markdown",
   "id": "31ae4cda-11b0-4fba-8869-0836ff028eec",
   "metadata": {},
   "source": [
    "Function to calculate return probabilities from a percent of the total in each region to the population that percentage represents."
   ]
  },
  {
   "cell_type": "markdown",
   "id": "7998981a-d884-4908-b1dc-fab9c81b0c88",
   "metadata": {},
   "source": [
    "Data must be input in the form\n",
    "\n",
    "<table style=\"border-collapse:collapse;border-spacing:0\" class=\"tg\"><thead><tr><th style=\"border-color:inherit;border-style:solid;border-width:1px;font-family:Arial, sans-serif;font-size:14px;font-weight:normal;overflow:hidden;padding:10px 5px;text-align:left;vertical-align:top;word-break:normal\">Region<br></th><th style=\"border-color:inherit;border-style:solid;border-width:1px;font-family:Arial, sans-serif;font-size:14px;font-weight:normal;overflow:hidden;padding:10px 5px;text-align:left;vertical-align:top;word-break:normal\">Population</th><th style=\"border-color:inherit;border-style:solid;border-width:1px;font-family:Arial, sans-serif;font-size:14px;font-weight:normal;overflow:hidden;padding:10px 5px;text-align:left;vertical-align:top;word-break:normal\">Probability</th><th style=\"border-color:inherit;border-style:solid;border-width:1px;font-family:Arial, sans-serif;font-size:14px;font-weight:normal;overflow:hidden;padding:10px 5px;text-align:left;vertical-align:top;word-break:normal\">...</th></tr></thead><tbody><tr><td style=\"border-color:inherit;border-style:solid;border-width:1px;font-family:Arial, sans-serif;font-size:14px;overflow:hidden;padding:10px 5px;text-align:left;vertical-align:top;word-break:normal\">North East</td><td style=\"border-color:inherit;border-style:solid;border-width:1px;font-family:Arial, sans-serif;font-size:14px;overflow:hidden;padding:10px 5px;text-align:left;vertical-align:top;word-break:normal\">2647013</td><td style=\"border-color:inherit;border-style:solid;border-width:1px;font-family:Arial, sans-serif;font-size:14px;overflow:hidden;padding:10px 5px;text-align:right;vertical-align:top;word-break:normal\">0.958233</td><td style=\"border-color:inherit;border-style:solid;border-width:1px;font-family:Arial, sans-serif;font-size:14px;overflow:hidden;padding:10px 5px;text-align:left;vertical-align:top;word-break:normal\">...</td></tr><tr><td style=\"border-color:inherit;border-style:solid;border-width:1px;font-family:Arial, sans-serif;font-size:14px;overflow:hidden;padding:10px 5px;text-align:left;vertical-align:top;word-break:normal\">North West</td><td style=\"border-color:inherit;border-style:solid;border-width:1px;font-family:Arial, sans-serif;font-size:14px;overflow:hidden;padding:10px 5px;text-align:left;vertical-align:top;word-break:normal\">7417399</td><td style=\"border-color:inherit;border-style:solid;border-width:1px;font-family:Arial, sans-serif;font-size:14px;overflow:hidden;padding:10px 5px;text-align:left;vertical-align:top;word-break:normal\">0.928248</td><td style=\"border-color:inherit;border-style:solid;border-width:1px;font-family:Arial, sans-serif;font-size:14px;overflow:hidden;padding:10px 5px;text-align:left;vertical-align:top;word-break:normal\">...</td></tr></tbody></table>\n",
    "\n",
    "and will be output in the form\n",
    "\n",
    "<table style=\"border-collapse:collapse;border-spacing:0\" class=\"tg\"><thead><tr><th style=\"border-color:inherit;border-style:solid;border-width:1px;font-family:Arial, sans-serif;font-size:14px;font-weight:normal;overflow:hidden;padding:10px 5px;text-align:left;vertical-align:top;word-break:normal\">Region<br></th><th style=\"border-color:inherit;border-style:solid;border-width:1px;font-family:Arial, sans-serif;font-size:14px;font-weight:normal;overflow:hidden;padding:10px 5px;text-align:left;vertical-align:top;word-break:normal\">Population</th><th style=\"border-color:inherit;border-style:solid;border-width:1px;font-family:Arial, sans-serif;font-size:14px;font-weight:normal;overflow:hidden;padding:10px 5px;text-align:left;vertical-align:top;word-break:normal\">Variable</th><th style=\"border-color:inherit;border-style:solid;border-width:1px;font-family:Arial, sans-serif;font-size:14px;font-weight:normal;overflow:hidden;padding:10px 5px;text-align:left;vertical-align:top;word-break:normal\">...</th></tr></thead><tbody><tr><td style=\"border-color:inherit;border-style:solid;border-width:1px;font-family:Arial, sans-serif;font-size:14px;overflow:hidden;padding:10px 5px;text-align:left;vertical-align:top;word-break:normal\">North East</td><td style=\"border-color:inherit;border-style:solid;border-width:1px;font-family:Arial, sans-serif;font-size:14px;overflow:hidden;padding:10px 5px;text-align:left;vertical-align:top;word-break:normal\">2647013</td><td style=\"border-color:inherit;border-style:solid;border-width:1px;font-family:Arial, sans-serif;font-size:14px;overflow:hidden;padding:10px 5px;text-align:right;vertical-align:top;word-break:normal\">2536430</td><td style=\"border-color:inherit;border-style:solid;border-width:1px;font-family:Arial, sans-serif;font-size:14px;overflow:hidden;padding:10px 5px;text-align:left;vertical-align:top;word-break:normal\">...</td></tr><tr><td style=\"border-color:inherit;border-style:solid;border-width:1px;font-family:Arial, sans-serif;font-size:14px;overflow:hidden;padding:10px 5px;text-align:left;vertical-align:top;word-break:normal\">North West</td><td style=\"border-color:inherit;border-style:solid;border-width:1px;font-family:Arial, sans-serif;font-size:14px;overflow:hidden;padding:10px 5px;text-align:left;vertical-align:top;word-break:normal\">7417399</td><td style=\"border-color:inherit;border-style:solid;border-width:1px;font-family:Arial, sans-serif;font-size:14px;overflow:hidden;padding:10px 5px;text-align:left;vertical-align:top;word-break:normal\">6885187</td><td style=\"border-color:inherit;border-style:solid;border-width:1px;font-family:Arial, sans-serif;font-size:14px;overflow:hidden;padding:10px 5px;text-align:left;vertical-align:top;word-break:normal\">...</td></tr></tbody></table>"
   ]
  },
  {
   "cell_type": "code",
   "execution_count": 18,
   "id": "584ff3cd-7b46-4fc9-b6e9-7943cac95e81",
   "metadata": {},
   "outputs": [],
   "source": [
    "def population_calc(df):\n",
    "    \"\"\"\n",
    "    Function that converts the probability into a population.\n",
    "    \n",
    "    Args:\n",
    "        df (Pandas Dataframe): The dataframe to be converted.\n",
    "\n",
    "    Returns:\n",
    "        df (Pandas Dataframe): The converted dataframe.\n",
    "    \"\"\"\n",
    "    for i in range(2,len(df.columns)):\n",
    "        df[df.columns[i]] = df[df.columns[i]]*df[df.columns[1]]\n",
    "        df[df.columns[i]] = df[df.columns[i]].astype(np.int64)\n",
    "    return df"
   ]
  },
  {
   "cell_type": "markdown",
   "id": "0108b137-3185-4396-b3c7-883f629dd07b",
   "metadata": {},
   "source": [
    "### Visualising the Data"
   ]
  },
  {
   "cell_type": "markdown",
   "id": "d7c396c1-0eb4-40b2-8a8a-e50e26f46398",
   "metadata": {},
   "source": [
    "#### Matplotlib"
   ]
  },
  {
   "cell_type": "markdown",
   "id": "05530adb-e14d-41ab-9f1d-c808cb01649a",
   "metadata": {},
   "source": [
    "#### Geopandas"
   ]
  },
  {
   "cell_type": "markdown",
   "id": "376e6037-f6a4-45b0-baea-027cdbe03418",
   "metadata": {},
   "source": [
    "#### Seaborn"
   ]
  },
  {
   "cell_type": "markdown",
   "id": "56e2c696",
   "metadata": {},
   "source": [
    "### Identifying High Risk Cells"
   ]
  },
  {
   "cell_type": "markdown",
   "id": "0f619502-2577-4a51-938e-8d5f3922d46c",
   "metadata": {},
   "source": [
    "Function to highlight cells with a colour of yellow (lower risk) to red (higher risk) relative to the region population, aswell as highlight specific cells below the level of 10 as `High Risk` and ones below 100 as `Low Risk`."
   ]
  },
  {
   "cell_type": "markdown",
   "id": "f0495149-2d4b-48f3-9846-566177dddadb",
   "metadata": {},
   "source": [
    "Data must be input in the form\n",
    "\n",
    "<table style=\"border-collapse:collapse;border-spacing:0\" class=\"tg\"><thead><tr><th style=\"border-color:inherit;border-style:solid;border-width:1px;font-family:Arial, sans-serif;font-size:14px;font-weight:normal;overflow:hidden;padding:10px 5px;text-align:left;vertical-align:top;word-break:normal\">Region<br></th><th style=\"border-color:inherit;border-style:solid;border-width:1px;font-family:Arial, sans-serif;font-size:14px;font-weight:normal;overflow:hidden;padding:10px 5px;text-align:left;vertical-align:top;word-break:normal\">Population</th><th style=\"border-color:inherit;border-style:solid;border-width:1px;font-family:Arial, sans-serif;font-size:14px;font-weight:normal;overflow:hidden;padding:10px 5px;text-align:left;vertical-align:top;word-break:normal\">Variable</th><th style=\"border-color:inherit;border-style:solid;border-width:1px;font-family:Arial, sans-serif;font-size:14px;font-weight:normal;overflow:hidden;padding:10px 5px;text-align:left;vertical-align:top;word-break:normal\">...</th></tr></thead><tbody><tr><td style=\"border-color:inherit;border-style:solid;border-width:1px;font-family:Arial, sans-serif;font-size:14px;overflow:hidden;padding:10px 5px;text-align:left;vertical-align:top;word-break:normal\">North East</td><td style=\"border-color:inherit;border-style:solid;border-width:1px;font-family:Arial, sans-serif;font-size:14px;overflow:hidden;padding:10px 5px;text-align:left;vertical-align:top;word-break:normal\">2647013</td><td style=\"border-color:inherit;border-style:solid;border-width:1px;font-family:Arial, sans-serif;font-size:14px;overflow:hidden;padding:10px 5px;text-align:right;vertical-align:top;word-break:normal\">2536430</td><td style=\"border-color:inherit;border-style:solid;border-width:1px;font-family:Arial, sans-serif;font-size:14px;overflow:hidden;padding:10px 5px;text-align:left;vertical-align:top;word-break:normal\">...</td></tr><tr><td style=\"border-color:inherit;border-style:solid;border-width:1px;font-family:Arial, sans-serif;font-size:14px;overflow:hidden;padding:10px 5px;text-align:left;vertical-align:top;word-break:normal\">North West</td><td style=\"border-color:inherit;border-style:solid;border-width:1px;font-family:Arial, sans-serif;font-size:14px;overflow:hidden;padding:10px 5px;text-align:left;vertical-align:top;word-break:normal\">7417399</td><td style=\"border-color:inherit;border-style:solid;border-width:1px;font-family:Arial, sans-serif;font-size:14px;overflow:hidden;padding:10px 5px;text-align:left;vertical-align:top;word-break:normal\">6885187</td><td style=\"border-color:inherit;border-style:solid;border-width:1px;font-family:Arial, sans-serif;font-size:14px;overflow:hidden;padding:10px 5px;text-align:left;vertical-align:top;word-break:normal\">...</td></tr></tbody></table>\n",
    "\n",
    "and will be output in the form\n",
    "\n",
    "<table style=\"border-collapse:collapse;border-spacing:0\" class=\"tg\"><thead><tr><th style=\"border-color:inherit;border-style:solid;border-width:1px;font-family:Arial, sans-serif;font-size:14px;font-weight:normal;overflow:hidden;padding:10px 5px;text-align:left;vertical-align:top;word-break:normal\">Region<br></th><th style=\"border-color:inherit;border-style:solid;border-width:1px;font-family:Arial, sans-serif;font-size:14px;font-weight:normal;overflow:hidden;padding:10px 5px;text-align:left;vertical-align:top;word-break:normal\">Population</th><th style=\"border-color:inherit;border-style:solid;border-width:1px;font-family:Arial, sans-serif;font-size:14px;font-weight:normal;overflow:hidden;padding:10px 5px;text-align:left;vertical-align:top;word-break:normal\">Variable</th><th style=\"border-color:inherit;border-style:solid;border-width:1px;font-family:Arial, sans-serif;font-size:14px;font-weight:normal;overflow:hidden;padding:10px 5px;text-align:left;vertical-align:top;word-break:normal\">...</th></tr></thead><tbody><tr><td style=\"border-color:inherit;border-style:solid;border-width:1px;font-family:Arial, sans-serif;font-size:14px;overflow:hidden;padding:10px 5px;text-align:left;vertical-align:top;word-break:normal\">North East</td><td style=\"background-color:#f8ff00;border-color:inherit;border-style:solid;border-width:1px;font-family:Arial, sans-serif;font-size:14px;overflow:hidden;padding:10px 5px;text-align:left;vertical-align:top;word-break:normal\">2647013</td><td style=\"background-color:#ffc702;border-color:inherit;border-style:solid;border-width:1px;font-family:Arial, sans-serif;font-size:14px;overflow:hidden;padding:10px 5px;text-align:right;vertical-align:top;word-break:normal\">2536430</td><td style=\"background-color:#fe0000;border-color:inherit;border-style:solid;border-width:1px;font-family:Arial, sans-serif;font-size:14px;overflow:hidden;padding:10px 5px;text-align:left;vertical-align:top;word-break:normal\">...</td></tr><tr><td style=\"border-color:inherit;border-style:solid;border-width:1px;font-family:Arial, sans-serif;font-size:14px;overflow:hidden;padding:10px 5px;text-align:left;vertical-align:top;word-break:normal\">North West</td><td style=\"background-color:#f8ff00;border-color:inherit;border-style:solid;border-width:1px;font-family:Arial, sans-serif;font-size:14px;overflow:hidden;padding:10px 5px;text-align:left;vertical-align:top;word-break:normal\">7417399</td><td style=\"background-color:#f8a102;border-color:inherit;border-style:solid;border-width:1px;font-family:Arial, sans-serif;font-size:14px;overflow:hidden;padding:10px 5px;text-align:left;vertical-align:top;word-break:normal\">6885187</td><td style=\"background-color:#ffcb2f;border-color:inherit;border-style:solid;border-width:1px;font-family:Arial, sans-serif;font-size:14px;overflow:hidden;padding:10px 5px;text-align:left;vertical-align:top;word-break:normal\">...</td></tr></tbody></table>"
   ]
  },
  {
   "cell_type": "code",
   "execution_count": 19,
   "id": "eb505f93",
   "metadata": {},
   "outputs": [],
   "source": [
    "def risk(v):\n",
    "    # If below critical values concatonates High/Low risk to the start of the cell\n",
    "    try:\n",
    "        if v <= 10:\n",
    "            return f\"High risk: {v}\"\n",
    "        elif v <= 100:\n",
    "            return f\"Low risk: {v}\"\n",
    "        return v\n",
    "    # Will return any words as they were\n",
    "    except TypeError:\n",
    "        return v"
   ]
  },
  {
   "cell_type": "code",
   "execution_count": 20,
   "id": "91790266-8b99-41ea-b9a9-04ce857ae409",
   "metadata": {},
   "outputs": [],
   "source": [
    "def risk_assessment(dataframe):\n",
    "    \"\"\"\n",
    "    Function that styles the dataframe to hightlight at risk and low risk cells.\n",
    "    \n",
    "    Args:\n",
    "        df (Pandas Dataframe): The dataframe to be styled.\n",
    "\n",
    "    Returns:\n",
    "        df (Pandas Styler): The styled dataframe with at risk cells highlighted.\n",
    "    \"\"\"\n",
    "    def risk(v):\n",
    "        # If below critical values concatonates High/Low risk to the start of the cell\n",
    "        try:\n",
    "            if v <= 10:\n",
    "                return f\"High risk: {v}\"\n",
    "            elif v <= 100:\n",
    "                return f\"Low risk: {v}\"\n",
    "            return v\n",
    "        # Will return any words as they were\n",
    "        except TypeError:\n",
    "            return v\n",
    "    \n",
    "    def highlight(styler):\n",
    "        # Will call the risk function and apply it to each cell\n",
    "        styler.set_caption(\"Risk Level\")\n",
    "        styler.format(risk)\n",
    "        # Applys a colour map to each row relative to the population size\n",
    "        styler.background_gradient(axis=1, cmap=\"autumn\")\n",
    "        return styler\n",
    "\n",
    "    # Will call highlight function and apply it to dataframe\n",
    "    return dataframe.style.pipe(highlight)"
   ]
  },
  {
   "cell_type": "markdown",
   "id": "9a589f03-72b3-4a82-9014-953b8fa46a63",
   "metadata": {},
   "source": [
    "Inputs dataframe, outputs dictionary for each region with groups that are at risk plus the % risk."
   ]
  },
  {
   "cell_type": "code",
   "execution_count": 26,
   "id": "725cb85a",
   "metadata": {},
   "outputs": [],
   "source": [
    "def total_risk(df : pd.DataFrame) -> pd.DataFrame:\n",
    "    \"\"\"Calculates the total risk per region as a percentage. UNFINISHED\n",
    "\n",
    "    Args:\n",
    "        df (pd.DataFrame): Dataframe of populations of combined characteristics\n",
    "\n",
    "    Returns:\n",
    "        pd.DataFrame: Dataframe of numbers of people who fall into high and medium and no risk, and the percentages, by area\n",
    "    \"\"\"\n",
    "    df_copy = df.copy()\n",
    "    df_copy = df_copy.drop(columns=df.columns[0])\n",
    "    high_risk = df_copy[df_copy <= 10].sum(axis=1) #sum of all people in groups of 10 or less = high risk\n",
    "    medium_risk = df_copy[(df_copy > 10) & (df_copy <= 100)].sum(axis=1) #sum of all people in groups above 10 but 100 or less = medium risk\n",
    "    no_risk = df_copy[df_copy.columns[1]]-(high_risk + medium_risk) #total population - medium and high risk = no/low risk\n",
    "    df_new = pd.DataFrame()\n",
    "    df_new[\"geography\"] = df[df.columns[0]] #making new dataframe with all these columns\n",
    "    df_new[\"High risk\"] = high_risk\n",
    "    df_new[\"Medium risk\"] = medium_risk\n",
    "    df_new[\"No risk\"] = no_risk\n",
    "    #medium_risk = df[df]\n",
    "    #for i, region in enumerate(regions):\n",
    "    #    row = df.loc[df[df.columns[0]] == region]\n",
    "    #    print(row)\n",
    "        \n",
    "        "
   ]
  },
  {
   "cell_type": "markdown",
   "id": "a2a43b8e",
   "metadata": {},
   "source": []
  },
  {
   "cell_type": "code",
   "execution_count": 22,
   "id": "de871396-fcc4-4a59-a930-bd46f3460829",
   "metadata": {},
   "outputs": [],
   "source": [
    "def quantifying_risk(df, region = None):\n",
    "    \"\"\"\n",
    "    Function that returns a dictionary of dictionaries that contain the region as the key and then \n",
    "    the characteristics and probability of those characteristics as the value.\n",
    "    \n",
    "    Args:\n",
    "        df (Pandas Dataframe): The dataframe to be converted.\n",
    "        region (str): Specific region, if left empty will return all regions.\n",
    "    Returns:\n",
    "        dict (dict): Dictionary of regions and their high risk characteristics and corresponding probability.\n",
    "    \"\"\"\n",
    "    df = df.applymap(risk)\n",
    "    \n",
    "    # Store dictionarys in list\n",
    "    regions = df[df.columns[0]].tolist()\n",
    "    totals = df[df.columns[1]].tolist()\n",
    "    # Identify at risk characteristics\n",
    "    characteristics = []\n",
    "\n",
    "    # Create dictionary for each region in df and store in a dictionary\n",
    "    dict = {region:{ characteristic:[] for characteristic in characteristics} for region in regions}\n",
    "\n",
    "    # Iterates through columns\n",
    "    for i in range(2,len(df.columns)):\n",
    "        column = df[df.columns[i]]\n",
    "        cell_count = 0\n",
    "        # Iterates through rows in columns\n",
    "        for row in column:\n",
    "            # If the row is a string and starts with \"High\",\n",
    "            # it will add to the relevant region a Key of the characteristic and a Value of the row as a percent\n",
    "            if isinstance(row, str) and row[:4] == \"High\":\n",
    "                characteristics.append(df.columns[i])\n",
    "                percent = str(int(row.split(\": \")[1]) / totals[cell_count]) + \"%\"\n",
    "                dict[regions[cell_count]][df.columns[i]] = percent\n",
    "            cell_count += 1\n",
    "\n",
    "    if region == None:\n",
    "        return dict\n",
    "    else:\n",
    "        try:\n",
    "            return dict[region]\n",
    "        except KeyError:\n",
    "            raise KeyError(\"Not inputted valid region\") "
   ]
  },
  {
   "cell_type": "markdown",
   "id": "bc41e641-3fd1-40a5-829b-0b5933dadca3",
   "metadata": {},
   "source": [
    "### Work out Regions that need more variables to hit critical levels"
   ]
  },
  {
   "cell_type": "markdown",
   "id": "36d70709-61a6-46c3-a22b-88f9715ed081",
   "metadata": {},
   "source": [
    "### Extension - Research how ONS privacy protection exercises have impacted the final results"
   ]
  },
  {
   "cell_type": "markdown",
   "id": "476d7c62",
   "metadata": {},
   "source": [
    "The ONS has already take steps to reduce PII risk in the census data. These steps will make the data less accurate, but also make it more difficult to identify individuals in the data. "
   ]
  },
  {
   "cell_type": "markdown",
   "id": "82b3345b",
   "metadata": {},
   "source": [
    "#### Data Swapping"
   ]
  },
  {
   "cell_type": "markdown",
   "id": "8aa22978",
   "metadata": {},
   "source": [
    "The ONS swapped records of individuals and households with unusual and identifying characteristics with others of similar characteristics in nearby areas. This targeted record swapping helps protect individuals from deanonymisation. \n",
    "When finding households to use as “swaps”, they looked for similar households that match on some basic characteristics, such as household size. They also ensure that record swapping does not happen over extremely long distances, and is instead, at the very least, within a region. Fewer than 1 in 100 swaps were between districts, the rest were swapped between smaller areas. Finding similar and close households as “swaps” helps to preserve data quality. However, record swapping leads to less accurate data on lower levels.\n",
    "The geographies were changed for between 7% and 10% of households. Between 2% and 5% of individuals were swapped between communal establishments. \n"
   ]
  },
  {
   "cell_type": "markdown",
   "id": "47026715",
   "metadata": {},
   "source": [
    "#### Data Pertubation"
   ]
  },
  {
   "cell_type": "markdown",
   "id": "1991ad6b",
   "metadata": {},
   "source": [
    "Census data is at risk of disclosure by differencing, where two or more slightly different datasets could be compared to expose an individual respondent. The ONS mitigated this by using a cell key method to add “noise” to every dataset, known as data perturbation. \n",
    "An algorithm applies a predefined level of noise to every dataset. The algorithm is designed to consistently apply the same perturbation to repeated requests of the same dataset.\n",
    "A typical census dataset would have around 14% of cell counts perturbated by a small amount. Cells with lower counts were more likely to be perturbated then cells with large counts.\n"
   ]
  },
  {
   "cell_type": "markdown",
   "id": "baf0eca8-51ea-4d0b-96de-e33457096dcc",
   "metadata": {},
   "source": [
    "### Extension - Explore wider utility of the census data for other Hartree Centre projects"
   ]
  },
  {
   "cell_type": "markdown",
   "id": "ba6348d1",
   "metadata": {},
   "source": [
    "Census data can be applied to a variety of projects, so understanding and mitigating PII risk is crucial. The Hartree Centre has previously prioritised projects on healthcare, net zero, and improving UK business competitiveness; all of these areas can utilise census data for development strategies in a variety of ways."
   ]
  },
  {
   "cell_type": "markdown",
   "id": "c88092d5",
   "metadata": {},
   "source": [
    "Census data can be used by healthcare organisations for more effective planning and building of healthcare facilities such as new hospitals. Census data can be analysed to determine the location of new facilities where they will benefit the most people. Moreover, census data can be used to strengthen healthcare programs that target and benefit certain demographics, such as low-income individuals or over-65s. Census data can also be used to address and reduce healthcare inequality."
   ]
  },
  {
   "cell_type": "markdown",
   "id": "bcded8de",
   "metadata": {},
   "source": [
    "Climate change is a pressing issue, and using as much data as possible to determine the best ways to reduce emissions and making our societies ore sustainable is paramout. Census data on population growth, migration, and urbanisation among other things can assist in research, policymaking, and understanding the trajectory of greenhouse gas emissions."
   ]
  },
  {
   "cell_type": "markdown",
   "id": "8faa65d0",
   "metadata": {},
   "source": [
    "Businesses can also utilise census data to improve competitiveness and increase profits. Census data allows business to understand their customer demographic, meaning they can make well-informed decisions on things like determining future store locations, the most effective advertisement and marketing strategy in an area, and tailoring customer service. For example, a bank may look at census data to determine the types of services that may be required at a particular branch in a particular area, and languages that staff member may need to be able to speak to be able to provide the best customer service. "
   ]
  },
  {
   "cell_type": "markdown",
   "id": "c2419bd9-e19a-44cb-b61e-4c34f5c2d3de",
   "metadata": {},
   "source": [
    "### Extension - Consider other open data sources"
   ]
  },
  {
   "cell_type": "markdown",
   "id": "eb5cad7e-7976-49a1-8b7c-6775dfae8481",
   "metadata": {},
   "source": [
    "### Whole Code"
   ]
  },
  {
   "cell_type": "code",
   "execution_count": 23,
   "id": "d69bfd27",
   "metadata": {},
   "outputs": [],
   "source": [
    "target_codes = [\"TS004\", \"TS067\", \"TS037\"]\n",
    "area_size = \"rgn\""
   ]
  },
  {
   "cell_type": "markdown",
   "id": "e489737d",
   "metadata": {},
   "source": [
    "First we define what characteristics we are looking at, given by target_codes, which is a list of the census data codes as found at https://www.nomisweb.co.uk/census/2021/bulk.\n",
    "We also define what geographical level we are looking at, is one of the values used by ONS."
   ]
  },
  {
   "cell_type": "code",
   "execution_count": 43,
   "id": "c7787b82",
   "metadata": {},
   "outputs": [],
   "source": [
    "data = import_data(area_size, target_codes=target_codes)\n",
    "data = cleanup_all(data, remove_geography=False)"
   ]
  },
  {
   "cell_type": "markdown",
   "id": "6849e5ba",
   "metadata": {},
   "source": [
    "First, we load the census data of the wanted characteristics, looking at the relevant geographical level.\n",
    "We then remove the \"geography code\" and \"date\" columns as they are irrelevant to us."
   ]
  },
  {
   "cell_type": "code",
   "execution_count": null,
   "id": "f971c22b",
   "metadata": {},
   "outputs": [],
   "source": [
    "data[\"TS067\"] = factor_in_age(data[\"TS067\"])"
   ]
  },
  {
   "cell_type": "markdown",
   "id": "29489479",
   "metadata": {},
   "source": [
    "We then put the TS067 (highest qualification level achieved) through the factor_in_age function, to account for the under 16's who do not have qualifications."
   ]
  },
  {
   "cell_type": "code",
   "execution_count": null,
   "id": "b473e532",
   "metadata": {},
   "outputs": [],
   "source": [
    "df_all = get_all_probability_combinations(target_codes=target_codes, numCodes=2, data=data)\n",
    "df_all[\"dataframe\"].apply(population_calc)"
   ]
  },
  {
   "cell_type": "markdown",
   "id": "70db9c0c",
   "metadata": {},
   "source": [
    "Next, we multiply all the combinations of pairs of the characteristics together. It is in this step that we have the logic error. \n",
    "Then, we apply the population_calc function on all the dataframes, converting all the combined probabilites into numbers of people. This allows us to then add together the high risk populations."
   ]
  },
  {
   "cell_type": "markdown",
   "id": "cf30db2e",
   "metadata": {},
   "source": [
    "Unfinished due to logic error with multiplication code meaning we cannot progress further. "
   ]
  }
 ],
 "metadata": {
  "kernelspec": {
   "display_name": "Python 3 (ipykernel)",
   "language": "python",
   "name": "python3"
  },
  "language_info": {
   "codemirror_mode": {
    "name": "ipython",
    "version": 3
   },
   "file_extension": ".py",
   "mimetype": "text/x-python",
   "name": "python",
   "nbconvert_exporter": "python",
   "pygments_lexer": "ipython3",
   "version": "3.11.4"
  }
 },
 "nbformat": 4,
 "nbformat_minor": 5
}
